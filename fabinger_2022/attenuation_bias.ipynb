{
 "cells": [
  {
   "cell_type": "code",
   "execution_count": 1,
   "id": "1dc2a3f4",
   "metadata": {},
   "outputs": [],
   "source": [
    "#regression dilution and attenuation bias\n",
    "#means the actual effect is larger than what OLS predics\n",
    "#same as making regression slope close to zero. \n",
    "#noise in features X_i causes this bias. \n",
    "\n",
    "#OLS suffers from attenuation bias if there are errors in the measurements\n",
    "#but this can be fixed using MLE for regression. \n",
    "#\n",
    "\n",
    "\n",
    "#dont understand the difference between functional model and structural model on wiki\n",
    "#https://en.wikipedia.org/wiki/Regression_dilution\n",
    "#you have to correct in statistical inference but not in predictive modeling. What is difference? \n",
    "#when doing HT you are doing SI because using CLT? When doing regression what is connection to HT? \n",
    "#if you are doing HT on regression coefficients. When are we doing this? How to present this on a UI? \n",
    "#if the coefficients are statistically significant. WHEN HOW DO WE DO HT ON REGRESSION COEFFICIENTS? IF THE\n",
    "#REGRESSION SLOPS IS STATISTICALLY SIGNIFICANT. WHAT DOES THIS MEAN? WE ARENT MEASURING NOISE. \n",
    "#HOW TO SEPARATE THE NOISE FROM SIGNAL? \n",
    "#\n",
    "\n",
    "#What is biased vs unbiased estimator? Is unbiased always better? How to build UI? \n",
    "#can an unbiased method becomse biased based on properties of data only? \n",
    "#\n",
    "\n",
    "\n",
    "\n",
    "\n",
    "\n",
    "#ie modeling increase in volume as increase in regression coefficient and calling a TOD increase \n",
    "#a causal effect of a promotion. HOw ot model this? \n",
    "#\n",
    "\n"
   ]
  },
  {
   "cell_type": "code",
   "execution_count": null,
   "id": "e7a3a8a2",
   "metadata": {},
   "outputs": [],
   "source": [
    "#kalman filtering noise reduction. this is for non AWGN noise? what are the assumptions? \n",
    "#\n",
    "#what is gaussian process regression? \n",
    "#"
   ]
  },
  {
   "cell_type": "code",
   "execution_count": 4,
   "id": "6b3d9de0",
   "metadata": {},
   "outputs": [
    {
     "name": "stdout",
     "output_type": "stream",
     "text": [
      "[[-4.18224299 -1.04978836  0.14676784 -0.55865493]\n",
      " [ 3.37224169 -3.58035318  4.84774821 -3.8577106 ]]\n",
      "-------\n",
      "[[ 0.97607153 -0.50256724  5.69078893 -1.73049192]\n",
      " [ 4.83508298  5.11634461  0.87365141  1.99926382]]\n"
     ]
    }
   ],
   "source": [
    "#2 normal distributions with different means\n",
    "import numpy as np\n",
    "\n",
    "m3 = np.random.normal(3, 2.5, size=(2, 4))\n",
    "m0 = np.random.normal(0, 2.5, size=(2, 4))\n",
    "print(m0)\n",
    "print(\"-------\")\n",
    "print(m3)\n",
    "#the -4.18 how do I know this an an outlier vs. the tail of a distribution? \n",
    "#"
   ]
  },
  {
   "cell_type": "code",
   "execution_count": null,
   "id": "40667f39",
   "metadata": {},
   "outputs": [],
   "source": []
  }
 ],
 "metadata": {
  "kernelspec": {
   "display_name": "Python 3 (ipykernel)",
   "language": "python",
   "name": "python3"
  },
  "language_info": {
   "codemirror_mode": {
    "name": "ipython",
    "version": 3
   },
   "file_extension": ".py",
   "mimetype": "text/x-python",
   "name": "python",
   "nbconvert_exporter": "python",
   "pygments_lexer": "ipython3",
   "version": "3.9.10"
  }
 },
 "nbformat": 4,
 "nbformat_minor": 5
}
