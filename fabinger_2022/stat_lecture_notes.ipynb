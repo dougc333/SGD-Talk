{
 "cells": [
  {
   "cell_type": "code",
   "execution_count": null,
   "id": "f7bb151c",
   "metadata": {},
   "outputs": [],
   "source": [
    "<h6>Moments</h6>\n",
    "Moments are an alternate way of specifying a probability distribution without a PDF/CDF! The most common term to characterize\n",
    "a probability distribution is with an expectation which is the first moment. An expectation may not exist. \n",
    "\n",
    "$$\n",
    "moment_n = E(X^n)\n",
    "$$\n",
    "<p>\n",
    "A first order moment is n=1, a second order moment is n=2 and so on. A first order moment is the mean, a second order moment\n",
    "the variance, the third is skewness and fourth kurtosis. A general rule of thumb for normal distributions is if you have kurtosis\n",
    "gretaer than 3 then you have hetereodescatiy. moments are an important tool in error analysis using the shape of the distribuiton. \n",
    "</p>\n",
    "<h6>Bernoulli </h6>\n",
    "The simplest random variable is a bernoulli rendom variable modeled as a fair coin. There is a standard progression \n",
    "for deriving RVs, first start with the probability for 1 event then expand to multiple evsnts and create the PDF/CDF\n",
    "from the description of multiple events. The second methodology we add is the moments for a random variable. \n",
    "We can describe the BRV for 1 event. The probability mass function is the probability a RV is some value. Since we\n",
    "only have 1 type of event in a BRV the specification for a single event is the same as a PMF for a BRV. \n",
    "$$\n",
    "P(single event bernoulli)=PMF=\\left\\{\n",
    "                \\begin{array}{ll}\n",
    "                  P(event occurred)=\\theta\\\\\n",
    "                  0\\ 1-\\theta\\\\\n",
    "                \\end{array}\n",
    "              \\right.\n",
    "$$\n",
    "For multiple bernoulli events:\n",
    "$$\n",
    "    P(X) = \\theta^n(1-\\theta)^{1-n}\n",
    "$$\n",
    "    where n is the number of heads or successes and 1-n is tails or the number of failures. X is a bernoulli random variable\n",
    "\n",
    "$$\n",
    "PDF(bernoulli_frequency) = P_{head}^{n_heads}(1-P_{heads})^{1-n_{heads}}\n",
    "$$\n",
    "$$\n",
    "continuous ber:\n",
    "$$"
   ]
  },
  {
   "cell_type": "code",
   "execution_count": null,
   "id": "ae4989ee",
   "metadata": {},
   "outputs": [],
   "source": []
  },
  {
   "cell_type": "code",
   "execution_count": null,
   "id": "8389be2a",
   "metadata": {},
   "outputs": [],
   "source": [
    "<h6>Multinomial</h6>\n",
    "<p>teh probability of a single event for a multipnomial</p>"
   ]
  },
  {
   "cell_type": "code",
   "execution_count": null,
   "id": "6a8b0709",
   "metadata": {},
   "outputs": [],
   "source": [
    "<h6>Joint probability distribution</h6>\n",
    "A JPD is a PD for multiple random variables in the same event space. "
   ]
  }
 ],
 "metadata": {
  "kernelspec": {
   "display_name": "Python 3.9.7 ('cosmic')",
   "language": "python",
   "name": "python397jvsc74a57bd053d4678d88891fb05e04416eb1a742497c0b0baabdd52f6ad28cb1ed11944cce"
  },
  "language_info": {
   "codemirror_mode": {
    "name": "ipython",
    "version": 3
   },
   "file_extension": ".py",
   "mimetype": "text/x-python",
   "name": "python",
   "nbconvert_exporter": "python",
   "pygments_lexer": "ipython3",
   "version": "3.9.10"
  }
 },
 "nbformat": 4,
 "nbformat_minor": 5
}
