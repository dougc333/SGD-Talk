{
 "cells": [
  {
   "cell_type": "code",
   "execution_count": null,
   "id": "79621a1f",
   "metadata": {},
   "outputs": [],
   "source": [
    "https://www.youtube.com/watch?v=9vszIR8pZHc"
   ]
  },
  {
   "cell_type": "code",
   "execution_count": 1,
   "id": "f869d544",
   "metadata": {},
   "outputs": [
    {
     "name": "stdout",
     "output_type": "stream",
     "text": [
      "0.875 1.1 0.55 0.675 0.275 0.75 1.175 0.25\n",
      "1.75 0.625 0.2 1.875 0.35 0.25 1.025 1.6500000000000001\n"
     ]
    }
   ],
   "source": [
    "g1_healthy = (1.+1.+.8+.7)/4\n",
    "g2_healthy = (1.2+1.1+1.+1.1)/4\n",
    "g3_healthy = (.5+.6+.4+.7)/4\n",
    "g4_healthy = (.7+.4+.7+.9)/4\n",
    "g5_healthy = (.2+.4+.3+.2)/4\n",
    "g6_healthy = (.9+.7+.9+.5)/4\n",
    "g7_healthy = (1.3+1.1+1.0+1.3)/4\n",
    "g8_healthy = (.1+.3+.5+.1)/4\n",
    "\n",
    "print(g1_healthy,g2_healthy,g3_healthy,g4_healthy,g5_healthy,g6_healthy,g7_healthy,g8_healthy)\n",
    "\n",
    "g1_disease = (2.0+1.9+1.5+1.6)/4\n",
    "g2_disease = (.6+.7+.5+.7)/4\n",
    "g3_disease = (.1+.2+.2+.3)/4\n",
    "g4_disease = (2.2+2.0+2.0+1.3)/4\n",
    "g5_disease = (.3+.2+.5+.4)/4\n",
    "g6_disease = (.1+.5+.2+.2)/4\n",
    "g7_disease = (.9+1.5+.7+1.0)/4\n",
    "g8_disease = (1.4+1.9+1.6+1.7)/4\n",
    "\n",
    "print(g1_disease,g2_disease,g3_disease,g4_disease,g5_disease,g6_disease,g7_disease,g8_disease)"
   ]
  },
  {
   "cell_type": "code",
   "execution_count": null,
   "id": "84551355",
   "metadata": {},
   "outputs": [],
   "source": []
  }
 ],
 "metadata": {
  "kernelspec": {
   "display_name": "Python 3.9.7 ('cosmic')",
   "language": "python",
   "name": "python397jvsc74a57bd053d4678d88891fb05e04416eb1a742497c0b0baabdd52f6ad28cb1ed11944cce"
  },
  "language_info": {
   "codemirror_mode": {
    "name": "ipython",
    "version": 3
   },
   "file_extension": ".py",
   "mimetype": "text/x-python",
   "name": "python",
   "nbconvert_exporter": "python",
   "pygments_lexer": "ipython3",
   "version": "3.9.10"
  }
 },
 "nbformat": 4,
 "nbformat_minor": 5
}
