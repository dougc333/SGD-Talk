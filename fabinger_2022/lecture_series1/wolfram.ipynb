{
 "cells": [
  {
   "cell_type": "code",
   "execution_count": 5,
   "id": "f4b08eab",
   "metadata": {},
   "outputs": [
    {
     "name": "stdout",
     "output_type": "stream",
     "text": [
      "Now\n"
     ]
    }
   ],
   "source": [
    "from wolframclient.language import wl\n",
    "print(wl.Now)\n",
    "from wolframclient.evaluation import SecuredAuthenticationKey, WolframCloudSession"
   ]
  },
  {
   "cell_type": "code",
   "execution_count": 7,
   "id": "b571d799",
   "metadata": {},
   "outputs": [
    {
     "data": {
      "text/plain": [
       "True"
      ]
     },
     "execution_count": 7,
     "metadata": {},
     "output_type": "execute_result"
    }
   ],
   "source": [
    "sak = SecuredAuthenticationKey(\n",
    "    'QKqX+Y+cjudEjTq/d/b7qCOi88103/OzGRYmW9IH8T4=',\n",
    "    'AnEErEFy49gYHA3m2zdB+dGr+LM3x6hL9JOwn6jU8FI=')\n",
    "session = WolframCloudSession(credentials=sak)\n",
    "session.start()\n",
    "session.authorized()"
   ]
  },
  {
   "cell_type": "code",
   "execution_count": 8,
   "id": "0a2db398",
   "metadata": {},
   "outputs": [
    {
     "data": {
      "text/plain": [
       "PackedArray([1, 2, 3], dtype=int8)"
      ]
     },
     "execution_count": 8,
     "metadata": {},
     "output_type": "execute_result"
    }
   ],
   "source": [
    "session.evaluate(wl.Range(3))\n"
   ]
  },
  {
   "cell_type": "code",
   "execution_count": null,
   "id": "a9f303c4",
   "metadata": {},
   "outputs": [],
   "source": []
  }
 ],
 "metadata": {
  "kernelspec": {
   "display_name": "Python 3.9.7 ('cosmic')",
   "language": "python",
   "name": "python397jvsc74a57bd053d4678d88891fb05e04416eb1a742497c0b0baabdd52f6ad28cb1ed11944cce"
  },
  "language_info": {
   "codemirror_mode": {
    "name": "ipython",
    "version": 3
   },
   "file_extension": ".py",
   "mimetype": "text/x-python",
   "name": "python",
   "nbconvert_exporter": "python",
   "pygments_lexer": "ipython3",
   "version": "3.9.10"
  }
 },
 "nbformat": 4,
 "nbformat_minor": 5
}
