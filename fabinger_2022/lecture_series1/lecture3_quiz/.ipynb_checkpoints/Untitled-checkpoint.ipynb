{
 "cells": [
  {
   "cell_type": "markdown",
   "id": "f1cbc4d9",
   "metadata": {},
   "source": [
    "<img src=\"q1.png\">"
   ]
  },
  {
   "cell_type": "code",
   "execution_count": null,
   "id": "9f147742",
   "metadata": {},
   "outputs": [],
   "source": [
    "1) stochastic revenue R means R has a random component based on some probability distribution. \n",
    "2) There are different uses of the word outcome. An outcome space w means w captures all the possible values\n",
    "of the independent variables. Omega is the space of all possible outcomes or values. All possible values are between\n",
    "0-1. An outcome variable which is a common term is also called a response variable or causal response. An outcome variable\n",
    "changes dependent on the features of the model. The features are called independent variables. The outcome are dependent\n",
    "variables. \n",
    "3) the pdf is the derivative of cdf. conversely the integration of the pdf over a range -r to r is the pdf at r.\n",
    "if we have a uniform distribution as a pdf then the integration of a constant is a variable x. The area under the \n",
    "uniform distribuiotn from -x to x is the cdf of x. Therefore, CDF at 200k is the are under the pdf from -200 to +200.\n",
    "4)\n",
    "\n",
    "5) \n",
    "\n"
   ]
  },
  {
   "cell_type": "markdown",
   "id": "e2324f51",
   "metadata": {},
   "source": [
    "<img src=\"q3_2.png\">"
   ]
  },
  {
   "cell_type": "code",
   "execution_count": null,
   "id": "9e43fa69",
   "metadata": {},
   "outputs": [],
   "source": []
  }
 ],
 "metadata": {
  "kernelspec": {
   "display_name": "Python 3.9.7 ('cosmic')",
   "language": "python",
   "name": "python397jvsc74a57bd053d4678d88891fb05e04416eb1a742497c0b0baabdd52f6ad28cb1ed11944cce"
  },
  "language_info": {
   "codemirror_mode": {
    "name": "ipython",
    "version": 3
   },
   "file_extension": ".py",
   "mimetype": "text/x-python",
   "name": "python",
   "nbconvert_exporter": "python",
   "pygments_lexer": "ipython3",
   "version": "3.9.7"
  }
 },
 "nbformat": 4,
 "nbformat_minor": 5
}
