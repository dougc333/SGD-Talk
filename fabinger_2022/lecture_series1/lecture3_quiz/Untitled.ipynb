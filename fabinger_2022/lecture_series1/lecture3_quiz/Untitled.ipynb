{
 "cells": [
  {
   "cell_type": "markdown",
   "id": "fd5e61e6",
   "metadata": {},
   "source": [
    "<img src=\"q1.png\">"
   ]
  },
  {
   "cell_type": "code",
   "execution_count": null,
   "id": "ffd24736",
   "metadata": {},
   "outputs": [],
   "source": [
    "1) stochastic revenue R means R has a random component based on some probability distribution. \n",
    "2) There are different uses of the word outcome. An outcome space w means w captures all the possible values\n",
    "of the independent variables. Omega is the space of all possible outcomes or values. All possible values are between\n",
    "0-1. An outcome variable which is a common term is also called a response variable or causal response. An outcome variable\n",
    "changes dependent on the features of the model. The features are called independent variables. The outcome are dependent\n",
    "variables. \n",
    "3) The confusing part is w=R. We covered this in lecture from a question which I have since forgotten. w=R or the outcome\n",
    "space is equal to the random variable. \n",
    "4) the pdf of R is uniformly distributed from 0 to 1M of some currency unit and is a continuous RV. \n",
    "5) the pdf of P is 0.4 of revenue AND there is a fixed cost of 100k. Lets take the 40% first. The 40% means the profit\n",
    "RV is from 0 to 400k. In math, 0.4w. The 100k fixed cost means if there is 0 profit then there is a -100k value for P\n",
    "and if there is the max 400k profit if Revenue is 1M then we subtract 100k from the 400k so the profit is 300k. In math\n",
    "this becomes P=0.4w-100k. \n",
    "6) cdf @x is integration of pdf from -x to x. CDF at 200k is integration of constant from -200k t0 200k. But PDF of P is \n",
    "0 until -100k. x evaluated at 200k to -100k is 300k. 300k is .75 of 400k. \n",
    "\n",
    "\n",
    "\n"
   ]
  },
  {
   "cell_type": "markdown",
   "id": "0b42d718",
   "metadata": {},
   "source": [
    "<img src=\"q3_2.png\">"
   ]
  },
  {
   "cell_type": "code",
   "execution_count": null,
   "id": "1e9465e6",
   "metadata": {},
   "outputs": [],
   "source": []
  }
 ],
 "metadata": {
  "kernelspec": {
   "display_name": "Python 3.9.7 ('cosmic')",
   "language": "python",
   "name": "python397jvsc74a57bd053d4678d88891fb05e04416eb1a742497c0b0baabdd52f6ad28cb1ed11944cce"
  },
  "language_info": {
   "codemirror_mode": {
    "name": "ipython",
    "version": 3
   },
   "file_extension": ".py",
   "mimetype": "text/x-python",
   "name": "python",
   "nbconvert_exporter": "python",
   "pygments_lexer": "ipython3",
   "version": "3.9.7"
  }
 },
 "nbformat": 4,
 "nbformat_minor": 5
}
