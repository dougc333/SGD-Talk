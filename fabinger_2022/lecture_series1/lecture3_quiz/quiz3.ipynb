{
 "cells": [
  {
   "cell_type": "markdown",
   "id": "3457e61c",
   "metadata": {},
   "source": [
    "<img src=\"quiz3_q1.png\">\n",
    "<img src=\"q3_2.png\">\n",
    "<img src=\"quiz3_5.png\">\n",
    "<img src=\"q3_5.png\">\n",
    "<img src=\"q3_5a.png\">\n",
    "<img src=\"q3_7.png\">\n",
    "\n",
    "<img src=\"quiz3_6.png\">\n",
    "<img src=\"quiz3_7.png\">\n",
    "\n",
    "<img src=\"quiz3_8.png\">\n",
    "<img src=\"quiz3_9.png\">\n",
    "<img src=\"q3_10.png\">\n",
    "<img src=\"q3_11.png\">\n",
    "<img src=\"q3_11a.png\">\n",
    "\n",
    "<img src=\"q3_12.png\">\n",
    "<img src=\"q3_12a.png\">\n",
    "<img src=\"q3_13.png\">\n",
    "<img src=\"q3_14.png\">\n",
    "\n"
   ]
  },
  {
   "cell_type": "markdown",
   "id": "55ee1abb",
   "metadata": {},
   "source": [
    "<p>Revenue is a uniform distribution between 0 and 1M: R~U(0,1M)</p>\n",
    "<p>The 100k isnt variable it is fixed and not stochastic, the profit is 40% of the random variable R minus 100k so\n",
    "B is true</p>\n",
    "<p>To calculate teh PDF of a uniform distribution denoted X~U(a,b) the PDF is a constant 1/(b-a)</p>\n",
    "<p>P(a,b)=P(-100k,300k) a horizontal line from -100k to 300k with height 1/400k</p>\n",
    "\n",
    "<p>the CDF(X), the cumulative distribution function of a random variable X is P(X<x) or the CDF(X)=PDF()X<x) for some number or value x</p>\n",
    "<p>the CDF(P) at P=200K is P(X<200k)</p>\n",
    "$CDF(X)=\\int_{a}^{b}P(X)=\\int_{a}^{x}\\frac{1}{b-a}dw=(\\frac{w}{b-a})_{a}^{x}=\\frac{x-a}{b-a}$\n",
    "CDF(200k)=(200k--100k)/(300k--100k) = 300k/400k=.75"
   ]
  },
  {
   "cell_type": "code",
   "execution_count": null,
   "id": "3be9353a",
   "metadata": {},
   "outputs": [],
   "source": [
    "<img src=\"quiz3_q2.png\">"
   ]
  },
  {
   "cell_type": "code",
   "execution_count": null,
   "id": "7a0685e4",
   "metadata": {},
   "outputs": [],
   "source": [
    "B is answer.\n"
   ]
  },
  {
   "cell_type": "code",
   "execution_count": null,
   "id": "19b829d6",
   "metadata": {},
   "outputs": [],
   "source": []
  },
  {
   "cell_type": "code",
   "execution_count": null,
   "id": "d1aa3cc0",
   "metadata": {},
   "outputs": [],
   "source": [
    "<img src=\"quiz3_6.png\">"
   ]
  },
  {
   "cell_type": "markdown",
   "id": "f2815419",
   "metadata": {},
   "source": [
    "<p>this is the binomail thm</p>"
   ]
  },
  {
   "cell_type": "markdown",
   "id": "304fbc85",
   "metadata": {},
   "source": [
    "<img src=\"quiz3_q5.png\">"
   ]
  },
  {
   "cell_type": "markdown",
   "id": "c363b7aa",
   "metadata": {},
   "source": [
    "$\\int_{a}^{b}p(x_1)dx_1=\\int_{a}^{x}\\frac{1}{b-a}dx_1=\\frac{x_1-a}{b-a}=\\frac{2}{4}=0.5$"
   ]
  },
  {
   "cell_type": "markdown",
   "id": "3e0c8691",
   "metadata": {},
   "source": [
    "<img src=\"quiz3_q7.png\">"
   ]
  },
  {
   "cell_type": "markdown",
   "id": "0676db0a",
   "metadata": {},
   "source": [
    "$d(1-x^{-a})dx=-x^{-a-1}(-a)=ax^{-a-1}$"
   ]
  },
  {
   "cell_type": "code",
   "execution_count": null,
   "id": "e014fd0a",
   "metadata": {},
   "outputs": [],
   "source": [
    "https://youtu.be/wnh7Zj2NYNw\n",
    "    "
   ]
  }
 ],
 "metadata": {
  "kernelspec": {
   "display_name": "Python 3 (ipykernel)",
   "language": "python",
   "name": "python3"
  },
  "language_info": {
   "codemirror_mode": {
    "name": "ipython",
    "version": 3
   },
   "file_extension": ".py",
   "mimetype": "text/x-python",
   "name": "python",
   "nbconvert_exporter": "python",
   "pygments_lexer": "ipython3",
   "version": "3.9.7"
  }
 },
 "nbformat": 4,
 "nbformat_minor": 5
}
