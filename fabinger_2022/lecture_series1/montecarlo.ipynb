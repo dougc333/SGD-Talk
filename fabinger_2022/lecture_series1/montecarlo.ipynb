{
 "cells": [
  {
   "cell_type": "code",
   "execution_count": null,
   "id": "196bb87c",
   "metadata": {},
   "outputs": [],
   "source": []
  },
  {
   "cell_type": "code",
   "execution_count": 2,
   "id": "7b8dd729",
   "metadata": {},
   "outputs": [
    {
     "name": "stdout",
     "output_type": "stream",
     "text": [
      "-4.828831634013972 78836468693.85556 -380688033942.8419\n"
     ]
    }
   ],
   "source": [
    "\n",
    "import numpy as np\n",
    "import matplotlib.pyplot as plt\n",
    "import math\n",
    "#it is important to use vectorized operations. \n",
    "def func(x):\n",
    "    return (x**14.3-1.)*(1-x)**(23.2-1)\n",
    "small_steps = np.arange(0,1,.01)\n",
    "v_func = np.vectorize(func)\n",
    "integration_result = np.sum(v_func(small_steps))\n",
    "const = math.gamma(37.5)/(math.gamma(14.3)*math.gamma(23.2))\n",
    "print(integration_result,const,integration_result*const)"
   ]
  },
  {
   "cell_type": "code",
   "execution_count": 16,
   "id": "76cc8373",
   "metadata": {},
   "outputs": [
    {
     "name": "stdout",
     "output_type": "stream",
     "text": [
      "integration_result: 9.52380952377619 999.9999999964999\n"
     ]
    }
   ],
   "source": [
    "import math\n",
    "a=3\n",
    "b=5\n",
    "small_steps = np.arange(0,1,.001)\n",
    "const =math.gamma(a)*math.gamma(b)/ math.gamma(a+b)\n",
    "def func_beta(x,a=3,b=5):\n",
    "    frac = (x**(a-1))*((1-x)**(b-1))\n",
    "    return frac\n",
    "v_func = np.vectorize(func_beta)\n",
    "integration_result = np.sum(v_func(small_steps))\n",
    "print(\"integration_result:\",integration_result,integration_result/const)"
   ]
  },
  {
   "cell_type": "code",
   "execution_count": 26,
   "id": "6d149afc",
   "metadata": {},
   "outputs": [
    {
     "name": "stdout",
     "output_type": "stream",
     "text": [
      "0.288178803\n",
      "0.288178803\n",
      "int_res: 999.9975000014999 0.9999975000014999\n",
      "0.998997497499002\n"
     ]
    }
   ],
   "source": [
    "from scipy.stats import beta\n",
    "#divide by N is montecarlo simulation\n",
    "val = beta.pdf(.01,2.0,5.0)\n",
    "print(val)\n",
    "a=2\n",
    "b=5\n",
    "small_steps = np.arange(0,1,.001)\n",
    "x = np.linspace(0,1,1000)\n",
    "def func_beta(x,a,b):\n",
    "    frac = (x**(a-1))*((1-x)**(b-1))\n",
    "    return frac/const\n",
    "fb = func_beta(0.01,a,b)\n",
    "const =math.gamma(a)*math.gamma(b)/ math.gamma(a+b)\n",
    "print(fb)\n",
    "v_func = np.vectorize(func_beta)\n",
    "int_res = np.sum(v_func(small_steps,a,b))\n",
    "#off by factor of n. Where is this in the equation? \n",
    "#bad notes from internet. \n",
    "print(\"int_res:\",int_res,int_res*.001)\n",
    "\n",
    "print(np.sum(v_func(x,a,b))/1000)"
   ]
  },
  {
   "cell_type": "markdown",
   "id": "73de0087",
   "metadata": {},
   "source": [
    "<p>montecarlo you can integrate</p> \n",
    "$$\n",
    "\\int_0^1 e^{-x^3}\n",
    "$$\n",
    "by calculating the sum\n",
    "$$\n",
    "\\frac{1}{K}\\sum_1^K f(x_i)\n",
    "$$\n",
    "<p>by </p>"
   ]
  },
  {
   "cell_type": "code",
   "execution_count": 27,
   "id": "a246620a",
   "metadata": {},
   "outputs": [
    {
     "name": "stdout",
     "output_type": "stream",
     "text": [
      "1.0654526043050305\n"
     ]
    }
   ],
   "source": [
    "import math\n",
    "K=1000\n",
    "x = np.linspace(0,1,K)\n",
    "def func(x):\n",
    "    f = (x**(-x**3))\n",
    "    return f\n",
    "\n",
    "v_func = np.vectorize(func)\n",
    "res = np.sum(v_func(x))\n",
    "print(res/K)"
   ]
  },
  {
   "cell_type": "code",
   "execution_count": null,
   "id": "709ad0d0",
   "metadata": {},
   "outputs": [],
   "source": []
  }
 ],
 "metadata": {
  "kernelspec": {
   "display_name": "Python 3.9.7 ('cosmic')",
   "language": "python",
   "name": "python397jvsc74a57bd053d4678d88891fb05e04416eb1a742497c0b0baabdd52f6ad28cb1ed11944cce"
  },
  "language_info": {
   "codemirror_mode": {
    "name": "ipython",
    "version": 3
   },
   "file_extension": ".py",
   "mimetype": "text/x-python",
   "name": "python",
   "nbconvert_exporter": "python",
   "pygments_lexer": "ipython3",
   "version": "3.9.10"
  }
 },
 "nbformat": 4,
 "nbformat_minor": 5
}
