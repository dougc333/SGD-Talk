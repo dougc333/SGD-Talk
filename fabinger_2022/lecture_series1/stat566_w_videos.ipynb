{
 "cells": [
  {
   "cell_type": "code",
   "execution_count": null,
   "id": "0ebcab89",
   "metadata": {},
   "outputs": [],
   "source": [
    "https://www.math.arizona.edu/~jwatkins/stat566s20s.html\n"
   ]
  }
 ],
 "metadata": {
  "kernelspec": {
   "display_name": "Python 3.9.7 ('cosmic')",
   "language": "python",
   "name": "python397jvsc74a57bd053d4678d88891fb05e04416eb1a742497c0b0baabdd52f6ad28cb1ed11944cce"
  },
  "language_info": {
   "codemirror_mode": {
    "name": "ipython",
    "version": 3
   },
   "file_extension": ".py",
   "mimetype": "text/x-python",
   "name": "python",
   "nbconvert_exporter": "python",
   "pygments_lexer": "ipython3",
   "version": "3.9.10"
  }
 },
 "nbformat": 4,
 "nbformat_minor": 5
}
