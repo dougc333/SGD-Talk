{
 "cells": [
  {
   "cell_type": "code",
   "execution_count": null,
   "id": "fdbbd175",
   "metadata": {},
   "outputs": [],
   "source": [
    "bayes factor is always better than pvalue\n",
    "contrast hypothesis testing\n",
    "taken from cs109 handout\n",
    "\n",
    "cs109 handout from this book\n",
    "https://chrispiech.github.io/probabilityForComputerScientists/en/examples/mixture_models/\n",
    "    "
   ]
  },
  {
   "cell_type": "markdown",
   "id": "5b5f1e2b",
   "metadata": {},
   "source": [
    "<h6>Given a set of data, how to fit this? MLE and MAP estimation to fit data</h6>"
   ]
  },
  {
   "cell_type": "markdown",
   "id": "a8cc20be",
   "metadata": {},
   "source": [
    "<h6>Parameters distributions</h6> \n",
    "<table style=\"width:100%\">\n",
    "\n",
    "<tr>Bernoulli&nbsp $theta=p$</tr>\n",
    "<tr>Poisson&nbsp $theta = lambda$</tr>\n",
    "<tr>Normal&nbsp $theta= (mu,sigma^2) $</tr>\n",
    "<tr>Uniform&nbsp $theta=(a,b)$</tr>\n",
    "<tr>Linear Regression $Y=mX+b$&nbsp $theta=(m,b)$</tr>\n",
    "</table>"
   ]
  },
  {
   "cell_type": "markdown",
   "id": "965dfb08",
   "metadata": {},
   "source": [
    "<h6>MLE Normal</h6>\n",
    "$$\n",
    "L(\\theta) = \\prod_{i=1}^{n} \\frac{1}{\\sqrt{2\\pi\\theta_1}} e^{-\\frac{(X_i-\\theta_0)^2}{2\\theta_1}}\n",
    "$$\n",
    "<p>\n",
    "Converting from argmax $L(\\theta)$ to $-argmin(log(L(\\theta)))$\n",
    "</p>\n",
    "\n",
    "<p>\n",
    "$$\n",
    "-log(L(\\theta)) = -(\\sum_{i=1}^{n}log(2\\pi\\theta_1)^{-\\frac{1}{2}}) - \\sum_{i=1}^{n}log(e^{\\frac{-(X_i-\\theta_{0})^{2}}{2\\theta_1}})\n",
    "$$\n",
    "\n",
    "$$\n",
    "=\\frac{1}{2}\\sum_{1}^{n}(2\\pi\\theta_1) + \\sum_{1}^{n}(\\frac{(X_i-\\theta_0)^2}{2\\theta_1})\n",
    "$$\n",
    "\n",
    "$$\n",
    "\\frac{\\partial(LL(\\theta))}{\\partial \\theta_0} = \\partial(\\sum_{1}^{n}(\\frac{(X_i-\\theta_0)^2}{2\\theta_1}))d\\theta_0\n",
    "$$\n",
    "\n",
    "$$\n",
    "0=\\sum_{1}^{n}-2\\frac{(X_i-\\theta_0)}{2\\theta_1}\n",
    "$$\n",
    "\n",
    "$$\n",
    "\\sum_1^n \\theta_0 = \\sum_1^n(X_i)\n",
    "$$\n",
    "\n",
    "$$\n",
    "\\theta_0 = \\frac{1}{n}\\sum_1^{n}(X_i) = \\bar \\mu\n",
    "$$\n",
    "\n",
    "$$\n",
    "\\frac{\\partial(LL(\\theta))}{\\partial \\theta_1} = \\frac { \\partial \\frac{1}{2}(\\sum_{1}^{n}(2\\pi\\theta_1))}{\\partial \\theta_1}  + \\frac{\\partial \\sum_{1}^{n}(\\frac{(X_i-\\theta_0)^2}{2\\theta_1})}{\\partial \\theta_1}\n",
    "$$\n",
    "$$\n",
    " 0 = n\\pi - \\sum(X_i-\\theta_0)^2\\theta_1^{-2}\n",
    "$$\n",
    "$$\n",
    " n\\pi \\theta_1^{2} = \\sum(X_i-\\theta_0)^2\n",
    "$$\n",
    "$$\n",
    " \\theta_1^{2} =\\frac{1}{n\\pi} \\sum(X_i-\\theta_0)^2\n",
    "$$\n",
    "\n",
    "</p>\n",
    "\n",
    " \n",
    "\n"
   ]
  },
  {
   "cell_type": "code",
   "execution_count": null,
   "id": "d08c1141",
   "metadata": {},
   "outputs": [],
   "source": []
  },
  {
   "cell_type": "markdown",
   "id": "dbcf6f90",
   "metadata": {},
   "source": [
    "<h6>MAP Normal</h6>\n",
    "<p>\n",
    "$$\n",
    "MAP = argmax f(\\theta | X_1,X_2,...X_n) = argmax\\frac{f(X_1,X_2,...X_n|\\theta)g(\\theta)}{h(X_1,X_2,...X_n)}\n",
    "$$\n",
    "$$\n",
    " = argmax \\frac{\\sum_{i=1}^{n}f(X_i|\\theta) g(\\theta)}{h(X_1,X_2,...X_n)}\n",
    "$$\n",
    "<p>\n",
    "h(X) is constant\n",
    "</p>\n",
    "$$\n",
    "= argmax (g(\\theta))\\prod f(X_i|\\theta)\n",
    "$$\n",
    "</p>\n",
    "<p>take teh log to convert the products to sum</p>\n",
    "I dont see a derivative. "
   ]
  },
  {
   "cell_type": "code",
   "execution_count": null,
   "id": "5352e825",
   "metadata": {},
   "outputs": [],
   "source": [
    "https://math.mit.edu/~dav/05.dir/class15-prep.pdf\n",
    "how to update postrior/prior based on new data points. \n",
    "how do we know if datapoint doesnt fit? outlier and we have teh wrong distribution? We sample from the posterior\n",
    "and see if it fits. \n",
    "https://towardsdatascience.com/building-a-bayesian-logistic-regression-with-python-and-pymc3-4dd463bbb16"
   ]
  },
  {
   "cell_type": "markdown",
   "id": "a820b2a7",
   "metadata": {},
   "source": [
    "hamiltonian MCMC vs Metropolis hastings\n",
    "https://www.youtube.com/watch?v=ZGtezhDaSpM\n",
    "    \n",
    "https://www.youtube.com/watch?v=RVWfbOHCalM&list=PLeB45KifGiuHesi4PALNZSYZFhViVGQJK&index=40a\n",
    "   "
   ]
  },
  {
   "cell_type": "markdown",
   "id": "bdf81ee2",
   "metadata": {},
   "source": [
    "<h6>MLE Poisson</h6>\n",
    "The PMF for a discrete RV with Poisson distribution leads to the following likelihood function: \n",
    "$$\n",
    "L(\\theta) = \\prod_{i=1}^{n}\\frac{e^{-\\lambda}}{X_{i}!}\\lambda^{X_i}\n",
    "$$\n",
    "As an aside the difference between likelihood and PMF for a discrete RV and PDF for a continuous RV lies in the\n",
    "notation. The above notation is incorrect but it confuses people if we use the correct notation. A likelihood is based observed data. We denote observstions as O as outcomes and theta as the set of parameters which specify the shape of the probabilty density or mass. $P(O|\\theta)$ is the probability we observe otucomes O. When presented with data we don't know theta, we see O and if we are given theta we can calcualte the probability $P(O|\\theta)$ by maximixing the $P(O|\\theta)$ as function. Converting the Probability density or mass to a likelihood function gives: \n",
    "$$\n",
    "L(\\theta|O) = P(O | theta)\n",
    "$$\n",
    "The likelihood fn is conditioned on the observed data while the probability density or mass is conditoined on the parameters\n",
    "of the distribution, theta. For the purposes of the derivative we leave out the O. \n",
    "<p>\n",
    "Given the Likelihood, the MLE estimator is called theta-hat, where the hat notation is for an estimator. \n",
    "</p>\n",
    "$$\n",
    "\\hat \\theta = argmax L(\\theta)\n",
    "$$ \n",
    "<p>\n",
    "We can transform a constant\n",
    "or increasing PDF by taking the log and adding a negative sign to find a minimum instead of a maximum resulting\n",
    "in a negative log likelihood estimator \n",
    "</p>\n",
    "$$\n",
    "NLL(\\theta)=-LogLikelihood(\\theta) = -argmin log(L(\\theta))\n",
    "$$\n",
    "$$\n",
    "-\\frac{\\partial LogLikelihood(\\theta)}{\\partial \\theta} =  \\partial \\frac{-log \\sum_{i=1}^{n}\\frac{e^{-\\lambda}}{X_{i}!}\\lambda^{X_i}}{\\partial \\lambda}\n",
    "$$\n",
    "$$\n",
    "=- \\frac{ \\partial (log \\sum_{i=1}^{n}\\frac{e^{-\\lambda}}{X_{i}!}\\lambda^{X_i})}{\\partial \\lambda}\n",
    "$$\n",
    "<p>\n",
    "\n",
    "$$\n",
    "=\\frac{\\partial \\sum_{i=1}^{n}(log(e^{-\\lambda}\\lambda^{X_i})-log(X_i!))}{\\partial \\lambda}\n",
    "$$\n",
    "\n",
    "$$\n",
    "= \\frac{\\partial \\sum(log e^{-\\lambda}+log\\lambda^{X_i}-log(X_i!))}{\\partial \\lambda} \n",
    "$$\n",
    "\n",
    "$$\n",
    "= \\frac{\\partial (-n\\lambda + \\sum(X_ilog\\lambda -log(X_i!)))}{\\partial \\lambda}\n",
    "$$\n",
    "\n",
    "$$\n",
    "\\frac{\\partial (-n\\lambda)}{\\lambda} = n\n",
    "$$\n",
    "\n",
    "$$\n",
    "\\frac{\\partial log\\lambda \\sum{X_i}}{\\partial \\lambda} = \\frac{\\sum{X_i}}{\\lambda}\n",
    "$$\n",
    "\n",
    "$$\n",
    "\\frac{\\partial \\sum(log (-X_i!)}{\\partial \\lambda} = 0\n",
    "$$\n",
    "\n",
    "$$\n",
    "0=-n + \\frac{\\sum^{n}(X_i)}{\\lambda}\n",
    "$$\n",
    "$$\n",
    "n\\lambda = \\sum^{n}(X_i)\n",
    "$$\n",
    "$$\n",
    "\\lambda = \\frac{1}{n}\\sum X_i   = \\bar \\mu                \n",
    "$$\n",
    "                    \n",
    "</p>"
   ]
  },
  {
   "cell_type": "code",
   "execution_count": null,
   "id": "46e1dd07",
   "metadata": {},
   "outputs": [],
   "source": [
    "<h6>Chi square and poisson fitting</h6>\n",
    "If events are occuring randomly and independently and the P(event) does not change over time or given interval of\n",
    "time then we can assume Poisson. The RV X is the number of events in a fixed unit of time. Problem is there are always\n",
    "external factors which bias this, weather, etc. PD,$\\lambda=np$ approximates binomial distribution if n is large and p is small.\n",
    "How large and how small? \n",
    "\n",
    "issues: https://www.youtube.com/user/jbstatistics/videos\n",
    "\n",
    "Used for contingency tables and count data. This should be the first analysis method for categorical data. \n",
    "chi square goodness of fit is not good for small sample sizes, \n",
    "https://www.theanalysisfactor.com/regression-models-for-count-data/\n",
    "https://stats.stackexchange.com/questions/78139/how-to-know-if-a-data-follows-a-poisson-distribution-in-r\n",
    "Chi square only first test\n",
    "Poisson regression for count data\n",
    "https://stats.oarc.ucla.edu/r/dae/poisson-regression/#:~:text=Poisson%20regression%20%E2%80%93%20Poisson%20regression%20is,variance%20exceeds%20the%20conditional%20mean.\n",
    "negative binomial regrssion for overdispersed count data\n",
    "zero inflated regression model for zeros, combine models, one for 0s another for rest of data\n"
   ]
  },
  {
   "cell_type": "code",
   "execution_count": null,
   "id": "fa51db32",
   "metadata": {},
   "outputs": [],
   "source": [
    "<p>Poisson Regression</p>\n",
    "Fitting zero count data. https://www.youtube.com/watch?v=cD9V1ApYqCk which says if you have an AIC difference between \n",
    "    0 inflated and nonzero inflated more than 2 you use the one w lower AIC. \n",
    "zero inflated model. No way to do this in R? \n",
    "https://stats.oarc.ucla.edu/r/dae/zip/#:~:text=Zero%2Dinflated%20poisson%20regression%20is,zeros%20can%20be%20modeled%20independently.\n",
    "    "
   ]
  },
  {
   "cell_type": "code",
   "execution_count": null,
   "id": "d6715606",
   "metadata": {},
   "outputs": [],
   "source": [
    "<h6>MAP Poisson </h6>\n",
    "<p>The conjugate prior for a Poisson is </p>"
   ]
  },
  {
   "cell_type": "code",
   "execution_count": null,
   "id": "aa4f1bdc",
   "metadata": {},
   "outputs": [],
   "source": [
    "<h6>MLE Binomial</h6>\n",
    "\n",
    "<p>\n",
    "$$\n",
    "P(X=x|n,p) = \\binom{n_j}{n_i}p^x(1-p)^{n-x}\n",
    "$$\n",
    "</p>\n",
    "<p>\n",
    "Take partial WRT p, the parameters\n",
    "</p>\n",
    "\n"
   ]
  },
  {
   "cell_type": "markdown",
   "id": "e8b7083a",
   "metadata": {},
   "source": [
    "<h6>MLE Multinomial</h6>\n",
    "<p>\n",
    "$$\n",
    "P(x_1,x_2,...x_k|n,p_1,p_2,...p_k) = \\frac{N!}{\\prod_{i=1}^{x_i!}}p_{i}^{x_i},\\ \\sum_i x_i=N, x_i \\ge > 0\n",
    "$$\n",
    "</p>"
   ]
  },
  {
   "cell_type": "markdown",
   "id": "0e819f7a",
   "metadata": {},
   "source": [
    "<p>\n",
    "Beta Distribution, conjugate prior of Binomial\n",
    "</p>\n",
    "<p>\n",
    "$$\n",
    "p(p|\\alpha, \\beta) = \\frac{1}{B(\\alpha, \\beta)} p^{\\alpha-1}(1-p)^{\\beta -1},\\ p=[0,1]\n",
    "$$\n",
    "<p>Beta function</p>\n",
    "$$\n",
    "B(\\alpha, \\beta) = \\frac{\\Gamma(\\alpha + \\beta)}{\\Gamma(\\alpha),\\Gamma(\\beta)} \\approx \\binom{\\alpha -1}{\\alpha+ \\beta-2}\n",
    "$$\n",
    "</p>\n",
    "<p>\n",
    "Dirichlet Distribution, conjugate prior of multinomial\n",
    "</p>\n",
    "<p>\n",
    "$$\n",
    "p(P={p_i}| \\alpha_i)=\\frac{\\prod_i \\Gamma(\\alpha_i)}{\\Gamma(\\sum_i \\alpha_i)}\\prod p_i^{\\alpha_i-1}\n",
    "$$\n",
    "$$\n",
    "\\sigma = \\sum(\\alpha_i) \n",
    "$$\n",
    "$$\n",
    "base=\\frac{\\alpha_i}{\\sigma}\n",
    "$$\n",
    "\n",
    "\n",
    "</p>"
   ]
  },
  {
   "cell_type": "code",
   "execution_count": null,
   "id": "c852b292",
   "metadata": {},
   "outputs": [],
   "source": [
    "https://www.cs.cmu.edu/~epxing/Class/10701-08s/recitation/dirichlet.pdf"
   ]
  },
  {
   "cell_type": "markdown",
   "id": "b704b20a",
   "metadata": {},
   "source": [
    "<h6>MLE Bernoulli</h6>\n",
    "<p>$L(\\theta)=\\prod_{i=1}^{n} p^{X_i}(1-p)^{1-{X_i}}$</p>\n",
    "<p>convert liklihood to negative log liklihood</p>\n",
    "<p>$-LogLikelihood(\\theta)=-\\sum_{i=1}^{n} log(p^{X_i}(1-p)^{1-{X_i}})$</p>\n",
    "<p>=$\\sum_{i=1}^{n}X_i(log(p))+(1-X_i)log(1-p)$</p>\n",
    "<p>=$Ylog(p) + (n-Y)log(1-p)$</p>\n",
    "<p>where $Y=\\sum_i^n(X_i)$</p>\n",
    "<p>To find the maximum take the derivative WRT theta and set to 0. Solve for X_i</p>\n",
    "<p>$\\frac{\\partial LogLikelihood(\\theta)}{\\partial \\theta} = \n",
    "\\frac{\\partial LogLikelihood(p)}{\\partial p}=\n",
    "\\frac{\\partial(Ylog(p) + (n-Y)log(1-p))}{\\partial (p)} $</p>\n",
    "<p>$\\frac{\\partial log(p)}{\\partial (p)} = \\frac{1}{p}dp$</p>\n",
    "<p>$\\frac{\\partial(Ylog(p) + (n-Y)log(1-p))}{\\partial (p)}= \\frac{Y}{p}dp - \\frac{n-Y}{1-p}dp = 0$</p>\n",
    "<p>$ \\frac{Y}{p} = \\frac{n-Y}{1-p}$</p>\n",
    "<p>$ (Y)(1-p) = (n-Y)(p)$</p>\n",
    "<p>$ Y-Yp = np-Yp$</p>\n",
    "<p>$ Y = np$</p>\n",
    "<p>$ \\frac{Y}{n} = p$</p>\n",
    "<p>After replacing the summation for Y we see the p is the mean of $X_i$</p>\n",
    "\n",
    "\n",
    "\n",
    "\n"
   ]
  },
  {
   "cell_type": "markdown",
   "id": "9337e911",
   "metadata": {},
   "source": [
    "<p>What is the MLE for $\\theta$ for a coin where our $X_i=(0,1,1,0,0)?$</p>\n",
    "<p>$L(\\theta)=\\prod_{i=1}^{n} p^{X_i}(1-p)^{1-{X_i}}$</p>\n",
    "<p>There are 3 0 and 2 1 values </p>\n",
    "<p>$L(\\theta) = \\theta^2(1-\\theta)^3$</p>\n",
    "<p>taking derivateive WRT theta and set to 0 to solve for theta gets us....</p>\n",
    "<p>$\\frac{\\partial L(\\theta)  }{\\partial \\theta} = 2 \\theta(1-theta)^3 + \\theta^2(3)(1-\\theta)^2(-1)$</p>\n",
    "<p>$0=2\\theta(1-\\theta)^3-3\\theta^2(1-\\theta)^2$<\\p>\n",
    "<p>$0=2(1-\\theta)-3\\theta$</p>\n",
    "<p>$0=2-2\\theta-3\\theta$</p>\n",
    "<p>$0=2-5\\theta$</p>\n",
    "<p>$\\theta=\\frac{2}{5}$</p>\n"
   ]
  },
  {
   "cell_type": "code",
   "execution_count": 18,
   "id": "1d68b9ea",
   "metadata": {},
   "outputs": [
    {
     "name": "stdout",
     "output_type": "stream",
     "text": [
      "derivative is:  tensor(18.)\n",
      "tensor([-40.0000, -35.7895, -31.5789, -27.3684, -23.1579, -18.9474, -14.7368,\n",
      "        -10.5263,  -6.3158,  -2.1053,   2.1053,   6.3158,  10.5263,  14.7368,\n",
      "         18.9474,  23.1579,  27.3684,  31.5789,  35.7895,  40.0000])\n"
     ]
    }
   ],
   "source": [
    "#pytorch derivatives\n",
    "import torch\n",
    "x = torch.tensor(3.0, requires_grad=True)\n",
    "y=3*x**2\n",
    "y.backward()\n",
    "print(\"derivative is: \",x.grad)\n",
    "#derivative with multiple values,\n",
    "\n",
    "x=torch.linspace(-20,20,20, requires_grad=True)\n",
    "Y=x**2\n",
    "y=torch.sum(Y) #dont understand how this is multiple values? he means multiple values of x, bc it is a linspace\n",
    "y.backward()\n",
    "print(x.grad) #OK , where is the connection to sum?? and having x be a vector or np array?"
   ]
  },
  {
   "cell_type": "code",
   "execution_count": null,
   "id": "dc71631e",
   "metadata": {},
   "outputs": [],
   "source": [
    "#calculate derivative and set to 0\n",
    "#https://gist.github.com/papachristoumarios/3da173eba99ea9716ccf13f71a36ae91\n",
    "#https://www.cs.toronto.edu/~guerzhoy/411_2018/lec/week4/pytorch_tutorial/MaxLik/Maximum+Likelihood+for+Bernoulli+with+PyTorch.html\n",
    "\n",
    "$-\\sum(log x*(p)+(1-x)(1-p))$"
   ]
  },
  {
   "cell_type": "code",
   "execution_count": 14,
   "id": "8a39f250",
   "metadata": {},
   "outputs": [
    {
     "name": "stdout",
     "output_type": "stream",
     "text": [
      "L(theta): 10.184544 p= [0.9656638] dL/dp: [85.30021]\n",
      "L(theta): 4.7447004 p= [0.7511166] dL/dp: [9.391133]\n",
      "L(theta): 4.150029 p= [0.6737441] dL/dp: [6.2267494]\n",
      "L(theta): 3.855351 p= [0.61925465] dL/dp: [4.649593]\n",
      "L(theta): 3.683202 p= [0.57761294] dL/dp: [3.639964]\n",
      "L(theta): 3.57528 p= [0.5446463] dL/dp: [2.9161777]\n",
      "L(theta): 3.5051827 p= [0.5180802] dL/dp: [2.364695]\n",
      "L(theta): 3.4588044 p= [0.496472] dL/dp: [1.9295359]\n",
      "L(theta): 3.4278312 p= [0.47881407] dL/dp: [1.5791163]\n",
      "L(theta): 3.4070625 p= [0.46435478] dL/dp: [1.2936702]\n"
     ]
    }
   ],
   "source": [
    "import torch,numpy as np\n",
    "from torch.autograd import Variable\n",
    "\n",
    "X_i = np.array([0.,1.,1.,0.,0.])\n",
    "x = Variable(torch.from_numpy(X_i)).type(torch.FloatTensor)\n",
    "p = Variable(torch.rand(1),requires_grad=True)\n",
    "\n",
    "learning_rate = .001\n",
    "for a in range(100):\n",
    "    #why minus and formuls different. \n",
    "    like = -torch.sum(torch.log(x*p+(1-x)*(1-p)))\n",
    "    \n",
    "    like.backward()\n",
    "    if a%10==0:\n",
    "        print(\"L(theta):\",like.data.numpy(), \"p=\",p.data.numpy(), \"dL/dp:\",p.grad.data.numpy())\n",
    "    p.data -= learning_rate * p.grad.data\n",
    "    p.grad.data.zero_()\n",
    "#we are converged to .40 or 2/5 at 40 iterations\n",
    "\n",
    "\n"
   ]
  },
  {
   "cell_type": "code",
   "execution_count": 4,
   "id": "11451e4b",
   "metadata": {},
   "outputs": [
    {
     "data": {
      "image/png": "[encoded data removed]",
      "text/plain": [
       "<Figure size 432x288 with 1 Axes>"
      ]
     },
     "metadata": {
      "needs_background": "light"
     },
     "output_type": "display_data"
    }
   ],
   "source": [
    "import matplotlib.pyplot as plt\n",
    "from scipy.stats import beta\n",
    "import numpy as np\n",
    "#11 heads and 10 tails\n",
    "a, b = 11.0, 10.0\n",
    "mean, var, skew, kurt = beta.stats(a, b, moments='mvsk')\n",
    "x = np.linspace(beta.ppf(0.01, a, b),beta.ppf(0.99, a, b), 100)\n",
    "plt.plot(x, beta.pdf(x, a, b),'r-', lw=5, alpha=0.6, label='beta pdf')\n",
    "plt.show()"
   ]
  },
  {
   "cell_type": "code",
   "execution_count": 10,
   "id": "3a9d559c",
   "metadata": {},
   "outputs": [
    {
     "data": {
      "image/png": "[encoded data removed]",
      "text/plain": [
       "<Figure size 432x288 with 1 Axes>"
      ]
     },
     "metadata": {
      "needs_background": "light"
     },
     "output_type": "display_data"
    }
   ],
   "source": [
    "#1 head and 1 tails, there are some undefined areas like a,b=(1,0). Large numbers or more flips changes the shape\n",
    "a, b = 1.0, 1.0\n",
    "mean, var, skew, kurt = beta.stats(a, b, moments='mvsk')\n",
    "x = np.linspace(beta.ppf(0.01, a, b),beta.ppf(0.99, a, b), 100)\n",
    "plt.plot(x, beta.pdf(x, a, b),'r-', lw=5, alpha=0.6, label='beta pdf')\n",
    "plt.show()"
   ]
  },
  {
   "cell_type": "code",
   "execution_count": 11,
   "id": "96191ef1",
   "metadata": {},
   "outputs": [
    {
     "data": {
      "image/png": "[encoded data removed]",
      "text/plain": [
       "<Figure size 432x288 with 1 Axes>"
      ]
     },
     "metadata": {
      "needs_background": "light"
     },
     "output_type": "display_data"
    }
   ],
   "source": [
    "#1 head and 10 tails, an unfair coin\n",
    "a, b = 1.0, 10.0\n",
    "mean, var, skew, kurt = beta.stats(a, b, moments='mvsk')\n",
    "x = np.linspace(beta.ppf(0.01, a, b),beta.ppf(0.99, a, b), 100)\n",
    "plt.plot(x, beta.pdf(x, a, b),'r-', lw=5, alpha=0.6, label='beta pdf')\n",
    "plt.show()"
   ]
  },
  {
   "cell_type": "code",
   "execution_count": null,
   "id": "f321ee6c",
   "metadata": {},
   "outputs": [],
   "source": [
    "https://courses.cs.washington.edu/courses/cse312/20su/files/student_drive/7.5.pdf\n",
    "https://online.stat.psu.edu/stat504/lesson/1/1.5\n",
    "    \n",
    "    "
   ]
  },
  {
   "cell_type": "code",
   "execution_count": null,
   "id": "e53aa93f",
   "metadata": {},
   "outputs": [],
   "source": [
    "<p>From Bayes:$\\pi_{\\Theta}(\\theta | x )= \\frac{L(x|\\theta)\\pi_\\Theta(\\theta)}{\\mathbb{P(x)}} \\propto L(x|\\theta)\\pi_{\\Theta}(\\theta) $</p>\n",
    "<p>Most derivations drop the denominator, is this a constant? </p>\n"
   ]
  },
  {
   "cell_type": "markdown",
   "id": "0fa98468",
   "metadata": {},
   "source": [
    "$\\hat \\theta _{MAP} = \\underset{\\theta}{argmax}\\  \\pi_{\\theta}(\\theta | x) = \\underset{\\theta}{argmax}\\  L(x | \\theta) \\pi_{\\Theta}(\\theta) $"
   ]
  },
  {
   "cell_type": "code",
   "execution_count": null,
   "id": "cdadefb6",
   "metadata": {},
   "outputs": [],
   "source": []
  }
 ],
 "metadata": {
  "kernelspec": {
   "display_name": "Python 3.9.7 ('cosmic')",
   "language": "python",
   "name": "python397jvsc74a57bd053d4678d88891fb05e04416eb1a742497c0b0baabdd52f6ad28cb1ed11944cce"
  },
  "language_info": {
   "codemirror_mode": {
    "name": "ipython",
    "version": 3
   },
   "file_extension": ".py",
   "mimetype": "text/x-python",
   "name": "python",
   "nbconvert_exporter": "python",
   "pygments_lexer": "ipython3",
   "version": "3.9.7"
  }
 },
 "nbformat": 4,
 "nbformat_minor": 5
}
