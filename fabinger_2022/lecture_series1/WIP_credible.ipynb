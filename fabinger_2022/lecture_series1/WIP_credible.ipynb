{
 "cells": [
  {
   "cell_type": "code",
   "execution_count": null,
   "id": "f2a79cee",
   "metadata": {},
   "outputs": [],
   "source": [
    "#unresolved how to use credible intervals\n"
   ]
  },
  {
   "cell_type": "markdown",
   "id": "ad9e2e62",
   "metadata": {},
   "source": [
    "<h6>multinomial and dirichlet</h6>\n",
    "<p>\n",
    "dirichlet is the prior for multinomial distributions where multinomial data is \n",
    "encoded to be successes and failures like bernoulli but with K categories. \n",
    "$$\n",
    "f(x_1,x_2,...x_k, \\alpha_1,\\alpha2,...\\alpha_k) = \\frac{\\Gamma(\\sum_1^{k}\\alpha_i)}{\\prod_1^k(\\Gamma(\\alpha_i))} \\prod_1^{k}(x_i^{(\\alpha_i-1)})\n",
    "$$\n",
    "</p>\n"
   ]
  },
  {
   "cell_type": "code",
   "execution_count": 2,
   "id": "d70f975b",
   "metadata": {},
   "outputs": [
    {
     "ename": "SyntaxError",
     "evalue": "invalid syntax (2785335761.py, line 1)",
     "output_type": "error",
     "traceback": [
      "\u001b[0;36m  Input \u001b[0;32mIn [2]\u001b[0;36m\u001b[0m\n\u001b[0;31m    rdirichlet <- function(a) {\u001b[0m\n\u001b[0m                              ^\u001b[0m\n\u001b[0;31mSyntaxError\u001b[0m\u001b[0;31m:\u001b[0m invalid syntax\n"
     ]
    }
   ],
   "source": [
    "rdirichlet <- function(a) {\n",
    "    y <- rgamma(length(a), a, 1)\n",
    "    return(y / sum(y))\n",
    "}\n",
    "\n",
    "x <- c(65, 71, 532, 307, 369, 234, 584)\n",
    "\n",
    "SIMS <- 10000\n",
    "\n",
    "t <- matrix(nrow = SIMS, ncol = length(x), data = 0)\n",
    "\n",
    "for (i in 1:SIMS) t[i,] = rdirichlet(x + 1)\n",
    "\n",
    "sum(t[,3]) / SIMS # estimate of \"college or grad\"\n",
    "\n",
    "quantile(t[,3], probs = c(0.025, 0.975)) # credible interval for \"college or grad\"\n",
    "\n",
    "# posterior probabilities\n",
    "sum(t[,3] > t[,7]) / SIMS # more \"college or grad\" than \"other\"\n",
    "sum(t[,1] > t[,2]) / SIMS # more \"k-12 teacher or librarian\" than \"k-12 student\""
   ]
  },
  {
   "cell_type": "code",
   "execution_count": null,
   "id": "e73c13d0",
   "metadata": {},
   "outputs": [],
   "source": [
    "https://stats.stackexchange.com/questions/39319/bayesian-user-survey-with-a-credible-interval"
   ]
  },
  {
   "cell_type": "code",
   "execution_count": null,
   "id": "f12dde3a",
   "metadata": {},
   "outputs": [],
   "source": []
  },
  {
   "cell_type": "code",
   "execution_count": 10,
   "id": "b13cea98",
   "metadata": {},
   "outputs": [
    {
     "name": "stdout",
     "output_type": "stream",
     "text": [
      "sum: 2162\n",
      "results: (1000, 7)\n",
      "k-12 teacher or librarian 2% 3% 4%\n",
      "k-12 student 3% 3% 4%\n",
      "college or graduate student 23% 25% 26%\n",
      "faculty or academic researcher 13% 14% 16%\n",
      "archivist or librarian 15% 17% 19%\n",
      "genealogist or family researcher 10% 11% 12%\n",
      "other 25% 27% 29%\n"
     ]
    }
   ],
   "source": [
    "# pip install numpy\n",
    "#https://gist.github.com/tingletech/3928539\n",
    "#bayesian survey analysis port from R code\n",
    "from numpy.random.mtrand import dirichlet\n",
    "from numpy import array, sum, percentile\n",
    "\n",
    "categories = [\n",
    "    'k-12 teacher or librarian',\n",
    "    'k-12 student',\n",
    "    'college or graduate student',\n",
    "    'faculty or academic researcher',\n",
    "    'archivist or librarian',\n",
    "    'genealogist or family researcher',\n",
    "    'other'\n",
    "]\n",
    "\n",
    "observations = [65, 71, 532, 307, 369, 234, 584]\n",
    "print(\"sum:\",sum(observations))\n",
    "# just checking\n",
    "assert len(categories) == len(observations)\n",
    "\n",
    "# run 1000 simulations\n",
    "simulations = 1000\n",
    "\n",
    "# set up a standard library array to hold the simulation results\n",
    "results = []\n",
    "\n",
    "# monte carlo method\n",
    "for n in range(simulations):\n",
    "    results.append( dirichlet([x+1 for x in observations]) )\n",
    "\n",
    "# convert results to a numpy array for better indexing/sums\n",
    "results = array(results)\n",
    "print(\"results:\",results.shape)\n",
    "# calculate estimates\n",
    "estimates = sum(results, axis=0) / simulations\n",
    "\n",
    "# calculate credible interval and print results\n",
    "for k in range(len(observations)):\n",
    "    q025 = \"{:.0%}\".format(percentile(results[:,k],  2.5))\n",
    "    q975 = \"{:.0%}\".format(percentile(results[:,k], 97.5))\n",
    "    percent = \"{:.0%}\".format(estimates[k])\n",
    "    print (categories[k], q025, percent, q975)"
   ]
  },
  {
   "cell_type": "code",
   "execution_count": 2,
   "id": "a99458b8",
   "metadata": {},
   "outputs": [
    {
     "ename": "SystemExit",
     "evalue": "0",
     "output_type": "error",
     "traceback": [
      "An exception has occurred, use %tb to see the full traceback.\n",
      "\u001b[0;31mSystemExit\u001b[0m\u001b[0;31m:\u001b[0m 0\n"
     ]
    },
    {
     "name": "stderr",
     "output_type": "stream",
     "text": [
      "/Users/dougchang/miniconda3/envs/cosmic/lib/python3.9/site-packages/IPython/core/interactiveshell.py:3369: UserWarning: To exit: use 'exit', 'quit', or Ctrl-D.\n",
      "  warn(\"To exit: use 'exit', 'quit', or Ctrl-D.\", stacklevel=1)\n"
     ]
    },
    {
     "data": {
      "image/png": "[encoded data removed]",
      "text/plain": [
       "<Figure size 432x288 with 2 Axes>"
      ]
     },
     "metadata": {
      "needs_background": "light"
     },
     "output_type": "display_data"
    }
   ],
   "source": [
    "#plotting credible intervals using montecarlo sampling\n",
    "\n",
    "import sys\n",
    "from numpy.random.mtrand import dirichlet\n",
    "from numpy import array, sum, percentile\n",
    "from pprint import pprint\n",
    "import numpy as np\n",
    "\n",
    "def main(argv=None):\n",
    "    # need to refactor the data out\n",
    "    categories = [\n",
    "        'k-12 teacher or librarian',\n",
    "        'k-12 student',\n",
    "        'college or graduate student',\n",
    "        'faculty or academic researcher',\n",
    "        'archivist or librarian',\n",
    "        'genealogist or family researcher',\n",
    "        'other'\n",
    "    ]\n",
    "    observations_oac = [ 65,  71, 532, 307, 369, 234, 584]\n",
    "    observations_cs  = [133, 280, 445,  82,  55,  68, 220]\n",
    "\n",
    "    # calculate the statistics\n",
    "    estimates_oac, error_bars_oac = monte_carlo(observations_oac)\n",
    "    estimates_cs, error_bars_cs = monte_carlo(observations_cs)\n",
    "\n",
    "    # http://matplotlib.org/examples/api/barchart_demo.html\n",
    "    # inner function we will need for labels\n",
    "    def autolabel(rects):\n",
    "        # attach some text labels\n",
    "        for rect in rects:\n",
    "            height = rect.get_height() \n",
    "            height_format = \"{:.0%}\".format(height)\n",
    "            plt.text(rect.get_x()+rect.get_width()/2., height + 0.025, height_format,\n",
    "                    ha='center', va='bottom')\n",
    "\n",
    "    # okay, now we are ready to get our plot on\n",
    "    import matplotlib\n",
    "    # The backend must be set BEFORE importing matplotlib.pyplot\n",
    "    # matplotlib.use('Agg') # Generates image.\n",
    "    import matplotlib.pyplot as plt\n",
    "\n",
    "    # x axis index\n",
    "    x = np.arange(1, len(categories)+1)\n",
    "\n",
    "    plt.figure(1)\n",
    "    plt.subplot(211)\n",
    "    plt.title(\"Answer that best describes yourself: OAC N=\" + str(sum(observations_oac)))\n",
    "    plt.xticks(x, [label.replace(\" \",\"\\n\") for label in categories ])\n",
    "    plt.ylim((0,0.5))\n",
    "    rects1 = plt.bar(x, estimates_oac, 0.8, yerr=error_bars_oac, facecolor='none', align='center', ecolor=\"k\" )\n",
    "    autolabel(rects1)\n",
    "\n",
    "    plt.subplot(212)\n",
    "    plt.title(\"Answer that best describes yourself: Calisphere N=\" + str(sum(observations_cs)))\n",
    "    plt.xticks(x, [label.replace(\" \",\"\\n\") for label in categories ])\n",
    "    plt.ylim((0,0.5))\n",
    "    rects2 = plt.bar(x, estimates_cs, 0.8, yerr=error_bars_oac, facecolor='none', align='center', ecolor=\"k\" )\n",
    "    autolabel(rects2)\n",
    "\n",
    "    plt.tight_layout()\n",
    "    plt.savefig(\"figure.png\", dpi = (100))\n",
    "    # http://workshops.arl.arizona.edu/python1/python_modules/matplotlib_example.py\n",
    "    return 0\n",
    "\n",
    "def monte_carlo(observations):\n",
    "    \"\"\" takes a standard array of observations and returns a 2 dimensional numpy array of simulation results\n",
    "    \"\"\"\n",
    "    ITERATIONS = 1000\n",
    "    results = []\n",
    "    for n in range(ITERATIONS):\n",
    "        results.append( dirichlet([x+1 for x in observations]) )\n",
    "    # convert results to a numby array for better indexing/sums\n",
    "    results = array(results)\n",
    "    # summarize the results \n",
    "    estimates = sum(results, axis=0) / ITERATIONS\n",
    "    # \"You need 2*N, not N*2 arrays here.\"\n",
    "    lows = []\n",
    "    highs = []\n",
    "    # calculate credible interval \n",
    "    for k in range(len(estimates)):\n",
    "        q025 = percentile(results[:,k],  2.5)\n",
    "        q975 = percentile(results[:,k], 97.5)\n",
    "        # http://www.mailinglistarchive.com/html/matplotlib-users@lists.sourceforge.net/2009-09/msg00181.html\n",
    "        lows.append( estimates[k] - q025)\n",
    "        highs.append( q975 - estimates[k])\n",
    "    return estimates, [ lows, highs ] \n",
    "\n",
    "if __name__ == '__main__':\n",
    "    status = main()\n",
    "    sys.exit(status)"
   ]
  },
  {
   "cell_type": "code",
   "execution_count": null,
   "id": "b2c58fa8",
   "metadata": {},
   "outputs": [],
   "source": []
  }
 ],
 "metadata": {
  "kernelspec": {
   "display_name": "Python 3.9.7 ('cosmic')",
   "language": "python",
   "name": "python397jvsc74a57bd053d4678d88891fb05e04416eb1a742497c0b0baabdd52f6ad28cb1ed11944cce"
  },
  "language_info": {
   "codemirror_mode": {
    "name": "ipython",
    "version": 3
   },
   "file_extension": ".py",
   "mimetype": "text/x-python",
   "name": "python",
   "nbconvert_exporter": "python",
   "pygments_lexer": "ipython3",
   "version": "3.9.10"
  }
 },
 "nbformat": 4,
 "nbformat_minor": 5
}
