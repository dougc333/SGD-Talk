{
 "cells": [
  {
   "cell_type": "markdown",
   "id": "a32846c6",
   "metadata": {},
   "source": [
    "<h6>Exponential distribution</h6>\n",
    "<p>the PDF of a continuous RV with an Exponential Distribution is \n",
    "$$\n",
    "P(x)=\\lambda e^{- \\lambda x}\n",
    "$$\n",
    "for x>0. \n",
    "</p>\n",
    "<p>The CDF is the integral of the PDF\n",
    "$$\n",
    "CDF = \\int \\lambda e^{- \\lambda x} \n",
    "$$\n",
    "$$\n",
    "\\int e^x = e^x\n",
    "$$\n",
    "$$\n",
    "\\int e^{- \\lambda x} = \\frac{-1}{\\lambda}e^{-\\lambda x}\n",
    "$$\n",
    "$$\n",
    "CDF = \\int \\lambda e^{- \\lambda x} = \\lambda (\\frac{-1}{\\lambda}e^{-\\lambda x})\\biggr\\rvert_0^x = \\lambda(\\frac{-1}{\\lambda}e^{- \\lambda x} + \\frac{1}{\\lambda}e^0)\n",
    "$$\n",
    "$$\n",
    "=\\lambda(\\frac{1}{\\lambda})(-e^{-\\lambda x}+1) = 1-e^{-\\lambda x}\n",
    "$$\n",
    "</p>\n",
    "<p>The general definition of moments is expressed with the RV and PDF\n",
    "$$\n",
    "\\mu_n = E[X^n]\n",
    "$$\n",
    "</p>\n",
    "<p>The expectation or first moment is $E[X]=\\int x P(x) = \\sum_0^{N}xP(x)$</p>\n",
    "<p>The second moment or variance is $E[X^2]$</p>\n"
   ]
  },
  {
   "cell_type": "markdown",
   "id": "ba3762fa",
   "metadata": {},
   "source": [
    "# "
   ]
  }
 ],
 "metadata": {
  "kernelspec": {
   "display_name": "Python 3.9.7 ('cosmic')",
   "language": "python",
   "name": "python397jvsc74a57bd053d4678d88891fb05e04416eb1a742497c0b0baabdd52f6ad28cb1ed11944cce"
  },
  "language_info": {
   "codemirror_mode": {
    "name": "ipython",
    "version": 3
   },
   "file_extension": ".py",
   "mimetype": "text/x-python",
   "name": "python",
   "nbconvert_exporter": "python",
   "pygments_lexer": "ipython3",
   "version": "3.9.7"
  }
 },
 "nbformat": 4,
 "nbformat_minor": 5
}
