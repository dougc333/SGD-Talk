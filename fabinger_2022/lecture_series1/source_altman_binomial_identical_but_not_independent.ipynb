{
 "cells": [
  {
   "cell_type": "code",
   "execution_count": null,
   "id": "61f4a939",
   "metadata": {},
   "outputs": [],
   "source": [
    "file:///Users/dougchang/Downloads/25878531.pdf\n",
    "    Altham1 showed two generalizations of the\n",
    "binomial distribution when the random variables are identically distributed but not independent and assumed\n",
    "to have symmetric joint distribution with no second or higher order “interactions”. Two generalizations are\n",
    "obtained depending on whether the “interaction” for discrete variables is “multiplicative” or “additive”. "
   ]
  },
  {
   "cell_type": "code",
   "execution_count": null,
   "id": "2eeffe79",
   "metadata": {},
   "outputs": [],
   "source": [
    " This rendered a four parameter binomial distribution of\n",
    "the form 𝐵(𝑛, 𝑝, 𝛼, 𝛽). In a recent work, Altham and Hankin10 introduced two generalizations of multinomial\n",
    "and Binomial distributions which arise from the multiplicative Binomial distribution of Altham1\n",
    ". The forms of\n",
    "the generalized distributions are of exponential family form and termed as “multivariate multinomial\n",
    "distribution” and “multivariate multiplicative binomial distribution”. Like the Altham’s generalized\n",
    "distribution, both the distribution has an additional shape parameter 𝜃 which corresponds usual distribution if\n",
    "it takes value 1 and over and under-disperse for greater and less than 1 respectively"
   ]
  },
  {
   "cell_type": "code",
   "execution_count": null,
   "id": "fcdf1835",
   "metadata": {},
   "outputs": [],
   "source": [
    "Current state, multinomial and binomlai generalization w 4 parameters. "
   ]
  }
 ],
 "metadata": {
  "kernelspec": {
   "display_name": "Python 3 (ipykernel)",
   "language": "python",
   "name": "python3"
  },
  "language_info": {
   "codemirror_mode": {
    "name": "ipython",
    "version": 3
   },
   "file_extension": ".py",
   "mimetype": "text/x-python",
   "name": "python",
   "nbconvert_exporter": "python",
   "pygments_lexer": "ipython3",
   "version": "3.9.7"
  }
 },
 "nbformat": 4,
 "nbformat_minor": 5
}
