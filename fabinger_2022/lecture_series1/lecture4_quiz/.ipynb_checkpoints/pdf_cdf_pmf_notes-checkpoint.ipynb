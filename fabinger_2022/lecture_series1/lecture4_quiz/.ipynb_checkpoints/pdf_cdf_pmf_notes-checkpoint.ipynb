{
 "cells": [
  {
   "cell_type": "markdown",
   "id": "da439338",
   "metadata": {},
   "source": [
    "<h6>PDF, PMF, CDF and applications</h6>\n",
    "<br/>\n",
    "<h6>Random Variables, Outcomes, Events</h6>\n",
    "\n",
    "<p>\n",
    "A random variable is defined on a finite sample space. \n",
    "A sample space is denoted with a capital omega\n",
    "A random variable can have a sample space. An example of a coin sample space is {},{H,T}\n",
    "A die sample space is $\\Omega = \\{\\},\\{1,2\\},\\{1,2,3,4,5,6\\}$\n",
    "</p>\n",
    "<p>\n",
    "To make a mathematical model of the random variable we define the RV with a function. A function takes an \n",
    "input and produces an output. The input is the sample space. The output is a real number. We can arbitrarily assign\n",
    "the output of a die and coin to a real number. \n",
    "</p>\n",
    "<p>\n",
    "An outcome or outcomes are the collection of all possible combinations of the sample spaces. A trial or experiment\n",
    "has to be in the collection of outcomes. For a single coin flip the outcomes are {H},{T}, for 2 coin flips of 1 coin the \n",
    "outcomes are: {HH},{HT},{TH},{TT}. \n",
    "</p>\n",
    "<p>\n",
    "An example is a coin flip {H,T,H,H,H} or a die roll {2,3,4,5,6,1,1,1}\n",
    "</p>\n",
    "<p>\n",
    "For real RVs there are rules like, when do I see 1 ones in a pair of dice? Or when do I see 2H in a row? Those rules\n",
    "constrain the outcomes. An event is a set of outcomes that have a rule. An event with 1H is {HT,TH}; etc...\n",
    "</p>\n"
   ]
  },
  {
   "cell_type": "code",
   "execution_count": 2,
   "id": "8a6dc5eb",
   "metadata": {},
   "outputs": [
    {
     "ename": "SyntaxError",
     "evalue": "invalid syntax (783249544.py, line 1)",
     "output_type": "error",
     "traceback": [
      "\u001b[0;36m  Input \u001b[0;32mIn [2]\u001b[0;36m\u001b[0m\n\u001b[0;31m    <h6>Distributions</h6>\u001b[0m\n\u001b[0m    ^\u001b[0m\n\u001b[0;31mSyntaxError\u001b[0m\u001b[0;31m:\u001b[0m invalid syntax\n"
     ]
    }
   ],
   "source": [
    "<h6>Distributions</h6>\n",
    "<p>\n",
    "A probability distribution is a mathematical function which gives the probability of an outcome or sets of outcomes. The definition of probability distribution is different for continuous RVs and discrete RVs. \n",
    "</p>\n",
    "<h6>PMF</h6>\n",
    "A PMF is the probability a Discrete RV equals some value. Example: find the PMF(X) of a coin toss w/2 Heads where\n",
    "the random variable X is the number of observed heads, 0, 1 or 2. \n",
    "sample space $\\Omega=\\{HH,HT,TH,TT\\}$. \n",
    "<p>We have to enumerate all the possible states of X and describe the probability. P(X=0), P(X=1),P(X=2)\n",
    "We can do this by counting the possibiliies in from the sample space: \n",
    "$P(X=0)=1/4, P(X=1)=2/4, P(X=2)=1/4$</p>\n",
    "<h6>PDF</h6>\n",
    "<h6>CDF</h6>\n"
   ]
  },
  {
   "cell_type": "code",
   "execution_count": null,
   "id": "e8fc232b",
   "metadata": {},
   "outputs": [],
   "source": []
  },
  {
   "cell_type": "code",
   "execution_count": null,
   "id": "e66fb15a",
   "metadata": {},
   "outputs": [],
   "source": [
    "<h6>Sampling</h6>\n",
    "Sampling is the inverse of the CDF, $F^{-1}(X)$. If the inverse exists. Unknown if this is expressed\n",
    "as a matrix inversion or in functional form Maybe discrete is matrix, continuous is functional form. \n"
   ]
  },
  {
   "cell_type": "code",
   "execution_count": 10,
   "id": "cecdfb8e",
   "metadata": {},
   "outputs": [
    {
     "data": {
      "image/png": "[encoded data removed]",
      "text/plain": [
       "<Figure size 432x288 with 1 Axes>"
      ]
     },
     "metadata": {
      "needs_background": "light"
     },
     "output_type": "display_data"
    }
   ],
   "source": [
    "import matplotlib.pyplot as plt\n",
    "[0,1,2],[.25,.5,.25]\n",
    "plt.vlines(0,0,.25)\n",
    "plt.vlines(1,0,.50)\n",
    "plt.vlines(2,0,.25)\n",
    "plt.show()\n",
    "#we need the dirac deltq function for the discrete values not the continuous graph"
   ]
  },
  {
   "cell_type": "code",
   "execution_count": null,
   "id": "f81859fb",
   "metadata": {},
   "outputs": [],
   "source": [
    "<h6>Categorical variables</h6>\n",
    "<p>A bernoulli distribuiton. A random variable X with K categories. </p>\n",
    "<p>The bernoulli distribution is a special case of the binomial/multinomial distribution with 1 trial!</p>\n",
    "<p>The probability of 1 trial X P(X)= some value.  </p>\n",
    "<p>Estimation: use MLE. Verfiy unbiased and consistent. Unbiased is expeccted value of estimator approaches mean and\n",
    "    consistent means approaches mean as sample size increases. </p>\n",
    "    \n"
   ]
  },
  {
   "cell_type": "code",
   "execution_count": null,
   "id": "ea352b68",
   "metadata": {},
   "outputs": [],
   "source": [
    "https://web.stanford.edu/class/archive/cs/cs109/cs109.1192/reader/11%20Parameter%20Estimation.pdf\n",
    "    "
   ]
  }
 ],
 "metadata": {
  "kernelspec": {
   "display_name": "Python 3.9.7 ('cosmic')",
   "language": "python",
   "name": "python397jvsc74a57bd053d4678d88891fb05e04416eb1a742497c0b0baabdd52f6ad28cb1ed11944cce"
  },
  "language_info": {
   "codemirror_mode": {
    "name": "ipython",
    "version": 3
   },
   "file_extension": ".py",
   "mimetype": "text/x-python",
   "name": "python",
   "nbconvert_exporter": "python",
   "pygments_lexer": "ipython3",
   "version": "3.9.7"
  }
 },
 "nbformat": 4,
 "nbformat_minor": 5
}
