{
 "cells": [
  {
   "cell_type": "markdown",
   "id": "9e2bc6c2",
   "metadata": {},
   "source": [
    "<img src=\"lecture4_cdf.png\">"
   ]
  },
  {
   "cell_type": "markdown",
   "id": "d9234740",
   "metadata": {},
   "source": [
    "<img src=\"lecture4_pdf.png\">"
   ]
  },
  {
   "cell_type": "markdown",
   "id": "567cd231",
   "metadata": {},
   "source": [
    "<img src=\"lecture4_preimage.png\">\n"
   ]
  },
  {
   "cell_type": "markdown",
   "id": "69c2da87",
   "metadata": {},
   "source": [
    "<img src=\"lecture4_rv.png\">"
   ]
  },
  {
   "cell_type": "code",
   "execution_count": null,
   "id": "db8c35e5",
   "metadata": {},
   "outputs": [],
   "source": []
  }
 ],
 "metadata": {
  "kernelspec": {
   "display_name": "Python 3.9.7 ('cosmic')",
   "language": "python",
   "name": "python397jvsc74a57bd053d4678d88891fb05e04416eb1a742497c0b0baabdd52f6ad28cb1ed11944cce"
  },
  "language_info": {
   "codemirror_mode": {
    "name": "ipython",
    "version": 3
   },
   "file_extension": ".py",
   "mimetype": "text/x-python",
   "name": "python",
   "nbconvert_exporter": "python",
   "pygments_lexer": "ipython3",
   "version": "3.9.7"
  }
 },
 "nbformat": 4,
 "nbformat_minor": 5
}
