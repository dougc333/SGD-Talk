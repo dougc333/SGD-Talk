{
 "cells": [
  {
   "cell_type": "markdown",
   "id": "da439338",
   "metadata": {},
   "source": [
    "<h6>PDF, PMF, CDF and applications</h6>\n",
    "<br/>\n",
    "<h6>Random Variables, Outcomes, Events</h6>\n",
    "\n",
    "<p>\n",
    "A random variable is defined on a finite sample space. \n",
    "A sample space is denoted with a capital omega\n",
    "A random variable can have a sample space. An example of a coin sample space is {},{H,T}\n",
    "A die sample space is $\\Omega = \\{\\},\\{1,2\\},\\{1,2,3,4,5,6\\}$\n",
    "</p>\n",
    "<p>\n",
    "To make a mathematical model of the random variable we define the RV with a function. A function takes an \n",
    "input and produces an output. The input is the sample space. The output is a real number. We can arbitrarily assign\n",
    "the output of a die and coin to a real number. \n",
    "</p>\n",
    "<p>\n",
    "An outcome or outcomes are the collection of all possible combinations of the sample spaces. A trial or experiment\n",
    "has to be in the collection of outcomes. For a single coin flip the outcomes are {H},{T}, for 2 coin flips of 1 coin the \n",
    "outcomes are: {HH},{HT},{TH},{TT}. \n",
    "</p>\n",
    "<p>\n",
    "An example is a coin flip {H,T,H,H,H} or a die roll {2,3,4,5,6,1,1,1}\n",
    "</p>\n",
    "<p>\n",
    "For real RVs there are rules like, when do I see 1 ones in a pair of dice? Or when do I see 2H in a row? Those rules\n",
    "constrain the outcomes. An event is a set of outcomes that have a rule. An event with 1H is {HT,TH}; etc...\n",
    "</p>\n"
   ]
  },
  {
   "cell_type": "code",
   "execution_count": null,
   "id": "0ab1fb15",
   "metadata": {},
   "outputs": [],
   "source": [
    "<h6>Distributions</h6>\n",
    "A mathematical formula for the PDF and PMF are important for us to do estimation. Given data, fitting the \n",
    "data to a given distribution means we find parameters to shape the distribution. Often a distribution can be defined by \n",
    "the moments. This estimation process is the start of ML. \n",
    "<p>\n",
    "A probability distribution is a mathematical function which gives the probability of an outcome or sets of outcomes. \n",
    "The notation becomes confusing since a specific outcome or set of outcomes can also be called an event. \n",
    "The definition of probability distribution is different for continuous RVs and discrete RVs. \n",
    "</p>\n",
    "<h6>PMF</h6>\n",
    "A PMF is the probability a Discrete RV equals some value. Example: find the PMF(X) of a coin toss w/2 Heads where\n",
    "the random variable X is the number of observed heads, 0, 1 or 2. \n",
    "sample space $\\Omega=\\{HH,HT,TH,TT\\}$. \n",
    "<p>We have to enumerate all the possible states of X and describe the probability. P(X=0), P(X=1),P(X=2)\n",
    "We can do this by counting the possibiliies in from the sample space: \n",
    "$P(X=0)=1/4, P(X=1)=2/4, P(X=2)=1/4$</p>\n",
    "<h6>PDF</h6>\n",
    "A PDF is the probability function for a continuous variable. PDF equatest the probability for $X$ to have a value. \n",
    "\n",
    "<h6>CDF</h6>\n",
    "\n"
   ]
  },
  {
   "cell_type": "code",
   "execution_count": null,
   "id": "ea934b3a",
   "metadata": {},
   "outputs": [],
   "source": [
    "<h6>PMF example</h6>\n",
    "<h6>A PMF only exists for discrete RVs. It is important we write this in a form which we can maximize\n",
    "for estimation. </h6>\n",
    "<><>"
   ]
  },
  {
   "cell_type": "code",
   "execution_count": null,
   "id": "2c5d21e3",
   "metadata": {},
   "outputs": [],
   "source": [
    "<h6>PDF example</h6>\n",
    "<p>A PDF exists only for continuous variables</p>\n",
    "$ f(x) = k(3x^2 + 1)$\n",
    "<p>1. Find k which makes f(x) a PDf in [0,2]. The square brackets are inclusive, 0<=x<=2. \n",
    "$\\int_{0}^2 k(3x^2+1)=\\frac{3k}{3}(x^3+x)\\Bigr|_0^2=10k$ To be a PDF this should equal 1 so $k=\\frac{1}{10}$\n",
    "\n",
    "</p>\n",
    "<p>2.Calculate the probability P(X) X is between 1 and 2. \n",
    "<p>\n",
    "$P(X)=\\int_1^2(\\frac{1}{10}(3x^2+1))$</p>\n",
    "<p>$P(X) = \\frac{1}{10}(x^3+x)\\Bigr|_1^2= \\frac{1}{10}(10-2)=\\frac{8}{10}=\\frac{4}{5}$</p>\n",
    "</p>\n",
    "<p>3. Find the CDF for X between [0,2] </p>\n",
    "<p>The CDF is the integral of the PDF and uses the notation of capital F. Since we are looking for the CDF\n",
    "in the range $(-\\infty,\\infty)$ and we already have the PDF with correct constant, $F(X)=\\frac{1}{10}\\int_{-\\infty}^{\\infty}(3t^2+1)=$</p>\n",
    "<p>change the infinity to ranges we are give. Also, CDF min value starts at 0. There is no definition\n",
    "for negative probability or value less than 0.$F(X) = \\frac{1}{10}(x^3+x)\\Bigr|_0^2=\\frac{1}{10}(x^3+x) ;{0}\\le{x}\\le{2}$</p>\n",
    "<p>4. Find the probability X is exactly=1. \n",
    "</p>\n",
    "<p>\n",
    "Trick question from the definition of continuous CDF. \n",
    "This requires the CDF and solving for X=x. We find the x value. Notation is\n",
    "the specific value of a random variable X is x. </p>\n",
    "\n"
   ]
  },
  {
   "cell_type": "code",
   "execution_count": null,
   "id": "e66fb15a",
   "metadata": {},
   "outputs": [],
   "source": [
    "<h6>Sampling</h6>\n",
    "Sampling is the inverse of the CDF, $F^{-1}(X)$. If the inverse exists. Unknown if this is expressed\n",
    "as a matrix inversion or in functional form Maybe discrete is matrix, continuous is functional form. \n"
   ]
  },
  {
   "cell_type": "code",
   "execution_count": 10,
   "id": "cecdfb8e",
   "metadata": {},
   "outputs": [
    {
     "data": {
      "image/png": "[encoded data removed]",
      "text/plain": [
       "<Figure size 432x288 with 1 Axes>"
      ]
     },
     "metadata": {
      "needs_background": "light"
     },
     "output_type": "display_data"
    }
   ],
   "source": [
    "import matplotlib.pyplot as plt\n",
    "[0,1,2],[.25,.5,.25]\n",
    "plt.vlines(0,0,.25)\n",
    "plt.vlines(1,0,.50)\n",
    "plt.vlines(2,0,.25)\n",
    "plt.show()\n",
    "#we need the dirac deltq function for the discrete values not the continuous graph"
   ]
  },
  {
   "cell_type": "code",
   "execution_count": null,
   "id": "2e9e1806",
   "metadata": {},
   "outputs": [],
   "source": [
    "<h6>Categorical variables</h6>\n",
    "<p>A bernoulli distribuiton. A random variable X with K categories. </p>\n",
    "<p>The bernoulli distribution is a special case of the binomial/multinomial distribution with 1 trial!</p>\n",
    "<p>The probability of 1 trial X P(X)= some value.  </p>\n",
    "<p>$ P(X)=p^{X_i}(1-p)^{X_i}$</p>\n",
    "<p>MLE on the PDF/PMF. If the function is increasing we can take the log of the PDF/PMF and\n",
    "take the derivative, set to zero to find the max.</p>\n",
    "<p>MLE:$$</p>\n",
    "<p>Estimation: use MLE. Verfiy unbiased and consistent. Unbiased is expeccted value of estimator approaches mean and\n",
    "    consistent means approaches mean as sample size increases. $f(X_1|theta)=?$ I assume this is one product</p>\n",
    "\n"
   ]
  },
  {
   "cell_type": "code",
   "execution_count": null,
   "id": "9fcdf97b",
   "metadata": {},
   "outputs": [],
   "source": [
    "<h6>MLE</h6>\n",
    "<p>Select the parameters theta making observed data the most likely given a function of parameters,f(theta) we are optimizing\n",
    "the likelihood not the PDF by defining a likelihood function then taking the log of it and calcuating first dserivative\n",
    "and setting to 0;$f(\\theta)$ The data X is assumed to be iid, \n",
    "$X_1,X_2,...X_n$ What does this mean? There is a parameter in front of each X and no cross product terms? This would \n",
    "be independent. What does identically distributed mean? the Xs have the same probability distribution. What does this mean\n",
    "in math?</p>\n",
    "<p>Liklihood is not the same as probability or PDF/PMFs. For PMFs LI means joint probability of data, for PDF\n",
    "means joing probablity density. OK what is a joint probablity and joint prob density in math? </p>\n"
   ]
  },
  {
   "cell_type": "code",
   "execution_count": null,
   "id": "ad1267f6",
   "metadata": {},
   "outputs": [],
   "source": [
    "<h6>MAP</h6>\n",
    "This is the reverse case compared to MLE, choose the parameters,theta to make the data the most likely\n",
    "<p>$\\theta_{MAP}=argmax_{\\theta}f(\\theta|X_1,X_2,...X_n)$</p>\n",
    "<><>"
   ]
  },
  {
   "cell_type": "code",
   "execution_count": null,
   "id": "fd7ed158",
   "metadata": {},
   "outputs": [],
   "source": [
    "https://web.stanford.edu/class/archive/cs/cs109/cs109.1192/reader/11%20Parameter%20Estimation.pdf\n",
    "    "
   ]
  }
 ],
 "metadata": {
  "kernelspec": {
   "display_name": "Python 3.9.7 ('cosmic')",
   "language": "python",
   "name": "python397jvsc74a57bd053d4678d88891fb05e04416eb1a742497c0b0baabdd52f6ad28cb1ed11944cce"
  },
  "language_info": {
   "codemirror_mode": {
    "name": "ipython",
    "version": 3
   },
   "file_extension": ".py",
   "mimetype": "text/x-python",
   "name": "python",
   "nbconvert_exporter": "python",
   "pygments_lexer": "ipython3",
   "version": "3.9.7"
  }
 },
 "nbformat": 4,
 "nbformat_minor": 5
}
