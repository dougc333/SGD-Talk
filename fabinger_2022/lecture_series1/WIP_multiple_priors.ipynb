{
 "cells": [
  {
   "cell_type": "code",
   "execution_count": null,
   "id": "057ff736",
   "metadata": {},
   "outputs": [],
   "source": [
    "https://stats.stackexchange.com/questions/74898/how-do-i-combine-multiple-prior-components-and-a-likelihood"
   ]
  },
  {
   "cell_type": "code",
   "execution_count": 1,
   "id": "78ecc618",
   "metadata": {},
   "outputs": [
    {
     "ename": "NameError",
     "evalue": "name 'x' is not defined",
     "output_type": "error",
     "traceback": [
      "\u001b[0;31m---------------------------------------------------------------------------\u001b[0m",
      "\u001b[0;31mNameError\u001b[0m                                 Traceback (most recent call last)",
      "Input \u001b[0;32mIn [1]\u001b[0m, in \u001b[0;36m<cell line: 1>\u001b[0;34m()\u001b[0m\n\u001b[0;32m----> 1\u001b[0m \u001b[43mx\u001b[49m\u001b[38;5;241m<\u001b[39m\u001b[38;5;241m-\u001b[39mseq(\u001b[38;5;241m-\u001b[39m\u001b[38;5;241m10\u001b[39m,\u001b[38;5;241m10\u001b[39m,by\u001b[38;5;241m=\u001b[39m\u001b[38;5;241m.1\u001b[39m)\n",
      "\u001b[0;31mNameError\u001b[0m: name 'x' is not defined"
     ]
    }
   ],
   "source": [
    "x<-seq(-10,10,by=.1)"
   ]
  },
  {
   "cell_type": "code",
   "execution_count": null,
   "id": "7a48dcc6",
   "metadata": {},
   "outputs": [],
   "source": [
    "#make this a fabinger project \n"
   ]
  }
 ],
 "metadata": {
  "kernelspec": {
   "display_name": "Python 3.9.7 ('cosmic')",
   "language": "python",
   "name": "python397jvsc74a57bd053d4678d88891fb05e04416eb1a742497c0b0baabdd52f6ad28cb1ed11944cce"
  },
  "language_info": {
   "codemirror_mode": {
    "name": "ipython",
    "version": 3
   },
   "file_extension": ".py",
   "mimetype": "text/x-python",
   "name": "python",
   "nbconvert_exporter": "python",
   "pygments_lexer": "ipython3",
   "version": "3.9.10"
  }
 },
 "nbformat": 4,
 "nbformat_minor": 5
}
