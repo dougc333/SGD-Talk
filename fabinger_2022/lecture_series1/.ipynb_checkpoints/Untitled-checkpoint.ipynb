{
 "cells": [
  {
   "cell_type": "code",
   "execution_count": null,
   "id": "6e86f09b",
   "metadata": {},
   "outputs": [],
   "source": [
    "https://www.youtube.com/watch?v=Q5X934l9vY8\n",
    "    "
   ]
  },
  {
   "cell_type": "code",
   "execution_count": 4,
   "id": "ca090739",
   "metadata": {},
   "outputs": [
    {
     "name": "stdout",
     "output_type": "stream",
     "text": [
      "1.8.0+0ec1e87\n"
     ]
    }
   ],
   "source": [
    "import matplotlib.pyplot as plt\n",
    "import numpy as np\n",
    "import pandas as pd\n",
    "from tqdm import tqdm\n",
    "\n",
    "import torch\n",
    "import torch.nn.functional as F\n",
    "from torch.distributions import constraints\n",
    "\n",
    "import pyro\n",
    "from pyro.distributions import *\n",
    "from pyro.infer import Predictive, SVI, Trace_ELBO\n",
    "from pyro.optim import Adam\n",
    "\n",
    "#assert pyro.__version__.startswith('1.8.1')\n",
    "print(pyro.__version__)\n",
    "pyro.set_rng_seed(0)\n"
   ]
  },
  {
   "cell_type": "code",
   "execution_count": 5,
   "id": "23dac9da",
   "metadata": {},
   "outputs": [
    {
     "data": {
      "image/png": "[encoded data removed]",
      "text/plain": [
       "<Figure size 432x288 with 1 Axes>"
      ]
     },
     "metadata": {
      "needs_background": "light"
     },
     "output_type": "display_data"
    }
   ],
   "source": [
    "data = torch.cat((MultivariateNormal(-8 * torch.ones(2), torch.eye(2)).sample([50]),\n",
    "                  MultivariateNormal(8 * torch.ones(2), torch.eye(2)).sample([50]),\n",
    "                  MultivariateNormal(torch.tensor([1.5, 2]), torch.eye(2)).sample([50]),\n",
    "                  MultivariateNormal(torch.tensor([-0.5, 1]), torch.eye(2)).sample([50])))\n",
    "\n",
    "plt.scatter(data[:, 0], data[:, 1])\n",
    "plt.title(\"4 Gaussians\")\n",
    "plt.show()\n",
    "N = data.shape[0]\n",
    "print(N)"
   ]
  },
  {
   "cell_type": "code",
   "execution_count": null,
   "id": "991a7660",
   "metadata": {},
   "outputs": [],
   "source": [
    "<p>lecture notes</p>\n",
    "An expectation cant be negattive. We can split the negative into 2 parts then the E(X)=E(postiive) - E(negative flipped part)\n",
    "We use trick to flip. E may not exist as for cauchy if E(X+)=infinity or E(X-) is infinity.Cauchy extends very far looks like infinity\n",
    "you can choose peak to be 0 and the E doesnt exist if peak at 0 because tail never ends. \n",
    "\n",
    "A measure is something that tells you size of a set, how big something is. interval, length of interval, length of 2 \n",
    "intervals is lebegue measure. counting measure, how many points from a set. Measures allow us to deal with discrete and continuous\n",
    "at same time. s"
   ]
  }
 ],
 "metadata": {
  "kernelspec": {
   "display_name": "Python 3.9.7 ('cosmic')",
   "language": "python",
   "name": "python397jvsc74a57bd053d4678d88891fb05e04416eb1a742497c0b0baabdd52f6ad28cb1ed11944cce"
  },
  "language_info": {
   "codemirror_mode": {
    "name": "ipython",
    "version": 3
   },
   "file_extension": ".py",
   "mimetype": "text/x-python",
   "name": "python",
   "nbconvert_exporter": "python",
   "pygments_lexer": "ipython3",
   "version": "3.9.7"
  }
 },
 "nbformat": 4,
 "nbformat_minor": 5
}
