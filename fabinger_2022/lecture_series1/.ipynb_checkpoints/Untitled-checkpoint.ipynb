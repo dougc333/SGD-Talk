{
 "cells": [
  {
   "cell_type": "code",
   "execution_count": null,
   "id": "6e86f09b",
   "metadata": {},
   "outputs": [],
   "source": [
    "https://www.youtube.com/watch?v=Q5X934l9vY8\n",
    "    "
   ]
  },
  {
   "cell_type": "code",
   "execution_count": null,
   "id": "dcd6852f",
   "metadata": {},
   "outputs": [],
   "source": [
    "An expectation cant be negattive. We can split the negative into 2 parts then the E(X)=E(postiive) - E(negative flipped part)\n",
    "We use trick to flip. E may not exist as for cauchy if E(X+)=infinity or E(X-) is infinity.Cauchy extends very far looks like infinity\n",
    "you can choose peak to be 0 and the E doesnt exist if peak at 0 because tail never ends. \n",
    "\n",
    "A measure is something that tells you size of a set, how big something is. interval, length of interval, length of 2 \n",
    "intervals is lebegue measure. counting measure, how many points from a set"
   ]
  }
 ],
 "metadata": {
  "kernelspec": {
   "display_name": "Python 3.9.7 ('cosmic')",
   "language": "python",
   "name": "python397jvsc74a57bd053d4678d88891fb05e04416eb1a742497c0b0baabdd52f6ad28cb1ed11944cce"
  },
  "language_info": {
   "codemirror_mode": {
    "name": "ipython",
    "version": 3
   },
   "file_extension": ".py",
   "mimetype": "text/x-python",
   "name": "python",
   "nbconvert_exporter": "python",
   "pygments_lexer": "ipython3",
   "version": "3.9.7"
  }
 },
 "nbformat": 4,
 "nbformat_minor": 5
}
