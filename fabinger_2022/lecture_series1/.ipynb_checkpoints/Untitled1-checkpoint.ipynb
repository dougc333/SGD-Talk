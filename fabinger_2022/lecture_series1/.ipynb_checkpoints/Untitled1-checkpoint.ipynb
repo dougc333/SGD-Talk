{
 "cells": [
  {
   "cell_type": "code",
   "execution_count": 1,
   "id": "50275cee",
   "metadata": {},
   "outputs": [],
   "source": [
    "import torch\n",
    "\n",
    "def get_mu_std_grad(mu, std, data):\n",
    "    \"\"\" Compute the measure-valued gradients wrt mu and std.\"\"\"\n",
    "    with torch.no_grad():\n",
    "        z1 = mu + torch.randn_like(std).to(device) * std\n",
    "        z2 = mu + torch.randn_like(std).to(device) * std\n",
    "        mu_grad = torch.zeros_like(mu).to(device)\n",
    "        std_grad = torch.zeros_like(std).to(device)\n",
    "\n",
    "        for i in range(args.z_dim):\n",
    "            mu_i = mu[:, i]\n",
    "            std_i = std[:, i]\n",
    "\n",
    "            # compute mu_grad\n",
    "            w1 = sample_weibull(std_i.shape).to(device)\n",
    "            w2 = sample_weibull(std_i.shape).to(device)\n",
    "\n",
    "            z1_copy, z2_copy = z1.clone(), z2.clone()\n",
    "            z1_copy[:, i] = mu_i + std_i * w1\n",
    "            z2_copy[:, i] = mu_i - std_i * w2\n",
    "\n",
    "            f1 = f_integrand(z1_copy, data)\n",
    "            f2 = f_integrand(z2_copy, data)\n",
    "\n",
    "            mu_grad[:, i] = (f1 - f2) / math.sqrt(2.0 * math.pi) / std_i\n",
    "\n",
    "            # compute std_grad\n",
    "            dsm_sample = sample_doublesided_maxwell(std_i.shape).to(device)\n",
    "            unif_sample = torch.rand_like(std_i).to(device)\n",
    "            normal_sample = dsm_sample * unif_sample\n",
    "\n",
    "            z1_copy, z2_copy = z1.clone(), z2.clone()\n",
    "            z1_copy[:, i] = mu_i + std_i * dsm_sample\n",
    "            z2_copy[:, i] = mu_i + std_i * normal_sample\n",
    "\n",
    "            f1 = f_integrand(z1_copy, data)\n",
    "            f2 = f_integrand(z2_copy, data)\n",
    "\n",
    "            std_grad[:, i] = (f1 - f2) / std_i\n",
    "\n",
    "    return mu_grad, std_grad\n"
   ]
  },
  {
   "cell_type": "code",
   "execution_count": null,
   "id": "d8b800fe",
   "metadata": {},
   "outputs": [],
   "source": []
  }
 ],
 "metadata": {
  "kernelspec": {
   "display_name": "Python 3.9.7 ('cosmic')",
   "language": "python",
   "name": "python397jvsc74a57bd053d4678d88891fb05e04416eb1a742497c0b0baabdd52f6ad28cb1ed11944cce"
  },
  "language_info": {
   "codemirror_mode": {
    "name": "ipython",
    "version": 3
   },
   "file_extension": ".py",
   "mimetype": "text/x-python",
   "name": "python",
   "nbconvert_exporter": "python",
   "pygments_lexer": "ipython3",
   "version": "3.9.7"
  }
 },
 "nbformat": 4,
 "nbformat_minor": 5
}
