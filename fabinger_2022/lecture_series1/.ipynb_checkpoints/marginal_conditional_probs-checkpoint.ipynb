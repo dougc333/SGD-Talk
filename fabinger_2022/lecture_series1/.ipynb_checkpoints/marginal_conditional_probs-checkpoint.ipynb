{
 "cells": [
  {
   "cell_type": "code",
   "execution_count": null,
   "id": "e752417b",
   "metadata": {},
   "outputs": [],
   "source": [
    "https://www.google.com/search?q=how+to+graph+a+joint+distribution&rlz=1C5CHFA_enUS997US997&oq=how+to+graph+a+joint+distribution&aqs=chrome..69i57j33i22i29i30l8.8392j0j7&sourceid=chrome&ie=UTF-8#kpvalbx=_gbxNYsi1KsGekPIP0I6YyAs15\n",
    "    "
   ]
  },
  {
   "cell_type": "markdown",
   "id": "d3bff00a",
   "metadata": {},
   "source": [
    "<p> Source:https://stats.stackexchange.com/questions/219610/how-to-draw-a-conditional-distribution-graph-for-b-given-a</p>\n",
    "<p>This can be a joint probability distribution over 2 discrete random variables, $\\theta_1 ,\\theta_2$</p>\n",
    "<img src=\"slack_joint.png\">\n",
    "<p>To convert this into a PMF, the total P has to sum to 1 in both columns. Create an equation for each of 2 RVs</p>\n",
    "$$\n",
    "RV_C1: 85C+70C+25C=180C C=1/180.\n",
    "$$\n",
    "$$\n",
    "RV_C2: 100C+80C=180C, C=1/180\n",
    "$$\n",
    "<p>Both of these check the normalization constant is 1/180. Make sure both categories have the same number of total samples</p>\n",
    "<h6>Marginal Distribution</h6>\n",
    "A marginal distribution or probability only makes sense in context of a joint probability or joint probability. There\n",
    "has to be one or more other random variables involved. \n",
    "<p>this normalizes the values to sum to 1 for each RV </p>\n",
    "<p>The marginal distribution of C1 can be expressed in percent or fractions, as long as you convey the sum to 1 \n",
    "principle of probability P(C1,C2=(A|B|C]))=[85/180,70/180,25/180], P(C2,C1=(speak|no speak))=[100/180,80/180] where capital letters represent RVs.</p>\n",
    "Marginal Probabilities can be more specific, for each row and column, P(C1,C2=A)=P(C1|C2=A)=85/180, P(C2,C1=speak)=P(C2|C1=speak)=100/180. When we \n",
    "specify a marginal probability after a specific event has happened with a joint RV then this is also called a conditional probability. \n",
    "\n",
    "\n",
    "<h6>Random Variable</h6>\n",
    "<p>Now that RV C1 and C2 are defined, we can execute RV operations, what is E[C1] and E[C2] and what are the variances? Both \n",
    "Expectation and variance are follow from the definition of PDF/PMF and do not assume a normal distribution. The definition \n",
    "of an expected value for a RV is defined as the summation or integral of the PMF/PDF. </p>\n",
    "$$\n",
    "E[C1] = X*P(C1) = \\frac{85*0}{180}+\\frac{70*1}{180}+\\frac{25*2}{180}\n",
    "$$\n",
    "$$\n",
    "E[C2] = X*P(C2) = \\frac{100*0}{180}+\\frac{80*1}{180}\n",
    "$$\n",
    "<p>This is kind of funny because we encoded categorical features into integers and the mean of a categorical value\n",
    "converted to integers is a nonexisting value or non existing category. </p>\n",
    "<p> </p>\n",
    "\n",
    "\n"
   ]
  },
  {
   "cell_type": "code",
   "execution_count": 31,
   "id": "ecff4af1",
   "metadata": {},
   "outputs": [
    {
     "name": "stdout",
     "output_type": "stream",
     "text": [
      "{'A': ['1', '4', '7'], 'B': ['2', '5', '8'], 'C': ['3', '6', '9']}\n"
     ]
    }
   ],
   "source": [
    "class Marginal:\n",
    "    def __init__(self,datafile:str)-> None:\n",
    "        self.header_delimiter=\",\"\n",
    "        self.dict = None\n",
    "        self.read_data(datafile)    \n",
    "    def read_data(self,datafile):\n",
    "        fh = open(datafile)\n",
    "        header = fh.readline()\n",
    "        header_cols = [x.strip() for x in header.split(self.header_delimiter)]\n",
    "        self.dict = dict([(x,[]) for x in header_cols])\n",
    "        for line in fh:\n",
    "            cols = line.split(self.header_delimiter)\n",
    "            if len(cols) != len(header_cols):\n",
    "                break\n",
    "            for idx,x in enumerate(cols):\n",
    "                self.dict[header_cols[idx]].append(x.strip())\n",
    "        fh.close()\n",
    "        \n",
    "#would be easier to read it into pd dataframe and get columns \n",
    "m = Marginal(\"test.txt\")\n",
    "print(m.dict)"
   ]
  },
  {
   "cell_type": "code",
   "execution_count": 7,
   "id": "2fd8196e",
   "metadata": {},
   "outputs": [
    {
     "name": "stdout",
     "output_type": "stream",
     "text": [
      "df:    A  B  C\n",
      "0  1  2  3\n",
      "1  4  5  6\n",
      "2  7  8  9\n",
      "joint:           A         B         C\n",
      "0  0.022222  0.044444  0.066667\n",
      "1  0.088889  0.111111  0.133333\n",
      "2  0.155556  0.177778  0.200000\n"
     ]
    }
   ],
   "source": [
    "import pandas as pd\n",
    "import pytest\n",
    "\n",
    "class Marginal_v2:\n",
    "    def __init__(self,datafile:str)->None:\n",
    "        self.df = pd.read_csv(datafile)\n",
    "        print(\"df:\",self.df)\n",
    "        self.verify()\n",
    "        self.calc_joint()\n",
    "    def verify(self):\n",
    "        self.total_col = sum(self.df.sum(axis=0))\n",
    "        self.total_row = sum(self.df.sum(axis=1))\n",
    "        assert self.total_col == self.total_row\n",
    "    def calc_joint(self):\n",
    "        self.joint_prob = self.df.div(self.total_col)\n",
    "        print(\"joint:\",self.joint_prob)\n",
    "        joint_col = sum(self.joint_prob.sum(axis=0))\n",
    "        joint_row = sum(self.joint_prob.sum(axis=1))\n",
    "        return joint_col,joint_row\n",
    "        #assert joint_col == joint_row\n",
    "        #print(joint_col)\n",
    "    def calc_cond(self):\n",
    "        pass\n",
    "m = Marginal_v2(\"test.txt\")\n",
    "\n",
    "@pytest.fixture\n",
    "def setup():\n",
    "    m = Marginal_v2(\"test.txt\")\n",
    "    return m\n",
    "\n",
    "def test_joint_probability(setup):\n",
    "    jc,jr = m.calc_joint()\n",
    "    assert jc==jr\n",
    "\n"
   ]
  },
  {
   "cell_type": "code",
   "execution_count": 6,
   "id": "eb15482f",
   "metadata": {},
   "outputs": [
    {
     "name": "stdout",
     "output_type": "stream",
     "text": [
      "['A,B,C\\n', '1,2,3\\n', '4,5,6\\n', '7,8,9\\n', '\\n']\n"
     ]
    }
   ],
   "source": [
    "\n",
    "#is this useful? This gets us back to the first case\n",
    "class Streaming:\n",
    "    def __init__(self,datafile):\n",
    "        self.fh = open(datafile)\n",
    "        \n",
    "    def process(self)->str:\n",
    "        get_columns = self.fh.readline()\n",
    "        while 1:\n",
    "            line = self.fh.readline()\n",
    "            if not line:\n",
    "                break\n",
    "            yield line\n",
    "        self.fh.close()\n",
    "\n",
    "        \n",
    "        \n",
    "s = Streaming(\"test.txt\")\n",
    "print(list(s.process()))"
   ]
  },
  {
   "cell_type": "code",
   "execution_count": null,
   "id": "185d418e",
   "metadata": {},
   "outputs": [],
   "source": [
    "#pandas chunked,pytables uses HDFS storage, apache arrow? \n",
    "#pd.read_csv('file.csv', iterator=True, chunksize=2) returns 2 rows, this doesnt do anything more than readline()\n",
    "#\n",
    "#\n",
    "#\n"
   ]
  },
  {
   "cell_type": "code",
   "execution_count": null,
   "id": "420d2470",
   "metadata": {},
   "outputs": [],
   "source": [
    "#turn file read into stream\n",
    "#good for simulation of large files into streams\n",
    "#\n",
    "import pandas as pd\n",
    "import schedule\n",
    "\n",
    "df = pd.read_csv('file.csv', iterator=True, chunksize=2)\n",
    "\n",
    "def get_next_row():\n",
    "    row = next(df)\n",
    "    print(row)\n",
    "    # do_some_thing_with_row(row)\n",
    "\n",
    "schedule.every(5).seconds.do(get_next_row)\n",
    "\n",
    "while True:\n",
    "    try:\n",
    "        schedule.run_pending()\n",
    "    except StopIteration as e:\n",
    "        print(\"EOF\")\n",
    "        break\n",
    "        "
   ]
  },
  {
   "cell_type": "code",
   "execution_count": null,
   "id": "3f9f54ac",
   "metadata": {},
   "outputs": [],
   "source": [
    "<p>Testing categorical variables for independence</p>\n",
    "<p>\n",
    "<p>\n",
    "Identically distributted $p(x,y)=p(x)p(y)$ Independence is when each RV does not affect each other. \n",
    "</p>\n",
    "$P(A \\cap B) = \\frac{}{}$\n",
    "$$\n",
    "</p>\n"
   ]
  },
  {
   "cell_type": "code",
   "execution_count": null,
   "id": "a8e8038a",
   "metadata": {},
   "outputs": [],
   "source": []
  }
 ],
 "metadata": {
  "kernelspec": {
   "display_name": "Python 3.9.7 ('cosmic')",
   "language": "python",
   "name": "python397jvsc74a57bd053d4678d88891fb05e04416eb1a742497c0b0baabdd52f6ad28cb1ed11944cce"
  },
  "language_info": {
   "codemirror_mode": {
    "name": "ipython",
    "version": 3
   },
   "file_extension": ".py",
   "mimetype": "text/x-python",
   "name": "python",
   "nbconvert_exporter": "python",
   "pygments_lexer": "ipython3",
   "version": "3.9.7"
  }
 },
 "nbformat": 4,
 "nbformat_minor": 5
}
