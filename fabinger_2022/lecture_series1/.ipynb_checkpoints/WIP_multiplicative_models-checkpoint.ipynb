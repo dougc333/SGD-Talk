{
 "cells": [
  {
   "cell_type": "markdown",
   "id": "8158e728",
   "metadata": {},
   "source": [
    "<p>Multiplicative models are very useful for predicting time variations like change in X due to seasonality. We have\n",
    "only worked with additive models so far. There are multiple concepts here. A multipicave model:\n",
    "$$\n",
    "y = e^{\\beta_0}x_1{\\beta_1}x_2...x_m^{\\beta_m}e^{\\epsilon}\n",
    "$$\n",
    "</p>\n",
    "<p>\n",
    "Take the log of both sides:\n",
    "$$\n",
    "log(y) = \\beta_0 + \\beta_1 log(x_1)+ \\beta_2 log(x_2)+...\\beta_m log(x_m)\n",
    "$$\n",
    "</p>\n",
    "<p>This looks very close to OLS.. </p>\n",
    "<p>https://www.sciencedirect.com/topics/mathematics/multiplicative-model</p>\n",
    "\n"
   ]
  },
  {
   "cell_type": "code",
   "execution_count": null,
   "id": "05622a24",
   "metadata": {},
   "outputs": [],
   "source": []
  }
 ],
 "metadata": {
  "kernelspec": {
   "display_name": "Python 3.9.7 ('cosmic')",
   "language": "python",
   "name": "python397jvsc74a57bd053d4678d88891fb05e04416eb1a742497c0b0baabdd52f6ad28cb1ed11944cce"
  },
  "language_info": {
   "codemirror_mode": {
    "name": "ipython",
    "version": 3
   },
   "file_extension": ".py",
   "mimetype": "text/x-python",
   "name": "python",
   "nbconvert_exporter": "python",
   "pygments_lexer": "ipython3",
   "version": "3.9.10"
  }
 },
 "nbformat": 4,
 "nbformat_minor": 5
}
