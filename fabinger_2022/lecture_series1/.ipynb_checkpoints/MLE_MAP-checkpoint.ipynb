{
 "cells": [
  {
   "cell_type": "code",
   "execution_count": null,
   "id": "fdbbd175",
   "metadata": {},
   "outputs": [],
   "source": [
    "bayes factor is always better than pvalue\n",
    "contrast hypothesis testing\n",
    "taken from cs109 handout\n",
    "\n",
    "cs109 handout from this book\n",
    "https://chrispiech.github.io/probabilityForComputerScientists/en/examples/mixture_models/\n",
    "    "
   ]
  },
  {
   "cell_type": "markdown",
   "id": "5b5f1e2b",
   "metadata": {},
   "source": [
    "<h6>Given a set of data, how to fit this? MLE and MAP estimation to fit data</h6>"
   ]
  },
  {
   "cell_type": "markdown",
   "id": "a8cc20be",
   "metadata": {},
   "source": [
    "<h6>Parameters distributions</h6> \n",
    "<table style=\"width:100%\">\n",
    "\n",
    "<tr>Bernoulli&nbsp $theta=p$</tr>\n",
    "<tr>Poisson&nbsp $theta = lambda$</tr>\n",
    "<tr>Normal&nbsp $theta= (mu,sigma^2) $</tr>\n",
    "<tr>Uniform&nbsp $theta=(a,b)$</tr>\n",
    "<tr>Linear Regression $Y=mX+b$&nbsp $theta=(m,b)$</tr>\n",
    "</table>"
   ]
  },
  {
   "cell_type": "markdown",
   "id": "06824146",
   "metadata": {},
   "source": [
    "<h6>MLE Normal</h6>\n",
    "$$\n",
    "L(\\theta) = \\prod_{i=1}^{n} \\frac{1}{\\sqrt{2\\pi\\theta_1}} e^{-\\frac{(X_i-\\theta_0)^2}{2\\theta_1}}\n",
    "$$\n",
    "<p>\n",
    "Converting from argmax $L(\\theta)$ to $-argmin(log(L(\\theta)))$\n",
    "</p>\n",
    "\n",
    "<p>\n",
    "$$\n",
    "-log(L(\\theta)) = -(\\sum_{i=1}^{n}log(2\\pi\\theta_1)^{-\\frac{1}{2}}) - \\sum_{i=1}^{n}log(e^{\\frac{-(X_i-\\theta_{0})^{2}}{2\\theta_1}})\n",
    "$$\n",
    "\n",
    "$$\n",
    "=\\frac{1}{2}\\sum_{1}^{n}(2\\pi\\theta_1) + \\sum_{1}^{n}(\\frac{(X_i-\\theta_0)^2}{2\\theta_1})\n",
    "$$\n",
    "\n",
    "$$\n",
    "\\frac{\\partial(LL(\\theta))}{\\partial \\theta_0} = \\partial(\\sum_{1}^{n}(\\frac{(X_i-\\theta_0)^2}{2\\theta_1}))d\\theta_0\n",
    "$$\n",
    "\n",
    "$$\n",
    "0=\\sum_{1}^{n}-2\\frac{(X_i-\\theta_0)}{2\\theta_1}\n",
    "$$\n",
    "\n",
    "$$\n",
    "\\sum_1^n \\theta_0 = \\sum_1^n(X_i)\n",
    "$$\n",
    "\n",
    "$$\n",
    "\\theta_0 = \\frac{1}{n}\\sum_1^{n}(X_i) = \\bar \\mu\n",
    "$$\n",
    "\n",
    "$$\n",
    "\\frac{\\partial(LL(\\theta))}{\\partial \\theta_1} = \\frac { \\partial \\frac{1}{2}(\\sum_{1}^{n}(2\\pi\\theta_1))}{\\partial \\theta_1}  + \\frac{\\partial \\sum_{1}^{n}(\\frac{(X_i-\\theta_0)^2}{2\\theta_1})}{\\partial \\theta_1}\n",
    "$$\n",
    "$$\n",
    " 0 = n\\pi - \\sum(X_i-\\theta_0)^2\\theta_1^{-2}\n",
    "$$\n",
    "$$\n",
    " n\\pi \\theta_1^{2} = \\sum(X_i-\\theta_0)^2\n",
    "$$\n",
    "$$\n",
    " \\theta_1^{2} =\\frac{1}{n\\pi} \\sum(X_i-\\theta_0)^2\n",
    "$$\n",
    "\n",
    "</p>\n",
    "\n",
    " \n",
    "\n"
   ]
  },
  {
   "cell_type": "markdown",
   "id": "8e46db73",
   "metadata": {},
   "source": [
    "<h6>MAP Normal</h6>\n",
    "<p>\n",
    "$$\n",
    "MAP(\\mathcal{N(\\mu, \\sigma)}) = argmax f(\\theta | X_1,X_2,...X_n) = argmax\\frac{f(X_1,X_2,...X_n|\\theta)g(\\theta)}{h(X_1,X_2,...X_n)}\n",
    "$$\n",
    "$$\n",
    " = argmax \\frac{\\sum_{i=1}^{n}f(X_i|\\theta) g(\\theta)}{h(X_1,X_2,...X_n)}\n",
    "$$\n",
    "<p>\n",
    "h(X) is constant and can be disregarded when we take the derivative and set to zero to solve for theta\n",
    "</p>\n",
    "$$\n",
    "= argmax (g(\\theta))\\prod f(X_i|\\theta)\n",
    "$$\n",
    "where g(theta) is the prior and $f(X_i|\\theta)$ is the likelihood\n",
    "</p>\n",
    "<p>likelihood normal distribution</p>\n",
    "$$\n",
    "f(X_i|\\theta) = \\prod_{i=1}^{n} \\frac{1}{\\sqrt{2\\pi\\theta_1}} e^{-\\frac{(X_i-\\theta_0)^2}{2\\theta_1}}\n",
    "$$\n",
    "\n",
    "<p>Prior is a normal distribution\n",
    "$$\n",
    "prior(\\theta) = \\prod_{i=1}^{n} \\frac{1}{\\sqrt{2\\pi\\theta_1}} e^{-\\frac{(X_{i}-\\theta_0)^2}{2\\theta_1}}\n",
    "$$\n",
    "The trick is to break up the prior into a normal prior for the mean mu and another normal prior for the variance sigma\n",
    "$$\n",
    "\\mu | D,\\sigma^2 \\sim \\mathcal{N} \\left( \\frac{1}{\\frac{1}{\\sigma_0^2}+\\frac{1}{\\sigma_1^2}} \\left( \\frac{\\mu_0}{\\sigma_0^2} + \\frac{\\sum_1^n x_i}{\\sigma^2} \\right),\\left(\\frac{1}{\\sigma_0^2} + \\frac{1}{\\sigma^2} \\right) \\right)\n",
    "$$\n",
    "the variance follows an inverse chi squared distrubution\n",
    "$$\n",
    "\\sigma^2 | D,\\mu \\sim Inv-\\chi^2 \\left(  v+n, \\frac{v\\sigma_0^2 + \\sum_1^n(x_i - \\mu)^2}{v+n}   \\right) \n",
    "$$\n",
    "</p>\n",
    "<p>we cnat solve these analytically, use numerical technique, gibbs sampling. Example R is interested in length of dolphhins\n",
    "and picks a prior of $N(350,60^2)$</p>\n",
    "<p>how to pick v for $\\sigma^2?$. If you pick 1, has no mean or variance, pick 2 has mean but no variance, pick 3 or 4.  </p>\n",
    "<p>\n",
    "$$\n",
    "\\sigma^2 \\sim  Inv - \\chi^2(60^2,4)\n",
    "$$\n",
    "</p>\n",
    "<p>\n",
    "She goes out and gets data={310,332 ,341,311,315,352,323}\n",
    "$$\n",
    "\\sum x_i = 2284, n=7\n",
    "$$\n",
    "\n",
    "</p>"
   ]
  },
  {
   "cell_type": "code",
   "execution_count": null,
   "id": "bdf83376",
   "metadata": {},
   "outputs": [],
   "source": [
    "https://www.youtube.com/watch?v=TrO4ANmlzDg\n",
    "    https://www.youtube.com/watch?v=b9OQSsui9qE"
   ]
  },
  {
   "cell_type": "code",
   "execution_count": null,
   "id": "de18591a",
   "metadata": {},
   "outputs": [],
   "source": [
    "http://www.stat.ucla.edu/~zhou/courses/Stats102C/Stats102C-Syllabus-16S.pdf\n",
    "    stat102c \n",
    "    https://www.youtube.com/watch?v=Wzvy0n0LwOo\n",
    "        \n",
    "review"
   ]
  },
  {
   "cell_type": "code",
   "execution_count": null,
   "id": "0109d93e",
   "metadata": {},
   "outputs": [],
   "source": [
    "import numpy.random.normal as rnorm\n",
    "\n",
    "x1=[310,332 ,341,311,315,352,323]\n",
    "mu_0 = 360\n",
    "sigma2_0 = 60**2\n",
    "v1=4\n",
    "n1=7\n",
    "sum1=sum(x1)\n",
    "mu_var1 = 1/sigma2_0 + n1/sigma2\n"
   ]
  },
  {
   "cell_type": "code",
   "execution_count": null,
   "id": "5352e825",
   "metadata": {},
   "outputs": [],
   "source": [
    "https://math.mit.edu/~dav/05.dir/class15-prep.pdf\n",
    "how to update postrior/prior based on new data points. \n",
    "how do we know if datapoint doesnt fit? outlier and we have teh wrong distribution? We sample from the posterior\n",
    "and see if it fits. \n",
    "#the best logistic bayesian so far\n",
    "https://towardsdatascience.com/building-a-bayesian-logistic-regression-with-python-and-pymc3-4dd463bbb16"
   ]
  },
  {
   "cell_type": "markdown",
   "id": "a820b2a7",
   "metadata": {},
   "source": [
    "hamiltonian MCMC vs Metropolis hastings\n",
    "https://www.youtube.com/watch?v=ZGtezhDaSpM\n",
    "    \n",
    "https://www.youtube.com/watch?v=RVWfbOHCalM&list=PLeB45KifGiuHesi4PALNZSYZFhViVGQJK&index=40a\n",
    "   "
   ]
  },
  {
   "cell_type": "markdown",
   "id": "9f3c2053",
   "metadata": {},
   "source": [
    "<h6>MLE Poisson</h6>\n",
    "The PMF for a discrete RV with Poisson distribution leads to the following likelihood function: \n",
    "$$\n",
    "L(\\theta) = \\prod_{i=1}^{n}\\frac{e^{-\\lambda}}{X_{i}!}\\lambda^{X_i}\n",
    "$$\n",
    "As an aside the difference between likelihood and PMF for a discrete RV and PDF for a continuous RV lies in the\n",
    "notation. The above notation is incorrect but it confuses people if we use the correct notation. A likelihood is based observed data. We denote observstions as O as outcomes and theta as the set of parameters which specify the shape of the probabilty density or mass. $P(O|\\theta)$ is the probability we observe otucomes O. When presented with data we don't know theta, we see O and if we are given theta we can calcualte the probability $P(O|\\theta)$ by maximixing the $P(O|\\theta)$ as function. Converting the Probability density or mass to a likelihood function gives: \n",
    "$$\n",
    "L(\\theta|O) = P(O | theta)\n",
    "$$\n",
    "The likelihood fn is conditioned on the observed data while the probability density or mass is conditoined on the parameters\n",
    "of the distribution, theta. For the purposes of the derivative we leave out the O. \n",
    "<p>\n",
    "Given the Likelihood, the MLE estimator is called theta-hat, where the hat notation is for an estimator. \n",
    "</p>\n",
    "$$\n",
    "\\hat \\theta = argmax L(\\theta)\n",
    "$$ \n",
    "<p>\n",
    "We can transform a constant\n",
    "or increasing PDF by taking the log and adding a negative sign to find a minimum instead of a maximum resulting\n",
    "in a negative log likelihood estimator \n",
    "</p>\n",
    "$$\n",
    "NLL(\\theta)=-LogLikelihood(\\theta) = -argmin log(L(\\theta))\n",
    "$$\n",
    "This is confusing. The convention is to use $\\theta$ but the equation is in $\\lambda$. We convert theta to lambda. \n",
    "\n",
    "$$\n",
    "-\\frac{\\partial LogLikelihood(\\theta)}{\\partial \\theta} =  \\partial \\frac{-log \\sum_{i=1}^{n}\\frac{e^{-\\lambda}}{X_{i}!}\\lambda^{X_i}}{\\partial \\lambda}\n",
    "$$\n",
    "$$\n",
    "=- \\frac{ \\partial (log \\sum_{i=1}^{n}\\frac{e^{-\\lambda}}{X_{i}!}\\lambda^{X_i})}{\\partial \\lambda}\n",
    "$$\n",
    "<p>\n",
    "\n",
    "$$\n",
    "=\\frac{\\partial \\sum_{i=1}^{n}(log(e^{-\\lambda}\\lambda^{X_i})-log(X_i!))}{\\partial \\lambda}\n",
    "$$\n",
    "\n",
    "$$\n",
    "= \\frac{\\partial \\sum(log e^{-\\lambda}+log\\lambda^{X_i}-log(X_i!))}{\\partial \\lambda} \n",
    "$$\n",
    "\n",
    "$$\n",
    "= \\frac{\\partial (-n\\lambda + \\sum(X_ilog\\lambda -log(X_i!)))}{\\partial \\lambda}\n",
    "$$\n",
    "\n",
    "$$\n",
    "\\frac{\\partial (-n\\lambda)}{\\lambda} = n\n",
    "$$\n",
    "\n",
    "$$\n",
    "\\frac{\\partial log\\lambda \\sum{X_i}}{\\partial \\lambda} = \\frac{\\sum{X_i}}{\\lambda}\n",
    "$$\n",
    "\n",
    "$$\n",
    "\\frac{\\partial \\sum(log (-X_i!)}{\\partial \\lambda} = 0\n",
    "$$\n",
    "\n",
    "$$\n",
    "0=-n + \\frac{\\sum^{n}(X_i)}{\\lambda}\n",
    "$$\n",
    "$$\n",
    "n\\lambda = \\sum^{n}(X_i)\n",
    "$$\n",
    "$$\n",
    "\\lambda = \\frac{1}{n}\\sum X_i   = \\bar \\mu                \n",
    "$$\n",
    "                    \n",
    "</p>"
   ]
  },
  {
   "cell_type": "code",
   "execution_count": null,
   "id": "7a7f7b76",
   "metadata": {},
   "outputs": [],
   "source": [
    "https://vioshyvo.github.io/Bayesian_inference/conjugate-distributions.html\n",
    "    UW course notes state 544\n",
    "https://sites.stat.washington.edu/mmp/courses/stat544/Handouts/l6-inference.pdf"
   ]
  },
  {
   "cell_type": "markdown",
   "id": "2d0a3454",
   "metadata": {},
   "source": [
    "<h6>MAP Poisson </h6>\n",
    "\n",
    "<p>\n",
    "\n",
    "the argmax map estimator for the poisson is derived from bayes rule, the likelihood function for our set of n \n",
    "data points multiplied by the prior divided by the posterior. The posterior is a constant so we can ignore this \n",
    "when we take our derivative and solve for arg max. \n",
    "$$\n",
    "\\lambda^{MAP} = argmax_{\\lambda} P(\\lambda | D) = argmax_{\\lambda} P(D|\\lambda)P(\\lambda|y)\n",
    "$$\n",
    "</p>\n",
    "\n",
    "<p>\n",
    "The prior for the Poisson distribution the conjugate prior of the Poisson likelihood function we used in the MLE\n",
    "derivation \n",
    "$$\n",
    "MAP_{\\theta} = argmax_{\\theta}  \\left( \\prod_{i=1}^{n}\\frac{e^{-\\lambda} \\lambda^{X_i}} {X_{i}!} {\\lambda^{\\alpha-1}}{e^{-\\beta\\lambda}} \\right)\n",
    "$$</p>"
   ]
  },
  {
   "cell_type": "code",
   "execution_count": null,
   "id": "693f6953",
   "metadata": {},
   "outputs": [],
   "source": [
    "<p>Zero inflated poisson</p>\n",
    "<p>https://www.youtube.com/watch?v=othUlpJG8Tg</p>\n",
    "$$\n",
    "p(y) = (1-\\alpha)\\frac{\\lambda^{y}e^{-\\lambda}}{y!}\n",
    "$$"
   ]
  },
  {
   "cell_type": "markdown",
   "id": "fa76bf39",
   "metadata": {},
   "source": [
    "<h6>Chi square and poisson fitting</h6>\n",
    "If events are occuring randomly and independently and the P(event) does not change over time or given interval of\n",
    "time then we can assume Poisson. The RV X is the number of events in a fixed unit of time. Problem is there are always\n",
    "external factors which bias this, weather, etc. PD,$\\lambda=np$ approximates binomial distribution if n is large and p is small.\n",
    "How large and how small? \n",
    "\n",
    "issues: https://www.youtube.com/user/jbstatistics/videos\n",
    "\n",
    "Used for contingency tables and count data. This should be the first analysis method for categorical data. \n",
    "chi square goodness of fit is not good for small sample sizes, \n",
    "https://www.theanalysisfactor.com/regression-models-for-count-data/\n",
    "https://stats.stackexchange.com/questions/78139/how-to-know-if-a-data-follows-a-poisson-distribution-in-r\n",
    "Chi square only first test\n",
    "Poisson regression for count data\n",
    "https://stats.oarc.ucla.edu/r/dae/poisson-regression/#:~:text=Poisson%20regression%20%E2%80%93%20Poisson%20regression%20is,variance%20exceeds%20the%20conditional%20mean.\n",
    "negative binomial regrssion for overdispersed count data\n",
    "zero inflated regression model for zeros, combine models, one for 0s another for rest of data\n"
   ]
  },
  {
   "cell_type": "markdown",
   "id": "20cae982",
   "metadata": {},
   "source": [
    "<p>Poisson Regression</p>\n",
    "Fitting zero count data. https://www.youtube.com/watch?v=cD9V1ApYqCk which says if you have an AIC difference between \n",
    "    0 inflated and nonzero inflated more than 2 you use the one w lower AIC. \n",
    "zero inflated model. No way to do this in R? \n",
    "https://stats.oarc.ucla.edu/r/dae/zip/#:~:text=Zero%2Dinflated%20poisson%20regression%20is,zeros%20can%20be%20modeled%20independently.\n",
    "    "
   ]
  },
  {
   "cell_type": "markdown",
   "id": "3b61cb93",
   "metadata": {},
   "source": [
    "Zero inflated binomial\n",
    "<p>https://faculty.franklin.uga.edu/dhall/sites/faculty.franklin.uga.edu.dhall/files/ZIMixed.pdf</p>"
   ]
  },
  {
   "cell_type": "markdown",
   "id": "e8b7083a",
   "metadata": {},
   "source": [
    "<h6>MLE Multinomial</h6>\n",
    "<p>\n",
    "$$\n",
    "P(x_1,x_2,...x_k|n,p_1,p_2,...p_k) = \\frac{N!}{\\prod_{i=1}^{x_i!}}p_{i}^{x_i},\\ \\sum_i x_i=N, x_i \\ge > 0\n",
    "$$\n",
    "</p>"
   ]
  },
  {
   "cell_type": "markdown",
   "id": "0e819f7a",
   "metadata": {},
   "source": [
    "<p>\n",
    "Beta Distribution, conjugate prior of Binomial\n",
    "</p>\n",
    "<p>\n",
    "$$\n",
    "p(p|\\alpha, \\beta) = \\frac{1}{B(\\alpha, \\beta)} p^{\\alpha-1}(1-p)^{\\beta -1},\\ p=[0,1]\n",
    "$$\n",
    "<p>Beta function</p>\n",
    "$$\n",
    "B(\\alpha, \\beta) = \\frac{\\Gamma(\\alpha + \\beta)}{\\Gamma(\\alpha),\\Gamma(\\beta)} \\approx \\binom{\\alpha -1}{\\alpha+ \\beta-2}\n",
    "$$\n",
    "</p>\n",
    "<p>\n",
    "Dirichlet Distribution, conjugate prior of multinomial\n",
    "</p>\n",
    "<p>\n",
    "$$\n",
    "p(P={p_i}| \\alpha_i)=\\frac{\\prod_i \\Gamma(\\alpha_i)}{\\Gamma(\\sum_i \\alpha_i)}\\prod p_i^{\\alpha_i-1}\n",
    "$$\n",
    "$$\n",
    "\\sigma = \\sum(\\alpha_i) \n",
    "$$\n",
    "$$\n",
    "base=\\frac{\\alpha_i}{\\sigma}\n",
    "$$\n",
    "\n",
    "\n",
    "</p>"
   ]
  },
  {
   "cell_type": "code",
   "execution_count": null,
   "id": "c852b292",
   "metadata": {},
   "outputs": [],
   "source": [
    "https://www.cs.cmu.edu/~epxing/Class/10701-08s/recitation/dirichlet.pdf"
   ]
  },
  {
   "cell_type": "markdown",
   "id": "0e8baa6a",
   "metadata": {},
   "source": [
    "<h6>MAP Bernoulli </h6>\n",
    "<p>\n",
    "source: file:///Users/dougchang/Documents/Joint_MLE_MAP.pdf\n",
    "$$\n",
    "\\hat \\theta = \\frac{\\alpha1 + \\gamma1}{(\\alpha1 + \\gamma1)+(\\alpha0 + \\gamma0)}\n",
    "$$\n",
    "</p>\n",
    "<p>$\\alpha0$ and $\\alpha1$ are observed tails and heads from training data. $\\gamma0$ and $\\gamma1$ are\n",
    "prior beliefs, if we believe a fair coin then set $\\gamma0=100$ and $\\gamma1=100$ </p>\n",
    "<h4>MAP Derivation</h4>\n",
    "<p>\n",
    "$$\n",
    "\\theta^{MAP} = argmax_{\\theta} P(\\theta | D) =argmax_{\\theta} \\frac{P(D|\\theta)P(\\theta)}{P(D)}\n",
    "$$\n",
    "</p>\n",
    "<p>We ignore P(D) since it has no theta parameter and will fall out when taking a derivative. Take the log, \n",
    "take derivative and set to 0 to solve for parameters. We add a beta distribution for the prior $P(\\theta)$. This conjugate\n",
    "prior is knownb before hand. If have no knowledge assume a uniform distribution then after observation of data you\n",
    "can correct the distribution. </p>\n",
    "\n",
    "<p>\n",
    "$$\n",
    "P(\\theta) = Beta(\\beta_0,\\beta_1) =\\frac{\\theta^{\\beta_{1}-1}(1-\\theta)^{\\beta_{0}-1}}{B(\\beta_0,\\beta_1)}\n",
    "$$\n",
    "where B is a normalization constant to make sure the integral is 1. \n",
    "</p>\n",
    "<p>\n",
    "$$\n",
    "P(D|\\theta) = \\theta^{\\alpha_1}(1-\\theta)^{\\alpha_0}\n",
    "$$\n",
    "and alpha1 is observed when X=1 and alpha0 are observed when X=0 or observed count of heads=1 and tails=0.\n",
    "The complete equation for MAP estimation is:\n",
    "$$\n",
    "\\theta^{MAP} = argmax_{\\theta} P(\\theta | D) = argmax_{\\theta} \\theta^{\\alpha_1}(1-\\theta)^{\\alpha_0} \\frac{\\theta^{\\beta_{1}-1}(1-\\theta)^{\\beta_{0}-1}}{B(\\beta_0,\\beta_1)}\n",
    "$$\n",
    "$$\n",
    "= argmax_{\\theta} \\frac{\\theta^{\\alpha_1 + \\beta_{1}-1}(1-\\theta)^{\\alpha_0 + \\beta_{0}-1}}{B(\\beta_0,\\beta_1)}\n",
    "$$\n",
    "we can remove the normalizing constant B because it does not have any $\\theta$ terms in it and will fall out \n",
    "when taking the derivative and setting to 0. \n",
    "$$\n",
    "= argmax_{\\theta}\\theta^{\\alpha_1 + \\beta_{1}-1}(1-\\theta)^{\\alpha_0 + \\beta_{0}-1}\n",
    "$$\n",
    "$$\n",
    "\\frac{\\partial \\theta^{MAP}}{\\partial \\theta} = (\\alpha_1 + \\beta_{1}-1)\\theta^{\\alpha_1 + \\beta_{1}-2}(1-\\theta)^{\\alpha_0 + \\beta_{0}-1}+\\theta^{\\alpha_1 + \\beta_{1}-1}(\\alpha_0 + \\beta_{0}-1)(1-\\theta)^{\\alpha_0 + \\beta_{0}-2}(-1)\n",
    "$$\n",
    "$$\n",
    "= (\\alpha_1 + \\beta_{1}-1)(1-\\theta) - (\\alpha_0 + \\beta_{0}-1)(\\theta)\n",
    "$$\n",
    "$$\n",
    "(\\alpha_1 + \\beta_{1}-1)(1-\\theta) = (\\alpha_0 + \\beta_{0}-1)(\\theta)\n",
    "$$\n",
    "$$\n",
    "(\\alpha_1 + \\beta_{1}-1) - (\\alpha_1 + \\beta_{1}-1)\\theta = (\\alpha_0 + \\beta_{0}-1)(\\theta)\n",
    "$$\n",
    "$$\n",
    "(\\alpha_1 + \\beta_{1}-1) = (\\alpha_1 + \\beta_{1}-1)\\theta + (\\alpha_0 + \\beta_{0}-1)\\theta\n",
    "$$\n",
    "$$\n",
    "(\\alpha_1 + \\beta_{1}-1) = \\theta (\\alpha_1 + \\beta_{1}-1 + \\alpha_0 + \\beta_{0}-1)) \n",
    "$$\n",
    "$$\n",
    "\\theta = \\frac{\\alpha_1 + \\beta_{1}-1}{\\alpha_1 + \\beta_{1}-1 + \\alpha_0 + \\beta_{0}-1}\n",
    "$$\n",
    "Drop the 1 from the numerator and denominators to get Tom M. answer. Others have the -1 and -2 in the \n",
    "expressions for MAP. \n",
    "</p>\n",
    "<p>\n",
    "https://sci2lab.github.io/ml_tutorial/mle_map/\n",
    "</p>\n",
    "\n",
    "\n",
    "\n"
   ]
  },
  {
   "cell_type": "markdown",
   "id": "e61802c4",
   "metadata": {},
   "source": [
    "<h6>MAP Bernoulli nonconjugate example</h6>\n",
    "<p>When we have no information we can use a uniform prior. Suppose we have a online store where we get 3 out of 250 \n",
    "visitors to buy. We do not know what the prior distirbution is so we can assume a uniform prior, say 10%. Then as more\n",
    "model sees more data we will converge to the correct anaswer anyway.</p>\n",
    "\n",
    "<p>Uniform distribution \n",
    "The standard symbol for a prior is $\\pi(p)$\n",
    "$$\n",
    "\\pi(p) = \n",
    "\\begin{cases}\n",
    "  \\pi(p) = 10 & \\text{for }0 \\ge p \\le 0.l\\\\    \n",
    "  \\pi(p) = 0  & \\text {otherwise}\n",
    "\\end{cases}\n",
    "$$\n",
    "</p>\n",
    "<p>\n",
    "The liklihood for a bernoulli distribution for 3 out of 250 customers buying is:\n",
    "$$\n",
    "  L(D|p) = p^3(1-p)^250\n",
    "$$\n",
    "\n",
    "</p>\n",
    "<p>\n",
    "The MAP probability is: \n",
    "$$\n",
    "\\pi(p|D) = \\frac{L(D|p)}{\\int_{0}^{0.1}10p^3(1-p)^{250}}=\\frac{ p^3(1-p)^250}{\\int_{0}^{0.1}10p^3(1-p)^{250}}\n",
    "$$\n",
    "</p>\n",
    "<h6>\n",
    "Numerical integration \n",
    "</h6>\n",
    "<p>We use small step sizes and sums to approximate Riemann integrals</p>\n",
    "\n",
    "\n",
    "\n"
   ]
  },
  {
   "cell_type": "code",
   "execution_count": 29,
   "id": "c342b958",
   "metadata": {},
   "outputs": [
    {
     "name": "stdout",
     "output_type": "stream",
     "text": [
      "1.4836151253121748e-06\n",
      "1.483615164881154e-06\n"
     ]
    },
    {
     "data": {
      "image/png": "[encoded data removed]",
      "text/plain": [
       "<Figure size 432x288 with 1 Axes>"
      ]
     },
     "metadata": {
      "needs_background": "light"
     },
     "output_type": "display_data"
    }
   ],
   "source": [
    "import numpy as np\n",
    "import matplotlib.pyplot as plt\n",
    "\n",
    "#it is important to use vectorized operations. \n",
    "def func(x):\n",
    "    return 10.*(x**3.)*(1-x)**250.\n",
    "    \n",
    "\n",
    "small_steps=np.arange(0,0.1,.01)\n",
    "v_func = np.vectorize(func)\n",
    "integration_result = np.sum(v_func(small_steps))\n",
    "print(integration_result)\n",
    "\n",
    "check_normalized=np.arange(0,1.,.01)\n",
    "#print(check_normalized)\n",
    "print(np.sum(v_func(check_normalized)))\n",
    "plt.plot(small_steps,func(small_steps))\n",
    "plt.show()"
   ]
  },
  {
   "cell_type": "code",
   "execution_count": 10,
   "id": "1143c62e",
   "metadata": {},
   "outputs": [
    {
     "name": "stdout",
     "output_type": "stream",
     "text": [
      "0.05235376084736374\n",
      "0.25500000000000017 0.050816439280903326\n",
      "0.5119999999999997 0.05039394391063978\n"
     ]
    }
   ],
   "source": [
    "#test integral for qpred \n",
    "#should get something equal to .05\n",
    "import numpy as np\n",
    "import matplotlib.pyplot as plt\n",
    "import math\n",
    "import scipy\n",
    "from scipy import stats, optimize, interpolate\n",
    "\n",
    "betacdf = scipy.stats.beta(14.2,23.2).cdf\n",
    "#print(betacdf(0.256)-betacdf(0.)) #use this to guess\n",
    "x=.001\n",
    "while betacdf(x)-betacdf(0.)-.05 < .0001:\n",
    "    x+=.001\n",
    "print(x,betacdf(x)-betacdf(0.))\n",
    "x=.9\n",
    "while betacdf(1.)-betacdf(x)-.05 < .0001:\n",
    "    x-=.001\n",
    "print(x,betacdf(1.)-betacdf(x))"
   ]
  },
  {
   "cell_type": "code",
   "execution_count": null,
   "id": "5c464010",
   "metadata": {},
   "outputs": [],
   "source": [
    "concave or convex? \n",
    "https://pj.freefaculty.org/guides/stat/Distributions/DistributionWriteups/Beta/Beta.pdf"
   ]
  },
  {
   "cell_type": "code",
   "execution_count": null,
   "id": "cb7142ff",
   "metadata": {},
   "outputs": [],
   "source": [
    "https://probabilityandstatsproblemsolve.wordpress.com/2015/05/10/calculating-the-skewness-of-a-probability-distribution/\n",
    "    given data do we use this to calculate the skewness of an arbitrary PDF? \n"
   ]
  },
  {
   "cell_type": "code",
   "execution_count": 41,
   "id": "50c1137e",
   "metadata": {},
   "outputs": [
    {
     "name": "stdout",
     "output_type": "stream",
     "text": [
      "blue mean1:0.80,var1:0.05,skew1:-1.25,kurt1:0.82\n",
      "red mean2:0.25,var2:0.04,skew2:0.86,kurt2:0.10\n",
      "green mean3:0.50,var3:0.12,skew3:0.00,kurt3:-1.50:\n",
      "orange mean4:0.50,var4:0.05,skew4:0.00,kurt4:-0.86:\n",
      "purple uniform mean5:0.50,var5:0.05,skew5:0.00,kurt5:-0.86:\n"
     ]
    },
    {
     "data": {
      "image/png": "[encoded data removed]",
      "text/plain": [
       "<Figure size 432x288 with 1 Axes>"
      ]
     },
     "metadata": {
      "needs_background": "light"
     },
     "output_type": "display_data"
    }
   ],
   "source": [
    "from scipy.stats import beta\n",
    "import matplotlib.pyplot as plt\n",
    "import numpy as np\n",
    "\n",
    "#beta is used for uniform distribution also\n",
    "\n",
    "fig, ax = plt.subplots(1, 1)\n",
    "\n",
    "mean, var, skew, kurt = beta.stats(a, b, moments='mvsk')\n",
    "#x = np.linspace(beta.ppf(0.01, a, b),\n",
    "#                beta.ppf(0.99, a, b), 100)\n",
    "x = np.linspace(0,1,1000)\n",
    "#[xmin, xmax, ymin, ymax]\n",
    "plt.axis([0,1.0 , 0, 2.5])\n",
    "mean1, var1, skew1, kurt1 = beta.stats(2., .5, moments='mvsk')\n",
    "ax.plot(x, beta.pdf(x, 2., .5),\n",
    "       'blue', lw=5, alpha=0.6, label='beta1')\n",
    "\n",
    "ax.plot(x, beta.pdf(x, 1, 3),\n",
    "       'red', lw=5, alpha=0.6, label='beta2')\n",
    "mean2, var2, skew2, kurt2 = beta.stats(1., 3., moments='mvsk')\n",
    "ax.plot(x, beta.pdf(x, .5, .5),\n",
    "       'green', lw=5, alpha=0.6, label='beta3')\n",
    "mean3, var3, skew3, kurt3 = beta.stats(.5, .5, moments='mvsk')\n",
    "ax.plot(x, beta.pdf(x, 2, 2),\n",
    "       'orange', lw=5, alpha=0.6, label='beta4')\n",
    "mean4, var4, skew4, kurt4 = beta.stats(2., 2., moments='mvsk')\n",
    "\n",
    "ax.plot(x, beta.pdf(x, 1, 1),\n",
    "       'purple', lw=5, alpha=0.6, label='uniform')\n",
    "mean5, var5, skew5, kurt5 = beta.stats(2., 2., moments='mvsk')\n",
    "\n",
    "print(f\"blue mean1:{mean1:.2f},var1:{var1:.2f},skew1:{skew1:.2f},kurt1:{kurt1:.2f}\")\n",
    "print(\"red mean2:%.2f,var2:%.2f,skew2:%.2f,kurt2:%.2f\" % (mean2,var2,skew2,kurt2))\n",
    "print(\"green mean3:%.2f,var3:%.2f,skew3:%.2f,kurt3:%.2f:\" % (mean3,var3,skew3,kurt3))\n",
    "print(\"orange mean4:%.2f,var4:%.2f,skew4:%.2f,kurt4:%.2f:\" % (mean4,var4,skew4,kurt4))\n",
    "print(\"purple uniform mean5:%.2f,var5:%.2f,skew5:%.2f,kurt5:%.2f:\" % (mean5,var5,skew5,kurt5))\n"
   ]
  },
  {
   "cell_type": "code",
   "execution_count": null,
   "id": "97b912f1",
   "metadata": {},
   "outputs": [],
   "source": [
    "https://stats.stackexchange.com/questions/114004/when-is-beta-distribution-bell-shaped-or-concave\n",
    "add more derivatives for range and graph shape changes. this should be im the metrics and affect\n",
    "the statistics? \n",
    "#how to find the wrong a and b values? \n"
   ]
  },
  {
   "cell_type": "code",
   "execution_count": null,
   "id": "5fdff557",
   "metadata": {},
   "outputs": [],
   "source": [
    "https://pj.freefaculty.org/guides/stat/Distributions/DistributionWriteups/Beta/Beta.pdf\n",
    "why is this so good in predicting elections? and what other problems are like this? "
   ]
  },
  {
   "cell_type": "code",
   "execution_count": null,
   "id": "72ca96d3",
   "metadata": {},
   "outputs": [],
   "source": [
    "<h6>Bernoulli pdf and cdf</h6>\n",
    "<p>\n",
    "the pmf for a bernoulli RV is:\n",
    "$$\n",
    "f(x) = p^x(1-p)^(1-x)\n",
    "$$\n",
    "the cdf for a bernoulli RV is the integral of a PDF or sum of a PMF:\n",
    "$$\n",
    "\n",
    "$$\n",
    "</p>"
   ]
  },
  {
   "cell_type": "markdown",
   "id": "fb093bc0",
   "metadata": {},
   "source": [
    "<h6>MLE Bernoulli</h6>\n",
    "<p>$L(\\theta)=\\prod_{i=1}^{n} p^{X_i}(1-p)^{1-{X_i}}$</p>\n",
    "<p>convert liklihood to negative log liklihood</p>\n",
    "<p>$-LogLikelihood(\\theta)=-\\sum_{i=1}^{n} log(p^{X_i}(1-p)^{1-{X_i}})$</p>\n",
    "<p>=$\\sum_{i=1}^{n}X_i(log(p))+(1-X_i)log(1-p)$</p>\n",
    "<p>=$Ylog(p) + (n-Y)log(1-p)$</p>\n",
    "<p>where $Y=\\sum_i^n(X_i)$</p>\n",
    "<p>To find the maximum take the derivative WRT theta and set to 0. Solve for X_i</p>\n",
    "<p>$\\frac{\\partial LogLikelihood(\\theta)}{\\partial \\theta} = \n",
    "\\frac{\\partial LogLikelihood(p)}{\\partial p}=\n",
    "\\frac{\\partial(Ylog(p) + (n-Y)log(1-p))}{\\partial (p)} $</p>\n",
    "<p>$\\frac{\\partial log(p)}{\\partial (p)} = \\frac{1}{p}dp$</p>\n",
    "<p>$\\frac{\\partial(Ylog(p) + (n-Y)log(1-p))}{\\partial (p)}= \\frac{Y}{p}dp - \\frac{n-Y}{1-p}dp = 0$</p>\n",
    "<p>$ \\frac{Y}{p} = \\frac{n-Y}{1-p}$</p>\n",
    "<p>$ (Y)(1-p) = (n-Y)(p)$</p>\n",
    "<p>$ Y-Yp = np-Yp$</p>\n",
    "<p>$ Y = np$</p>\n",
    "<p>$ \\frac{Y}{n} = p$</p>\n",
    "<p>After replacing the summation for Y we see the p is the mean of $X_i$</p>\n",
    "\n",
    "\n",
    "\n",
    "\n"
   ]
  },
  {
   "cell_type": "markdown",
   "id": "d31919ac",
   "metadata": {},
   "source": [
    "<p>What is the MLE for $\\theta$ for a coin where our $X_i=(0,1,1,0,0)?$</p>\n",
    "<p>$L(\\theta)=\\prod_{i=1}^{n} p^{X_i}(1-p)^{1-{X_i}}$</p>\n",
    "<p>There are 3 0 and 2 1 values </p>\n",
    "<p>$L(\\theta) = \\theta^2(1-\\theta)^3$</p>\n",
    "<p>taking derivateive WRT theta and set to 0 to solve for theta gets us....</p>\n",
    "<p>$\\frac{\\partial L(\\theta)  }{\\partial \\theta} = 2 \\theta(1-theta)^3 + \\theta^2(3)(1-\\theta)^2(-1)$</p>\n",
    "<p>$0=2\\theta(1-\\theta)^3-3\\theta^2(1-\\theta)^2$<\\p>\n",
    "<p>$0=2(1-\\theta)-3\\theta$</p>\n",
    "<p>$0=2-2\\theta-3\\theta$</p>\n",
    "<p>$0=2-5\\theta$</p>\n",
    "<p>$\\theta=\\frac{2}{5}$</p>\n"
   ]
  },
  {
   "cell_type": "code",
   "execution_count": 18,
   "id": "1d68b9ea",
   "metadata": {},
   "outputs": [
    {
     "name": "stdout",
     "output_type": "stream",
     "text": [
      "derivative is:  tensor(18.)\n",
      "tensor([-40.0000, -35.7895, -31.5789, -27.3684, -23.1579, -18.9474, -14.7368,\n",
      "        -10.5263,  -6.3158,  -2.1053,   2.1053,   6.3158,  10.5263,  14.7368,\n",
      "         18.9474,  23.1579,  27.3684,  31.5789,  35.7895,  40.0000])\n"
     ]
    }
   ],
   "source": [
    "#pytorch derivatives\n",
    "import torch\n",
    "x = torch.tensor(3.0, requires_grad=True)\n",
    "y=3*x**2\n",
    "y.backward()\n",
    "print(\"derivative is: \",x.grad)\n",
    "#derivative with multiple values,\n",
    "\n",
    "x=torch.linspace(-20,20,20, requires_grad=True)\n",
    "Y=x**2\n",
    "y=torch.sum(Y) #dont understand how this is multiple values? he means multiple values of x, bc it is a linspace\n",
    "y.backward()\n",
    "print(x.grad) #OK , where is the connection to sum?? and having x be a vector or np array?"
   ]
  },
  {
   "cell_type": "code",
   "execution_count": null,
   "id": "dc71631e",
   "metadata": {},
   "outputs": [],
   "source": [
    "#calculate derivative and set to 0\n",
    "#https://gist.github.com/papachristoumarios/3da173eba99ea9716ccf13f71a36ae91\n",
    "#https://www.cs.toronto.edu/~guerzhoy/411_2018/lec/week4/pytorch_tutorial/MaxLik/Maximum+Likelihood+for+Bernoulli+with+PyTorch.html\n",
    "\n",
    "$-\\sum(log x*(p)+(1-x)(1-p))$"
   ]
  },
  {
   "cell_type": "code",
   "execution_count": 2,
   "id": "8a39f250",
   "metadata": {},
   "outputs": [
    {
     "name": "stdout",
     "output_type": "stream",
     "text": [
      "L(theta): 5.51934 p= [0.07067007] dL/dp: [-25.072392]\n",
      "L(theta): 3.9385862 p= [0.19222593] dL/dp: [-6.690514]\n",
      "L(theta): 3.6525915 p= [0.2458423] dL/dp: [-4.157349]\n",
      "L(theta): 3.5274668 p= [0.28134567] dL/dp: [-2.9342246]\n",
      "L(theta): 3.461875 p= [0.30705303] dL/dp: [-2.184197]\n",
      "L(theta): 3.4245417 p= [0.32644662] dL/dp: [-1.672586]\n",
      "L(theta): 3.4022973 p= [0.34141573] dL/dp: [-1.3027349]\n",
      "L(theta): 3.3886638 p= [0.353134] dL/dp: [-1.0258265]\n",
      "L(theta): 3.3801515 p= [0.36239296] dL/dp: [-0.8137784]\n",
      "L(theta): 3.3747687 p= [0.36975554] dL/dp: [-0.64892197]\n",
      "L(theta): 3.371334 p= [0.37563658] dL/dp: [-0.5194011]\n",
      "L(theta): 3.3691285 p= [0.38034973] dL/dp: [-0.41687727]\n",
      "L(theta): 3.3677044 p= [0.38413614] dL/dp: [-0.33528137]\n",
      "L(theta): 3.3667822 p= [0.38718358] dL/dp: [-0.27007866]\n",
      "L(theta): 3.366183 p= [0.38963965] dL/dp: [-0.21781874]\n",
      "L(theta): 3.365793 p= [0.39162138] dL/dp: [-0.17583418]\n",
      "L(theta): 3.3655386 p= [0.39322165] dL/dp: [-0.1420455]\n",
      "L(theta): 3.3653724 p= [0.3945147] dL/dp: [-0.11481619]\n",
      "L(theta): 3.3652644 p= [0.39556015] dL/dp: [-0.09284782]\n",
      "L(theta): 3.3651934 p= [0.39640564] dL/dp: [-0.07511139]\n",
      "L(theta): 3.3651466 p= [0.39708978] dL/dp: [-0.06077909]\n",
      "L(theta): 3.3651164 p= [0.39764342] dL/dp: [-0.04919338]\n",
      "L(theta): 3.3650963 p= [0.39809155] dL/dp: [-0.03982353]\n",
      "L(theta): 3.3650832 p= [0.39845434] dL/dp: [-0.03224325]\n",
      "L(theta): 3.3650746 p= [0.3987481] dL/dp: [-0.02610874]\n",
      "L(theta): 3.365069 p= [0.39898598] dL/dp: [-0.02114296]\n",
      "L(theta): 3.3650656 p= [0.3991786] dL/dp: [-0.01712418]\n",
      "L(theta): 3.365063 p= [0.3993346] dL/dp: [-0.01387024]\n",
      "L(theta): 3.3650615 p= [0.399461] dL/dp: [-0.01123381]\n",
      "L(theta): 3.3650603 p= [0.39956334] dL/dp: [-0.00910044]\n",
      "L(theta): 3.3650596 p= [0.39964628] dL/dp: [-0.00737143]\n",
      "L(theta): 3.3650591 p= [0.39971343] dL/dp: [-0.00597191]\n",
      "L(theta): 3.365059 p= [0.39976782] dL/dp: [-0.00483799]\n",
      "L(theta): 3.3650587 p= [0.39981186] dL/dp: [-0.00392008]\n",
      "L(theta): 3.3650587 p= [0.3998476] dL/dp: [-0.00317526]\n",
      "L(theta): 3.3650587 p= [0.39987653] dL/dp: [-0.00257254]\n",
      "L(theta): 3.3650587 p= [0.39989996] dL/dp: [-0.00208426]\n",
      "L(theta): 3.3650582 p= [0.39991894] dL/dp: [-0.00168896]\n",
      "L(theta): 3.3650584 p= [0.39993432] dL/dp: [-0.00136852]\n",
      "L(theta): 3.3650584 p= [0.39994678] dL/dp: [-0.00110865]\n",
      "L(theta): 3.3650584 p= [0.39995688] dL/dp: [-0.00089788]\n",
      "L(theta): 3.3650584 p= [0.39996508] dL/dp: [-0.00072813]\n",
      "L(theta): 3.3650584 p= [0.3999717] dL/dp: [-0.00058937]\n",
      "L(theta): 3.3650584 p= [0.39997706] dL/dp: [-0.00047779]\n",
      "L(theta): 3.3650582 p= [0.3999814] dL/dp: [-0.00038767]\n",
      "L(theta): 3.3650587 p= [0.39998493] dL/dp: [-0.00031376]\n",
      "L(theta): 3.3650587 p= [0.3999878] dL/dp: [-0.00025415]\n",
      "L(theta): 3.365058 p= [0.3999901] dL/dp: [-0.00020647]\n",
      "L(theta): 3.3650584 p= [0.399992] dL/dp: [-0.00016689]\n",
      "L(theta): 3.3650587 p= [0.3999935] dL/dp: [-0.00013494]\n",
      "L(theta): 3.3650582 p= [0.39999473] dL/dp: [-0.00010967]\n",
      "L(theta): 3.3650582 p= [0.3999957] dL/dp: [-8.916855e-05]\n",
      "L(theta): 3.3650584 p= [0.39999658] dL/dp: [-7.1525574e-05]\n",
      "L(theta): 3.3650584 p= [0.39999717] dL/dp: [-5.865097e-05]\n",
      "L(theta): 3.3650582 p= [0.39999777] dL/dp: [-4.6253204e-05]\n",
      "L(theta): 3.3650582 p= [0.39999813] dL/dp: [-3.862381e-05]\n",
      "L(theta): 3.3650584 p= [0.39999843] dL/dp: [-3.2424927e-05]\n",
      "L(theta): 3.3650582 p= [0.39999872] dL/dp: [-2.6226044e-05]\n",
      "L(theta): 3.3650582 p= [0.39999902] dL/dp: [-2.0503998e-05]\n",
      "L(theta): 3.3650582 p= [0.39999932] dL/dp: [-1.4305115e-05]\n",
      "L(theta): 3.3650582 p= [0.39999932] dL/dp: [-1.4305115e-05]\n",
      "L(theta): 3.3650582 p= [0.39999932] dL/dp: [-1.4305115e-05]\n",
      "L(theta): 3.3650582 p= [0.39999932] dL/dp: [-1.4305115e-05]\n",
      "L(theta): 3.3650582 p= [0.39999932] dL/dp: [-1.4305115e-05]\n",
      "L(theta): 3.3650582 p= [0.39999932] dL/dp: [-1.4305115e-05]\n",
      "L(theta): 3.3650582 p= [0.39999932] dL/dp: [-1.4305115e-05]\n",
      "L(theta): 3.3650582 p= [0.39999932] dL/dp: [-1.4305115e-05]\n",
      "L(theta): 3.3650582 p= [0.39999932] dL/dp: [-1.4305115e-05]\n",
      "L(theta): 3.3650582 p= [0.39999932] dL/dp: [-1.4305115e-05]\n",
      "L(theta): 3.3650582 p= [0.39999932] dL/dp: [-1.4305115e-05]\n",
      "L(theta): 3.3650582 p= [0.39999932] dL/dp: [-1.4305115e-05]\n",
      "L(theta): 3.3650582 p= [0.39999932] dL/dp: [-1.4305115e-05]\n",
      "L(theta): 3.3650582 p= [0.39999932] dL/dp: [-1.4305115e-05]\n",
      "L(theta): 3.3650582 p= [0.39999932] dL/dp: [-1.4305115e-05]\n",
      "L(theta): 3.3650582 p= [0.39999932] dL/dp: [-1.4305115e-05]\n",
      "L(theta): 3.3650582 p= [0.39999932] dL/dp: [-1.4305115e-05]\n",
      "L(theta): 3.3650582 p= [0.39999932] dL/dp: [-1.4305115e-05]\n",
      "L(theta): 3.3650582 p= [0.39999932] dL/dp: [-1.4305115e-05]\n",
      "L(theta): 3.3650582 p= [0.39999932] dL/dp: [-1.4305115e-05]\n",
      "L(theta): 3.3650582 p= [0.39999932] dL/dp: [-1.4305115e-05]\n",
      "L(theta): 3.3650582 p= [0.39999932] dL/dp: [-1.4305115e-05]\n",
      "L(theta): 3.3650582 p= [0.39999932] dL/dp: [-1.4305115e-05]\n",
      "L(theta): 3.3650582 p= [0.39999932] dL/dp: [-1.4305115e-05]\n",
      "L(theta): 3.3650582 p= [0.39999932] dL/dp: [-1.4305115e-05]\n",
      "L(theta): 3.3650582 p= [0.39999932] dL/dp: [-1.4305115e-05]\n",
      "L(theta): 3.3650582 p= [0.39999932] dL/dp: [-1.4305115e-05]\n",
      "L(theta): 3.3650582 p= [0.39999932] dL/dp: [-1.4305115e-05]\n",
      "L(theta): 3.3650582 p= [0.39999932] dL/dp: [-1.4305115e-05]\n",
      "L(theta): 3.3650582 p= [0.39999932] dL/dp: [-1.4305115e-05]\n",
      "L(theta): 3.3650582 p= [0.39999932] dL/dp: [-1.4305115e-05]\n",
      "L(theta): 3.3650582 p= [0.39999932] dL/dp: [-1.4305115e-05]\n",
      "L(theta): 3.3650582 p= [0.39999932] dL/dp: [-1.4305115e-05]\n",
      "L(theta): 3.3650582 p= [0.39999932] dL/dp: [-1.4305115e-05]\n",
      "L(theta): 3.3650582 p= [0.39999932] dL/dp: [-1.4305115e-05]\n",
      "L(theta): 3.3650582 p= [0.39999932] dL/dp: [-1.4305115e-05]\n",
      "L(theta): 3.3650582 p= [0.39999932] dL/dp: [-1.4305115e-05]\n",
      "L(theta): 3.3650582 p= [0.39999932] dL/dp: [-1.4305115e-05]\n",
      "L(theta): 3.3650582 p= [0.39999932] dL/dp: [-1.4305115e-05]\n",
      "L(theta): 3.3650582 p= [0.39999932] dL/dp: [-1.4305115e-05]\n",
      "L(theta): 3.3650582 p= [0.39999932] dL/dp: [-1.4305115e-05]\n"
     ]
    }
   ],
   "source": [
    "import torch,numpy as np\n",
    "from torch.autograd import Variable\n",
    "\n",
    "X_i = np.array([0.,1.,1.,0.,0.])\n",
    "x = Variable(torch.from_numpy(X_i)).type(torch.FloatTensor)\n",
    "p = Variable(torch.rand(1),requires_grad=True)\n",
    "\n",
    "learning_rate = .001\n",
    "for a in range(1000):\n",
    "    like = -torch.sum(torch.log(x*p+(1-x)*(1-p)))\n",
    "    \n",
    "    like.backward()\n",
    "    if a%10==0:\n",
    "        print(\"L(theta):\",like.data.numpy(), \"p=\",p.data.numpy(), \"dL/dp:\",p.grad.data.numpy())\n",
    "    p.data -= learning_rate * p.grad.data\n",
    "    p.grad.data.zero_()\n",
    "#we are converged to .40 or 2/5 at 40 iterations\n",
    "\n",
    "\n"
   ]
  },
  {
   "cell_type": "code",
   "execution_count": 4,
   "id": "11451e4b",
   "metadata": {},
   "outputs": [
    {
     "data": {
      "image/png": "[encoded data removed]",
      "text/plain": [
       "<Figure size 432x288 with 1 Axes>"
      ]
     },
     "metadata": {
      "needs_background": "light"
     },
     "output_type": "display_data"
    }
   ],
   "source": [
    "import matplotlib.pyplot as plt\n",
    "from scipy.stats import beta\n",
    "import numpy as np\n",
    "#11 heads and 10 tails\n",
    "a, b = 11.0, 10.0\n",
    "mean, var, skew, kurt = beta.stats(a, b, moments='mvsk')\n",
    "x = np.linspace(beta.ppf(0.01, a, b),beta.ppf(0.99, a, b), 100)\n",
    "plt.plot(x, beta.pdf(x, a, b),'r-', lw=5, alpha=0.6, label='beta pdf')\n",
    "plt.show()"
   ]
  },
  {
   "cell_type": "code",
   "execution_count": 10,
   "id": "3a9d559c",
   "metadata": {},
   "outputs": [
    {
     "data": {
      "image/png": "[encoded data removed]",
      "text/plain": [
       "<Figure size 432x288 with 1 Axes>"
      ]
     },
     "metadata": {
      "needs_background": "light"
     },
     "output_type": "display_data"
    }
   ],
   "source": [
    "#1 head and 1 tails, there are some undefined areas like a,b=(1,0). Large numbers or more flips changes the shape\n",
    "a, b = 1.0, 1.0\n",
    "mean, var, skew, kurt = beta.stats(a, b, moments='mvsk')\n",
    "x = np.linspace(beta.ppf(0.01, a, b),beta.ppf(0.99, a, b), 100)\n",
    "plt.plot(x, beta.pdf(x, a, b),'r-', lw=5, alpha=0.6, label='beta pdf')\n",
    "plt.show()"
   ]
  },
  {
   "cell_type": "code",
   "execution_count": 11,
   "id": "96191ef1",
   "metadata": {},
   "outputs": [
    {
     "data": {
      "image/png": "[encoded data removed]",
      "text/plain": [
       "<Figure size 432x288 with 1 Axes>"
      ]
     },
     "metadata": {
      "needs_background": "light"
     },
     "output_type": "display_data"
    }
   ],
   "source": [
    "#1 head and 10 tails, an unfair coin\n",
    "a, b = 1.0, 10.0\n",
    "mean, var, skew, kurt = beta.stats(a, b, moments='mvsk')\n",
    "x = np.linspace(beta.ppf(0.01, a, b),beta.ppf(0.99, a, b), 100)\n",
    "plt.plot(x, beta.pdf(x, a, b),'r-', lw=5, alpha=0.6, label='beta pdf')\n",
    "plt.show()"
   ]
  },
  {
   "cell_type": "code",
   "execution_count": null,
   "id": "f321ee6c",
   "metadata": {},
   "outputs": [],
   "source": [
    "https://courses.cs.washington.edu/courses/cse312/20su/files/student_drive/7.5.pdf\n",
    "https://online.stat.psu.edu/stat504/lesson/1/1.5\n",
    "    \n",
    "    "
   ]
  },
  {
   "cell_type": "code",
   "execution_count": null,
   "id": "e53aa93f",
   "metadata": {},
   "outputs": [],
   "source": [
    "<p>From Bayes:$\\pi_{\\Theta}(\\theta | x )= \\frac{L(x|\\theta)\\pi_\\Theta(\\theta)}{\\mathbb{P(x)}} \\propto L(x|\\theta)\\pi_{\\Theta}(\\theta) $</p>\n",
    "<p>Most derivations drop the denominator, is this a constant? </p>\n"
   ]
  },
  {
   "cell_type": "markdown",
   "id": "0fa98468",
   "metadata": {},
   "source": [
    "$\\hat \\theta _{MAP} = \\underset{\\theta}{argmax}\\  \\pi_{\\theta}(\\theta | x) = \\underset{\\theta}{argmax}\\  L(x | \\theta) \\pi_{\\Theta}(\\theta) $"
   ]
  },
  {
   "cell_type": "code",
   "execution_count": null,
   "id": "cdadefb6",
   "metadata": {},
   "outputs": [],
   "source": [
    "https://sci2lab.github.io/ml_tutorial/mle_map/"
   ]
  },
  {
   "cell_type": "markdown",
   "id": "c6fed9c6",
   "metadata": {},
   "source": [
    "<h6>Multinomial</h6>\n",
    "<p>Dirichlet Distribuiton\n",
    "$$\n",
    " f(x_1,x_2,...x_k, \\alpha_1,\\alpha_2,...\\alpha_k) = \\frac{\\Gamma(\\sum_i^K \\alpha_i)}{\\sum_1^K \\Gamma(\\alpha_i) }\\prod_1^K x_i^{\\alpha_i-1}\n",
    "$$\n",
    "</p>\n",
    "<p>\n",
    "multinomial distribution\n",
    "$$\n",
    " f(x_1,x_2,...x_k, p_1,p_2,...p_k) =\\frac{\\Gamma(n+1)}{\\prod_1^K \\Gamma(x_i+1)}\\prod_1^K p_i^{x_i}\n",
    "$$\n",
    "</p>"
   ]
  },
  {
   "cell_type": "code",
   "execution_count": null,
   "id": "36915088",
   "metadata": {},
   "outputs": [],
   "source": []
  }
 ],
 "metadata": {
  "kernelspec": {
   "display_name": "Python 3.9.7 ('cosmic')",
   "language": "python",
   "name": "python397jvsc74a57bd053d4678d88891fb05e04416eb1a742497c0b0baabdd52f6ad28cb1ed11944cce"
  },
  "language_info": {
   "codemirror_mode": {
    "name": "ipython",
    "version": 3
   },
   "file_extension": ".py",
   "mimetype": "text/x-python",
   "name": "python",
   "nbconvert_exporter": "python",
   "pygments_lexer": "ipython3",
   "version": "3.9.10"
  }
 },
 "nbformat": 4,
 "nbformat_minor": 5
}
