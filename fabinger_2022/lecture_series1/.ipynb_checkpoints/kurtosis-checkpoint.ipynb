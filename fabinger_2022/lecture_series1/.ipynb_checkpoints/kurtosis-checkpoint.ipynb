{
 "cells": [
  {
   "cell_type": "code",
   "execution_count": null,
   "id": "edff5e7a",
   "metadata": {},
   "outputs": [],
   "source": [
    "<h6>Kurtosis Corrections</h6>\n",
    "<p>For kurtosis >3 the hypothesis testing assumptions for normal distribution are violated. This is a common error\n",
    "and you have to add corrections</p>"
   ]
  }
 ],
 "metadata": {
  "kernelspec": {
   "display_name": "Python 3.9.7 ('cosmic')",
   "language": "python",
   "name": "python397jvsc74a57bd053d4678d88891fb05e04416eb1a742497c0b0baabdd52f6ad28cb1ed11944cce"
  },
  "language_info": {
   "codemirror_mode": {
    "name": "ipython",
    "version": 3
   },
   "file_extension": ".py",
   "mimetype": "text/x-python",
   "name": "python",
   "nbconvert_exporter": "python",
   "pygments_lexer": "ipython3",
   "version": "3.9.7"
  }
 },
 "nbformat": 4,
 "nbformat_minor": 5
}
