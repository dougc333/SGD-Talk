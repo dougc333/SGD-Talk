{
 "cells": [
  {
   "cell_type": "markdown",
   "id": "73a4c22c",
   "metadata": {},
   "source": [
    "<h6>Kurtosis Corrections</h6>\n",
    "<p>For kurtosis >3 the hypothesis testing assumptions for normal distribution are violated. This is a common error\n",
    "and you have to add corrections</p>\n",
    "<p>https://timeseriesreasoning.com/contents/skewness-and-kurtosis-measures/</p>\n",
    "Use the omnibus K-squared and Jaraque Beta tests to decide if OLS is appropiate for a specific data set. This is not \n",
    "exactly accurate. You can try to use skewness and kurtosis to determine if data is normal. A type of test. \n",
    "<img src=\"kurtosis.png\">\n"
   ]
  },
  {
   "cell_type": "markdown",
   "id": "b78c5cab",
   "metadata": {},
   "source": [
    "<p>What are skewness and kurtosis in data. Skewness measures the left and right symmetry of data. Kurtosis measures\n",
    "how heavy the tail is. </p>\n",
    "<p>\n",
    "Skewness:\n",
    "$$\n",
    "g_1 = \\frac{m_3}{m_2^{\\frac{3}{2}}} = \\frac{\\frac{1}{n}\\sum_{i=1}^{n}(x_i - \\bar x)^3}{(\\frac{1}{n}\\sum_{i=1}^{n}(x_i - \\bar x)^2)^\\frac{3}{2}}\n",
    "$$\n",
    "Kurtosis:\n",
    "$$\n",
    "g_2 = \\frac{m_4}{m_2^{2}} = \\frac{\\frac{1}{n}\\sum_{i=1}^{n}(x_i - \\bar x)^4}{(\\frac{1}{n}\\sum_{i=1}^{n}(x_i - \\bar x)^2)^{2}}-3\n",
    "$$\n",
    "\n",
    "</p>\n",
    "<p>https://www.sigmamagic.com/blogs/how-to-interpret-skewness-and-kurtosis</p>\n",
    "<p>\n",
    "A simpler method is to use the std deviation and mean\n",
    "</p>\n",
    "<p>\n",
    "\n",
    "$$\n",
    "Kurtosis = \\frac{(n)(n+1)}{(n-1)(n-2)(n-3)}\\frac{\\sum(x_i-\\bar x)^4}{s^4}-\\frac{3(n-1)^2}{(n-2)(n-3)}\n",
    "$$\n",
    "</p>\n",
    "<p>\n",
    "Skewness where s is the std deviation and the n-2 means you need at least 3 data points to avoid getting a 0 in the\n",
    "denominator:\n",
    "    \n",
    "$$\n",
    "skewness = \\frac{n}{(n-1)(n-2)}\\frac{\\sum(x_i - \\bar x)^2}{s^3}\n",
    "$$\n",
    "</p>"
   ]
  },
  {
   "cell_type": "code",
   "execution_count": null,
   "id": "4fea647d",
   "metadata": {},
   "outputs": [],
   "source": [
    "<p>Counts of categorical variables</p>\n",
    "The expected value of a category count is 0? \n",
    "https://stats.stackexchange.com/questions/129415/how-can-i-determine-if-categorical-data-is-normally-distributed\n",
    "a 2 category variable, T,F I can assign T=1 and F=-1 to get E(T/F)=0/ \n",
    "How to assign multinomial? 4 categoty? Like a dice. The E(dice)!=0. The counts of the categories !=0. The counts\n",
    "of the categories are equal. You have to be careful what you are measuring. The expected total of a numbrer of dice rols\n",
    "can be normal N~E(total of dice). We can have 0 dice rolls or a lot and those could be normally distributed. So we can test\n",
    "the total of categories for kurtosis? maybe per user? this doesnt make sense because each user is biased. \n"
   ]
  },
  {
   "cell_type": "code",
   "execution_count": null,
   "id": "11261273",
   "metadata": {},
   "outputs": [],
   "source": [
    "<p>Multiplicative models are very useful for predicting time variations like change in X due to seasonality. We have\n",
    "only worked with additive models so far. There are multiple concepts here. A multipicave model:\n",
    "$$\n",
    "y = e^{\\beta_0}x_1{\\beta_1}x_2...x_m^{\\beta_m}e^{\\epsilon}\n",
    "$$\n",
    "</p>\n",
    "<p>\n",
    "Take the log of both sides:\n",
    "$$\n",
    "log(y) = \\beta_0 + \\beta_1 log(x_1)+ \\beta_2 log(x_2)+...\\beta_m log(x_m)\n",
    "$$\n",
    "</p>\n",
    "<p>This looks very close to OLS.. </p>\n",
    "<p>https://www.sciencedirect.com/topics/mathematics/multiplicative-model</p>\n",
    "\n"
   ]
  },
  {
   "cell_type": "code",
   "execution_count": null,
   "id": "ef39ca5a",
   "metadata": {},
   "outputs": [],
   "source": [
    "<p>binomial multiplicative models for options pricing are used more commonly than black scholes because of simplicity</p>\n"
   ]
  },
  {
   "cell_type": "code",
   "execution_count": null,
   "id": "26f1a728",
   "metadata": {},
   "outputs": [],
   "source": [
    "<p>The binomial lattice model is an approximation to modeling gemetric brownian motion. Is this relevant to teh brownian bridge\n",
    "http://www.columbia.edu/~ww2040/4701Sum07/lec0807.pdf</p>"
   ]
  }
 ],
 "metadata": {
  "kernelspec": {
   "display_name": "Python 3.9.7 ('cosmic')",
   "language": "python",
   "name": "python397jvsc74a57bd053d4678d88891fb05e04416eb1a742497c0b0baabdd52f6ad28cb1ed11944cce"
  },
  "language_info": {
   "codemirror_mode": {
    "name": "ipython",
    "version": 3
   },
   "file_extension": ".py",
   "mimetype": "text/x-python",
   "name": "python",
   "nbconvert_exporter": "python",
   "pygments_lexer": "ipython3",
   "version": "3.9.7"
  }
 },
 "nbformat": 4,
 "nbformat_minor": 5
}
