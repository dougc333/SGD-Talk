{
 "cells": [
  {
   "cell_type": "code",
   "execution_count": null,
   "id": "738fd3ea",
   "metadata": {},
   "outputs": [],
   "source": [
    "https://users.stat.ufl.edu/~aa/cda/agresti_hitchcock_2005.pdf"
   ]
  },
  {
   "cell_type": "code",
   "execution_count": null,
   "id": "dd0e4b3d",
   "metadata": {},
   "outputs": [],
   "source": [
    "MI, conditional entropy, conditional independence, covariance, KL, correlation, Joint prob, cond prob. \n"
   ]
  },
  {
   "cell_type": "code",
   "execution_count": null,
   "id": "069e5473",
   "metadata": {},
   "outputs": [],
   "source": [
    "https://stats.stackexchange.com/questions/110801/should-i-use-t-test-on-highly-skewed-data-scientific-proof-please"
   ]
  },
  {
   "cell_type": "code",
   "execution_count": null,
   "id": "db0ec124",
   "metadata": {},
   "outputs": [],
   "source": [
    "https://online.stat.psu.edu/stat504/book/export/html/720"
   ]
  },
  {
   "cell_type": "raw",
   "id": "d72eafa9",
   "metadata": {},
   "source": [
    "https://www.bayesrulesbook.com/"
   ]
  },
  {
   "cell_type": "code",
   "execution_count": null,
   "id": "39fee436",
   "metadata": {},
   "outputs": [],
   "source": [
    "https://users.stat.ufl.edu/~aa/cda/agresti_hitchcock_2005.pdf"
   ]
  }
 ],
 "metadata": {
  "kernelspec": {
   "display_name": "Python 3.9.7 ('cosmic')",
   "language": "python",
   "name": "python397jvsc74a57bd053d4678d88891fb05e04416eb1a742497c0b0baabdd52f6ad28cb1ed11944cce"
  },
  "language_info": {
   "codemirror_mode": {
    "name": "ipython",
    "version": 3
   },
   "file_extension": ".py",
   "mimetype": "text/x-python",
   "name": "python",
   "nbconvert_exporter": "python",
   "pygments_lexer": "ipython3",
   "version": "3.9.10"
  }
 },
 "nbformat": 4,
 "nbformat_minor": 5
}
