{
 "cells": [
  {
   "cell_type": "code",
   "execution_count": null,
   "id": "43a95671",
   "metadata": {},
   "outputs": [],
   "source": [
    "Categorical\\ Data\\ Analysis\\(Wiley\\ Series\\ in\\ Probability\\ and\\ Statistics\\)\\ Alan\\ Agresti\\ -\\ An\\ Introduction\\ to\\ Categorical\\ Data\\ Analysis-John\\ Wiley\\ \\&\\ Sons\\ \\(2019\\).pdf"
   ]
  },
  {
   "cell_type": "code",
   "execution_count": null,
   "id": "58aac9f9",
   "metadata": {},
   "outputs": [],
   "source": []
  },
  {
   "cell_type": "code",
   "execution_count": null,
   "id": "0130a2a7",
   "metadata": {},
   "outputs": [],
   "source": []
  },
  {
   "cell_type": "code",
   "execution_count": null,
   "id": "35494c20",
   "metadata": {},
   "outputs": [],
   "source": []
  }
 ],
 "metadata": {
  "kernelspec": {
   "display_name": "Python 3.9.7 ('cosmic')",
   "language": "python",
   "name": "python397jvsc74a57bd053d4678d88891fb05e04416eb1a742497c0b0baabdd52f6ad28cb1ed11944cce"
  },
  "language_info": {
   "codemirror_mode": {
    "name": "ipython",
    "version": 3
   },
   "file_extension": ".py",
   "mimetype": "text/x-python",
   "name": "python",
   "nbconvert_exporter": "python",
   "pygments_lexer": "ipython3",
   "version": "3.9.7"
  }
 },
 "nbformat": 4,
 "nbformat_minor": 5
}
