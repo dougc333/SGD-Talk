{
 "cells": [
  {
   "cell_type": "code",
   "execution_count": null,
   "id": "fe7f63c2",
   "metadata": {},
   "outputs": [],
   "source": [
    "<h6>regression dilution or attenuation bias</h6>  \n",
    "<p>when random measurement error in features X causes the regression slope \n",
    "to attenuate. A flat regression line would have a slope of 0. Hence the description\n",
    "the regression coefficients or model coefficients tend to 0 or are attenuated when there is random\n",
    "noise in the measurements</p>\n",
    "\n",
    "<h6>this can be fixed using MLE for regression. </h6>\n",
    "\n",
    "\n",
    "\n",
    "#dont understand the difference between functional model and structural model on wiki\n",
    "#https://en.wikipedia.org/wiki/Regression_dilution\n",
    "#you have to correct in statistical inference but not in predictive modeling. What is difference? \n",
    "#when doing HT you are doing SI because using CLT? When doing regression what is connection to HT? \n",
    "#if you are doing HT on regression coefficients. When are we doing this? How to present this on a UI? \n",
    "#if the coefficients are statistically significant. WHEN HOW DO WE DO HT ON REGRESSION COEFFICIENTS? IF THE\n",
    "#REGRESSION SLOPS IS STATISTICALLY SIGNIFICANT. WHAT DOES THIS MEAN? WE ARENT MEASURING NOISE. \n",
    "#HOW TO SEPARATE THE NOISE FROM SIGNAL? \n",
    "#\n",
    "\n",
    "#What is biased vs unbiased estimator? Is unbiased always better? How to build UI? \n",
    "#can an unbiased method becomse biased based on properties of data only? \n",
    "#\n",
    "\n",
    "\n",
    "\n",
    "\n",
    "\n",
    "#ie modeling increase in volume as increase in regression coefficient and calling a TOD increase \n",
    "#a causal effect of a promotion. HOw ot model this? \n",
    "#\n",
    "\n"
   ]
  },
  {
   "cell_type": "code",
   "execution_count": null,
   "id": "e7a3a8a2",
   "metadata": {},
   "outputs": [],
   "source": [
    "#kalman filtering noise reduction. this is for non AWGN noise? what are the assumptions? \n",
    "#\n",
    "#what is gaussian process regression? \n",
    "#what is method of moments regression? We covered this in expecations of RV. higher order moments. \n",
    "#"
   ]
  },
  {
   "cell_type": "markdown",
   "id": "b1c75dae",
   "metadata": {},
   "source": [
    "<h6>Errors in measurement</h6>\n",
    "<p>Errors in the features or covariates, use regression calibration</p>\n",
    "<p>Errors in the outcome, use method of moments</p>\n",
    "<h6>Regression error analysis with MSE and R2</h6>\n"
   ]
  },
  {
   "cell_type": "code",
   "execution_count": null,
   "id": "459f9585",
   "metadata": {},
   "outputs": [],
   "source": [
    "import numpy as np\n",
    "from sklearn.linear_model import LinearRegression\n",
    "import pandas as pd"
   ]
  },
  {
   "cell_type": "code",
   "execution_count": 22,
   "id": "6b3d9de0",
   "metadata": {},
   "outputs": [
    {
     "name": "stdout",
     "output_type": "stream",
     "text": [
      "(1000,)\n",
      "(1000,)\n",
      "(1000,)\n",
      "[0 1 0 1 0 1 0 1 0 1] [-2.00809796  1.46284453 -0.87098627  0.39763094  0.08306392  3.10509407\n",
      " -0.04265753 -0.22186729  0.29212091  0.18689208]\n",
      "(1000, 1) [[0]\n",
      " [1]\n",
      " [0]\n",
      " [1]\n",
      " [0]\n",
      " [1]\n",
      " [0]\n",
      " [1]\n",
      " [0]\n",
      " [1]]\n",
      "coef: [[2.34709543]] intercept: [-0.1428874]\n"
     ]
    },
    {
     "data": {
      "text/plain": [
       "{'copy_X': True,\n",
       " 'fit_intercept': True,\n",
       " 'n_jobs': None,\n",
       " 'normalize': 'deprecated',\n",
       " 'positive': False}"
      ]
     },
     "execution_count": 22,
     "metadata": {},
     "output_type": "execute_result"
    }
   ],
   "source": [
    "#external validation data correction\n",
    "#http://127.0.0.1:15550/library/mecor/doc/mecor_mece.html\n",
    "#Y_star and Y. Y is the substitute endpoint and Y is actual true endpoint. \n",
    "#if yiou measure y_star how to correct to get to Y? \n",
    "\n",
    "\n",
    "\n",
    "\n",
    "X = np.tile([0,1], 500)\n",
    "print(X.shape)\n",
    "Y = 2*X + np.random.normal(loc=0.0, scale=1.0, size=1000)\n",
    "print(Y.shape)\n",
    "Y_star = 1.1 * Y + np.random.normal(loc=0.0, scale=1.0, size=1000)\n",
    "print(Y_star.shape)\n",
    "print(X[0:10],Y_star[0:10])\n",
    "X=X.reshape(-1,1)\n",
    "Y_star = Y_star.reshape(-1,1)\n",
    "print(X.shape,X[0:10])\n",
    "from sklearn.linear_model import LinearRegression\n",
    "reg = LinearRegression().fit(X, Y_star)\n",
    "print(\"coef:\",reg.coef_, \"intercept:\",reg.intercept_)\n",
    "\n",
    "reg.get_params()\n"
   ]
  },
  {
   "cell_type": "code",
   "execution_count": 32,
   "id": "40667f39",
   "metadata": {},
   "outputs": [
    {
     "name": "stdout",
     "output_type": "stream",
     "text": [
      "(1000,)\n",
      "(1000,)\n",
      "(1000,)\n",
      "[1 1 1 1 1 1 1 1 1 1] [1.98050687 2.61052564 3.13040361 1.93106572 0.38297361 3.80483739\n",
      " 0.09253454 2.95293591 2.13989532 1.27297048]\n",
      "(1000, 1) [[1]\n",
      " [1]\n",
      " [1]\n",
      " [1]\n",
      " [1]\n",
      " [1]\n",
      " [1]\n",
      " [1]\n",
      " [1]\n",
      " [1]]\n",
      "coef: [[0.]] intercept: [2.24536361]\n"
     ]
    },
    {
     "data": {
      "text/plain": [
       "{'copy_X': True,\n",
       " 'fit_intercept': True,\n",
       " 'n_jobs': None,\n",
       " 'normalize': 'deprecated',\n",
       " 'positive': False}"
      ]
     },
     "execution_count": 32,
     "metadata": {},
     "output_type": "execute_result"
    }
   ],
   "source": [
    "X = np.tile([1,1], 500)\n",
    "print(X.shape)\n",
    "Y = 2*X + np.random.normal(loc=0.0, scale=1.0, size=1000)\n",
    "print(Y.shape)\n",
    "Y_star = 1.1 * Y + np.random.normal(loc=0.0, scale=1.0)\n",
    "print(Y_star.shape)\n",
    "print(X[0:10],Y_star[0:10])\n",
    "X=X.reshape(-1,1)\n",
    "Y_star = Y_star.reshape(-1,1)\n",
    "print(X.shape,X[0:10])\n",
    "from sklearn.linear_model import LinearRegression\n",
    "reg = LinearRegression().fit(X, Y_star)\n",
    "print(\"coef:\",reg.coef_, \"intercept:\",reg.intercept_)\n",
    "\n",
    "reg.get_params()\n"
   ]
  },
  {
   "cell_type": "code",
   "execution_count": 43,
   "id": "1b16487e",
   "metadata": {},
   "outputs": [
    {
     "name": "stdout",
     "output_type": "stream",
     "text": [
      "x: [[1.        ]\n",
      " [1.00900901]\n",
      " [1.01801802]\n",
      " [1.02702703]\n",
      " [1.03603604]\n",
      " [1.04504505]\n",
      " [1.05405405]\n",
      " [1.06306306]\n",
      " [1.07207207]\n",
      " [1.08108108]] y: [[2.        ]\n",
      " [2.01801802]\n",
      " [2.03603604]\n",
      " [2.05405405]\n",
      " [2.07207207]\n",
      " [2.09009009]\n",
      " [2.10810811]\n",
      " [2.12612613]\n",
      " [2.14414414]\n",
      " [2.16216216]] y_star: [[1.64871507]\n",
      " [1.6757421 ]\n",
      " [1.70276913]\n",
      " [1.72979615]\n",
      " [1.75682318]\n",
      " [1.78385021]\n",
      " [1.81087724]\n",
      " [1.83790426]\n",
      " [1.86493129]\n",
      " [1.89195832]]\n",
      "x shape: (1000, 1) y shape: (1000, 1)  y_star shape: (1000, 1)\n",
      "coefficient: [[2.]] intercept: [-1.77635684e-15]\n",
      "coefficient: [[3.]] intercept: [-1.35128493]\n"
     ]
    }
   ],
   "source": [
    "x=np.linspace(1, 10,1000)\n",
    "\n",
    "y=2.*x\n",
    "y_star = 3.*x + np.random.normal(loc=0.0, scale=1.0)\n",
    "x=x.reshape(-1, 1)\n",
    "y=y.reshape(-1, 1)\n",
    "y_star=y_star.reshape(-1, 1)\n",
    "print(\"x:\",x[0:10],\"y:\",y[0:10],\"y_star:\",y_star[0:10])\n",
    "print(\"x shape:\",x.shape,\"y shape:\",y.shape,\" y_star shape:\",y_star.shape)\n",
    "reg = LinearRegression().fit(x, y)\n",
    "print(\"coefficient:\",reg.coef_,\"intercept:\",reg.intercept_)\n",
    "\n",
    "reg = LinearRegression().fit(x, y_star)\n",
    "print(\"coefficient:\",reg.coef_,\"intercept:\",reg.intercept_)\n"
   ]
  },
  {
   "cell_type": "code",
   "execution_count": 47,
   "id": "a9f51331",
   "metadata": {},
   "outputs": [
    {
     "data": {
      "text/html": [
       "<div>\n",
       "<style scoped>\n",
       "    .dataframe tbody tr th:only-of-type {\n",
       "        vertical-align: middle;\n",
       "    }\n",
       "\n",
       "    .dataframe tbody tr th {\n",
       "        vertical-align: top;\n",
       "    }\n",
       "\n",
       "    .dataframe thead th {\n",
       "        text-align: right;\n",
       "    }\n",
       "</style>\n",
       "<table border=\"1\" class=\"dataframe\">\n",
       "  <thead>\n",
       "    <tr style=\"text-align: right;\">\n",
       "      <th></th>\n",
       "      <th>Unnamed: 0</th>\n",
       "      <th>ir_ln</th>\n",
       "      <th>wc</th>\n",
       "      <th>sex</th>\n",
       "      <th>age</th>\n",
       "      <th>tbf</th>\n",
       "      <th>vat</th>\n",
       "    </tr>\n",
       "  </thead>\n",
       "  <tbody>\n",
       "    <tr>\n",
       "      <th>0</th>\n",
       "      <td>1</td>\n",
       "      <td>-0.093418</td>\n",
       "      <td>-1.313682</td>\n",
       "      <td>1</td>\n",
       "      <td>48</td>\n",
       "      <td>-0.657134</td>\n",
       "      <td>NaN</td>\n",
       "    </tr>\n",
       "    <tr>\n",
       "      <th>1</th>\n",
       "      <td>2</td>\n",
       "      <td>0.168209</td>\n",
       "      <td>-2.033662</td>\n",
       "      <td>0</td>\n",
       "      <td>54</td>\n",
       "      <td>-1.588216</td>\n",
       "      <td>NaN</td>\n",
       "    </tr>\n",
       "    <tr>\n",
       "      <th>2</th>\n",
       "      <td>3</td>\n",
       "      <td>0.573000</td>\n",
       "      <td>-0.261121</td>\n",
       "      <td>0</td>\n",
       "      <td>46</td>\n",
       "      <td>-1.103371</td>\n",
       "      <td>NaN</td>\n",
       "    </tr>\n",
       "    <tr>\n",
       "      <th>3</th>\n",
       "      <td>4</td>\n",
       "      <td>0.636772</td>\n",
       "      <td>0.863199</td>\n",
       "      <td>0</td>\n",
       "      <td>55</td>\n",
       "      <td>-1.478587</td>\n",
       "      <td>0.508325</td>\n",
       "    </tr>\n",
       "    <tr>\n",
       "      <th>4</th>\n",
       "      <td>5</td>\n",
       "      <td>0.929089</td>\n",
       "      <td>-1.205486</td>\n",
       "      <td>1</td>\n",
       "      <td>61</td>\n",
       "      <td>0.902014</td>\n",
       "      <td>NaN</td>\n",
       "    </tr>\n",
       "  </tbody>\n",
       "</table>\n",
       "</div>"
      ],
      "text/plain": [
       "   Unnamed: 0     ir_ln        wc  sex  age       tbf       vat\n",
       "0           1 -0.093418 -1.313682    1   48 -0.657134       NaN\n",
       "1           2  0.168209 -2.033662    0   54 -1.588216       NaN\n",
       "2           3  0.573000 -0.261121    0   46 -1.103371       NaN\n",
       "3           4  0.636772  0.863199    0   55 -1.478587  0.508325\n",
       "4           5  0.929089 -1.205486    1   61  0.902014       NaN"
      ]
     },
     "execution_count": 47,
     "metadata": {},
     "output_type": "execute_result"
    }
   ],
   "source": [
    "\n",
    "data=pd.read_csv(\"vat.csv\")\n",
    "data.head()"
   ]
  },
  {
   "cell_type": "code",
   "execution_count": 53,
   "id": "c271dc69",
   "metadata": {},
   "outputs": [
    {
     "name": "stdout",
     "output_type": "stream",
     "text": [
      "0     -0.093418\n",
      "1      0.168209\n",
      "2      0.573000\n",
      "3      0.636772\n",
      "4      0.929089\n",
      "         ...   \n",
      "645    0.063180\n",
      "646    0.806228\n",
      "647    0.588580\n",
      "648    0.425522\n",
      "649    0.343653\n",
      "Name: ir_ln, Length: 650, dtype: float64\n",
      "0     -1.313682\n",
      "1     -2.033662\n",
      "2     -0.261121\n",
      "3      0.863199\n",
      "4     -1.205486\n",
      "         ...   \n",
      "645   -0.649475\n",
      "646    2.283137\n",
      "647    0.085218\n",
      "648    0.733264\n",
      "649   -1.307914\n",
      "Name: wc, Length: 650, dtype: float64\n",
      "0      48\n",
      "1      54\n",
      "2      46\n",
      "3      55\n",
      "4      61\n",
      "       ..\n",
      "645    46\n",
      "646    58\n",
      "647    54\n",
      "648    62\n",
      "649    53\n",
      "Name: age, Length: 650, dtype: int64\n",
      "[0.25626815 0.01211408] -0.13014969684225003\n"
     ]
    }
   ],
   "source": [
    "print(data['ir_ln'])\n",
    "print(data['wc'])\n",
    "print(data['age'])\n",
    "df=data[[\"wc\",\"age\"]]\n",
    "df.head()\n",
    "reg = LinearRegression().fit(df, data['ir_ln'])\n",
    "print(reg.coef_,reg.intercept_)"
   ]
  },
  {
   "cell_type": "code",
   "execution_count": null,
   "id": "85314aab",
   "metadata": {},
   "outputs": [],
   "source": []
  }
 ],
 "metadata": {
  "kernelspec": {
   "display_name": "Python 3 (ipykernel)",
   "language": "python",
   "name": "python3"
  },
  "language_info": {
   "codemirror_mode": {
    "name": "ipython",
    "version": 3
   },
   "file_extension": ".py",
   "mimetype": "text/x-python",
   "name": "python",
   "nbconvert_exporter": "python",
   "pygments_lexer": "ipython3",
   "version": "3.9.10"
  }
 },
 "nbformat": 4,
 "nbformat_minor": 5
}
