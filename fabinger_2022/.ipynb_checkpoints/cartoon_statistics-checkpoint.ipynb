{
 "cells": [
  {
   "cell_type": "code",
   "execution_count": 1,
   "id": "c5f12f33",
   "metadata": {},
   "outputs": [
    {
     "name": "stdout",
     "output_type": "stream",
     "text": [
      "phat: 0.832  std_dev: 0.011822690049223148\n"
     ]
    }
   ],
   "source": [
    "#https://terpconnect.umd.edu/~egurarie/teaching/Biol709/Topic2/Lab07.html\n",
    "#Is the same as what ed boone was doing with t and z single sided tests and double sided chi square tests? \n",
    "import math\n",
    "\n",
    "p_hat = 832/1000\n",
    "std_dev = math.sqrt(((p_hat)*(1-p_hat))/1000)\n",
    "print(\"phat:\",p_hat,\" std_dev:\",std_dev)\n"
   ]
  },
  {
   "cell_type": "code",
   "execution_count": 4,
   "id": "373d188b",
   "metadata": {},
   "outputs": [
    {
     "data": {
      "text/plain": [
       "(0.8088279533031425, 0.8551720466968574)"
      ]
     },
     "execution_count": 4,
     "metadata": {},
     "output_type": "execute_result"
    }
   ],
   "source": [
    "import statsmodels.stats.proportion as sp\n",
    "sp.proportion_confint(832,1000) #95% confidence \n",
    "#what is c(-1,1)\n",
    "#same as R p.CI=p_hat+ c(-1,1)*z.critical*p.hat.sd\n",
    "#we are 95% confident teh true porportion of defective tacks p\n",
    "# is contained inn (80.8%-85.5%) ..draw this on the graph"
   ]
  },
  {
   "cell_type": "code",
   "execution_count": null,
   "id": "c37a54ad",
   "metadata": {},
   "outputs": [],
   "source": []
  }
 ],
 "metadata": {
  "kernelspec": {
   "display_name": "Python 3.9.7 ('cosmic')",
   "language": "python",
   "name": "python397jvsc74a57bd053d4678d88891fb05e04416eb1a742497c0b0baabdd52f6ad28cb1ed11944cce"
  },
  "language_info": {
   "codemirror_mode": {
    "name": "ipython",
    "version": 3
   },
   "file_extension": ".py",
   "mimetype": "text/x-python",
   "name": "python",
   "nbconvert_exporter": "python",
   "pygments_lexer": "ipython3",
   "version": "3.9.10"
  }
 },
 "nbformat": 4,
 "nbformat_minor": 5
}
