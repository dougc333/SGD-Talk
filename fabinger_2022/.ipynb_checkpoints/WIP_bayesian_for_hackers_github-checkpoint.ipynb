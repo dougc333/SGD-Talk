{
 "cells": [
  {
   "cell_type": "code",
   "execution_count": null,
   "id": "cee8dad1",
   "metadata": {},
   "outputs": [],
   "source": [
    "https://camdavidsonpilon.github.io/Probabilistic-Programming-and-Bayesian-Methods-for-Hackers/\n",
    "not complete.\n",
    "1) a more intuitive method of AB testing\n",
    "2) discovering cheating while maintaining privacy\n",
    "3) challenger space shuttle disaster\n",
    "4) bayesian posteriors and MCMC\n",
    "5) clustering data\n",
    "6) reddit comments worst to best\n",
    "7) ... more left out\n",
    "8) bayesian bandits,*** need to get to this. **\n",
    "\n",
    "\n"
   ]
  }
 ],
 "metadata": {
  "kernelspec": {
   "display_name": "Python 3.9.7 ('cosmic')",
   "language": "python",
   "name": "python397jvsc74a57bd053d4678d88891fb05e04416eb1a742497c0b0baabdd52f6ad28cb1ed11944cce"
  },
  "language_info": {
   "codemirror_mode": {
    "name": "ipython",
    "version": 3
   },
   "file_extension": ".py",
   "mimetype": "text/x-python",
   "name": "python",
   "nbconvert_exporter": "python",
   "pygments_lexer": "ipython3",
   "version": "3.9.10"
  }
 },
 "nbformat": 4,
 "nbformat_minor": 5
}
