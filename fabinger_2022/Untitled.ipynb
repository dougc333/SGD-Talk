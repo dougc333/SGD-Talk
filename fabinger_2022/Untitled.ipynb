{
 "cells": [
  {
   "cell_type": "code",
   "execution_count": 2,
   "id": "6b0db04d",
   "metadata": {},
   "outputs": [
    {
     "name": "stdout",
     "output_type": "stream",
     "text": [
      "dists: [0, 1, 2]\n"
     ]
    },
    {
     "data": {
      "text/plain": [
       "0.10000000000000009"
      ]
     },
     "execution_count": 2,
     "metadata": {},
     "output_type": "execute_result"
    }
   ],
   "source": [
    "from scipy import stats\n",
    "\n",
    "u = [0.5,0.2,0.3]\n",
    "v = [0.5,0.3,0.2]\n",
    "\n",
    "# create and array with cardinality 3 (your metric space is 3-dimensional and\n",
    "# where distance between each pair of adjacent elements is 1\n",
    "dists = [i for i in range(len(u))]\n",
    "print(\"dists:\",dists)\n",
    "stats.wasserstein_distance(range(len(u)), range(len(v)), u, v)\n"
   ]
  },
  {
   "cell_type": "code",
   "execution_count": null,
   "id": "e6d03453",
   "metadata": {},
   "outputs": [],
   "source": []
  }
 ],
 "metadata": {
  "kernelspec": {
   "display_name": "Python 3 (ipykernel)",
   "language": "python",
   "name": "python3"
  },
  "language_info": {
   "codemirror_mode": {
    "name": "ipython",
    "version": 3
   },
   "file_extension": ".py",
   "mimetype": "text/x-python",
   "name": "python",
   "nbconvert_exporter": "python",
   "pygments_lexer": "ipython3",
   "version": "3.9.7"
  }
 },
 "nbformat": 4,
 "nbformat_minor": 5
}
