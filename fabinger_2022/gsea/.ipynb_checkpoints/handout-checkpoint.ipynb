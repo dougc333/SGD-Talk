{
 "cells": [
  {
   "cell_type": "code",
   "execution_count": null,
   "id": "79621a1f",
   "metadata": {},
   "outputs": [],
   "source": [
    "https://www.youtube.com/watch?v=9vszIR8pZHc"
   ]
  },
  {
   "cell_type": "code",
   "execution_count": 7,
   "id": "f869d544",
   "metadata": {},
   "outputs": [
    {
     "name": "stdout",
     "output_type": "stream",
     "text": [
      "0.875 1.1 0.55 0.675 0.275 0.75 1.175 0.25\n",
      "1.75 0.625 0.2 1.875 0.35 0.25 1.025 1.6500000000000001\n",
      "diff: [('g8', 1.4000000000000001), ('g4', 1.2), ('g1', 0.875), ('g5', 0.07499999999999996), ('g7', -0.15000000000000013), ('g3', -0.35000000000000003), ('g2', -0.4750000000000001), ('g6', -0.5)]\n"
     ]
    }
   ],
   "source": [
    "g1_healthy = (1.+1.+.8+.7)/4\n",
    "g2_healthy = (1.2+1.1+1.+1.1)/4\n",
    "g3_healthy = (.5+.6+.4+.7)/4\n",
    "g4_healthy = (.7+.4+.7+.9)/4\n",
    "g5_healthy = (.2+.4+.3+.2)/4\n",
    "g6_healthy = (.9+.7+.9+.5)/4\n",
    "g7_healthy = (1.3+1.1+1.0+1.3)/4\n",
    "g8_healthy = (.1+.3+.5+.1)/4\n",
    "\n",
    "print(g1_healthy,g2_healthy,g3_healthy,g4_healthy,g5_healthy,g6_healthy,g7_healthy,g8_healthy)\n",
    "\n",
    "g1_disease = (2.0+1.9+1.5+1.6)/4\n",
    "g2_disease = (.6+.7+.5+.7)/4\n",
    "g3_disease = (.1+.2+.2+.3)/4\n",
    "g4_disease = (2.2+2.0+2.0+1.3)/4\n",
    "g5_disease = (.3+.2+.5+.4)/4\n",
    "g6_disease = (.1+.5+.2+.2)/4\n",
    "g7_disease = (.9+1.5+.7+1.0)/4\n",
    "g8_disease = (1.4+1.9+1.6+1.7)/4\n",
    "\n",
    "print(g1_disease,g2_disease,g3_disease,g4_disease,g5_disease,g6_disease,g7_disease,g8_disease)\n",
    "#rank the differences\n",
    "diff=[(\"g1\",g1_disease-g1_healthy),(\"g2\",g2_disease-g2_healthy),(\"g3\",g3_disease-g3_healthy),(\"g4\",g4_disease-g4_healthy),\n",
    "      (\"g5\",g5_disease-g5_healthy),\n",
    "      (\"g6\",g6_disease-g6_healthy),(\"g7\",g7_disease-g7_healthy),(\"g8\",g8_disease-g8_healthy)]\n",
    "diff.sort(key = lambda x: x[1],reverse=True)\n",
    "print(\"diff:\",diff)"
   ]
  },
  {
   "cell_type": "code",
   "execution_count": 10,
   "id": "84551355",
   "metadata": {},
   "outputs": [
    {
     "name": "stdout",
     "output_type": "stream",
     "text": [
      "upstep: 1.7320508075688772 downstep: -0.5773502691896257\n"
     ]
    }
   ],
   "source": [
    "#https://www.science.org/doi/10.1126/scisignal.2001966\n",
    "#the supplementary material is at this link. \n",
    "#this is the same as the table in the pdf\n",
    "#    healthy\n",
    "#    1.0\n",
    "#    1.2\n",
    "#    0.5\n",
    "#    0.7\n",
    "#    0.2\n",
    "#    0.9\n",
    "#    1.3\n",
    "#    0.1\n",
    "import math\n",
    "N=8 #total number of genes\n",
    "G=2 #number of genes in candidate set, \n",
    "up_step = math.sqrt((N-G)/G)\n",
    "down_step = math.sqrt(G/(N-G))\n",
    "print(\"upstep:\",up_step,\"downstep:\",-down_step)"
   ]
  },
  {
   "cell_type": "code",
   "execution_count": null,
   "id": "57aba4ec",
   "metadata": {},
   "outputs": [],
   "source": [
    "#permute labels\n",
    "https://www.pathwaycommons.org/guide/primers/data_analysis/gsea/\n",
    "bootstrapping for confidence intervals. \n"
   ]
  }
 ],
 "metadata": {
  "kernelspec": {
   "display_name": "Python 3.9.7 ('cosmic')",
   "language": "python",
   "name": "python397jvsc74a57bd053d4678d88891fb05e04416eb1a742497c0b0baabdd52f6ad28cb1ed11944cce"
  },
  "language_info": {
   "codemirror_mode": {
    "name": "ipython",
    "version": 3
   },
   "file_extension": ".py",
   "mimetype": "text/x-python",
   "name": "python",
   "nbconvert_exporter": "python",
   "pygments_lexer": "ipython3",
   "version": "3.9.10"
  }
 },
 "nbformat": 4,
 "nbformat_minor": 5
}
