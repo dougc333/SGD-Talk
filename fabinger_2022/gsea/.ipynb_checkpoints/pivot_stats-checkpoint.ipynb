{
 "cells": [
  {
   "cell_type": "code",
   "execution_count": 3,
   "id": "4f3cddf0",
   "metadata": {},
   "outputs": [
    {
     "name": "stdout",
     "output_type": "stream",
     "text": [
      "std_dev: 0.011822690049223148\n"
     ]
    }
   ],
   "source": [
    "#https://terpconnect.umd.edu/~egurarie/teaching/Biol709/Topic2/Lab07.html#12_hypothesis_test_for_bernoulli_trial\n",
    "#pivot point and confidence interval for bernoulli RV\n",
    "#Suppose the Bernoulli Tack Factory is churning out brass tacks, some of which (inevitably) are defective. \n",
    "#You want to know guess the the true proportion p of defective tacks is. \n",
    "#So you sample n=1000 tacks, and, say, x = 832 are good ones. \n",
    "#Obviously, our best guess for the probability is pˆ=x/n=832/1000=0.832.\n",
    "\n",
    "#Now we ask: “How good is this estimate?” This is answered with a point estimate and a confidence interval \n",
    "#(at a certain confidence level, e.g. 95%).\n",
    "import math\n",
    "\n",
    "mean = 832/1000\n",
    "std_dev = math.sqrt((mean*(1-mean))/1000)\n",
    "print(\"std_dev:\",std_dev)\n",
    "#is this the same qnorm for bayesian? \n"
   ]
  },
  {
   "cell_type": "code",
   "execution_count": null,
   "id": "ca1c7bc9",
   "metadata": {},
   "outputs": [],
   "source": []
  }
 ],
 "metadata": {
  "kernelspec": {
   "display_name": "Python 3.9.7 ('cosmic')",
   "language": "python",
   "name": "python397jvsc74a57bd053d4678d88891fb05e04416eb1a742497c0b0baabdd52f6ad28cb1ed11944cce"
  },
  "language_info": {
   "codemirror_mode": {
    "name": "ipython",
    "version": 3
   },
   "file_extension": ".py",
   "mimetype": "text/x-python",
   "name": "python",
   "nbconvert_exporter": "python",
   "pygments_lexer": "ipython3",
   "version": "3.9.10"
  }
 },
 "nbformat": 4,
 "nbformat_minor": 5
}
