{
 "cells": [
  {
   "cell_type": "code",
   "execution_count": null,
   "id": "bfd58ded",
   "metadata": {},
   "outputs": [],
   "source": [
    "#https://online.stat.psu.edu/stat415/book/export/html/838\n",
    "<h6>KS test</h6>\n",
    "<p>The KS Test is a hypothesis test which tests if a hypothesis Emprical distribution function $F_h$ for an ordered set of can be defined below as  $F_h$ by diving the probabity into equal probabiities for each \n",
    "ordered value. This is an example of generating a test statistic by rearranging our data into an ordered set. \n",
    "Given an observed sample from a Random Variable $X$, $x_1,x_2,...x_n$ then the empirical distribution function $F_h$ is equal to the number of $x_n$ which is less or equal to a given value x. This value \"x\" is not a single value but a set of ordered values $y_1, y_2, ... y_n$ where $y_1<y_2, ...$. $F_h$ is defined as \n",
    " $$\n",
    " F_h = \\left\\{\n",
    "     \\begin{array}{11}\n",
    "     0\\ for\\ x<y_1\\\\\n",
    "     \\frac{k}{n}\\ for\\ y_k<=x<y_{k+1}\\ k=1,2,...(n-1)\\\\\n",
    "     1\\ for\\ x>=y_n\n",
    "     \\end{array}   \n",
    "    \\right.\n",
    " $$\n",
    "     If 2 observations are equal $F_n$ changes by $1$ and if observations are not equal then $F_n$ changes by $2$.Looks reversed and wrong? \n",
    "</p>"
   ]
  },
  {
   "cell_type": "code",
   "execution_count": null,
   "id": "1b2cecb4",
   "metadata": {},
   "outputs": [],
   "source": [
    "<h6>Example</h6>\n",
    "<p>A random sample of n=8 people swim x number of times per week. 8 people swam per week: {0 1 2 2 4 6 6 7}. k=8. Calculate the empirical distribution function $F_h$ The first\n",
    "    step is to order the $y_n observations$. The smallest value is 0 which is $y_1$, $F_h = 0\\ for\\ x<0$. Iterate through k for unique ordered $y_n$,k=1; $1<=x<2$ $F_h = \\frac{1}{8}$,k=2; $2<=x<4$ $F_h = \\frac{2}{8}+$, k=3;$4<x<5$ $F_h = \\frac{1}{8}$  </p>\n",
    "    <p>A more clear derivation is to look at each interval and count the number of observagions less than k.\n",
    "    $x<0$, \n",
    "    <br/>\n",
    "    $0<=x<1$, fraction less than 1=1/8\n",
    "    <br/>\n",
    "    $1<=x<2$,fraction less than 2: 2/8\n",
    "    <br/>\n",
    "    $2<=x<4$,fraction less than 4: 4/8\n",
    "    <br/>\n",
    "    $4<=x<6$, fraction less than 6: 5/8\n",
    "    <br/>\n",
    "    $6<=x<7$, fraction less than 7: 7/8\n",
    "    <br/>\n",
    "    $7<=x$, equal to 1. \n",
    "    <br/>\n",
    "    </p>\n",
    "    <p>An easy mistake is to treat the inequality as intervals and include the probability for the intervals. This\n",
    "    does not follow the set operations for counting ordered sets. Tricky concept. </p>"
   ]
  },
  {
   "cell_type": "code",
   "execution_count": null,
   "id": "f234c320",
   "metadata": {},
   "outputs": [],
   "source": [
    "#plot a historgram per batch for data to verify CLT. Then you can test if batch meets normality. \n",
    "#make fake data. Is $F_h$ same as die or multinomial? \n",
    "<p>\n",
    "1\n",
    "<br/>\n",
    "2\n",
    "<p>"
   ]
  },
  {
   "cell_type": "code",
   "execution_count": null,
   "id": "124ac4a5",
   "metadata": {},
   "outputs": [],
   "source": []
  }
 ],
 "metadata": {
  "kernelspec": {
   "display_name": "Python 3.9.7 ('cosmic')",
   "language": "python",
   "name": "python397jvsc74a57bd053d4678d88891fb05e04416eb1a742497c0b0baabdd52f6ad28cb1ed11944cce"
  },
  "language_info": {
   "codemirror_mode": {
    "name": "ipython",
    "version": 3
   },
   "file_extension": ".py",
   "mimetype": "text/x-python",
   "name": "python",
   "nbconvert_exporter": "python",
   "pygments_lexer": "ipython3",
   "version": "3.9.10"
  }
 },
 "nbformat": 4,
 "nbformat_minor": 5
}
