{
 "cells": [
  {
   "cell_type": "code",
   "execution_count": null,
   "id": "02cd77df",
   "metadata": {},
   "outputs": [],
   "source": [
    "#https://online.stat.psu.edu/stat415/book/export/html/838\n",
    "<h6>KS test</h6>\n",
    "<p>The KS Test is a hypothesis test which tests if a hypothesis emprical cumulative distribution function $F_h$ for an ordered set of can be defined below as  $F_h$ by diving the probabity into equal probabiities for each \n",
    "ordered value. This is an example of generating a test statistic by rearranging our data into an ordered set. \n",
    "Given an observed sample from a Random Variable $X$, $x_1,x_2,...x_n$ then the empirical distribution function $F_h$ is equal to the number of $x_n$ which is less or equal to a given value x. This value \"x\" is not a single value but a set of ordered values $y_1, y_2, ... y_n$ where $y_1<y_2, ...$. $F_h$ is defined as \n",
    " $$\n",
    " F_h = \\left\\{\n",
    "     \\begin{array}{11}\n",
    "     0\\ for\\ x<y_1\\\\\n",
    "     \\frac{k}{n}\\ for\\ y_k<=x<y_{k+1}\\ k=1,2,...(n-1)\\\\\n",
    "     1\\ for\\ x>=y_n\n",
    "     \\end{array}   \n",
    "    \\right.\n",
    " $$\n",
    "     If 2 observations are equal $F_n$ changes by $1$ and if observations are not equal then $F_n$ changes by $2$.Looks reversed and wrong? \n",
    "</p>\n",
    "<P>The ordering allows us to compare to a CDF and plot on a graph to compate the EDF vs a CDF. This allows us to\n",
    "     do hypothesis testing between an EDF and CDF. q) we can order from highest to lowest to give a 1 sided statistic\n",
    "     can we order by peak, then distribute the next 2 highest values on either side to create a 2 tailed statistic? Proof?</P>\n",
    "     \n",
    "<p>why is there no such thing as an empirical PDF? only an empirical CDF? We have to use the ordered statistic for CDF. \n",
    "     Whereas a RV coin/die can have a CDF and PDF. Test with simulation.empirical CDF to bernoulli RV and multinomial RV CDF</p>  \n",
    "     "
   ]
  },
  {
   "cell_type": "code",
   "execution_count": null,
   "id": "ec08f463",
   "metadata": {},
   "outputs": [],
   "source": [
    "<h6>Example find Empirical CDF</h6>\n",
    "<p>A random sample of n=8 people swim x number of times per week. 8 people swam per week: {0 1 2 2 4 6 6 7}. k=8. Calculate the empirical distribution function $F_h$ The first\n",
    "    step is to order the $y_n observations$. The smallest value is 0 which is $y_1$, $F_h = 0\\ for\\ x<0$. Iterate through k for unique ordered $y_n$,k=1; $1<=x<2$ $F_h = \\frac{1}{8}$,k=2; $2<=x<4$ $F_h = \\frac{2}{8}+$, k=3;$4<x<5$ $F_h = \\frac{1}{8}$  </p>\n",
    "    <p>A more clear derivation is to look at each interval and count the number of observagions less than k.\n",
    "    $x<0$, \n",
    "    <br/>\n",
    "    $0<=x<1$, fraction less than 1=1/8\n",
    "    <br/>\n",
    "    $1<=x<2$,fraction less than 2: 2/8\n",
    "    <br/>\n",
    "    $2<=x<4$,fraction less than 4: 4/8\n",
    "    <br/>\n",
    "    $4<=x<6$, fraction less than 6: 5/8\n",
    "    <br/>\n",
    "    $6<=x<7$, fraction less than 7: 7/8\n",
    "    <br/>\n",
    "    $7<=x$, equal to 1. \n",
    "    <br/>\n",
    "    </p>\n",
    "    <p>An easy mistake is to treat the inequality as intervals and include all the observations less than the current value. We\n",
    "    are cmputing a CDF not PDF</p>"
   ]
  },
  {
   "cell_type": "code",
   "execution_count": null,
   "id": "921ada3e",
   "metadata": {},
   "outputs": [],
   "source": [
    "<h6>KS test statistic</h6>\n",
    "<p>\n",
    "$D_n = sup_x|F_h(x)-F_0(x)|$ where the supremum is the absolute max of the difference between the hypothesis function\n",
    "and empirical distribution function. $D_n$ is the upper bound of the difference between the 2 distribution. Is this the sum of \n",
    "all the differences vs. one absolute difference? Seems odd if 1 observation can be a valid hypothesis. What if it is an outlier? \n",
    "</p>\n",
    "<p>How to prove $F_h$ with probability 1 and uniformly in x, to the theoretical distribution function $F(x)$? Need to clear up\n",
    "definitions, This is to the hypothesis distribution or to any distribution? </p>"
   ]
  },
  {
   "cell_type": "code",
   "execution_count": null,
   "id": "28deb8dd",
   "metadata": {},
   "outputs": [],
   "source": [
    "#plot a historgram per batch for data to verify CLT. Then you can test if batch meets normality. \n",
    "#make fake data. Is $F_h$ same as die or multinomial? \n",
    "\n",
    "<p>Example2:\n",
    "    \n",
    "    \n",
    "    \n",
    "    \n",
    "</p>"
   ]
  },
  {
   "cell_type": "code",
   "execution_count": null,
   "id": "470c0a21",
   "metadata": {},
   "outputs": [],
   "source": []
  }
 ],
 "metadata": {
  "kernelspec": {
   "display_name": "Python 3.9.7 ('cosmic')",
   "language": "python",
   "name": "python397jvsc74a57bd053d4678d88891fb05e04416eb1a742497c0b0baabdd52f6ad28cb1ed11944cce"
  },
  "language_info": {
   "codemirror_mode": {
    "name": "ipython",
    "version": 3
   },
   "file_extension": ".py",
   "mimetype": "text/x-python",
   "name": "python",
   "nbconvert_exporter": "python",
   "pygments_lexer": "ipython3",
   "version": "3.9.10"
  }
 },
 "nbformat": 4,
 "nbformat_minor": 5
}
