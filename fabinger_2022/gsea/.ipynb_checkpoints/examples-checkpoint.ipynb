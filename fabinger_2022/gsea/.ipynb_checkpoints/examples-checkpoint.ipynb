{
 "cells": [
  {
   "cell_type": "code",
   "execution_count": null,
   "id": "79621a1f",
   "metadata": {},
   "outputs": [],
   "source": [
    "https://www.youtube.com/watch?v=9vszIR8pZHc"
   ]
  },
  {
   "cell_type": "code",
   "execution_count": 8,
   "id": "f869d544",
   "metadata": {},
   "outputs": [
    {
     "name": "stdout",
     "output_type": "stream",
     "text": [
      "0.875 1.1 0.55 0.675 0.275 0.75 1.175 0.25\n",
      "mean healthy: 0.70625\n",
      "var healthy: 0.10308593750000003\n",
      "1.75 0.625 0.2 1.875 0.35 0.25 1.025 1.6500000000000001\n",
      "mean disease: 0.965625\n",
      "var disease: 0.43842773437500004\n",
      "diff: [('g8', 1.4000000000000001), ('g4', 1.2), ('g1', 0.875), ('g5', 0.07499999999999996), ('g7', -0.15000000000000013), ('g3', -0.35000000000000003), ('g2', -0.4750000000000001), ('g6', -0.5)]\n"
     ]
    }
   ],
   "source": [
    "import numpy as np\n",
    "\n",
    "g1_healthy = (1.+1.+.8+.7)/4\n",
    "g2_healthy = (1.2+1.1+1.+1.1)/4\n",
    "g3_healthy = (.5+.6+.4+.7)/4\n",
    "g4_healthy = (.7+.4+.7+.9)/4\n",
    "g5_healthy = (.2+.4+.3+.2)/4\n",
    "g6_healthy = (.9+.7+.9+.5)/4\n",
    "g7_healthy = (1.3+1.1+1.0+1.3)/4\n",
    "g8_healthy = (.1+.3+.5+.1)/4\n",
    "\n",
    "print(g1_healthy,g2_healthy,g3_healthy,g4_healthy,g5_healthy,g6_healthy,g7_healthy,g8_healthy)\n",
    "print(\"mean healthy:\",np.mean([g1_healthy,g2_healthy,g3_healthy,g4_healthy,g5_healthy,g6_healthy,g7_healthy,g8_healthy]))\n",
    "print(\"var healthy:\",np.var([g1_healthy,g2_healthy,g3_healthy,g4_healthy,g5_healthy,g6_healthy,g7_healthy,g8_healthy]))\n",
    "\n",
    "g1_disease = (2.0+1.9+1.5+1.6)/4\n",
    "g2_disease = (.6+.7+.5+.7)/4\n",
    "g3_disease = (.1+.2+.2+.3)/4\n",
    "g4_disease = (2.2+2.0+2.0+1.3)/4\n",
    "g5_disease = (.3+.2+.5+.4)/4\n",
    "g6_disease = (.1+.5+.2+.2)/4\n",
    "g7_disease = (.9+1.5+.7+1.0)/4\n",
    "g8_disease = (1.4+1.9+1.6+1.7)/4\n",
    "#this is supposed to be normalized to a gaussian with mean 1 and variacne .5? This is not true. that \n",
    "#was a hypothetical example in the slides. we dont know what the mean is. \n",
    "print(g1_disease,g2_disease,g3_disease,g4_disease,g5_disease,g6_disease,g7_disease,g8_disease)\n",
    "print(\"mean disease:\",np.mean([g1_disease,g2_disease,g3_disease,g4_disease,g5_disease,g6_disease,g7_disease,g8_disease]))\n",
    "print(\"var disease:\",np.var([g1_disease,g2_disease,g3_disease,g4_disease,g5_disease,g6_disease,g7_disease,g8_disease]))\n",
    "\n",
    "#rank the differences\n",
    "diff=[(\"g1\",g1_disease-g1_healthy),(\"g2\",g2_disease-g2_healthy),(\"g3\",g3_disease-g3_healthy),(\"g4\",g4_disease-g4_healthy),\n",
    "      (\"g5\",g5_disease-g5_healthy),\n",
    "      (\"g6\",g6_disease-g6_healthy),(\"g7\",g7_disease-g7_healthy),(\"g8\",g8_disease-g8_healthy)]\n",
    "diff.sort(key = lambda x: x[1],reverse=True)\n",
    "print(\"diff:\",diff)"
   ]
  },
  {
   "cell_type": "code",
   "execution_count": 48,
   "id": "84551355",
   "metadata": {},
   "outputs": [
    {
     "name": "stdout",
     "output_type": "stream",
     "text": [
      "upstep: 1.7320508075688772 downstep: -0.5773502691896257\n",
      "x: ('d', 1.55) [0] [0]\n",
      "down: ('d', 1.55) running_sum: -0.5773502691896257 [0, 0] [0, -0.5773502691896257]\n",
      "x: ('a', 0.95) [0, 0] [0, -0.5773502691896257]\n",
      "down: ('a', 0.95) running_sum: -1.1547005383792515 [0, 0, 1] [0, -0.5773502691896257, -1.1547005383792515]\n",
      "x: ('e', -0.050000000000000044) [0, 0, 1] [0, -0.5773502691896257, -1.1547005383792515]\n",
      "down: ('e', -0.050000000000000044) running_sum: -1.7320508075688772 [0, 0, 1, 2] [0, -0.5773502691896257, -1.1547005383792515, -1.7320508075688772]\n",
      "x: ('c', -0.4) [0, 0, 1, 2] [0, -0.5773502691896257, -1.1547005383792515, -1.7320508075688772]\n",
      "down: ('c', -0.4) running_sum: -2.309401076758503 [0, 0, 1, 2, 3] [0, -0.5773502691896257, -1.1547005383792515, -1.7320508075688772, -2.309401076758503]\n",
      "x: ('b', -0.5) [0, 0, 1, 2, 3] [0, -0.5773502691896257, -1.1547005383792515, -1.7320508075688772, -2.309401076758503]\n",
      "down: ('b', -0.5) running_sum: -2.8867513459481287 [0, 0, 1, 2, 3, 4] [0, -0.5773502691896257, -1.1547005383792515, -1.7320508075688772, -2.309401076758503, -2.8867513459481287]\n",
      "[0, 0, 1, 2, 3, 4] [0, -0.5773502691896257, -1.1547005383792515, -1.7320508075688772, -2.309401076758503, -2.8867513459481287]\n"
     ]
    },
    {
     "data": {
      "image/png": "[encoded data removed]",
      "text/plain": [
       "<Figure size 432x288 with 1 Axes>"
      ]
     },
     "metadata": {
      "needs_background": "light"
     },
     "output_type": "display_data"
    }
   ],
   "source": [
    "#https://www.science.org/doi/10.1126/scisignal.2001966\n",
    "#the supplementary material is at this link. \n",
    "#this is the same as the table in the pdf\n",
    "#    healthy\n",
    "#    1.0\n",
    "#    1.2\n",
    "#    0.5\n",
    "#    0.7\n",
    "#    0.2\n",
    "#    0.9\n",
    "#    1.3\n",
    "#    0.1\n",
    "import math\n",
    "import matplotlib.pyplot as plt\n",
    "N=8 #total number of genes\n",
    "G=2 #number of genes in candidate set, \n",
    "up_step = math.sqrt((N-G)/G)\n",
    "down_step = math.sqrt(G/(N-G))\n",
    "print(\"upstep:\",up_step,\"downstep:\",-down_step)\n",
    "#walk in the ordered high to low set of genes, if not in set go down, if up go up\n",
    "candidate_set={'g2','g5'}\n",
    "running_sum=0\n",
    "x_coord=[0]\n",
    "y_coord=[0]\n",
    "for idx,x in enumerate(diff):\n",
    "    print(\"x:\",x,x_coord,y_coord)\n",
    "    x_coord.append(idx+1) \n",
    "    if x[0] not in candidate_set:\n",
    "        running_sum-=down_step\n",
    "        y_coord.append(running_sum)\n",
    "        print(\"down:\",x,\"running_sum:\",running_sum,x_coord,y_coord)\n",
    "    else:\n",
    "        running_sum+=up_step\n",
    "        y_coord.append(running_sum)\n",
    "        print(\"up:\",x,\"running_sum:\",running_sum,x_coord,y_coord)\n",
    "\n",
    "print(x_coord,y_coord)\n",
    "plt.plot(x_coord,y_coord)\n",
    "plt.show()\n",
    "#examples this is correct, the rank is 4 on the solutoin but we start graphing from 0. they start from 1\n",
    "#file:///Users/dougchang/Downloads/2001966_answerkey%20(2).pdf"
   ]
  },
  {
   "cell_type": "code",
   "execution_count": 30,
   "id": "57aba4ec",
   "metadata": {},
   "outputs": [],
   "source": [
    "#permute labels\n"
   ]
  },
  {
   "cell_type": "code",
   "execution_count": 44,
   "id": "1e11cdab",
   "metadata": {},
   "outputs": [
    {
     "name": "stdout",
     "output_type": "stream",
     "text": [
      "healthy: 1.0 1.15 0.55 0.55 0.30000000000000004\n",
      "disease: 1.95 0.6499999999999999 0.15000000000000002 2.1 0.25\n",
      "diff: [('d', 1.55), ('a', 0.95), ('e', -0.050000000000000044), ('c', -0.4), ('b', -0.5)]\n",
      "up_step: 1.224744871391589  down_step: 0.816496580927726\n",
      "x[0]: d\n",
      "x[0]: a\n",
      "x[0]: e\n",
      "x[0]: c\n",
      "x[0]: b\n",
      "x_coord: [0, 1, 2, 3, 4, 5]  y_coord: [0, -0.816496580927726, -1.632993161855452, -2.449489742783178, -1.224744871391589, 0.0]\n"
     ]
    },
    {
     "data": {
      "image/png": "[encoded data removed]",
      "text/plain": [
       "<Figure size 432x288 with 1 Axes>"
      ]
     },
     "metadata": {
      "needs_background": "light"
     },
     "output_type": "display_data"
    }
   ],
   "source": [
    "#smaller example\n",
    "import  matplotlib.pyplot as plt\n",
    "\n",
    "a_healthy=(1.+1.)/2\n",
    "b_healthy=(1.2+1.1)/2\n",
    "c_healthy=(.5+.6)/2\n",
    "d_healthy=(.7+.4)/2\n",
    "e_healthy=(.2+.4)/2\n",
    "\n",
    "a_disease=(2.+1.9)/2\n",
    "b_disease=(.6+.7)/2\n",
    "c_disease=(.1+.2)/2\n",
    "d_disease=(2.2+2.0)/2\n",
    "e_disease=(.3+.2)/2\n",
    "\n",
    "print(\"healthy:\",a_healthy,b_healthy,c_healthy,d_healthy,e_healthy)\n",
    "print(\"disease:\",a_disease,b_disease,c_disease,d_disease,e_disease)\n",
    "diff=[(\"a\",a_disease-a_healthy),(\"b\",b_disease-b_healthy),(\"c\",c_disease-c_healthy),(\"d\",d_disease-d_healthy),(\"e\",e_disease-e_healthy)]\n",
    "diff.sort(key = lambda x: x[1],reverse=True)\n",
    "print(\"diff:\",diff)\n",
    "N=5\n",
    "G=2\n",
    "candidate_set={\"b\",\"c\"}\n",
    "up_step = math.sqrt((N-G)/G)\n",
    "down_step = math.sqrt(G/(N-G))\n",
    "print(\"up_step:\",up_step,\" down_step:\",down_step)\n",
    "x_coord=[0]\n",
    "y_coord=[0]\n",
    "current_x=0\n",
    "current_y=0\n",
    "for idc,x in enumerate(diff):\n",
    "    print(\"x[0]:\",x[0])\n",
    "    if x[0] not in candidate_set:\n",
    "        current_x+=1\n",
    "        x_coord.append(current_x)\n",
    "        current_y -= down_step\n",
    "        y_coord.append(current_y)\n",
    "    else:\n",
    "        current_x+=1\n",
    "        x_coord.append(current_x)\n",
    "        current_y+=up_step\n",
    "        y_coord.append(current_y)\n",
    "print(\"x_coord:\",x_coord,\" y_coord:\",y_coord)\n",
    "plt.plot(x_coord,y_coord)\n",
    "plt.show()"
   ]
  },
  {
   "cell_type": "code",
   "execution_count": null,
   "id": "1501dbbd",
   "metadata": {},
   "outputs": [],
   "source": [
    "#random walk\n"
   ]
  }
 ],
 "metadata": {
  "kernelspec": {
   "display_name": "Python 3.9.7 ('cosmic')",
   "language": "python",
   "name": "python397jvsc74a57bd053d4678d88891fb05e04416eb1a742497c0b0baabdd52f6ad28cb1ed11944cce"
  },
  "language_info": {
   "codemirror_mode": {
    "name": "ipython",
    "version": 3
   },
   "file_extension": ".py",
   "mimetype": "text/x-python",
   "name": "python",
   "nbconvert_exporter": "python",
   "pygments_lexer": "ipython3",
   "version": "3.9.10"
  }
 },
 "nbformat": 4,
 "nbformat_minor": 5
}
