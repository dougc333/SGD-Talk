{
 "cells": [
  {
   "cell_type": "markdown",
   "id": "000f9890",
   "metadata": {},
   "source": [
    "# 2 populations, 2 different machines with different means of sesnsor data. Is this statistically significant? \n",
    "#is one machine performing. better than another machine? \n",
    "\n",
    "<img src=\"boone_2_sample_means.png\">"
   ]
  },
  {
   "cell_type": "markdown",
   "id": "56062638",
   "metadata": {},
   "source": [
    "The MLE approach is:\n",
    "    $\\mu_1 - \\mu_2 +/- t_{\\frac{1-C}{2.df}}= \\sqrt{\\frac{S_{1}^2}{n_1}+\\frac{S_{2}^2}{n_2}} $"
   ]
  },
  {
   "cell_type": "code",
   "execution_count": null,
   "id": "893f1e83",
   "metadata": {},
   "outputs": [],
   "source": [
    "#review fabinger notes how to derive inference between means for MLE"
   ]
  }
 ],
 "metadata": {
  "kernelspec": {
   "display_name": "Python 3 (ipykernel)",
   "language": "python",
   "name": "python3"
  },
  "language_info": {
   "codemirror_mode": {
    "name": "ipython",
    "version": 3
   },
   "file_extension": ".py",
   "mimetype": "text/x-python",
   "name": "python",
   "nbconvert_exporter": "python",
   "pygments_lexer": "ipython3",
   "version": "3.9.10"
  }
 },
 "nbformat": 4,
 "nbformat_minor": 5
}
