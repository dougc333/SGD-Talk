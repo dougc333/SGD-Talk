{
 "cells": [
  {
   "cell_type": "code",
   "execution_count": 18,
   "id": "cde3bb86",
   "metadata": {},
   "outputs": [
    {
     "name": "stdout",
     "output_type": "stream",
     "text": [
      "/Users/dougchang/test_stuff/fabinger_2022/independence\n",
      "     Subject TRT Gender  Age Ptest  Imp1  Imp2  Imp3  Imp4   Imp5 \n",
      "0  01.2016.1   N      F   50   Pos    73    65    63     68     61\n",
      "1  01.2016.2   N      M   31   Pos    67    65    73     64     60\n",
      "2  01.2016.3   L      F   31   Neg    73    63    70     62     56\n",
      "3  01.2016.4   N      M   50   Pos    72    69    62     62     55\n",
      "4  01.2016.5   L      M   42   Pos    74    66    66     64     59\n"
     ]
    },
    {
     "data": {
      "text/plain": [
       "Ttest_1sampResult(statistic=3.6742346141747784, pvalue=0.0011947874173848085)"
      ]
     },
     "execution_count": 18,
     "metadata": {},
     "output_type": "execute_result"
    },
    {
     "data": {
      "image/png": "[encoded data removed]",
      "text/plain": [
       "<Figure size 432x288 with 1 Axes>"
      ]
     },
     "metadata": {
      "needs_background": "light"
     },
     "output_type": "display_data"
    }
   ],
   "source": [
    "import pandas as pd\n",
    "import os\n",
    "from scipy.stats import ttest_1samp\n",
    "#1 sample t-test\n",
    "print(os.getcwd())\n",
    "df = pd.read_excel(\"Impulsivity.xlsx\")\n",
    "print(df.head())\n",
    "#hypothesis test\n",
    "# H0: mu = 70\n",
    "# HA: mu !=70\n",
    "#\n",
    "# Significance level:.013\n",
    "# test:\n",
    "#if pvalue<alpha we reject H0 in favor of HA\n",
    "#\n",
    "import matplotlib.pyplot as plt\n",
    "plt.boxplot(df.Imp1)\n",
    "ttest_1samp(df.Imp1,popmean=70)\n",
    "#pvalue less than significance level so we reject H0\n",
    "#we have sufficient evidence the mean is not  70."
   ]
  },
  {
   "cell_type": "code",
   "execution_count": 24,
   "id": "b4e8472d",
   "metadata": {},
   "outputs": [
    {
     "name": "stdout",
     "output_type": "stream",
     "text": [
      "8     73\n",
      "10    76\n",
      "13    68\n",
      "16    72\n",
      "18    75\n",
      "Name: Imp1, dtype: int64\n",
      "2     73\n",
      "4     74\n",
      "5     77\n",
      "6     71\n",
      "11    68\n",
      "Name: Imp1, dtype: int64\n"
     ]
    },
    {
     "data": {
      "text/plain": [
       "Ttest_indResult(statistic=-0.32972611344447444, pvalue=0.7471820866064731)"
      ]
     },
     "execution_count": 24,
     "metadata": {},
     "output_type": "execute_result"
    },
    {
     "data": {
      "image/png": "[encoded data removed]",
      "text/plain": [
       "<Figure size 432x288 with 1 Axes>"
      ]
     },
     "metadata": {
      "needs_background": "light"
     },
     "output_type": "display_data"
    }
   ],
   "source": [
    "#2 sample t-test or AB test\n",
    "C1 = df.Imp1[df.TRT == \"C\"]\n",
    "L1 = df.Imp1[df.TRT == \"L\"]\n",
    "print(C1.head())\n",
    "print(L1.head())\n",
    "#box plot to see if any diff between c1, l1\n",
    "plt.boxplot([C1,L1])\n",
    "#hypothesis test\n",
    "#mu_C1: pop mean of trt C1\n",
    "#mu_L1: pop mean of tretmane L1\n",
    "#H0 mu_C1=mu_L1\n",
    "#HA=mu_C1!=mu_L1\n",
    "#sigif level = .0019\n",
    "#test stat: ttest_ind\n",
    "#decisino: if pvalue<sig reject H0\n",
    "\n",
    "from scipy.stats import ttest_ind\n",
    "ttest_ind(C1,L1,equal_var=False)\n",
    "#tvalue=.329\n",
    "#pvalue=.74\n",
    "#> so we fieil to reject H0\n",
    "#concluseion: we have insufficient evidence to claim C1 and L1 differ for mean"
   ]
  },
  {
   "cell_type": "code",
   "execution_count": 31,
   "id": "a29bb7e3",
   "metadata": {},
   "outputs": [
    {
     "data": {
      "text/plain": [
       "(0.6836843529462662, 0.739056171835075)"
      ]
     },
     "execution_count": 31,
     "metadata": {},
     "output_type": "execute_result"
    }
   ],
   "source": [
    "#confidence test on proportion\n",
    "#need a derivation \n",
    "import statsmodels.stats.proportion as sp\n",
    "\n",
    "#survey 1029 people and 732 agree with proposition\n",
    "#\n",
    "sp.proportion_confint(732,1029,alpha=.05) #gives 95% confidence interval\n",
    "#(0.6836843529462662, 0.739056171835075,alpha=.05)\n",
    "#how to get pvalues \n",
    "\n",
    "#95% confidwent the true proportion of people who agree is cotained in 68.3-73.9\n"
   ]
  },
  {
   "cell_type": "code",
   "execution_count": 32,
   "id": "7f985a7e",
   "metadata": {},
   "outputs": [
    {
     "data": {
      "text/plain": [
       "(1.047091271837777,\n",
       " 0.30617794540780324,\n",
       " (array([[734., 349.],\n",
       "         [648., 339.]]),\n",
       "  array([[723.04637681, 359.95362319],\n",
       "         [658.95362319, 328.04637681]])))"
      ]
     },
     "execution_count": 32,
     "metadata": {},
     "output_type": "execute_result"
    }
   ],
   "source": [
    "#2 sample test on proportions\n",
    "#need derivation...\n",
    "# Population1: vriginia voters\n",
    "# Population2: ohio voters\n",
    "# p1: proportion of vriginia who agree with proporotion\n",
    "# p2: proportoin of ohio who agree with proposition\n",
    "#this is a hypothesis test so need H\n",
    "# H0: p1==p2, people from both populations equal\n",
    "# HA: p1!=p2\n",
    "# significacne alpha = 0.0273\n",
    "#test statistic: statsmodel.stats.proportions_ztest()\n",
    "#desicion: if p<alpha reject H0\n",
    "# we survey 1083 virginia ppl and 734 agree with proposition\n",
    "# we survey 987 ohio ppl and 647 agree with propositin\n",
    "import statsmodels.stats.proportion as sp\n",
    "sp.proportions_chisquare([734,648],[1083,987])\n",
    "#test:1..047\n",
    "#decisioin: pvalue:.306>alphga so we fail to  reject the null hypothesis\n",
    "#we have insufficient evidenc to claim the proportion of virginia who agree with proposition differs from\n",
    "#the proportion of ohio who agree. we dont have enough data. \n"
   ]
  },
  {
   "cell_type": "code",
   "execution_count": 25,
   "id": "2989ccbd",
   "metadata": {},
   "outputs": [
    {
     "data": {
      "text/plain": [
       "(13.466206207830021, 1.2362364618305403e-41)"
      ]
     },
     "execution_count": 25,
     "metadata": {},
     "output_type": "execute_result"
    }
   ],
   "source": [
    "#1 sided z-test\n",
    "import statsmodels.stats.proportion as sp\n",
    "#test if supermajority .66 agree with proposition\n",
    "# H0 p=0.66\n",
    "# HA p!=.66\n",
    "# Significance level .003 not .05\n",
    "# test stat ztest\n",
    "# dewcision reule if pvalue<.003 then reject H0\n",
    "# data: survey 2048 and 1603 agree with proposition\n",
    "#\n",
    "sp.proportions_ztest(1603,2048, value=.66)\n",
    "#ztest is 13.66 this is not a pvalue, pvalue = 2.5e-41 which is less than .003\n",
    "#we rejetc H0 so we have sufficient evidence to clam teh proportion of people who agree is not .66\n",
    "\n",
    "sp.proportions_ztest(1603,2048, value=.66,alternative='larger')\n",
    "#almost same pvalue\n"
   ]
  },
  {
   "cell_type": "code",
   "execution_count": 40,
   "id": "b623fd36",
   "metadata": {},
   "outputs": [],
   "source": [
    "import pyjags\n",
    "#2 sample chi-square test, we have a dataset with voters from 2 places, does this pass the 66% supermajority \n",
    "#test? with a significance level of 2.7%? \n",
    "# pop1: virginia\n",
    "# pop2: ohio\n",
    "# H0 p1=p2\n",
    "# HA p1!=p2\n",
    "#signifcane level =alpha .0273\n",
    "# test stat proportions_ztest()\n",
    "#\n",
    "# decision rule,  if pvalue< alpha.0273 reject h0\n",
    "# 1) survey 1083 virginia and 734 agree\n",
    "# 2) survey 987 and 648 agree \n",
    "#\n",
    "#\n",
    "sp.proportions_chisquare([734,648],[1083,987] )\n",
    "\n",
    "\n",
    "\n"
   ]
  },
  {
   "cell_type": "code",
   "execution_count": null,
   "id": "dea5a7aa",
   "metadata": {},
   "outputs": [],
   "source": [
    "#1.05 is zvalue, pvalue .306\n",
    "#pvalue > .0273 fail to reject H0\n",
    "#we have insufficent evidence to claim teh prooprotion virginia who agree differ with proportion of ohio who agree\n",
    "#does it mean same? no, we dont have enough information. \n",
    "#\n"
   ]
  },
  {
   "cell_type": "code",
   "execution_count": 46,
   "id": "9714f1e5",
   "metadata": {},
   "outputs": [],
   "source": [
    "#bayesian 2 means. Take difference and create a credible interval or for hypothesis testing\n",
    "#this is the credible interval approach\n",
    "#\n",
    "# A manufactfurere is interested in the strength of welds formed by 2 different machines. \n",
    "# mu_1 is the mean strength from machine1\n",
    "# mu_2 is the mean strength from machine2\n",
    "# is the difference between the 2 means significant? \n",
    "#\n",
    "import pyjags\n",
    "mod1 = '''model{\n",
    "  # Sample from population 1\n",
    "  for( i in 1:n1 ){\n",
    "    x1[i] ~ dnorm( mu1, sig1 )\n",
    "  }\n",
    "  # Sample from population 2\n",
    "  for( i in 1:n2 ){\n",
    "    x2[i] ~ dnorm( mu2, sig2 )\n",
    "  }\n",
    "  # Create the difference\n",
    "  mudiff1 <- mu1 - mu2\n",
    "  # Prior information\n",
    "  mu1 ~ dnorm( 120, 1/100 )\n",
    "  sig1 ~ dgamma( 1, 1 )\n",
    "  mu2 ~ dnorm( 120, 1/100 )\n",
    "  sig2 ~ dgamma( 1, 1 )\n",
    "  }'''\n"
   ]
  },
  {
   "cell_type": "code",
   "execution_count": null,
   "id": "57d53153",
   "metadata": {},
   "outputs": [],
   "source": []
  }
 ],
 "metadata": {
  "kernelspec": {
   "display_name": "Python 3.9.7 ('cosmic')",
   "language": "python",
   "name": "python397jvsc74a57bd053d4678d88891fb05e04416eb1a742497c0b0baabdd52f6ad28cb1ed11944cce"
  },
  "language_info": {
   "codemirror_mode": {
    "name": "ipython",
    "version": 3
   },
   "file_extension": ".py",
   "mimetype": "text/x-python",
   "name": "python",
   "nbconvert_exporter": "python",
   "pygments_lexer": "ipython3",
   "version": "3.9.10"
  }
 },
 "nbformat": 4,
 "nbformat_minor": 5
}
