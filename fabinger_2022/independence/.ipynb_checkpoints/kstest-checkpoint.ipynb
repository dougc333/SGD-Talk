{
 "cells": [
  {
   "cell_type": "code",
   "execution_count": null,
   "id": "4c51707f",
   "metadata": {},
   "outputs": [],
   "source": [
    "<h6>KStest</h6>\n",
    "<p>Kolmogorov smirnoff test. 2 sample test. nonparametric test based on cdf</p>\n",
    "<p>hypothesis testing between 2 continuous distributions</p>"
   ]
  },
  {
   "cell_type": "code",
   "execution_count": 6,
   "id": "26a48f2e",
   "metadata": {},
   "outputs": [
    {
     "name": "stdout",
     "output_type": "stream",
     "text": [
      "Generator(PCG64)\n"
     ]
    }
   ],
   "source": [
    "from scipy.stats import kstest\n",
    "import numpy as np\n",
    "\n",
    "rng = np.random.default_rng()\n",
    "print(rng)"
   ]
  },
  {
   "cell_type": "code",
   "execution_count": null,
   "id": "2056be24",
   "metadata": {},
   "outputs": [],
   "source": []
  }
 ],
 "metadata": {
  "kernelspec": {
   "display_name": "Python 3.9.7 ('cosmic')",
   "language": "python",
   "name": "python397jvsc74a57bd053d4678d88891fb05e04416eb1a742497c0b0baabdd52f6ad28cb1ed11944cce"
  },
  "language_info": {
   "codemirror_mode": {
    "name": "ipython",
    "version": 3
   },
   "file_extension": ".py",
   "mimetype": "text/x-python",
   "name": "python",
   "nbconvert_exporter": "python",
   "pygments_lexer": "ipython3",
   "version": "3.9.10"
  }
 },
 "nbformat": 4,
 "nbformat_minor": 5
}
