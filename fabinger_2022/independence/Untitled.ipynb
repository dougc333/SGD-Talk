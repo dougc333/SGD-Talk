{
 "cells": [
  {
   "cell_type": "code",
   "execution_count": null,
   "id": "f786a1de",
   "metadata": {},
   "outputs": [],
   "source": [
    "#1 sample t-test"
   ]
  },
  {
   "cell_type": "code",
   "execution_count": null,
   "id": "eb0d4771",
   "metadata": {},
   "outputs": [],
   "source": [
    "#2 sample t-test\n"
   ]
  },
  {
   "cell_type": "code",
   "execution_count": 3,
   "id": "0e5176ec",
   "metadata": {},
   "outputs": [],
   "source": [
    "import statsmodels.stats.proportion as sp\n",
    "#test if supermajority .66 agree with proposition\n",
    "# H0 p=0.66\n",
    "# HA p!=.66\n",
    "# Significance level .003 not .05\n",
    "# test stat ztest\n",
    "# dewcision reule if pvalue<.003 then reject H0\n",
    "# data: survey 2048 and 1603 agree with proposition\n",
    "#"
   ]
  },
  {
   "cell_type": "code",
   "execution_count": 5,
   "id": "b71933ad",
   "metadata": {},
   "outputs": [
    {
     "data": {
      "text/plain": [
       "(13.466206207830021, 2.4724729236610805e-41)"
      ]
     },
     "execution_count": 5,
     "metadata": {},
     "output_type": "execute_result"
    }
   ],
   "source": [
    "sp.proportions_ztest(1603,2048, value=.66)"
   ]
  },
  {
   "cell_type": "code",
   "execution_count": 7,
   "id": "74f565ec",
   "metadata": {},
   "outputs": [
    {
     "data": {
      "text/plain": [
       "(13.466206207830021, 1.2362364618305403e-41)"
      ]
     },
     "execution_count": 7,
     "metadata": {},
     "output_type": "execute_result"
    }
   ],
   "source": [
    "#ztest is 13.66 this is not a pvalue, pvalue = 2.5e-41 which is less than .003\n",
    "#we rejetc H0 so we have sufficient evidence to clam teh proportion of people who agree is not .66\n",
    "\n",
    "sp.proportions_ztest(1603,2048, value=.66,alternative='larger')\n",
    "#almost same pvalue\n"
   ]
  },
  {
   "cell_type": "code",
   "execution_count": 9,
   "id": "3aea55ce",
   "metadata": {},
   "outputs": [
    {
     "data": {
      "text/plain": [
       "(1.047091271837777,\n",
       " 0.30617794540780324,\n",
       " (array([[734., 349.],\n",
       "         [648., 339.]]),\n",
       "  array([[723.04637681, 359.95362319],\n",
       "         [658.95362319, 328.04637681]])))"
      ]
     },
     "execution_count": 9,
     "metadata": {},
     "output_type": "execute_result"
    }
   ],
   "source": [
    "#2 sample test, we have a dataset with voters from 2 places, does this pass the 66% supermajority \n",
    "#test? with a significance level of 2.7%? \n",
    "# pop1: virginia\n",
    "# pop2: ohio\n",
    "# H0 p1=p2\n",
    "# HA p1!=p2\n",
    "#signifcane level =alpha .0273\n",
    "# test stat proportions_ztest()\n",
    "#\n",
    "# decision rule,  if pvalue< alpha.0273 reject h0\n",
    "# 1) survey 1083 virginia and 734 agree\n",
    "# 2) survey 987 and 648 agree \n",
    "#\n",
    "#\n",
    "sp.proportions_chisquare([734,648],[1083,987] )\n",
    "\n",
    "\n",
    "\n"
   ]
  },
  {
   "cell_type": "code",
   "execution_count": null,
   "id": "b54295a2",
   "metadata": {},
   "outputs": [],
   "source": [
    "#1.02 is zvalue, pvalue .306\n",
    "#pvalue > .0273 fail to reject H0\n",
    "#we have insufficent evidence to claim teh prooprotion virginia who agree differ with proportion of ohio who agree\n",
    "#does it mean same? no, we dont have enough information. \n",
    "#\n"
   ]
  }
 ],
 "metadata": {
  "kernelspec": {
   "display_name": "Python 3.9.7 ('cosmic')",
   "language": "python",
   "name": "python397jvsc74a57bd053d4678d88891fb05e04416eb1a742497c0b0baabdd52f6ad28cb1ed11944cce"
  },
  "language_info": {
   "codemirror_mode": {
    "name": "ipython",
    "version": 3
   },
   "file_extension": ".py",
   "mimetype": "text/x-python",
   "name": "python",
   "nbconvert_exporter": "python",
   "pygments_lexer": "ipython3",
   "version": "3.9.10"
  }
 },
 "nbformat": 4,
 "nbformat_minor": 5
}
