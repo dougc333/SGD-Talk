{
 "cells": [
  {
   "cell_type": "code",
   "execution_count": 18,
   "id": "ba4cad71",
   "metadata": {},
   "outputs": [
    {
     "name": "stdout",
     "output_type": "stream",
     "text": [
      "/Users/dougchang/test_stuff/fabinger_2022/independence\n",
      "     Subject TRT Gender  Age Ptest  Imp1  Imp2  Imp3  Imp4   Imp5 \n",
      "0  01.2016.1   N      F   50   Pos    73    65    63     68     61\n",
      "1  01.2016.2   N      M   31   Pos    67    65    73     64     60\n",
      "2  01.2016.3   L      F   31   Neg    73    63    70     62     56\n",
      "3  01.2016.4   N      M   50   Pos    72    69    62     62     55\n",
      "4  01.2016.5   L      M   42   Pos    74    66    66     64     59\n"
     ]
    },
    {
     "data": {
      "text/plain": [
       "Ttest_1sampResult(statistic=3.6742346141747784, pvalue=0.0011947874173848085)"
      ]
     },
     "execution_count": 18,
     "metadata": {},
     "output_type": "execute_result"
    },
    {
     "data": {
      "image/png": "[encoded data removed]",
      "text/plain": [
       "<Figure size 432x288 with 1 Axes>"
      ]
     },
     "metadata": {
      "needs_background": "light"
     },
     "output_type": "display_data"
    }
   ],
   "source": [
    "import pandas as pd\n",
    "import os\n",
    "from scipy.stats import ttest_1samp\n",
    "#1 sample t-test\n",
    "print(os.getcwd())\n",
    "df = pd.read_excel(\"Impulsivity.xlsx\")\n",
    "print(df.head())\n",
    "#hypothesis test\n",
    "# H0: mu = 70\n",
    "# HA: mu !=70\n",
    "#\n",
    "# Significance level:.013\n",
    "# test:\n",
    "#if pvalue<alpha we reject H0 in favor of HA\n",
    "#\n",
    "import matplotlib.pyplot as plt\n",
    "plt.boxplot(df.Imp1)\n",
    "ttest_1samp(df.Imp1,popmean=70)\n",
    "#pvalue less than significance level so we reject H0\n",
    "#we have sufficient evidence the mean is not  70."
   ]
  },
  {
   "cell_type": "code",
   "execution_count": 24,
   "id": "a8907357",
   "metadata": {},
   "outputs": [
    {
     "name": "stdout",
     "output_type": "stream",
     "text": [
      "8     73\n",
      "10    76\n",
      "13    68\n",
      "16    72\n",
      "18    75\n",
      "Name: Imp1, dtype: int64\n",
      "2     73\n",
      "4     74\n",
      "5     77\n",
      "6     71\n",
      "11    68\n",
      "Name: Imp1, dtype: int64\n"
     ]
    },
    {
     "data": {
      "text/plain": [
       "Ttest_indResult(statistic=-0.32972611344447444, pvalue=0.7471820866064731)"
      ]
     },
     "execution_count": 24,
     "metadata": {},
     "output_type": "execute_result"
    },
    {
     "data": {
      "image/png": "[encoded data removed]",
      "text/plain": [
       "<Figure size 432x288 with 1 Axes>"
      ]
     },
     "metadata": {
      "needs_background": "light"
     },
     "output_type": "display_data"
    }
   ],
   "source": [
    "#2 sample t-test or AB test\n",
    "C1 = df.Imp1[df.TRT == \"C\"]\n",
    "L1 = df.Imp1[df.TRT == \"L\"]\n",
    "print(C1.head())\n",
    "print(L1.head())\n",
    "#box plot to see if any diff between c1, l1\n",
    "plt.boxplot([C1,L1])\n",
    "#hypothesis test\n",
    "#mu_C1: pop mean of trt C1\n",
    "#mu_L1: pop mean of tretmane L1\n",
    "#H0 mu_C1=mu_L1\n",
    "#HA=mu_C1!=mu_L1\n",
    "#sigif level = .0019\n",
    "#test stat: ttest_ind\n",
    "#decisino: if pvalue<sig reject H0\n",
    "\n",
    "from scipy.stats import ttest_ind\n",
    "ttest_ind(C1,L1,equal_var=False)\n",
    "#tvalue=.329\n",
    "#pvalue=.74\n",
    "#> so we fieil to reject H0\n",
    "#concluseion: we have insufficient evidence to claim C1 and L1 differ for mean"
   ]
  },
  {
   "cell_type": "code",
   "execution_count": 31,
   "id": "6664d6cd",
   "metadata": {},
   "outputs": [
    {
     "data": {
      "text/plain": [
       "(0.6836843529462662, 0.739056171835075)"
      ]
     },
     "execution_count": 31,
     "metadata": {},
     "output_type": "execute_result"
    }
   ],
   "source": [
    "#confidence test on proportion\n",
    "#need a derivation \n",
    "import statsmodels.stats.proportion as sp\n",
    "\n",
    "#survey 1029 people and 732 agree with proposition\n",
    "#\n",
    "sp.proportion_confint(732,1029,alpha=.05) #gives 95% confidence interval\n",
    "#(0.6836843529462662, 0.739056171835075,alpha=.05)\n",
    "#how to get pvalues \n",
    "\n",
    "#95% confidwent the true proportion of people who agree is cotained in 68.3-73.9\n"
   ]
  },
  {
   "cell_type": "code",
   "execution_count": 32,
   "id": "7e981dcd",
   "metadata": {},
   "outputs": [
    {
     "data": {
      "text/plain": [
       "(1.047091271837777,\n",
       " 0.30617794540780324,\n",
       " (array([[734., 349.],\n",
       "         [648., 339.]]),\n",
       "  array([[723.04637681, 359.95362319],\n",
       "         [658.95362319, 328.04637681]])))"
      ]
     },
     "execution_count": 32,
     "metadata": {},
     "output_type": "execute_result"
    }
   ],
   "source": [
    "#2 sample test on proportions\n",
    "#need derivation...\n",
    "# Population1: vriginia voters\n",
    "# Population2: ohio voters\n",
    "# p1: proportion of vriginia who agree with proporotion\n",
    "# p2: proportoin of ohio who agree with proposition\n",
    "#this is a hypothesis test so need H\n",
    "# H0: p1==p2, people from both populations equal\n",
    "# HA: p1!=p2\n",
    "# significacne alpha = 0.0273\n",
    "#test statistic: statsmodel.stats.proportions_ztest()\n",
    "#desicion: if p<alpha reject H0\n",
    "# we survey 1083 virginia ppl and 734 agree with proposition\n",
    "# we survey 987 ohio ppl and 647 agree with propositin\n",
    "import statsmodels.stats.proportion as sp\n",
    "sp.proportions_chisquare([734,648],[1083,987])\n",
    "#test:1..047\n",
    "#decisioin: pvalue:.306>alphga so we fail to  reject the null hypothesis\n",
    "#we have insufficient evidenc to claim the proportion of virginia who agree with proposition differs from\n",
    "#the proportion of ohio who agree. we dont have enough data. \n"
   ]
  },
  {
   "cell_type": "code",
   "execution_count": 25,
   "id": "99e3d60f",
   "metadata": {},
   "outputs": [
    {
     "data": {
      "text/plain": [
       "(13.466206207830021, 1.2362364618305403e-41)"
      ]
     },
     "execution_count": 25,
     "metadata": {},
     "output_type": "execute_result"
    }
   ],
   "source": [
    "#1 sided z-test\n",
    "import statsmodels.stats.proportion as sp\n",
    "#test if supermajority .66 agree with proposition\n",
    "# H0 p=0.66\n",
    "# HA p!=.66\n",
    "# Significance level .003 not .05\n",
    "# test stat ztest\n",
    "# dewcision reule if pvalue<.003 then reject H0\n",
    "# data: survey 2048 and 1603 agree with proposition\n",
    "#\n",
    "sp.proportions_ztest(1603,2048, value=.66)\n",
    "#ztest is 13.66 this is not a pvalue, pvalue = 2.5e-41 which is less than .003\n",
    "#we rejetc H0 so we have sufficient evidence to clam teh proportion of people who agree is not .66\n",
    "\n",
    "sp.proportions_ztest(1603,2048, value=.66,alternative='larger')\n",
    "#almost same pvalue\n"
   ]
  },
  {
   "cell_type": "code",
   "execution_count": 40,
   "id": "6519aba5",
   "metadata": {},
   "outputs": [],
   "source": [
    "import pyjags\n",
    "#2 sample chi-square test, we have a dataset with voters from 2 places, does this pass the 66% supermajority \n",
    "#test? with a significance level of 2.7%? \n",
    "# pop1: virginia\n",
    "# pop2: ohio\n",
    "# H0 p1=p2\n",
    "# HA p1!=p2\n",
    "#signifcane level =alpha .0273\n",
    "# test stat proportions_ztest()\n",
    "#\n",
    "# decision rule,  if pvalue< alpha.0273 reject h0\n",
    "# 1) survey 1083 virginia and 734 agree\n",
    "# 2) survey 987 and 648 agree \n",
    "#\n",
    "#\n",
    "sp.proportions_chisquare([734,648],[1083,987] )\n",
    "\n",
    "\n",
    "\n"
   ]
  },
  {
   "cell_type": "code",
   "execution_count": null,
   "id": "a0221d8a",
   "metadata": {},
   "outputs": [],
   "source": [
    "#1.05 is zvalue, pvalue .306\n",
    "#pvalue > .0273 fail to reject H0\n",
    "#we have insufficent evidence to claim teh prooprotion virginia who agree differ with proportion of ohio who agree\n",
    "#does it mean same? no, we dont have enough information. \n",
    "#\n"
   ]
  },
  {
   "cell_type": "code",
   "execution_count": 59,
   "id": "27f96fd5",
   "metadata": {},
   "outputs": [
    {
     "name": "stdout",
     "output_type": "stream",
     "text": [
      "adapting: iterations 4000 of 4000, elapsed 0:00:01, remaining 0:00:00\n",
      "sampling: iterations 20000 of 20000, elapsed 0:00:04, remaining 0:00:00\n",
      "alpha  mean =  64.3, 95% credible interval [57.3 71.4]\n",
      "beta   mean =   4.0, 95% credible interval [ 3.9  4.1]\n",
      "sigma  mean =  49.4, 95% credible interval [46.9 52.0]\n"
     ]
    }
   ],
   "source": [
    "import pyjags\n",
    "import numpy as np\n",
    "import matplotlib.pyplot as plt\n",
    "\n",
    "np.random.seed(0)\n",
    "np.set_printoptions(precision=1)\n",
    "N = 500\n",
    "a = 70\n",
    "b = 4\n",
    "sigma = 50\n",
    "x = np.random.uniform(0, 100, size=N)\n",
    "y = np.random.normal(a + x*b, sigma, size=N)\n",
    "code = '''\n",
    "model {\n",
    "for (i in 1:N) {\n",
    "y[i] ~ dnorm(alpha + beta * x[i], tau)\n",
    "}\n",
    "alpha ~ dunif(-1e3, 1e3)\n",
    "beta ~ dunif(-1e3, 1e3)\n",
    "tau <- 1 / sigma^2\n",
    "sigma ~ dgamma(1e-4, 1e-4)\n",
    "}\n",
    "'''\n",
    "model = pyjags.Model(code, data=dict(x=x, y=y, N=N), chains=4)\n",
    "samples = model.sample(5000, vars=['alpha', 'beta', 'sigma'])\n",
    "def summary(samples, varname, p=95):\n",
    "    values = samples[varname]\n",
    "    ci = np.percentile(values, [100-p, p])\n",
    "    print('{:<6} mean = {:>5.1f}, {}% credible interval [{:>4.1f} {:>4.1f}]'.format(\n",
    "    varname, np.mean(values), p, *ci))\n",
    "for varname in ['alpha', 'beta', 'sigma']:\n",
    "    summary(samples, varname)"
   ]
  },
  {
   "cell_type": "code",
   "execution_count": null,
   "id": "0a47750d",
   "metadata": {},
   "outputs": [],
   "source": [
    "#pyjags 2 means https://agabrioblog.onrender.com/jags/comparing-two-populations-jags/comparing-two-populations-jags/\n",
    "import pyjags\n",
    "import numpy as np\n",
    "\n",
    "nA=60\n",
    "nB=40\n",
    "muA=105\n",
    "muB=77.5\n",
    "sigma=3\n",
    "yA=rnorm()\n",
    "\n",
    "\n",
    " "
   ]
  },
  {
   "cell_type": "code",
   "execution_count": 55,
   "id": "ca83abf0",
   "metadata": {},
   "outputs": [
    {
     "name": "stdout",
     "output_type": "stream",
     "text": [
      "10 12 122.3 116.5\n",
      "<class 'dict'> {'mu1': 1, 'sig1': 1, 'mu2': 1, 'sig2': 1}\n"
     ]
    }
   ],
   "source": [
    "\n",
    "#bayesian 2 means. Take difference and create a credible interval or for hypothesis testing\n",
    "#this is the credible interval approach\n",
    "#\n",
    "# A manufactfurere is interested in the strength of welds formed by 2 different machines. \n",
    "# mu_1 is the mean strength from machine1\n",
    "# mu_2 is the mean strength from machine2\n",
    "# is the difference between the 2 means significant? \n",
    "#\n",
    "import pyjags\n",
    "import numpy as np\n",
    "\n",
    "x1 = np.array([ 125.2, 131.1, 121.5, 122.3, 119.3,\n",
    "         123.5, 130.2, 122.9, 129.2, 127.1 ])\n",
    "\n",
    "# Dataset 2\n",
    "x2 = np.array([ 118.6, 122.2, 110.5, 118.8,\n",
    "         115.9, 116.5, 114.5, 118.0,\n",
    "         113.2, 119.0, 117.7, 116.7 ])\n",
    "\n",
    "n1 = x1.shape[0]\n",
    "n2 = x2.shape[0]\n",
    "print(n1,n2,x1[3],x2[5])\n",
    "\n",
    "mod1 = '''model{\n",
    "  # Sample from population 1\n",
    "  for( i in 1:n1 ){\n",
    "    x1[i] ~ dnorm( mu1, sig1 )\n",
    "  }\n",
    "  # Sample from population 2\n",
    "  for( i in 1:n2 ){\n",
    "    x2[i] ~ dnorm( mu2, sig2 )\n",
    "  }\n",
    "  # Create the difference\n",
    "  mudiff1 <- mu1 - mu2\n",
    "  # Prior information\n",
    "  mu1 ~ dnorm( 120, 1/100 )\n",
    "  sig1 ~ dgamma( 1, 1 )\n",
    "  mu2 ~ dnorm( 120, 1/100 )\n",
    "  sig2 ~ dgamma( 1, 1 )\n",
    "  }'''\n",
    "#can be a list or a dict\n",
    "inits = {\"mu1\":1, \"sig1\":1, \"mu2\":1, \"sig2\":1}\n",
    "print(type(inits),inits)\n",
    "N=1000\n",
    "j = pyjags.Model(code=mod1, data=dict(x1=x1,x2=x2, n1=n1,n2=n2), init=inits, chains=2)\n",
    "j.update()"
   ]
  },
  {
   "cell_type": "code",
   "execution_count": null,
   "id": "ce87ecdf",
   "metadata": {},
   "outputs": [],
   "source": []
  }
 ],
 "metadata": {
  "kernelspec": {
   "display_name": "Python 3.9.7 ('cosmic')",
   "language": "python",
   "name": "python397jvsc74a57bd053d4678d88891fb05e04416eb1a742497c0b0baabdd52f6ad28cb1ed11944cce"
  },
  "language_info": {
   "codemirror_mode": {
    "name": "ipython",
    "version": 3
   },
   "file_extension": ".py",
   "mimetype": "text/x-python",
   "name": "python",
   "nbconvert_exporter": "python",
   "pygments_lexer": "ipython3",
   "version": "3.9.10"
  }
 },
 "nbformat": 4,
 "nbformat_minor": 5
}
