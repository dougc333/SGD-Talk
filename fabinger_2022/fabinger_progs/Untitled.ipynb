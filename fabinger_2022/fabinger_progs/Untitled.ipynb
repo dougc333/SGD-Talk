{
 "cells": [
  {
   "cell_type": "markdown",
   "id": "f3ad67cb",
   "metadata": {},
   "source": [
    "<img src=\"images\\fabinger1.png\">"
   ]
  },
  {
   "cell_type": "code",
   "execution_count": 9,
   "id": "0025cce5",
   "metadata": {},
   "outputs": [
    {
     "data": {
      "image/png": "[encoded data removed]",
      "text/plain": [
       "<Figure size 432x288 with 1 Axes>"
      ]
     },
     "metadata": {
      "needs_background": "light"
     },
     "output_type": "display_data"
    },
    {
     "data": {
      "text/plain": [
       "[<matplotlib.lines.Line2D at 0x1390a48e0>]"
      ]
     },
     "execution_count": 9,
     "metadata": {},
     "output_type": "execute_result"
    }
   ],
   "source": [
    "import matplotlib.pyplot as plt\n",
    "from scipy.stats import randint\n",
    "\n",
    "fig, ax = plt.subplots(1, 1)\n",
    "x=[1,2,3,4,5,6]\n",
    "y=[1/6.,1/6.,1/6.,1/6.,1/6.,1/6.]\n",
    "plt.plot(x,y)\n",
    "\n",
    "plt.show()\n",
    "\n",
    "#they should be really dots at those points not a line"
   ]
  },
  {
   "cell_type": "code",
   "execution_count": 16,
   "id": "302d6ba4",
   "metadata": {},
   "outputs": [
    {
     "name": "stdout",
     "output_type": "stream",
     "text": [
      "[1 2 3 4 5]\n",
      "5.0\n",
      "nan\n"
     ]
    }
   ],
   "source": [
    "from scipy.stats import randint\n",
    "print(np.arange(1,6))\n",
    "print(randint.ppf(1, 1, 6),)\n",
    "print(randint.ppf(6, 1, 6),)\n"
   ]
  },
  {
   "cell_type": "code",
   "execution_count": 8,
   "id": "855ce69d",
   "metadata": {},
   "outputs": [
    {
     "data": {
      "image/png": "[encoded data removed]",
      "text/plain": [
       "<Figure size 432x288 with 1 Axes>"
      ]
     },
     "metadata": {
      "needs_background": "light"
     },
     "output_type": "display_data"
    }
   ],
   "source": [
    "from scipy.stats import binom\n",
    "import numpy as np\n",
    "n = 10\n",
    "p = 0.3\n",
    "fig, ax = plt.subplots(1, 1)\n",
    "x = np.arange(binom.ppf(0.01, n, p),\n",
    "              binom.ppf(0.99, n, p))\n",
    "ax.plot(x, binom.pmf(x, n, p), 'bo', ms=8, label='binom pmf')\n",
    "ax.vlines(x, 0, binom.pmf(x, n, p), colors='b', lw=5, alpha=0.5)\n",
    "plt.show()"
   ]
  },
  {
   "cell_type": "markdown",
   "id": "8a61cd85",
   "metadata": {},
   "source": [
    "<img src=\"images\\fabinger2.png\">"
   ]
  },
  {
   "cell_type": "markdown",
   "id": "3dfe80b0",
   "metadata": {},
   "source": [
    "<img src=\"images\\fabinger3.png\">"
   ]
  },
  {
   "cell_type": "markdown",
   "id": "ac1c6027",
   "metadata": {},
   "source": [
    "<img src=\"images\\fabinger4.png\">"
   ]
  },
  {
   "cell_type": "markdown",
   "id": "0c4a34ae",
   "metadata": {},
   "source": [
    "<img src=\"images\\fabinger5.png\">"
   ]
  },
  {
   "cell_type": "code",
   "execution_count": null,
   "id": "b6571e7e",
   "metadata": {},
   "outputs": [],
   "source": []
  }
 ],
 "metadata": {
  "kernelspec": {
   "display_name": "Python 3.9.7 ('cosmic')",
   "language": "python",
   "name": "python397jvsc74a57bd053d4678d88891fb05e04416eb1a742497c0b0baabdd52f6ad28cb1ed11944cce"
  },
  "language_info": {
   "codemirror_mode": {
    "name": "ipython",
    "version": 3
   },
   "file_extension": ".py",
   "mimetype": "text/x-python",
   "name": "python",
   "nbconvert_exporter": "python",
   "pygments_lexer": "ipython3",
   "version": "3.9.7"
  }
 },
 "nbformat": 4,
 "nbformat_minor": 5
}
