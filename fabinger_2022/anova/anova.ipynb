{
 "cells": [
  {
   "cell_type": "code",
   "execution_count": 10,
   "id": "2f39a76f",
   "metadata": {},
   "outputs": [
    {
     "name": "stdout",
     "output_type": "stream",
     "text": [
      "Multiple Comparison of Means - Tukey HSD, FWER=0.02\n",
      "===================================================\n",
      "group1 group2 meandiff p-adj   lower  upper  reject\n",
      "---------------------------------------------------\n",
      "     A      B     0.08 0.9975 -1.1873 1.3473  False\n",
      "     A      C    0.046 0.9995 -1.2213 1.3133  False\n",
      "     A      D    1.989 0.0002  0.7217 3.2563   True\n",
      "     B      C   -0.034 0.9998 -1.3013 1.2333  False\n",
      "     B      D    1.909 0.0003  0.6417 3.1763   True\n",
      "     C      D    1.943 0.0003  0.6757 3.2103   True\n",
      "---------------------------------------------------\n"
     ]
    },
    {
     "data": {
      "image/png": "[encoded data removed]",
      "text/plain": [
       "<Figure size 432x288 with 1 Axes>"
      ]
     },
     "metadata": {
      "needs_background": "light"
     },
     "output_type": "display_data"
    }
   ],
   "source": [
    "#Anova hypothesis test\n",
    "import pandas as pd\n",
    "import numpy as np\n",
    "import statsmodels.formula.api as smf\n",
    "\n",
    "import statsmodels.stats.anova as sma\n",
    "import statsmodels.stats.multicomp as smm\n",
    "\n",
    "import matplotlib.pyplot as plt\n",
    "\n",
    "fr1 = pd. read_csv(\"Fructose.csv\")\n",
    "plt.figure()\n",
    "plt.boxplot( (fr1.Fructose[fr1.Variety==\"A\"],\n",
    "             fr1.Fructose[fr1.Variety==\"B\"],\n",
    "             fr1.Fructose[fr1.Variety==\"C\"],\n",
    "             fr1.Fructose[fr1.Variety==\"D\"]))\n",
    "\n",
    "# muA is mean fructose of popA\n",
    "# muB is mean fructose of popB\n",
    "# muC is mean fructose of popC\n",
    "# muD is mean fructose of popD\n",
    "#H0: muA=muB=muC=muD\n",
    "#HA: any 2 means are different. \n",
    "#significance level: aplha = .023\n",
    "#test statistic: anova_lm\n",
    "#decision rule: if pvalue < significance level reject H0. \n",
    "#\n",
    "\n",
    "formula1=\"Fructose ~ C(Variety)\"\n",
    "fr1_lm = smf.ols(formula1, data=fr1).fit()\n",
    "sma.anova_lm(fr1_lm)\n",
    "\n",
    "#Decision, pvalue .000034 < .023 so we reject H0. \n",
    "#we have sufficient evidence the amount oof fructose differ by variety.\n",
    "#since we rejected H0, we know there are statistically significant differences so now we\n",
    "#do a tukey HSD to find differences\n",
    "#tukey's hsd, honest significant difference test\n",
    "#\n",
    "#\n",
    "\n",
    "tukey1 = smm.pairwise_tukeyhsd(endog=fr1.Fructose, groups=fr1.Variety, alpha=0.023)\n",
    "print(tukey1)\n"
   ]
  },
  {
   "cell_type": "code",
   "execution_count": null,
   "id": "2fe38a9a",
   "metadata": {},
   "outputs": [],
   "source": [
    "#VAriety D has the most fructose. MOre than A,B,C are all true. "
   ]
  },
  {
   "cell_type": "code",
   "execution_count": 14,
   "id": "05bcba40",
   "metadata": {},
   "outputs": [
    {
     "data": {
      "text/plain": [
       "<Figure size 432x288 with 0 Axes>"
      ]
     },
     "metadata": {},
     "output_type": "display_data"
    },
    {
     "data": {
      "image/png": "[encoded data removed]",
      "text/plain": [
       "<Figure size 432x288 with 1 Axes>"
      ]
     },
     "metadata": {
      "needs_background": "light"
     },
     "output_type": "display_data"
    },
    {
     "data": {
      "text/plain": [
       "ShapiroResult(statistic=0.9789234399795532, pvalue=0.6496037840843201)"
      ]
     },
     "execution_count": 14,
     "metadata": {},
     "output_type": "execute_result"
    }
   ],
   "source": [
    "#check residual normal \n",
    "import statsmodels.api as stm\n",
    "import scipy.stats as st\n",
    "plt.figure()\n",
    "stm.qqplot(fr1_lm.resid,fit=True,line=\"45\")\n",
    "plt.show()\n",
    "#Null Hypothesis: H0 residuals normally dist\n",
    "#HA: not normally distributed\n",
    "#significance level: .0001\n",
    "#decision rule if alpha < p-value reject\n",
    "#test stat: shapiro test. \n",
    "#pvalue.64 > .001 Decision. so fail to reject H0 and not normally distributed\n",
    "#conclusion we have insufficient evidence to claim the residuals are NOT normally distributed. \n",
    "st.shapiro(fr1_lm.resid)"
   ]
  },
  {
   "cell_type": "code",
   "execution_count": 16,
   "id": "7d671a85",
   "metadata": {},
   "outputs": [
    {
     "data": {
      "text/plain": [
       "LeveneResult(statistic=0.09413229678020081, pvalue=0.96279585129662)"
      ]
     },
     "execution_count": 16,
     "metadata": {},
     "output_type": "execute_result"
    }
   ],
   "source": [
    "#BETWEEN GROUPS FOR DATA NOT RESIDUALS.\n",
    "st.levene(fr1.Fructose[fr1.Variety==\"A\"],\n",
    "          fr1.Fructose[fr1.Variety==\"B\"],\n",
    "          fr1.Fructose[fr1.Variety==\"C\"],\n",
    "          fr1.Fructose[fr1.Variety==\"D\"]\n",
    "         )\n",
    "\n",
    "\n",
    "#hypothesis testing constant variance across residuals \n",
    "#H0: constant variance across varieies\n",
    "#HA: not constant variance across varieties\n",
    "#Significance levels: .0001\n",
    "#test statistic: scipy.stats.levene\n",
    "#decision rule: if pvalue < significance we reject H0\n",
    "# pvalue: \n",
    "#\n",
    "st.levene(fr1_lm.resid[fr1.Variety==\"A\"],\n",
    "          fr1_lm.resid[fr1.Variety==\"B\"],\n",
    "          fr1_lm.resid[fr1.Variety==\"C\"],\n",
    "          fr1_lm.resid[fr1.Variety==\"D\"]\n",
    "         )\n",
    "#pvalue=.96 and is >pvalue .0001 we fail to reject H0.\n",
    "#conclusion: insufficient evidence to claim the variacne are not constant aross\n",
    "#the residuals. \n",
    "#one way anova\n"
   ]
  },
  {
   "cell_type": "code",
   "execution_count": null,
   "id": "99cfc90a",
   "metadata": {},
   "outputs": [],
   "source": [
    "#add 2 way anova \n",
    "#"
   ]
  }
 ],
 "metadata": {
  "kernelspec": {
   "display_name": "Python 3.9.7 ('cosmic')",
   "language": "python",
   "name": "python397jvsc74a57bd053d4678d88891fb05e04416eb1a742497c0b0baabdd52f6ad28cb1ed11944cce"
  },
  "language_info": {
   "codemirror_mode": {
    "name": "ipython",
    "version": 3
   },
   "file_extension": ".py",
   "mimetype": "text/x-python",
   "name": "python",
   "nbconvert_exporter": "python",
   "pygments_lexer": "ipython3",
   "version": "3.9.10"
  }
 },
 "nbformat": 4,
 "nbformat_minor": 5
}
