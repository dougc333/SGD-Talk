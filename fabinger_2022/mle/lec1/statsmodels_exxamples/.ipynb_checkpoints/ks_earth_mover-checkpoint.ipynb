{
 "cells": [
  {
   "cell_type": "markdown",
   "id": "94ffce58",
   "metadata": {},
   "source": [
    "<h6>Kolmogorov-Smirnov Test</h6>\n",
    "Distance between the EDF of the sample and the CDF of the reference distribution\n",
    "or between empirical distribution funcitons of 2 samples\n"
   ]
  },
  {
   "cell_type": "code",
   "execution_count": null,
   "id": "48c586e0",
   "metadata": {},
   "outputs": [],
   "source": [
    "#https://divingintogeneticsandgenomics.rbind.io/post/how-to-test-if-two-distributions-are-different/\n",
    "#start with how KS test and t-test    \n",
    "#given 2 distributions we can tell if they are same or not by comparing means and std deviations\n",
    "#we can also create disdtributions which have the same mean and std deviations but are different\n",
    "#what quantifies a different distribution? not a different data point. "
   ]
  },
  {
   "cell_type": "code",
   "execution_count": 5,
   "id": "241ca6a5",
   "metadata": {},
   "outputs": [
    {
     "name": "stdout",
     "output_type": "stream",
     "text": [
      "Ttest_indResult(statistic=0.21219904818364435, pvalue=0.8319950791029158)\n",
      "Ttest_indResult(statistic=0.21219904818364435, pvalue=0.8319950791104541)\n"
     ]
    }
   ],
   "source": [
    "# t-Test\n",
    "from scipy import stats\n",
    "import numpy as np\n",
    "\n",
    "rng = np.random.default_rng()\n",
    "\n",
    "rvs1 = stats.norm.rvs(loc=5,scale=10,size=500, random_state=rng )\n",
    "rvs2 = stats.norm.rvs(loc=5,scale=10,size=500, random_state=rng )\n",
    "foo1 = stats.ttest_ind(rvs1,rvs2)\n",
    "print(foo1)\n",
    "foo2 = stats.ttest_ind(rvs1,rvs2,equal_var=False)\n",
    "print(foo2)"
   ]
  },
  {
   "cell_type": "code",
   "execution_count": null,
   "id": "b30aee05",
   "metadata": {},
   "outputs": [],
   "source": [
    "# I dont understand how ttest_ind underestimates pvalues\n"
   ]
  }
 ],
 "metadata": {
  "kernelspec": {
   "display_name": "Python 3.9.7 ('cosmic')",
   "language": "python",
   "name": "python397jvsc74a57bd053d4678d88891fb05e04416eb1a742497c0b0baabdd52f6ad28cb1ed11944cce"
  },
  "language_info": {
   "codemirror_mode": {
    "name": "ipython",
    "version": 3
   },
   "file_extension": ".py",
   "mimetype": "text/x-python",
   "name": "python",
   "nbconvert_exporter": "python",
   "pygments_lexer": "ipython3",
   "version": "3.9.10"
  }
 },
 "nbformat": 4,
 "nbformat_minor": 5
}
