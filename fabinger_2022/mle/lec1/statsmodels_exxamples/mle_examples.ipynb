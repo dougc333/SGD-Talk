{
 "cells": [
  {
   "cell_type": "code",
   "execution_count": 22,
   "id": "0f8e6a0a",
   "metadata": {},
   "outputs": [
    {
     "name": "stdout",
     "output_type": "stream",
     "text": [
      "exog are features:\n",
      "     GPA  TUCE  PSI\n",
      "0   2.66  20.0  0.0\n",
      "1   2.89  22.0  0.0\n",
      "2   3.28  24.0  0.0\n",
      "3   2.92  12.0  0.0\n",
      "4   4.00  21.0  0.0\n",
      "5   2.86  17.0  0.0\n",
      "6   2.76  17.0  0.0\n",
      "7   2.87  21.0  0.0\n",
      "8   3.03  25.0  0.0\n",
      "9   3.92  29.0  0.0\n",
      "10  2.63  20.0  0.0\n",
      "11  3.32  23.0  0.0\n",
      "12  3.57  23.0  0.0\n",
      "13  3.26  25.0  0.0\n",
      "14  3.53  26.0  0.0\n",
      "15  2.74  19.0  0.0\n",
      "16  2.75  25.0  0.0\n",
      "17  2.83  19.0  0.0\n",
      "18  3.12  23.0  1.0\n",
      "19  3.16  25.0  1.0\n",
      "20  2.06  22.0  1.0\n",
      "21  3.62  28.0  1.0\n",
      "22  2.89  14.0  1.0\n",
      "23  3.51  26.0  1.0\n",
      "24  3.54  24.0  1.0\n",
      "25  2.83  27.0  1.0\n",
      "26  3.39  17.0  1.0\n",
      "27  2.67  24.0  1.0\n",
      "28  3.65  21.0  1.0\n",
      "29  4.00  23.0  1.0\n",
      "30  3.10  21.0  1.0\n",
      "31  2.39  19.0  1.0\n",
      "endog is the response variable:\n",
      "0     0.0\n",
      "1     0.0\n",
      "2     0.0\n",
      "3     0.0\n",
      "4     1.0\n",
      "5     0.0\n",
      "6     0.0\n",
      "7     0.0\n",
      "8     0.0\n",
      "9     1.0\n",
      "10    0.0\n",
      "11    0.0\n",
      "12    0.0\n",
      "13    1.0\n",
      "14    0.0\n",
      "15    0.0\n",
      "16    0.0\n",
      "17    0.0\n",
      "18    0.0\n",
      "19    1.0\n",
      "20    0.0\n",
      "21    1.0\n",
      "22    0.0\n",
      "23    0.0\n",
      "24    1.0\n",
      "25    1.0\n",
      "26    1.0\n",
      "27    0.0\n",
      "28    1.0\n",
      "29    1.0\n",
      "30    0.0\n",
      "31    1.0\n",
      "Name: GRADE, dtype: float64\n",
      "Optimization terminated successfully.\n",
      "         Current function value: 0.402801\n",
      "         Iterations 7\n",
      "                           Logit Regression Results                           \n",
      "==============================================================================\n",
      "Dep. Variable:                  GRADE   No. Observations:                   32\n",
      "Model:                          Logit   Df Residuals:                       28\n",
      "Method:                           MLE   Df Model:                            3\n",
      "Date:                Wed, 17 Aug 2022   Pseudo R-squ.:                  0.3740\n",
      "Time:                        21:25:44   Log-Likelihood:                -12.890\n",
      "converged:                       True   LL-Null:                       -20.592\n",
      "Covariance Type:            nonrobust   LLR p-value:                  0.001502\n",
      "==============================================================================\n",
      "                 coef    std err          z      P>|z|      [0.025      0.975]\n",
      "------------------------------------------------------------------------------\n",
      "const        -13.0213      4.931     -2.641      0.008     -22.687      -3.356\n",
      "GPA            2.8261      1.263      2.238      0.025       0.351       5.301\n",
      "TUCE           0.0952      0.142      0.672      0.501      -0.182       0.373\n",
      "PSI            2.3787      1.065      2.234      0.025       0.292       4.465\n",
      "==============================================================================\n"
     ]
    }
   ],
   "source": [
    "#probit regression \n",
    "import statsmodels.api as sm\n",
    "spector_data = sm.datasets.spector.load_pandas()\n",
    "print(\"exog are features:\")\n",
    "print(spector_data.exog)\n",
    "print(\"endog is the response variable:\")\n",
    "print(spector_data.endog)\n",
    "spector_data.exog = sm.add_constant(spector_data.exog)\n",
    "logit_mod = sm.Logit(spector_data.endog, spector_data.exog)\n",
    "logit_res = logit_mod.fit()\n",
    "print(logit_res.summary())"
   ]
  },
  {
   "cell_type": "code",
   "execution_count": 8,
   "id": "ca121225",
   "metadata": {},
   "outputs": [],
   "source": [
    "import statsmodels.api as sm\n",
    "from scipy import stats\n",
    "import numpy as np\n",
    "from statsmodels.base.model import GenericLikelihoodModel\n",
    "    "
   ]
  },
  {
   "cell_type": "code",
   "execution_count": 9,
   "id": "f97d8d5e",
   "metadata": {},
   "outputs": [
    {
     "name": "stdout",
     "output_type": "stream",
     "text": [
      "::\n",
      "\n",
      "    Number of Observations - 32\n",
      "\n",
      "    Number of Variables - 4\n",
      "\n",
      "    Variable name definitions::\n",
      "\n",
      "        Grade - binary variable indicating whether or not a student's grade\n",
      "                improved.  1 indicates an improvement.\n",
      "        TUCE  - Test score on economics test\n",
      "        PSI   - participation in program\n",
      "        GPA   - Student's grade point average\n",
      "\n",
      "     GPA  TUCE  PSI\n",
      "0   2.66  20.0  0.0\n",
      "1   2.89  22.0  0.0\n",
      "2   3.28  24.0  0.0\n",
      "3   2.92  12.0  0.0\n",
      "4   4.00  21.0  0.0\n",
      "5   2.86  17.0  0.0\n",
      "6   2.76  17.0  0.0\n",
      "7   2.87  21.0  0.0\n",
      "8   3.03  25.0  0.0\n",
      "9   3.92  29.0  0.0\n",
      "10  2.63  20.0  0.0\n",
      "11  3.32  23.0  0.0\n",
      "12  3.57  23.0  0.0\n",
      "13  3.26  25.0  0.0\n",
      "14  3.53  26.0  0.0\n",
      "15  2.74  19.0  0.0\n",
      "16  2.75  25.0  0.0\n",
      "17  2.83  19.0  0.0\n",
      "18  3.12  23.0  1.0\n",
      "19  3.16  25.0  1.0\n",
      "20  2.06  22.0  1.0\n",
      "21  3.62  28.0  1.0\n",
      "22  2.89  14.0  1.0\n",
      "23  3.51  26.0  1.0\n",
      "24  3.54  24.0  1.0\n",
      "25  2.83  27.0  1.0\n",
      "26  3.39  17.0  1.0\n",
      "27  2.67  24.0  1.0\n",
      "28  3.65  21.0  1.0\n",
      "29  4.00  23.0  1.0\n",
      "30  3.10  21.0  1.0\n",
      "31  2.39  19.0  1.0\n"
     ]
    }
   ],
   "source": [
    "data = sm.datasets.spector.load_pandas()\n",
    "exog = data.exog\n",
    "endog = data.endog\n",
    "print(sm.datasets.spector.NOTE)\n",
    "print(data.exog)\n",
    "exog = sm.add_constant(exog, prepend=True)"
   ]
  },
  {
   "cell_type": "code",
   "execution_count": 24,
   "id": "dbd49501",
   "metadata": {},
   "outputs": [
    {
     "name": "stdout",
     "output_type": "stream",
     "text": [
      "Optimization terminated successfully.\n",
      "         Current function value: 0.400588\n",
      "         Iterations: 292\n",
      "         Function evaluations: 494\n",
      "                               MyProbit Results                               \n",
      "==============================================================================\n",
      "Dep. Variable:                  GRADE   Log-Likelihood:                -12.819\n",
      "Model:                       MyProbit   AIC:                             33.64\n",
      "Method:            Maximum Likelihood   BIC:                             39.50\n",
      "Date:                Wed, 17 Aug 2022                                         \n",
      "Time:                        21:47:11                                         \n",
      "No. Observations:                  32                                         \n",
      "Df Residuals:                      28                                         \n",
      "Df Model:                           3                                         \n",
      "==============================================================================\n",
      "                 coef    std err          z      P>|z|      [0.025      0.975]\n",
      "------------------------------------------------------------------------------\n",
      "const         -7.4523      2.542     -2.931      0.003     -12.435      -2.469\n",
      "GPA            1.6258      0.694      2.343      0.019       0.266       2.986\n",
      "TUCE           0.0517      0.084      0.617      0.537      -0.113       0.216\n",
      "PSI            1.4263      0.595      2.397      0.017       0.260       2.593\n",
      "==============================================================================\n"
     ]
    }
   ],
   "source": [
    "class MyProbit(GenericLikelihoodModel):\n",
    "    #this is should be after the derivative?\n",
    "    def loglike(self,params):\n",
    "        exog = self.exog\n",
    "        endog = self.endog\n",
    "        q = 2*endog - 1\n",
    "        return stats.norm.logcdf(q*np.dot(exog,params)).sum()\n",
    "sm_probit_manual = MyProbit(endog,exog).fit()\n",
    "print(sm_probit_manual.summary())\n"
   ]
  },
  {
   "cell_type": "code",
   "execution_count": 13,
   "id": "ca1da8cb",
   "metadata": {},
   "outputs": [
    {
     "name": "stdout",
     "output_type": "stream",
     "text": [
      "Optimization terminated successfully.\n",
      "         Current function value: 0.400588\n",
      "         Iterations 6\n",
      "const   -7.452320\n",
      "GPA      1.625810\n",
      "TUCE     0.051729\n",
      "PSI      1.426332\n",
      "dtype: float64\n",
      "------\n",
      "[-7.45233176  1.62580888  0.05172971  1.42631954]\n"
     ]
    }
   ],
   "source": [
    "sm_probit_canned = sm.Probit(endog,exog).fit()\n",
    "#without the constant. what does that do? \n",
    "print(sm_probit_canned.params)\n",
    "print(\"------\")\n",
    "print(sm_probit_manual.params)"
   ]
  },
  {
   "cell_type": "code",
   "execution_count": 14,
   "id": "aa728709",
   "metadata": {},
   "outputs": [
    {
     "name": "stdout",
     "output_type": "stream",
     "text": [
      "          const       GPA      TUCE       PSI\n",
      "const  6.464166 -1.169668 -0.101173 -0.594792\n",
      "GPA   -1.169668  0.481473 -0.018914  0.105439\n",
      "TUCE  -0.101173 -0.018914  0.007038  0.002472\n",
      "PSI   -0.594792  0.105439  0.002472  0.354070\n",
      "[[ 6.46416770e+00 -1.16966617e+00 -1.01173181e-01 -5.94789009e-01]\n",
      " [-1.16966617e+00  4.81472117e-01 -1.89134591e-02  1.05438228e-01]\n",
      " [-1.01173181e-01 -1.89134591e-02  7.03758403e-03  2.47189233e-03]\n",
      " [-5.94789009e-01  1.05438228e-01  2.47189233e-03  3.54069514e-01]]\n"
     ]
    }
   ],
   "source": [
    "#the values are teh same as Linear regression coefficients? we need std eev and var\n",
    "#for a normal distribution\n",
    "print(sm_probit_canned.cov_params())\n",
    "print(\"----------\")\n",
    "print(sm_probit_manual.cov_params())\n"
   ]
  },
  {
   "cell_type": "code",
   "execution_count": null,
   "id": "9dd9d21d",
   "metadata": {},
   "outputs": [],
   "source": [
    "#how is the fit implemented? \n",
    "#it calls loglikelihood\n",
    "\n",
    "#multinomial with differeent columns and types of data\n",
    "#\n"
   ]
  }
 ],
 "metadata": {
  "kernelspec": {
   "display_name": "Python 3.9.7 ('cosmic')",
   "language": "python",
   "name": "python397jvsc74a57bd053d4678d88891fb05e04416eb1a742497c0b0baabdd52f6ad28cb1ed11944cce"
  },
  "language_info": {
   "codemirror_mode": {
    "name": "ipython",
    "version": 3
   },
   "file_extension": ".py",
   "mimetype": "text/x-python",
   "name": "python",
   "nbconvert_exporter": "python",
   "pygments_lexer": "ipython3",
   "version": "3.9.10"
  }
 },
 "nbformat": 4,
 "nbformat_minor": 5
}
