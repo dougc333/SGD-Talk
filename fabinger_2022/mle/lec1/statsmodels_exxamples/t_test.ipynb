{
 "cells": [
  {
   "cell_type": "code",
   "execution_count": null,
   "id": "7b9afad2",
   "metadata": {},
   "outputs": [],
   "source": [
    "#t-test ed boone videos\n",
    "#student's t distribution\n",
    "#https://www.youtube.com/watch?v=QV7cTAaZ3Nw\n",
    "<img src=\"t_test1.png\">\n",
    "<p>A one sided t test means if the population mean equals a specified value. Given 10 data points from a population when \n",
    "you calculate the mean of the 10 data points is this equal the actual mean of the population The null hypothesis \n",
    "is the population mean equals your calculated mean for 10 samples, the alternative hypothesis is the calculated\n",
    "mean from 10 samples is not the population mean. The is derived from central limit theorem. The CLT says means the distribution\n",
    "of sample means from the population are normally distributed. </p>\n",
    "\n",
    "\n",
    "<p>A 2 sample t test compares the means from 2 populations, if they are equal to each other? \n",
    "</p>\n",
    "\n",
    "<p>A 2 sided t test </p>\n"
   ]
  },
  {
   "cell_type": "code",
   "execution_count": 9,
   "id": "56ffb528",
   "metadata": {},
   "outputs": [
    {
     "name": "stdout",
     "output_type": "stream",
     "text": [
      "0.49329966705794176\n"
     ]
    },
    {
     "data": {
      "text/plain": [
       "Ttest_1sampResult(statistic=30.70151110243063, pvalue=4.8987320315011054e-117)"
      ]
     },
     "execution_count": 9,
     "metadata": {},
     "output_type": "execute_result"
    }
   ],
   "source": [
    "#1 sample t test\n",
    "#https://www.youtube.com/watch?v=64eX884dRfI&t=97s\n",
    "from scipy.stats import ttest_1samp\n",
    "import numpy as np\n",
    "from scipy import stats\n",
    "rng = np.random.default_rng()\n",
    "rvs = stats.uniform.rvs(size=500, random_state=rng)\n",
    "print(np.mean(rvs))\n",
    "stats.ttest_1samp(rvs, popmean=0.1)\n",
    "#null hypothesis the mean of rvs is .5\n",
    "#alternative hypothesis the mean of rvs is not 0.5\n",
    "#if we choose a confidence interval of 99% then if p<0.01 we reject the null hypothesis in favor of teh alternative\n",
    "#0.5903429551232099\n",
    "#Ttest_1sampResult(statistic=0.7589141552552717, pvalue=0.49016552736316354)\n",
    "#pvalue is .5 which >>>.01 so we accept the null hypothesis which is the mean of rvs is 0.5\n",
    "\n",
    "#stats.ttest_1samp(rvs, popmean=0.1)\n",
    "#0.49329966705794176\n",
    "#Ttest_1sampResult(statistic=30.70151110243063, pvalue=4.8987320315011054e-117)\n",
    "#if we set the pop_mean to .1 then we reject the null hypothesis because p<<0.1 so the mean of the \n",
    "#population is not 0.1. \n",
    "\n",
    "\n",
    "\n"
   ]
  },
  {
   "cell_type": "code",
   "execution_count": null,
   "id": "fcbe3320",
   "metadata": {},
   "outputs": [],
   "source": [
    "#1 SAMPLE T TEST 2 cases. \n",
    "# a proportion and a sample mean\n",
    "# Ed boone sources\n",
    "#H0:sample mean is equal to population mean\n",
    "#HA: sample mean > population mean\n",
    "#different than 3 cases for HA. \n"
   ]
  },
  {
   "cell_type": "markdown",
   "id": "42614b4b",
   "metadata": {},
   "source": [
    "#1 SAMPLE T TEST proportional hypothesis test setup\n",
    "#is the sample proportion different from the population proportion?\n",
    "#https://online.stat.psu.edu/stat500/lesson/6a/6a.3\n",
    "<p>\n",
    "Case 1 2 tailed non directional:\n",
    "$H0:p=p_0, HA: p!=p_0$\n",
    "</p>\n",
    "<p>\n",
    "Case 2 left tailed directional:\n",
    "$H0:p=p_0, HA: p<p_0$\n",
    "</p>\n",
    "<p>\n",
    "Case 3 right tailed directional:\n",
    "$H0:p=p_0, HA: p>p_0$\n",
    "</p>\n",
    "\n"
   ]
  },
  {
   "cell_type": "markdown",
   "id": "22f7cd2e",
   "metadata": {},
   "source": [
    "#1 SAMPLE T TEST mean hypothesis test setup\n",
    "#is the sample mean different from the proportion mean? \n",
    "#https://online.stat.psu.edu/stat500/lesson/6a/6a.3\n",
    "<p>\n",
    "Case 1 2 tailed non directional:\n",
    "$H0:\\mu=\\mu_0, HA: \\mu!=\\mu_0$\n",
    "</p>\n",
    "<p>\n",
    "Case 2 left tailed directional:\n",
    "$H0:\\mu=\\mu_0, HA: \\mu<\\mu_0$\n",
    "</p>\n",
    "<p>\n",
    "Case 3 right tailed directional:\n",
    "$H0:\\mu=\\mu_0, HA: \\mu>\\mu_0$\n",
    "</p>\n"
   ]
  },
  {
   "cell_type": "code",
   "execution_count": 36,
   "id": "9e1d47f5",
   "metadata": {},
   "outputs": [
    {
     "name": "stdout",
     "output_type": "stream",
     "text": [
      "1000\n",
      "0.029309272456656862 -0.0510266611994315\n"
     ]
    },
    {
     "data": {
      "text/plain": [
       "Ttest_1sampResult(statistic=2.5893414351859594, pvalue=0.009755815695698281)"
      ]
     },
     "execution_count": 36,
     "metadata": {},
     "output_type": "execute_result"
    }
   ],
   "source": [
    "#lab create 2 separate distributions and sample from each one. \n",
    "#do a t_test on each mean and proportion where you draw samples from the distribution\n",
    "from scipy.stats import norm\n",
    "#import random\n",
    "\n",
    "frozen_norm = norm().rvs(size=1000)\n",
    "print(np.size(frozen_norm))\n",
    "#randomly sample 10 from frozen_norm. this wont make a difference\n",
    "#randomly draw samples from array. Should have a library \n",
    "ten_samples = np.random.choice(sample_norm,size=10)\n",
    "print(np.mean(frozen_norm), np.mean(ten_samples))\n",
    "stats.ttest_1samp(frozen_norm, popmean=np.mean(ten_samples))\n",
    "\n",
    "#exactly how does this work? \n",
    "\n",
    "#when does t-test fail? if I introduce 1 value not fraom distribution? more than 1 value? \n",
    "#how to display this? Some graph of pvalue or test statistic\n",
    "\n"
   ]
  },
  {
   "cell_type": "code",
   "execution_count": 19,
   "id": "66801db6",
   "metadata": {},
   "outputs": [
    {
     "name": "stdout",
     "output_type": "stream",
     "text": [
      "3.5 3.5 4.0\n",
      "mean rvs1, rvs5: 4.74368945280614 10.451070956539558\n"
     ]
    }
   ],
   "source": [
    "#2 sample t test\n",
    "#https://www.youtube.com/watch?v=XzetnF4vx40\n",
    "#test if the 2 means are equal from 2 different samplss? 2 different samples from same population\n",
    "#2 differnt samples from 2 different populations? This doesn tmake sense. 2 population subsets from same population? \n",
    "#\n",
    "from scipy.stats import ttest_ind\n",
    "a=[1,2,3,4,5,6]\n",
    "b=[3,3,3,4,4,4]\n",
    "c=[4,4,4,4,4,4]\n",
    "print(np.mean(a),np.mean(b),np.mean(c))\n",
    "\n",
    "ttest_ind(a,b) \n",
    "#Ttest_indResult(statistic=0.0, pvalue=1.0) the null hypothesis is the means are equal. If the pvalue is >0.01 for \n",
    "#99% confidence interval then we accept the null hypothesis if pvalue>0.01. \n",
    "rng = np.random.default_rng()\n",
    "#how does rvs work? this is the new interface\n",
    "rvs1 = stats.norm.rvs(loc=5, scale=10, size=500, random_state=rng)\n",
    "rvs5 = stats.norm.rvs(loc=8, scale=20, size=100, random_state=rng)\n",
    "\n",
    "ttest_ind(rvs1,rvs5,permutations=10000)\n",
    "print(\"mean rvs1, rvs5:\",np.mean(rvs1),np.mean(rvs5))\n",
    "#Ttest_indResult(statistic=-2.2164379435066026, pvalue=0.02703707193597888)\n",
    "#permutations increase accuracy?\n",
    "#Ttest_indResult(statistic=-2.703255383917935, pvalue=0.0071)\n",
    "#the pvalue<0.01 so we reject the null hypothesis the 2 population means are equal. \n"
   ]
  },
  {
   "cell_type": "code",
   "execution_count": null,
   "id": "ce3400e8",
   "metadata": {},
   "outputs": [],
   "source": [
    "# how do we implement the one sided and 2 sided t-test? \n",
    "# how does the derivation work?\n",
    "#what does it mean to say the mean if normally distributed? \n",
    "#\n"
   ]
  },
  {
   "cell_type": "code",
   "execution_count": null,
   "id": "c75cfb41",
   "metadata": {},
   "outputs": [],
   "source": [
    "https://online.stat.psu.edu/stat500/lesson/6a/6a.2\n",
    "the 6 steps of hypothesis tests\n"
   ]
  },
  {
   "cell_type": "code",
   "execution_count": null,
   "id": "48a90e61",
   "metadata": {},
   "outputs": [],
   "source": [
    "#1 sample z test on proportions. Proportions are never t-tests. Use ztests\n",
    "#if np and n(1-p) are both >5 then the sample proportion p_hat will be normally distributed\n",
    "#with \n",
    "<p>mean p and</p> \n",
    "$standard\\ error= \\sqrt{\\frac{p(1-p)}{n}}$\n",
    "<p>first step assume the null hypothesis is true and set $H_0:p=p_0$</p>\n",
    "\n",
    "$$"
   ]
  },
  {
   "cell_type": "code",
   "execution_count": null,
   "id": "e2532a23",
   "metadata": {},
   "outputs": [],
   "source": [
    "#1 sample z test on proportions\n"
   ]
  },
  {
   "cell_type": "code",
   "execution_count": null,
   "id": "70dcb80e",
   "metadata": {},
   "outputs": [],
   "source": [
    "#2 sample z test on proportions\n"
   ]
  }
 ],
 "metadata": {
  "kernelspec": {
   "display_name": "Python 3 (ipykernel)",
   "language": "python",
   "name": "python3"
  },
  "language_info": {
   "codemirror_mode": {
    "name": "ipython",
    "version": 3
   },
   "file_extension": ".py",
   "mimetype": "text/x-python",
   "name": "python",
   "nbconvert_exporter": "python",
   "pygments_lexer": "ipython3",
   "version": "3.9.10"
  }
 },
 "nbformat": 4,
 "nbformat_minor": 5
}
