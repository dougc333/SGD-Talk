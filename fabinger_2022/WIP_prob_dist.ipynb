{
 "cells": [
  {
   "cell_type": "code",
   "execution_count": null,
   "id": "e4680365",
   "metadata": {},
   "outputs": [],
   "source": [
    "<h6>Using PDF and CDFs</h6>\n",
    "A PDF must follow the probability axioms; must be nonnegative and the area under the PDF sums to 1. \n",
    "A PDF of a normal random variable is: \n",
    "$$\n",
    "f(x)=\\frac{1}{\\sigma \\sqrt{2\\pi}}e^{\\frac{-1}{2}(\\frac{x-\\mu}{\\sigma})^2}\n",
    "$$\n",
    "The PDF function f(x) generates a value between 0 and 1 for a given random number x from random variable X. \n",
    "To generate a sample of a normal random variable we need to use the CDF not the PDF. \n",
    "\n",
    "If we invert the PDF we get multiple values for a given x if we use normal distribution as example. Technically this\n",
    "isnt a function if there are 2 values. \n",
    "\n",
    "If we invert the CDF which is monotonically increasing...\n",
    "\n",
    "\n",
    "1) given data how to model a PDF/CDF? You count. Craete a frequency table and normlaize to 1. \n",
    "For binomial count num failures to success 17/32 as an example. Each probability is 1/n. But you skew it by how \n",
    "many successes there are vs how many failures. the ratio of success/failures helps to determine the probabiltiy of a\n",
    "success and probabiltiy of a failure. P(success) = success/failure, P(failure) = 1-P(success). If I flip a coin I have success/failure\n",
    "ratio probability of getting a success. Make a list with success+failure=n balls. Color them either success or failure\n",
    "and select at random from n. \n",
    "Binomial PDF:\n",
    "$$\n",
    "f(x) = p^{k}(1-p)^{n-k}\n",
    "$$\n",
    "\n",
    "\n",
    "\n"
   ]
  },
  {
   "cell_type": "code",
   "execution_count": null,
   "id": "24e572c5",
   "metadata": {},
   "outputs": [],
   "source": []
  },
  {
   "cell_type": "code",
   "execution_count": null,
   "id": "e11aabb2",
   "metadata": {},
   "outputs": [],
   "source": [
    "#https://blog.demofox.org/2017/08/05/generating-random-numbers-from-a-specific-distribution-by-inverting-the-cdf/\n",
    "To calculate the inverse CDF: \n",
    "<li>Inverting the CDF analytically or numerically</li>\n",
    "<li>Rejection sampling, there is another method youtube lambert which doesnt use rejections, more efficient</li>\n",
    "<li>MCMC</li>\n",
    "<li>Ziggurat algorithm</li>"
   ]
  },
  {
   "cell_type": "code",
   "execution_count": 2,
   "id": "d65e252b",
   "metadata": {},
   "outputs": [
    {
     "name": "stdout",
     "output_type": "stream",
     "text": [
      "0.9986501019683699\n"
     ]
    }
   ],
   "source": [
    "#what is the probabiltiy a normal RV with mean 0 and std dev 1 is <3?\n",
    "#pnorm(3,0,1) this is the same as cdf funtion\n",
    "import scipy\n",
    "from scipy.stats import norm\n",
    "#loc=mean, scale = std dev\n",
    "rv = norm(loc=0,scale=1)\n",
    "#what is the probabiltiy rv<3\n",
    "#> pnorm(3,0,1)\n",
    "#[1] 0.9986501\n",
    "print(rv.cdf(3)) "
   ]
  },
  {
   "cell_type": "code",
   "execution_count": null,
   "id": "acca0597",
   "metadata": {},
   "outputs": [],
   "source": [
    "<h6>Quantile</h6>\n",
    "Quantile is the inverse of the CDF. "
   ]
  },
  {
   "cell_type": "code",
   "execution_count": null,
   "id": "f883e8ca",
   "metadata": {},
   "outputs": [],
   "source": [
    "<h6>MonteCarlo Sampling Inverse CDF</h6>\n",
    "https://www.youtube.com/watch?v=TR0biDues7k"
   ]
  }
 ],
 "metadata": {
  "kernelspec": {
   "display_name": "Python 3.9.7 ('cosmic')",
   "language": "python",
   "name": "python397jvsc74a57bd053d4678d88891fb05e04416eb1a742497c0b0baabdd52f6ad28cb1ed11944cce"
  },
  "language_info": {
   "codemirror_mode": {
    "name": "ipython",
    "version": 3
   },
   "file_extension": ".py",
   "mimetype": "text/x-python",
   "name": "python",
   "nbconvert_exporter": "python",
   "pygments_lexer": "ipython3",
   "version": "3.9.10"
  }
 },
 "nbformat": 4,
 "nbformat_minor": 5
}
