{
 "cells": [
  {
   "cell_type": "markdown",
   "id": "36d4ec1d",
   "metadata": {},
   "source": [
    "<p>One of the paradoxes in joint probability for continuous variables is both the numerator and denominator\n",
    "are close to 0 and is undefined we cover that problem in the next lecture</p>\n",
    "<img src=\"p.png\">"
   ]
  },
  {
   "cell_type": "code",
   "execution_count": null,
   "id": "5d70003e",
   "metadata": {},
   "outputs": [],
   "source": []
  }
 ],
 "metadata": {
  "kernelspec": {
   "display_name": "Python 3 (ipykernel)",
   "language": "python",
   "name": "python3"
  },
  "language_info": {
   "codemirror_mode": {
    "name": "ipython",
    "version": 3
   },
   "file_extension": ".py",
   "mimetype": "text/x-python",
   "name": "python",
   "nbconvert_exporter": "python",
   "pygments_lexer": "ipython3",
   "version": "3.9.7"
  }
 },
 "nbformat": 4,
 "nbformat_minor": 5
}
