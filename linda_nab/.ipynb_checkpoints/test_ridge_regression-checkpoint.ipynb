{
 "cells": [
  {
   "cell_type": "code",
   "execution_count": null,
   "id": "111f636a",
   "metadata": {},
   "outputs": [],
   "source": [
    "import numpy as np\n",
    "np.random.seed(1)\n",
    "\n",
    "p = 3\n",
    "beta = np.array([0.001, 0.1, 10.0])\n",
    "feature_sigma = 1.0\n",
    "sigma = 1.0\n",
    "train_sizes = list(range(8, 21))\n",
    "N = 5000\n",
    "\n",
    "#https://towardsdatascience.com/how-to-do-ridge-regression-better-34ecb6ee3b12\n"
   ]
  }
 ],
 "metadata": {
  "kernelspec": {
   "display_name": "Python 3 (ipykernel)",
   "language": "python",
   "name": "python3"
  },
  "language_info": {
   "codemirror_mode": {
    "name": "ipython",
    "version": 3
   },
   "file_extension": ".py",
   "mimetype": "text/x-python",
   "name": "python",
   "nbconvert_exporter": "python",
   "pygments_lexer": "ipython3",
   "version": "3.9.10"
  }
 },
 "nbformat": 4,
 "nbformat_minor": 5
}
