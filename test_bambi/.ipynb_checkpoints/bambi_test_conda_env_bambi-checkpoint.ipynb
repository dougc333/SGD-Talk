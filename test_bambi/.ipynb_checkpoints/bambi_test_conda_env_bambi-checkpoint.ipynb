{
 "cells": [
  {
   "cell_type": "code",
   "execution_count": null,
   "id": "d559b477",
   "metadata": {},
   "outputs": [],
   "source": [
    "import bambi as bmb\n",
    "import numpy as np\n",
    "import pandas as pd\n",
    "\n",
    "data = pd.DataFrame({\n",
    "    \"y\": np.random.normal(size=50),\n",
    "    \"g\": np.random.choice([\"Yes\", \"No\"], size=50),\n",
    "    \"x1\": np.random.normal(size=50),\n",
    "    \"x2\": np.random.normal(size=50)\n",
    "})"
   ]
  },
  {
   "cell_type": "code",
   "execution_count": null,
   "id": "eeebc803",
   "metadata": {},
   "outputs": [],
   "source": [
    "model = bmb.Model(\"y ~ x1 + x2\", data)\n",
    "fitted = model.fit()\n"
   ]
  }
 ],
 "metadata": {
  "kernelspec": {
   "display_name": "Python 3 (ipykernel)",
   "language": "python",
   "name": "python3"
  },
  "language_info": {
   "codemirror_mode": {
    "name": "ipython",
    "version": 3
   },
   "file_extension": ".py",
   "mimetype": "text/x-python",
   "name": "python",
   "nbconvert_exporter": "python",
   "pygments_lexer": "ipython3",
   "version": "3.8.13"
  }
 },
 "nbformat": 4,
 "nbformat_minor": 5
}
