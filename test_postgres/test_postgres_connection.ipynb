{
 "cells": [
  {
   "cell_type": "code",
   "execution_count": null,
   "id": "7ee7895a",
   "metadata": {},
   "outputs": [],
   "source": [
    "#this is a blank db? it hasnt had airflow initdb in it\n",
    "#we initdb the sqlite database\n",
    "#how to run the init script on postgres and mysql?\n",
    "#there must be a file somewhere of sql statements \n",
    "#"
   ]
  }
 ],
 "metadata": {
  "kernelspec": {
   "display_name": "Python 3.9.7 ('cosmic')",
   "language": "python",
   "name": "python397jvsc74a57bd053d4678d88891fb05e04416eb1a742497c0b0baabdd52f6ad28cb1ed11944cce"
  },
  "language_info": {
   "codemirror_mode": {
    "name": "ipython",
    "version": 3
   },
   "file_extension": ".py",
   "mimetype": "text/x-python",
   "name": "python",
   "nbconvert_exporter": "python",
   "pygments_lexer": "ipython3",
   "version": "3.9.10"
  }
 },
 "nbformat": 4,
 "nbformat_minor": 5
}
