{
 "cells": [
  {
   "cell_type": "code",
   "execution_count": 8,
   "id": "7ee7895a",
   "metadata": {},
   "outputs": [
    {
     "name": "stdout",
     "output_type": "stream",
     "text": [
      "\n",
      " <class 'tuple'>\n",
      "('Doctor Strange', 'Scott Derrickson', '2016')\n",
      "\n",
      " <class 'tuple'>\n",
      "('Doctor Strange', 'Scott Derrickson', '2016')\n",
      "\n",
      " <class 'tuple'>\n",
      "('Doctor Strange', 'Scott Derrickson', '2016')\n"
     ]
    }
   ],
   "source": [
    "#this is a blank db? it hasnt had airflow initdb in it\n",
    "#we initdb the sqlite database\n",
    "#how to run the init script on postgres and mysql?\n",
    "#there must be a file somewhere of sql statements \n",
    "#how to connect to posgres docker container? \n",
    "\n",
    "from psycopg2 import connect\n",
    "\n",
    "table_name = \"films\"\n",
    "\n",
    "# declare connection instance\n",
    "conn = connect(\n",
    "    dbname = \"airflow\",\n",
    "    user = \"dougchang\",\n",
    "    host = \"0.0.0.0\", \n",
    "    port = '5432',\n",
    "    password = \"\"\n",
    ")\n",
    "cursor = conn.cursor()\n",
    "\n",
    "# execute an SQL statement using the psycopg2 cursor object\n",
    "cursor.execute(f\"SELECT * FROM {table_name};\")\n",
    "for i, record in enumerate(cursor):\n",
    "    print (\"\\n\", type(record))\n",
    "    print ( record )\n",
    "\n",
    "# close the cursor object to avoid memory leaks\n",
    "cursor.close()\n",
    "\n",
    "# close the connection as well\n",
    "conn.close()"
   ]
  },
  {
   "cell_type": "code",
   "execution_count": 5,
   "id": "941ae6fd",
   "metadata": {},
   "outputs": [
    {
     "name": "stdout",
     "output_type": "stream",
     "text": [
      "\n",
      " <class 'tuple'>\n",
      "(100,)\n",
      "\n",
      " <class 'tuple'>\n",
      "(1000,)\n"
     ]
    }
   ],
   "source": [
    "#how to connect to the docker container? \n",
    "from psycopg2 import connect\n",
    "from psycopg2.extensions import ISOLATION_LEVEL_AUTOCOMMIT\n",
    "\n",
    "#start docker conntainer\n",
    "#craeate table foo with one column under postgres user and add data to table \n",
    "table_name = \"foo\"\n",
    "\n",
    "# declare connection instance\n",
    "conn = connect(\n",
    "    dbname = \"postgres\",\n",
    "    user = \"postgres\",\n",
    "    host = \"0.0.0.0\", \n",
    "    port = '5432',\n",
    "    password = \"postgres\"\n",
    ")\n",
    "\n",
    "conn.set_isolation_level(ISOLATION_LEVEL_AUTOCOMMIT);\n",
    "\n",
    "\n",
    "cursor = conn.cursor()\n",
    "\n",
    "# execute an SQL statement using the psycopg2 cursor object\n",
    "cursor.execute(f\"select * from foo;\")\n",
    "#does making this a generator more efficient? \n",
    "for i, record in enumerate(cursor):\n",
    "    print (\"\\n\", type(record))\n",
    "    print ( record )\n",
    "\n",
    "# close the cursor object to avoid memory leaks\n",
    "cursor.close()\n",
    "\n",
    "# close the connection as well\n",
    "conn.close()"
   ]
  },
  {
   "cell_type": "code",
   "execution_count": null,
   "id": "0829ff43",
   "metadata": {},
   "outputs": [],
   "source": []
  }
 ],
 "metadata": {
  "kernelspec": {
   "display_name": "Python 3.9.7 ('cosmic')",
   "language": "python",
   "name": "python397jvsc74a57bd053d4678d88891fb05e04416eb1a742497c0b0baabdd52f6ad28cb1ed11944cce"
  },
  "language_info": {
   "codemirror_mode": {
    "name": "ipython",
    "version": 3
   },
   "file_extension": ".py",
   "mimetype": "text/x-python",
   "name": "python",
   "nbconvert_exporter": "python",
   "pygments_lexer": "ipython3",
   "version": "3.9.10"
  }
 },
 "nbformat": 4,
 "nbformat_minor": 5
}
