{
 "cells": [
  {
   "cell_type": "code",
   "execution_count": 8,
   "id": "7ee7895a",
   "metadata": {},
   "outputs": [
    {
     "name": "stdout",
     "output_type": "stream",
     "text": [
      "\n",
      " <class 'tuple'>\n",
      "('Doctor Strange', 'Scott Derrickson', '2016')\n",
      "\n",
      " <class 'tuple'>\n",
      "('Doctor Strange', 'Scott Derrickson', '2016')\n",
      "\n",
      " <class 'tuple'>\n",
      "('Doctor Strange', 'Scott Derrickson', '2016')\n"
     ]
    }
   ],
   "source": [
    "#this is a blank db? it hasnt had airflow initdb in it\n",
    "#we initdb the sqlite database\n",
    "#how to run the init script on postgres and mysql?\n",
    "#there must be a file somewhere of sql statements \n",
    "#how to connect to posgres docker container? \n",
    "\n",
    "from psycopg2 import connect\n",
    "\n",
    "table_name = \"films\"\n",
    "\n",
    "# declare connection instance\n",
    "conn = connect(\n",
    "    dbname = \"airflow\",\n",
    "    user = \"dougchang\",\n",
    "    host = \"0.0.0.0\", \n",
    "    port = '5432',\n",
    "    password = \"\"\n",
    ")\n",
    "cursor = conn.cursor()\n",
    "\n",
    "# execute an SQL statement using the psycopg2 cursor object\n",
    "cursor.execute(f\"SELECT * FROM {table_name};\")\n",
    "for i, record in enumerate(cursor):\n",
    "    print (\"\\n\", type(record))\n",
    "    print ( record )\n",
    "\n",
    "# close the cursor object to avoid memory leaks\n",
    "cursor.close()\n",
    "\n",
    "# close the connection as well\n",
    "conn.close()"
   ]
  },
  {
   "cell_type": "code",
   "execution_count": 26,
   "id": "5f8a10c8",
   "metadata": {},
   "outputs": [
    {
     "ename": "ActiveSqlTransaction",
     "evalue": "CREATE DATABASE cannot run inside a transaction block\n",
     "output_type": "error",
     "traceback": [
      "\u001b[0;31m---------------------------------------------------------------------------\u001b[0m",
      "\u001b[0;31mActiveSqlTransaction\u001b[0m                      Traceback (most recent call last)",
      "Input \u001b[0;32mIn [26]\u001b[0m, in \u001b[0;36m<cell line: 16>\u001b[0;34m()\u001b[0m\n\u001b[1;32m     13\u001b[0m cursor \u001b[38;5;241m=\u001b[39m conn\u001b[38;5;241m.\u001b[39mcursor()\n\u001b[1;32m     15\u001b[0m \u001b[38;5;66;03m# execute an SQL statement using the psycopg2 cursor object\u001b[39;00m\n\u001b[0;32m---> 16\u001b[0m \u001b[43mcursor\u001b[49m\u001b[38;5;241;43m.\u001b[39;49m\u001b[43mexecute\u001b[49m\u001b[43m(\u001b[49m\u001b[38;5;124;43mf\u001b[39;49m\u001b[38;5;124;43m\"\u001b[39;49m\u001b[38;5;124;43mCREATE DATABASE rr;\u001b[39;49m\u001b[38;5;124;43m\"\u001b[39;49m\u001b[43m)\u001b[49m\n\u001b[1;32m     17\u001b[0m \u001b[38;5;66;03m#for i, record in enumerate(cursor):\u001b[39;00m\n\u001b[1;32m     18\u001b[0m \u001b[38;5;66;03m#    print (\"\\n\", type(record))\u001b[39;00m\n\u001b[1;32m     19\u001b[0m \u001b[38;5;66;03m#    print ( record )\u001b[39;00m\n\u001b[1;32m     20\u001b[0m \n\u001b[1;32m     21\u001b[0m \u001b[38;5;66;03m# close the cursor object to avoid memory leaks\u001b[39;00m\n\u001b[1;32m     22\u001b[0m cursor\u001b[38;5;241m.\u001b[39mclose()\n",
      "\u001b[0;31mActiveSqlTransaction\u001b[0m: CREATE DATABASE cannot run inside a transaction block\n"
     ]
    }
   ],
   "source": [
    "#how to connect to the docker container? \n",
    "from psycopg2 import connect\n",
    "\n",
    "table_name = \"foo\"\n",
    "\n",
    "# declare connection instance\n",
    "conn = connect(\n",
    "    dbname = \"postgres\",\n",
    "    user = \"postgres\",\n",
    "    host = \"0.0.0.0\", port = '5432',\n",
    "    password = \"postgres\"\n",
    ")\n",
    "\n",
    "conn.set_isolation_level(ISOLATION_LEVEL_AUTOCOMMIT);\n",
    "\n",
    "\n",
    "cursor = conn.cursor()\n",
    "\n",
    "# execute an SQL statement using the psycopg2 cursor object\n",
    "cursor.execute(f\"CREATE DATABASE rr;\")\n",
    "#for i, record in enumerate(cursor):\n",
    "#    print (\"\\n\", type(record))\n",
    "#    print ( record )\n",
    "\n",
    "# close the cursor object to avoid memory leaks\n",
    "cursor.close()\n",
    "\n",
    "# close the connection as well\n",
    "conn.close()"
   ]
  },
  {
   "cell_type": "code",
   "execution_count": null,
   "id": "69a31c90",
   "metadata": {},
   "outputs": [],
   "source": []
  }
 ],
 "metadata": {
  "kernelspec": {
   "display_name": "Python 3.9.7 ('cosmic')",
   "language": "python",
   "name": "python397jvsc74a57bd053d4678d88891fb05e04416eb1a742497c0b0baabdd52f6ad28cb1ed11944cce"
  },
  "language_info": {
   "codemirror_mode": {
    "name": "ipython",
    "version": 3
   },
   "file_extension": ".py",
   "mimetype": "text/x-python",
   "name": "python",
   "nbconvert_exporter": "python",
   "pygments_lexer": "ipython3",
   "version": "3.9.10"
  }
 },
 "nbformat": 4,
 "nbformat_minor": 5
}
