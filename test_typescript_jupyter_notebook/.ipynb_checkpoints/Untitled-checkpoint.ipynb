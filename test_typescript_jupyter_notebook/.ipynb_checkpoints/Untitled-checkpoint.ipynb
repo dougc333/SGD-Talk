{
 "cells": [
  {
   "cell_type": "code",
   "execution_count": 1,
   "id": "d0422485",
   "metadata": {},
   "outputs": [
    {
     "data": {
      "text/html": [
       "<div style='background:#ffecb3;padding:1em;border-left:2px solid #ff6d00'><b>Configuration is not found!</b> Default configuration will be used: <pre>{\"module\":1,\"target\":1,\"moduleResolution\":2,\"esModuleInterop\":true}</pre></div>"
      ]
     },
     "execution_count": 1,
     "metadata": {},
     "output_type": "execute_result"
    },
    {
     "name": "stdout",
     "output_type": "stream",
     "text": [
      "adsf\n"
     ]
    }
   ],
   "source": [
    "console.log(\"adsf\")"
   ]
  },
  {
   "cell_type": "code",
   "execution_count": 3,
   "id": "d44b6d9b",
   "metadata": {},
   "outputs": [
    {
     "ename": "Error",
     "evalue": "Line 1, Character 30\nimport { aws_s3 as s3 } from 'aws-cdk-lib';\n_____________________________^\nTS2307: Cannot find module 'aws-cdk-lib' or its corresponding type declarations.",
     "output_type": "error",
     "traceback": [
      "Error: Line 1, Character 30",
      "import { aws_s3 as s3 } from 'aws-cdk-lib';",
      "_____________________________^",
      "TS2307: Cannot find module 'aws-cdk-lib' or its corresponding type declarations.",
      "    at execTranspile (/usr/local/lib/node_modules/itypescript/lib/kernel.js:229:23)",
      "    at Session.transpiler [as transpile] (/usr/local/lib/node_modules/itypescript/lib/kernel.js:288:35)",
      "    at Session._runNow (/usr/local/lib/node_modules/itypescript/node_modules/nel/lib/nel.js:835:39)",
      "    at Session._run (/usr/local/lib/node_modules/itypescript/node_modules/nel/lib/nel.js:786:14)",
      "    at Session.execute (/usr/local/lib/node_modules/itypescript/node_modules/nel/lib/nel.js:929:10)",
      "    at Kernel.execute_request (/usr/local/lib/node_modules/itypescript/node_modules/jp-kernel/lib/handlers_v5.js:116:18)",
      "    at Kernel.onShellMessage (/usr/local/lib/node_modules/itypescript/node_modules/jp-kernel/lib/jp-kernel.js:285:41)",
      "    at Socket.<anonymous> (/usr/local/lib/node_modules/itypescript/node_modules/jmp/index.js:350:17)",
      "    at Socket.emit (node:events:527:28)",
      "    at Socket._emitMessage (/usr/local/lib/node_modules/itypescript/node_modules/zeromq/lib/index.js:649:15)"
     ]
    }
   ],
   "source": [
    "import { aws_s3 as s3 } from 'aws-cdk-lib';\n"
   ]
  },
  {
   "cell_type": "code",
   "execution_count": null,
   "id": "be78c56d",
   "metadata": {},
   "outputs": [],
   "source": []
  }
 ],
 "metadata": {
  "kernelspec": {
   "display_name": "Typescript 4.8",
   "language": "typescript",
   "name": "typescript"
  },
  "language_info": {
   "file_extension": ".ts",
   "mimetype": "application/x-typescript",
   "name": "typescript",
   "version": "4.8.4"
  }
 },
 "nbformat": 4,
 "nbformat_minor": 5
}
