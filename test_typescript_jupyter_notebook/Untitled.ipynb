{
 "cells": [
  {
   "cell_type": "code",
   "execution_count": 1,
   "id": "d0422485",
   "metadata": {},
   "outputs": [
    {
     "data": {
      "text/html": [
       "<div style='background:#ffecb3;padding:1em;border-left:2px solid #ff6d00'><b>Configuration is not found!</b> Default configuration will be used: <pre>{\"module\":1,\"target\":1,\"moduleResolution\":2,\"esModuleInterop\":true}</pre></div>"
      ]
     },
     "execution_count": 1,
     "metadata": {},
     "output_type": "execute_result"
    },
    {
     "name": "stdout",
     "output_type": "stream",
     "text": [
      "adsf\n"
     ]
    }
   ],
   "source": [
    "console.log(\"adsf\")"
   ]
  },
  {
   "cell_type": "code",
   "execution_count": 1,
   "id": "d44b6d9b",
   "metadata": {},
   "outputs": [
    {
     "data": {
      "text/html": [
       "<div style='background:#ffecb3;padding:1em;border-left:2px solid #ff6d00'><b>Configuration is not found!</b> Default configuration will be used: <pre>{\"module\":1,\"target\":1,\"moduleResolution\":2,\"esModuleInterop\":true}</pre></div>"
      ]
     },
     "execution_count": 1,
     "metadata": {},
     "output_type": "execute_result"
    }
   ],
   "source": [
    "import { aws_s3 as s3 } from 'aws-cdk-lib';\n",
    "\n",
    "//what configuration? "
   ]
  },
  {
   "cell_type": "code",
   "execution_count": null,
   "id": "be78c56d",
   "metadata": {},
   "outputs": [],
   "source": []
  }
 ],
 "metadata": {
  "kernelspec": {
   "display_name": "Typescript 4.8",
   "language": "typescript",
   "name": "typescript"
  },
  "language_info": {
   "file_extension": ".ts",
   "mimetype": "application/x-typescript",
   "name": "typescript",
   "version": "4.8.4"
  }
 },
 "nbformat": 4,
 "nbformat_minor": 5
}
