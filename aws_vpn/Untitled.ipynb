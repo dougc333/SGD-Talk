{
 "cells": [
  {
   "cell_type": "code",
   "execution_count": 1,
   "id": "e2db37b0",
   "metadata": {},
   "outputs": [],
   "source": [
    "a=['foo()','foo1()','foo2()']\n",
    "\n",
    "def foo():\n",
    "    print(\"foo\")\n",
    "def foo1():\n",
    "    print(\"foo1\")\n",
    "def foo2():\n",
    "    print(\"foo2\")\n",
    "\n",
    "\n",
    "  "
   ]
  },
  {
   "cell_type": "code",
   "execution_count": 76,
   "id": "0073446b",
   "metadata": {},
   "outputs": [
    {
     "name": "stdout",
     "output_type": "stream",
     "text": [
      "['foo()\\n', 'foo1()\\n', 'foo2()\\n']\n",
      "clean: ['foo()', 'foo1()', 'foo2()']\n",
      "\n",
      "try:\n",
      " foo()\n",
      "except:\n",
      " print('error foo()')\n",
      "try:\n",
      " foo1()\n",
      "except:\n",
      " print('error foo1()')\n",
      "try:\n",
      " foo2()\n",
      "except:\n",
      " print('error foo2()')\n",
      "open output.txt to verify\n"
     ]
    }
   ],
   "source": [
    "import sys\n",
    "\n",
    "class AddTryExcept:\n",
    "    def __init__(self):\n",
    "        self.stuff = open(\"fns.txt\",\"r\").readlines()\n",
    "        #print(self.stuff)\n",
    "    def clean(self):\n",
    "        self.clean = [x.strip() for x in self.stuff]\n",
    "        #print(\"clean:\",self.clean)\n",
    "    def add_try_except(self):\n",
    "        self.try_except = [\"\\ntry:\"+'\\n '+x+'\\nexcept:'+f\"\\n print('error {x}\" \"')\" for x in self.clean]\n",
    "        #print(''.join(self.try_except))\n",
    "    def write_to_file(self):\n",
    "        with open(\"output.txt\",\"w\") as fh:\n",
    "            fh.write(''.join(text))\n",
    "            fh.close()\n",
    "        #print(\"open output.txt to verify\")\n",
    "\n",
    "at=AddTryExcept()\n",
    "at.clean()\n",
    "at.add_try_except()\n",
    "at.write_to_file()\n"
   ]
  },
  {
   "cell_type": "code",
   "execution_count": 2,
   "id": "df980002",
   "metadata": {},
   "outputs": [
    {
     "name": "stdout",
     "output_type": "stream",
     "text": [
      "foo\n"
     ]
    }
   ],
   "source": [
    "try:\n",
    "  foo()\n",
    "except RuntimeError:\n",
    "  print(\"foo error\")\n"
   ]
  },
  {
   "cell_type": "code",
   "execution_count": 67,
   "id": "6fb46177",
   "metadata": {},
   "outputs": [],
   "source": [
    "text=[\"\\ntry:\"+'\\n '+x+'\\nexcept:'+f\"\\n print('error {x}\" \"')\" for x in a]"
   ]
  },
  {
   "cell_type": "code",
   "execution_count": 68,
   "id": "f00d2b3d",
   "metadata": {},
   "outputs": [
    {
     "name": "stdout",
     "output_type": "stream",
     "text": [
      "\n",
      "try:\n",
      " foo()\n",
      "except:\n",
      " print('error foo()')\n",
      "try:\n",
      " foo1()\n",
      "except:\n",
      " print('error foo1()')\n",
      "try:\n",
      " foo2()\n",
      "except:\n",
      " print('error foo2()')\n"
     ]
    }
   ],
   "source": [
    "print(''.join(text))"
   ]
  },
  {
   "cell_type": "code",
   "execution_count": 69,
   "id": "8e1c41d4",
   "metadata": {},
   "outputs": [],
   "source": [
    "with open(\"output.txt\",\"w\") as fh:\n",
    "    fh.write(''.join(text))\n",
    "    fh.close()\n"
   ]
  },
  {
   "cell_type": "code",
   "execution_count": null,
   "id": "0b69d712",
   "metadata": {},
   "outputs": [],
   "source": []
  }
 ],
 "metadata": {
  "kernelspec": {
   "display_name": "Python 3 (ipykernel)",
   "language": "python",
   "name": "python3"
  },
  "language_info": {
   "codemirror_mode": {
    "name": "ipython",
    "version": 3
   },
   "file_extension": ".py",
   "mimetype": "text/x-python",
   "name": "python",
   "nbconvert_exporter": "python",
   "pygments_lexer": "ipython3",
   "version": "3.9.7"
  }
 },
 "nbformat": 4,
 "nbformat_minor": 5
}
