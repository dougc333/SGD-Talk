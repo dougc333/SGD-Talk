{
 "cells": [
  {
   "cell_type": "code",
   "execution_count": 1,
   "id": "addf8daa",
   "metadata": {},
   "outputs": [
    {
     "ename": "SyntaxError",
     "evalue": "Unexpected token ':'",
     "output_type": "error",
     "traceback": [
      "evalmachine.<anonymous>:1",
      "{\"version\":3,\"file\":\"cell.js\",\"sourceRoot\":\"\",\"sources\":[\"cell.ts\"],\"names\":[],\"mappings\":\"AAAA,IAAM,UAAU,GAAG,+EAA+E,CAAC;AACnG,IAAI,EAAE,GAAG,OAAO,CAAC,IAAI,CAAC,CAAC;AAEvB,EAAE,CAAC,OAAO,CAAC,UAAU,EAAE,UAAC,GAAO,EAAE,KAAS;IACxC,KAAK,CAAC,OAAO,CAAC,UAAC,IAAQ;QACrB,OAAO,CAAC,GAAG,CAAC,IAAI,CAAC,CAAC;IACpB,CAAC,CAAC,CAAC;AACL,CAAC,CAAC,CAAC\"}",
      "          ^",
      "",
      "SyntaxError: Unexpected token ':'",
      "    at new Script (node:vm:100:7)",
      "    at createScript (node:vm:257:10)",
      "    at Object.runInThisContext (node:vm:305:10)",
      "    at run ([eval]:1020:15)",
      "    at onRunRequest ([eval]:864:18)",
      "    at onMessage ([eval]:828:13)",
      "    at process.emit (node:events:527:28)",
      "    at emit (node:internal/child_process:938:14)",
      "    at processTicksAndRejections (node:internal/process/task_queues:84:21)"
     ]
    }
   ],
   "source": [
    "const testFolder = '/Users/dougchang/deeplearning/cdk_examples/aws-cdk-examples-master/typescript';\n",
    "var fs = require('fs');\n",
    "\n",
    "fs.readdir(testFolder, (err:any, files:any) => {\n",
    "  files.forEach((file:any) => {\n",
    "    console.log(file);\n",
    "  });\n",
    "});\n"
   ]
  },
  {
   "cell_type": "code",
   "execution_count": null,
   "id": "66e01f77",
   "metadata": {},
   "outputs": [],
   "source": [
    "\n",
    "console.log(\"asdfasdf\")\n",
    "console.log(\"asdfasdf\")"
   ]
  },
  {
   "cell_type": "code",
   "execution_count": null,
   "id": "1c8110a2",
   "metadata": {},
   "outputs": [],
   "source": []
  }
 ],
 "metadata": {
  "kernelspec": {
   "display_name": "Typescript 4.8",
   "language": "typescript",
   "name": "typescript"
  },
  "language_info": {
   "file_extension": ".ts",
   "mimetype": "application/x-typescript",
   "name": "typescript",
   "version": "4.8.4"
  }
 },
 "nbformat": 4,
 "nbformat_minor": 5
}
