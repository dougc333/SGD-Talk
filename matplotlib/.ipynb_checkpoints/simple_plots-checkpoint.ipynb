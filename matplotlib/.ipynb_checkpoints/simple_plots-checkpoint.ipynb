{
 "cells": [
  {
   "cell_type": "code",
   "execution_count": 2,
   "id": "335f380e",
   "metadata": {},
   "outputs": [],
   "source": [
    "import matplotlib.pyplot as plt\n",
    "import seaborn as sns\n",
    "import numpy as np\n",
    "\n",
    "from sklearn.linear_model import LinearRegression"
   ]
  },
  {
   "cell_type": "code",
   "execution_count": 3,
   "id": "3df67992",
   "metadata": {},
   "outputs": [
    {
     "name": "stdout",
     "output_type": "stream",
     "text": [
      "(2102, 19)\n",
      "Index(['R0000100', 'PCS2000', 'CESD2000Total', 'CESDTotal2000cutpt', 'MCS2000',\n",
      "       'RelAt2000cat6', 'RelAt2000cat2', 'Gender', 'Race3', 'Marital2000c5',\n",
      "       'Education2000', 'Education2000c4', 'NumberBioStepAdoptChildHH2000',\n",
      "       'BioChildHH2000c2', 'WorkTimeHrsperWkPastCalYr2000cat4',\n",
      "       'UnemplyWksPastCal2000c', 'UnemployedWksPastCal2000cont',\n",
      "       'IncomePercNetFam2000c', 'PovertyStatus2000c2'],\n",
      "      dtype='object')\n"
     ]
    },
    {
     "data": {
      "text/html": [
       "<div>\n",
       "<style scoped>\n",
       "    .dataframe tbody tr th:only-of-type {\n",
       "        vertical-align: middle;\n",
       "    }\n",
       "\n",
       "    .dataframe tbody tr th {\n",
       "        vertical-align: top;\n",
       "    }\n",
       "\n",
       "    .dataframe thead th {\n",
       "        text-align: right;\n",
       "    }\n",
       "</style>\n",
       "<table border=\"1\" class=\"dataframe\">\n",
       "  <thead>\n",
       "    <tr style=\"text-align: right;\">\n",
       "      <th></th>\n",
       "      <th>R0000100</th>\n",
       "      <th>PCS2000</th>\n",
       "      <th>CESD2000Total</th>\n",
       "      <th>CESDTotal2000cutpt</th>\n",
       "      <th>MCS2000</th>\n",
       "      <th>RelAt2000cat6</th>\n",
       "      <th>RelAt2000cat2</th>\n",
       "      <th>Gender</th>\n",
       "      <th>Race3</th>\n",
       "      <th>Marital2000c5</th>\n",
       "      <th>Education2000</th>\n",
       "      <th>Education2000c4</th>\n",
       "      <th>NumberBioStepAdoptChildHH2000</th>\n",
       "      <th>BioChildHH2000c2</th>\n",
       "      <th>WorkTimeHrsperWkPastCalYr2000cat4</th>\n",
       "      <th>UnemplyWksPastCal2000c</th>\n",
       "      <th>UnemployedWksPastCal2000cont</th>\n",
       "      <th>IncomePercNetFam2000c</th>\n",
       "      <th>PovertyStatus2000c2</th>\n",
       "    </tr>\n",
       "  </thead>\n",
       "  <tbody>\n",
       "    <tr>\n",
       "      <th>30</th>\n",
       "      <td>919</td>\n",
       "      <td>6178.0</td>\n",
       "      <td>19</td>\n",
       "      <td>1</td>\n",
       "      <td>2072.0</td>\n",
       "      <td>6</td>\n",
       "      <td>2</td>\n",
       "      <td>2</td>\n",
       "      <td>3</td>\n",
       "      <td>4</td>\n",
       "      <td>12</td>\n",
       "      <td>3</td>\n",
       "      <td>3</td>\n",
       "      <td>1</td>\n",
       "      <td>2</td>\n",
       "      <td>4</td>\n",
       "      <td>0</td>\n",
       "      <td>5</td>\n",
       "      <td>3</td>\n",
       "    </tr>\n",
       "    <tr>\n",
       "      <th>31</th>\n",
       "      <td>7433</td>\n",
       "      <td>2935.0</td>\n",
       "      <td>19</td>\n",
       "      <td>1</td>\n",
       "      <td>2081.0</td>\n",
       "      <td>4</td>\n",
       "      <td>1</td>\n",
       "      <td>1</td>\n",
       "      <td>2</td>\n",
       "      <td>1</td>\n",
       "      <td>13</td>\n",
       "      <td>2</td>\n",
       "      <td>4</td>\n",
       "      <td>1</td>\n",
       "      <td>4</td>\n",
       "      <td>4</td>\n",
       "      <td>0</td>\n",
       "      <td>6</td>\n",
       "      <td>2</td>\n",
       "    </tr>\n",
       "    <tr>\n",
       "      <th>32</th>\n",
       "      <td>12082</td>\n",
       "      <td>6181.0</td>\n",
       "      <td>21</td>\n",
       "      <td>1</td>\n",
       "      <td>2105.0</td>\n",
       "      <td>1</td>\n",
       "      <td>1</td>\n",
       "      <td>2</td>\n",
       "      <td>3</td>\n",
       "      <td>4</td>\n",
       "      <td>12</td>\n",
       "      <td>3</td>\n",
       "      <td>0</td>\n",
       "      <td>1</td>\n",
       "      <td>2</td>\n",
       "      <td>2</td>\n",
       "      <td>13</td>\n",
       "      <td>7</td>\n",
       "      <td>2</td>\n",
       "    </tr>\n",
       "    <tr>\n",
       "      <th>33</th>\n",
       "      <td>6016</td>\n",
       "      <td>2344.0</td>\n",
       "      <td>12</td>\n",
       "      <td>1</td>\n",
       "      <td>2133.0</td>\n",
       "      <td>6</td>\n",
       "      <td>2</td>\n",
       "      <td>2</td>\n",
       "      <td>1</td>\n",
       "      <td>5</td>\n",
       "      <td>12</td>\n",
       "      <td>3</td>\n",
       "      <td>0</td>\n",
       "      <td>2</td>\n",
       "      <td>4</td>\n",
       "      <td>4</td>\n",
       "      <td>0</td>\n",
       "      <td>7</td>\n",
       "      <td>2</td>\n",
       "    </tr>\n",
       "  </tbody>\n",
       "</table>\n",
       "</div>"
      ],
      "text/plain": [
       "    R0000100  PCS2000 CESD2000Total CESDTotal2000cutpt  MCS2000  \\\n",
       "30       919   6178.0            19                  1   2072.0   \n",
       "31      7433   2935.0            19                  1   2081.0   \n",
       "32     12082   6181.0            21                  1   2105.0   \n",
       "33      6016   2344.0            12                  1   2133.0   \n",
       "\n",
       "    RelAt2000cat6 RelAt2000cat2  Gender  Race3 Marital2000c5  Education2000  \\\n",
       "30              6             2       2      3             4             12   \n",
       "31              4             1       1      2             1             13   \n",
       "32              1             1       2      3             4             12   \n",
       "33              6             2       2      1             5             12   \n",
       "\n",
       "    Education2000c4  NumberBioStepAdoptChildHH2000  BioChildHH2000c2  \\\n",
       "30                3                              3                 1   \n",
       "31                2                              4                 1   \n",
       "32                3                              0                 1   \n",
       "33                3                              0                 2   \n",
       "\n",
       "   WorkTimeHrsperWkPastCalYr2000cat4  UnemplyWksPastCal2000c  \\\n",
       "30                                 2                       4   \n",
       "31                                 4                       4   \n",
       "32                                 2                       2   \n",
       "33                                 4                       4   \n",
       "\n",
       "    UnemployedWksPastCal2000cont  IncomePercNetFam2000c  PovertyStatus2000c2  \n",
       "30                             0                      5                    3  \n",
       "31                             0                      6                    2  \n",
       "32                            13                      7                    2  \n",
       "33                             0                      7                    2  "
      ]
     },
     "execution_count": 3,
     "metadata": {},
     "output_type": "execute_result"
    }
   ],
   "source": [
    "import pandas as pd\n",
    "NLSY=pd.read_csv(\"/Users/dc/analysis_factor/datasets_irc_workshop/NLSY.csv\")\n",
    "print(NLSY.shape)\n",
    "print(NLSY.columns)\n",
    "NLSY[30:34]\n"
   ]
  },
  {
   "cell_type": "code",
   "execution_count": 4,
   "id": "07eac666",
   "metadata": {},
   "outputs": [
    {
     "name": "stdout",
     "output_type": "stream",
     "text": [
      "R0000100                                                                      11393143\n",
      "PCS2000                                                                     10847299.0\n",
      "CESD2000Total                        0   8  515163748121219181616212121151681821191...\n",
      "CESDTotal2000cutpt                   2   1  211212111111111111111111111111111111112...\n",
      "MCS2000                                                                     11030031.0\n",
      "RelAt2000cat6                                                                     6802\n",
      "RelAt2000cat2                        1111111121211121111111112121112112111111111111...\n",
      "Gender                                                                            3118\n",
      "Race3                                                                             4877\n",
      "Marital2000c5                        4544224522554453451344433443244145252245255454...\n",
      "Education2000                                                                    27437\n",
      "Education2000c4                                                                   5260\n",
      "NumberBioStepAdoptChildHH2000                                                     2960\n",
      "BioChildHH2000c2                                                                  2530\n",
      "WorkTimeHrsperWkPastCalYr2000cat4    1 2241144244212241141314222241242414 214112243...\n",
      "UnemplyWksPastCal2000c                                                            7942\n",
      "UnemployedWksPastCal2000cont                                                      3709\n",
      "IncomePercNetFam2000c                                                             8071\n",
      "PovertyStatus2000c2                                                               5244\n",
      "dtype: object\n",
      "R0000100                              0\n",
      "PCS2000                              13\n",
      "CESD2000Total                         0\n",
      "CESDTotal2000cutpt                    0\n",
      "MCS2000                              13\n",
      "RelAt2000cat6                         0\n",
      "RelAt2000cat2                         0\n",
      "Gender                                0\n",
      "Race3                                 0\n",
      "Marital2000c5                         0\n",
      "Education2000                         0\n",
      "Education2000c4                       0\n",
      "NumberBioStepAdoptChildHH2000         0\n",
      "BioChildHH2000c2                      0\n",
      "WorkTimeHrsperWkPastCalYr2000cat4     0\n",
      "UnemplyWksPastCal2000c                0\n",
      "UnemployedWksPastCal2000cont          0\n",
      "IncomePercNetFam2000c                 0\n",
      "PovertyStatus2000c2                   0\n",
      "dtype: int64\n"
     ]
    }
   ],
   "source": [
    "#axis 0 is row, 1 is column\n",
    "#why look funny?\n",
    "#NLSY = NLSY.dropna(axis=0)\n",
    "before_na = NLSY.sum()\n",
    "print(before_na)\n",
    "sum_count = NLSY.isna().sum()\n",
    "print(sum_count)\n",
    "#this is screwed up"
   ]
  },
  {
   "cell_type": "code",
   "execution_count": 20,
   "id": "7348b99a",
   "metadata": {},
   "outputs": [
    {
     "name": "stdout",
     "output_type": "stream",
     "text": [
      "(2089, 1) (2089, 1)\n",
      "[[6663.]\n",
      " [6592.]\n",
      " [6437.]\n",
      " [6464.]\n",
      " [6543.]\n",
      " [5903.]\n",
      " [3006.]\n",
      " [6837.]\n",
      " [3294.]\n",
      " [5920.]]\n",
      "[[ 760.]\n",
      " [ 951.]\n",
      " [1026.]\n",
      " [1074.]\n",
      " [1298.]\n",
      " [1505.]\n",
      " [1543.]\n",
      " [1553.]\n",
      " [1571.]\n",
      " [1782.]]\n"
     ]
    },
    {
     "data": {
      "image/png": "[encoded data removed]",
      "text/plain": [
       "<Figure size 640x480 with 1 Axes>"
      ]
     },
     "metadata": {},
     "output_type": "display_data"
    }
   ],
   "source": [
    "NLSY=NLSY.dropna()\n",
    "X = NLSY.iloc[:, 1].values.reshape(-1, 1)  # iloc[:, 1] is the column of X\n",
    "Y = NLSY.iloc[:, 4].values.reshape(-1, 1)  # df.iloc[:, 4] is the column of Y\n",
    "\n",
    "print(X.shape,Y.shape)\n",
    "print(X[0:10])\n",
    "print(Y[0:10])\n",
    "linear_regressor = LinearRegression()\n",
    "linear_regressor.fit(X, Y)\n",
    "Y_pred = linear_regressor.predict(X)\n",
    "\n",
    "plt.scatter(X, Y)\n",
    "plt.plot(X, Y_pred, color='red')\n",
    "plt.show()\n"
   ]
  },
  {
   "cell_type": "code",
   "execution_count": 11,
   "id": "560836d7",
   "metadata": {},
   "outputs": [
    {
     "name": "stdout",
     "output_type": "stream",
     "text": [
      "(4, 2) (4,)\n",
      "[[1 1]\n",
      " [1 2]\n",
      " [2 2]\n",
      " [2 3]]\n",
      "-----\n",
      "[ 6  8  9 11]\n"
     ]
    },
    {
     "data": {
      "text/plain": [
       "1.0"
      ]
     },
     "execution_count": 11,
     "metadata": {},
     "output_type": "execute_result"
    }
   ],
   "source": [
    "X = np.array([[1, 1], [1, 2], [2, 2], [2, 3]])\n",
    "y = np.dot(X, np.array([1, 2])) + 3\n",
    "print(X.shape,y.shape)\n",
    "print(X)\n",
    "print(\"-----\")\n",
    "print(y)\n",
    "reg = LinearRegression().fit(X, y)\n",
    "reg.score(X,y)\n",
    "#reg = LinearRegression().fit(X, y)\n",
    "#linear_regressor.fit(X, Y)\n",
    "#Y_pred = reg.predict(X)\n",
    "\n",
    "#plt.scatter(X, y)\n",
    "#plt.plot(X, Y_pred, color='red')\n",
    "#plt.show()"
   ]
  },
  {
   "cell_type": "code",
   "execution_count": 6,
   "id": "f1878832",
   "metadata": {},
   "outputs": [
    {
     "ename": "ValueError",
     "evalue": "Expected 2D array, got 1D array instead:\narray=[  nan   nan   nan ... 6790. 6877. 6921.].\nReshape your data either using array.reshape(-1, 1) if your data has a single feature or array.reshape(1, -1) if it contains a single sample.",
     "output_type": "error",
     "traceback": [
      "\u001b[0;31m---------------------------------------------------------------------------\u001b[0m",
      "\u001b[0;31mValueError\u001b[0m                                Traceback (most recent call last)",
      "Cell \u001b[0;32mIn[6], line 4\u001b[0m\n\u001b[1;32m      2\u001b[0m Y \u001b[38;5;241m=\u001b[39m NLSY[\u001b[38;5;124m\"\u001b[39m\u001b[38;5;124mPCS2000\u001b[39m\u001b[38;5;124m\"\u001b[39m]\n\u001b[1;32m      3\u001b[0m X \u001b[38;5;241m=\u001b[39m NLSY[\u001b[38;5;124m\"\u001b[39m\u001b[38;5;124mMCS2000\u001b[39m\u001b[38;5;124m\"\u001b[39m]\n\u001b[0;32m----> 4\u001b[0m \u001b[43mlinear_regressor\u001b[49m\u001b[38;5;241;43m.\u001b[39;49m\u001b[43mfit\u001b[49m\u001b[43m(\u001b[49m\u001b[43mX\u001b[49m\u001b[43m,\u001b[49m\u001b[43m \u001b[49m\u001b[43mY\u001b[49m\u001b[43m)\u001b[49m\n\u001b[1;32m      5\u001b[0m Y_pred \u001b[38;5;241m=\u001b[39m linear_regressor\u001b[38;5;241m.\u001b[39mpredict(X)\n\u001b[1;32m      7\u001b[0m plt\u001b[38;5;241m.\u001b[39mscatter(X, Y)\n",
      "File \u001b[0;32m~/miniconda3/envs/reg/lib/python3.8/site-packages/sklearn/linear_model/_base.py:648\u001b[0m, in \u001b[0;36mLinearRegression.fit\u001b[0;34m(self, X, y, sample_weight)\u001b[0m\n\u001b[1;32m    644\u001b[0m n_jobs_ \u001b[38;5;241m=\u001b[39m \u001b[38;5;28mself\u001b[39m\u001b[38;5;241m.\u001b[39mn_jobs\n\u001b[1;32m    646\u001b[0m accept_sparse \u001b[38;5;241m=\u001b[39m \u001b[38;5;28;01mFalse\u001b[39;00m \u001b[38;5;28;01mif\u001b[39;00m \u001b[38;5;28mself\u001b[39m\u001b[38;5;241m.\u001b[39mpositive \u001b[38;5;28;01melse\u001b[39;00m [\u001b[38;5;124m\"\u001b[39m\u001b[38;5;124mcsr\u001b[39m\u001b[38;5;124m\"\u001b[39m, \u001b[38;5;124m\"\u001b[39m\u001b[38;5;124mcsc\u001b[39m\u001b[38;5;124m\"\u001b[39m, \u001b[38;5;124m\"\u001b[39m\u001b[38;5;124mcoo\u001b[39m\u001b[38;5;124m\"\u001b[39m]\n\u001b[0;32m--> 648\u001b[0m X, y \u001b[38;5;241m=\u001b[39m \u001b[38;5;28;43mself\u001b[39;49m\u001b[38;5;241;43m.\u001b[39;49m\u001b[43m_validate_data\u001b[49m\u001b[43m(\u001b[49m\n\u001b[1;32m    649\u001b[0m \u001b[43m    \u001b[49m\u001b[43mX\u001b[49m\u001b[43m,\u001b[49m\u001b[43m \u001b[49m\u001b[43my\u001b[49m\u001b[43m,\u001b[49m\u001b[43m \u001b[49m\u001b[43maccept_sparse\u001b[49m\u001b[38;5;241;43m=\u001b[39;49m\u001b[43maccept_sparse\u001b[49m\u001b[43m,\u001b[49m\u001b[43m \u001b[49m\u001b[43my_numeric\u001b[49m\u001b[38;5;241;43m=\u001b[39;49m\u001b[38;5;28;43;01mTrue\u001b[39;49;00m\u001b[43m,\u001b[49m\u001b[43m \u001b[49m\u001b[43mmulti_output\u001b[49m\u001b[38;5;241;43m=\u001b[39;49m\u001b[38;5;28;43;01mTrue\u001b[39;49;00m\n\u001b[1;32m    650\u001b[0m \u001b[43m\u001b[49m\u001b[43m)\u001b[49m\n\u001b[1;32m    652\u001b[0m sample_weight \u001b[38;5;241m=\u001b[39m _check_sample_weight(\n\u001b[1;32m    653\u001b[0m     sample_weight, X, dtype\u001b[38;5;241m=\u001b[39mX\u001b[38;5;241m.\u001b[39mdtype, only_non_negative\u001b[38;5;241m=\u001b[39m\u001b[38;5;28;01mTrue\u001b[39;00m\n\u001b[1;32m    654\u001b[0m )\n\u001b[1;32m    656\u001b[0m X, y, X_offset, y_offset, X_scale \u001b[38;5;241m=\u001b[39m _preprocess_data(\n\u001b[1;32m    657\u001b[0m     X,\n\u001b[1;32m    658\u001b[0m     y,\n\u001b[0;32m   (...)\u001b[0m\n\u001b[1;32m    661\u001b[0m     sample_weight\u001b[38;5;241m=\u001b[39msample_weight,\n\u001b[1;32m    662\u001b[0m )\n",
      "File \u001b[0;32m~/miniconda3/envs/reg/lib/python3.8/site-packages/sklearn/base.py:565\u001b[0m, in \u001b[0;36mBaseEstimator._validate_data\u001b[0;34m(self, X, y, reset, validate_separately, **check_params)\u001b[0m\n\u001b[1;32m    563\u001b[0m         y \u001b[38;5;241m=\u001b[39m check_array(y, input_name\u001b[38;5;241m=\u001b[39m\u001b[38;5;124m\"\u001b[39m\u001b[38;5;124my\u001b[39m\u001b[38;5;124m\"\u001b[39m, \u001b[38;5;241m*\u001b[39m\u001b[38;5;241m*\u001b[39mcheck_y_params)\n\u001b[1;32m    564\u001b[0m     \u001b[38;5;28;01melse\u001b[39;00m:\n\u001b[0;32m--> 565\u001b[0m         X, y \u001b[38;5;241m=\u001b[39m \u001b[43mcheck_X_y\u001b[49m\u001b[43m(\u001b[49m\u001b[43mX\u001b[49m\u001b[43m,\u001b[49m\u001b[43m \u001b[49m\u001b[43my\u001b[49m\u001b[43m,\u001b[49m\u001b[43m \u001b[49m\u001b[38;5;241;43m*\u001b[39;49m\u001b[38;5;241;43m*\u001b[39;49m\u001b[43mcheck_params\u001b[49m\u001b[43m)\u001b[49m\n\u001b[1;32m    566\u001b[0m     out \u001b[38;5;241m=\u001b[39m X, y\n\u001b[1;32m    568\u001b[0m \u001b[38;5;28;01mif\u001b[39;00m \u001b[38;5;129;01mnot\u001b[39;00m no_val_X \u001b[38;5;129;01mand\u001b[39;00m check_params\u001b[38;5;241m.\u001b[39mget(\u001b[38;5;124m\"\u001b[39m\u001b[38;5;124mensure_2d\u001b[39m\u001b[38;5;124m\"\u001b[39m, \u001b[38;5;28;01mTrue\u001b[39;00m):\n",
      "File \u001b[0;32m~/miniconda3/envs/reg/lib/python3.8/site-packages/sklearn/utils/validation.py:1106\u001b[0m, in \u001b[0;36mcheck_X_y\u001b[0;34m(X, y, accept_sparse, accept_large_sparse, dtype, order, copy, force_all_finite, ensure_2d, allow_nd, multi_output, ensure_min_samples, ensure_min_features, y_numeric, estimator)\u001b[0m\n\u001b[1;32m   1101\u001b[0m         estimator_name \u001b[38;5;241m=\u001b[39m _check_estimator_name(estimator)\n\u001b[1;32m   1102\u001b[0m     \u001b[38;5;28;01mraise\u001b[39;00m \u001b[38;5;167;01mValueError\u001b[39;00m(\n\u001b[1;32m   1103\u001b[0m         \u001b[38;5;124mf\u001b[39m\u001b[38;5;124m\"\u001b[39m\u001b[38;5;132;01m{\u001b[39;00mestimator_name\u001b[38;5;132;01m}\u001b[39;00m\u001b[38;5;124m requires y to be passed, but the target y is None\u001b[39m\u001b[38;5;124m\"\u001b[39m\n\u001b[1;32m   1104\u001b[0m     )\n\u001b[0;32m-> 1106\u001b[0m X \u001b[38;5;241m=\u001b[39m \u001b[43mcheck_array\u001b[49m\u001b[43m(\u001b[49m\n\u001b[1;32m   1107\u001b[0m \u001b[43m    \u001b[49m\u001b[43mX\u001b[49m\u001b[43m,\u001b[49m\n\u001b[1;32m   1108\u001b[0m \u001b[43m    \u001b[49m\u001b[43maccept_sparse\u001b[49m\u001b[38;5;241;43m=\u001b[39;49m\u001b[43maccept_sparse\u001b[49m\u001b[43m,\u001b[49m\n\u001b[1;32m   1109\u001b[0m \u001b[43m    \u001b[49m\u001b[43maccept_large_sparse\u001b[49m\u001b[38;5;241;43m=\u001b[39;49m\u001b[43maccept_large_sparse\u001b[49m\u001b[43m,\u001b[49m\n\u001b[1;32m   1110\u001b[0m \u001b[43m    \u001b[49m\u001b[43mdtype\u001b[49m\u001b[38;5;241;43m=\u001b[39;49m\u001b[43mdtype\u001b[49m\u001b[43m,\u001b[49m\n\u001b[1;32m   1111\u001b[0m \u001b[43m    \u001b[49m\u001b[43morder\u001b[49m\u001b[38;5;241;43m=\u001b[39;49m\u001b[43morder\u001b[49m\u001b[43m,\u001b[49m\n\u001b[1;32m   1112\u001b[0m \u001b[43m    \u001b[49m\u001b[43mcopy\u001b[49m\u001b[38;5;241;43m=\u001b[39;49m\u001b[43mcopy\u001b[49m\u001b[43m,\u001b[49m\n\u001b[1;32m   1113\u001b[0m \u001b[43m    \u001b[49m\u001b[43mforce_all_finite\u001b[49m\u001b[38;5;241;43m=\u001b[39;49m\u001b[43mforce_all_finite\u001b[49m\u001b[43m,\u001b[49m\n\u001b[1;32m   1114\u001b[0m \u001b[43m    \u001b[49m\u001b[43mensure_2d\u001b[49m\u001b[38;5;241;43m=\u001b[39;49m\u001b[43mensure_2d\u001b[49m\u001b[43m,\u001b[49m\n\u001b[1;32m   1115\u001b[0m \u001b[43m    \u001b[49m\u001b[43mallow_nd\u001b[49m\u001b[38;5;241;43m=\u001b[39;49m\u001b[43mallow_nd\u001b[49m\u001b[43m,\u001b[49m\n\u001b[1;32m   1116\u001b[0m \u001b[43m    \u001b[49m\u001b[43mensure_min_samples\u001b[49m\u001b[38;5;241;43m=\u001b[39;49m\u001b[43mensure_min_samples\u001b[49m\u001b[43m,\u001b[49m\n\u001b[1;32m   1117\u001b[0m \u001b[43m    \u001b[49m\u001b[43mensure_min_features\u001b[49m\u001b[38;5;241;43m=\u001b[39;49m\u001b[43mensure_min_features\u001b[49m\u001b[43m,\u001b[49m\n\u001b[1;32m   1118\u001b[0m \u001b[43m    \u001b[49m\u001b[43mestimator\u001b[49m\u001b[38;5;241;43m=\u001b[39;49m\u001b[43mestimator\u001b[49m\u001b[43m,\u001b[49m\n\u001b[1;32m   1119\u001b[0m \u001b[43m    \u001b[49m\u001b[43minput_name\u001b[49m\u001b[38;5;241;43m=\u001b[39;49m\u001b[38;5;124;43m\"\u001b[39;49m\u001b[38;5;124;43mX\u001b[39;49m\u001b[38;5;124;43m\"\u001b[39;49m\u001b[43m,\u001b[49m\n\u001b[1;32m   1120\u001b[0m \u001b[43m\u001b[49m\u001b[43m)\u001b[49m\n\u001b[1;32m   1122\u001b[0m y \u001b[38;5;241m=\u001b[39m _check_y(y, multi_output\u001b[38;5;241m=\u001b[39mmulti_output, y_numeric\u001b[38;5;241m=\u001b[39my_numeric, estimator\u001b[38;5;241m=\u001b[39mestimator)\n\u001b[1;32m   1124\u001b[0m check_consistent_length(X, y)\n",
      "File \u001b[0;32m~/miniconda3/envs/reg/lib/python3.8/site-packages/sklearn/utils/validation.py:902\u001b[0m, in \u001b[0;36mcheck_array\u001b[0;34m(array, accept_sparse, accept_large_sparse, dtype, order, copy, force_all_finite, ensure_2d, allow_nd, ensure_min_samples, ensure_min_features, estimator, input_name)\u001b[0m\n\u001b[1;32m    900\u001b[0m     \u001b[38;5;66;03m# If input is 1D raise error\u001b[39;00m\n\u001b[1;32m    901\u001b[0m     \u001b[38;5;28;01mif\u001b[39;00m array\u001b[38;5;241m.\u001b[39mndim \u001b[38;5;241m==\u001b[39m \u001b[38;5;241m1\u001b[39m:\n\u001b[0;32m--> 902\u001b[0m         \u001b[38;5;28;01mraise\u001b[39;00m \u001b[38;5;167;01mValueError\u001b[39;00m(\n\u001b[1;32m    903\u001b[0m             \u001b[38;5;124m\"\u001b[39m\u001b[38;5;124mExpected 2D array, got 1D array instead:\u001b[39m\u001b[38;5;130;01m\\n\u001b[39;00m\u001b[38;5;124marray=\u001b[39m\u001b[38;5;132;01m{}\u001b[39;00m\u001b[38;5;124m.\u001b[39m\u001b[38;5;130;01m\\n\u001b[39;00m\u001b[38;5;124m\"\u001b[39m\n\u001b[1;32m    904\u001b[0m             \u001b[38;5;124m\"\u001b[39m\u001b[38;5;124mReshape your data either using array.reshape(-1, 1) if \u001b[39m\u001b[38;5;124m\"\u001b[39m\n\u001b[1;32m    905\u001b[0m             \u001b[38;5;124m\"\u001b[39m\u001b[38;5;124myour data has a single feature or array.reshape(1, -1) \u001b[39m\u001b[38;5;124m\"\u001b[39m\n\u001b[1;32m    906\u001b[0m             \u001b[38;5;124m\"\u001b[39m\u001b[38;5;124mif it contains a single sample.\u001b[39m\u001b[38;5;124m\"\u001b[39m\u001b[38;5;241m.\u001b[39mformat(array)\n\u001b[1;32m    907\u001b[0m         )\n\u001b[1;32m    909\u001b[0m \u001b[38;5;28;01mif\u001b[39;00m dtype_numeric \u001b[38;5;129;01mand\u001b[39;00m array\u001b[38;5;241m.\u001b[39mdtype\u001b[38;5;241m.\u001b[39mkind \u001b[38;5;129;01min\u001b[39;00m \u001b[38;5;124m\"\u001b[39m\u001b[38;5;124mUSV\u001b[39m\u001b[38;5;124m\"\u001b[39m:\n\u001b[1;32m    910\u001b[0m     \u001b[38;5;28;01mraise\u001b[39;00m \u001b[38;5;167;01mValueError\u001b[39;00m(\n\u001b[1;32m    911\u001b[0m         \u001b[38;5;124m\"\u001b[39m\u001b[38;5;124mdtype=\u001b[39m\u001b[38;5;124m'\u001b[39m\u001b[38;5;124mnumeric\u001b[39m\u001b[38;5;124m'\u001b[39m\u001b[38;5;124m is not compatible with arrays of bytes/strings.\u001b[39m\u001b[38;5;124m\"\u001b[39m\n\u001b[1;32m    912\u001b[0m         \u001b[38;5;124m\"\u001b[39m\u001b[38;5;124mConvert your data to numeric values explicitly instead.\u001b[39m\u001b[38;5;124m\"\u001b[39m\n\u001b[1;32m    913\u001b[0m     )\n",
      "\u001b[0;31mValueError\u001b[0m: Expected 2D array, got 1D array instead:\narray=[  nan   nan   nan ... 6790. 6877. 6921.].\nReshape your data either using array.reshape(-1, 1) if your data has a single feature or array.reshape(1, -1) if it contains a single sample."
     ]
    }
   ],
   "source": [
    "linear_regressor = LinearRegression()\n",
    "Y = NLSY[\"PCS2000\"]\n",
    "X = NLSY[\"MCS2000\"]\n",
    "linear_regressor.fit(X, Y)\n",
    "Y_pred = linear_regressor.predict(X)\n",
    "\n",
    "plt.scatter(X, Y)\n",
    "plt.plot(X, Y_pred, color='red')\n",
    "plt.show()"
   ]
  },
  {
   "cell_type": "code",
   "execution_count": null,
   "id": "262bda1e",
   "metadata": {},
   "outputs": [],
   "source": [
    "plot_data = {}\n",
    "for col,vals in NLSY.items():\n",
    "    print(f\"{col}\")\n",
    "    print(f\"{vals}\")\n",
    "    plot_data[col] = vals"
   ]
  },
  {
   "cell_type": "code",
   "execution_count": null,
   "id": "605d5337",
   "metadata": {},
   "outputs": [],
   "source": [
    "group_names = list(plot_data.keys())\n",
    "group_data = list(plot_data.values())\n",
    "print(type(group_names),type(group_data), len(group_names), len(group_data))\n",
    "print(type(group_names[0]),type(group_data[0]))\n",
    "print(type(group_names[0]),type(len(group_data[0])))\n",
    "\n",
    "fig, ax = plt.subplots()\n",
    "ax.barh(group_names, len(group_data))"
   ]
  },
  {
   "cell_type": "code",
   "execution_count": null,
   "id": "ee11d8a2",
   "metadata": {},
   "outputs": [],
   "source": []
  }
 ],
 "metadata": {
  "kernelspec": {
   "display_name": "Python 3 (ipykernel)",
   "language": "python",
   "name": "python3"
  },
  "language_info": {
   "codemirror_mode": {
    "name": "ipython",
    "version": 3
   },
   "file_extension": ".py",
   "mimetype": "text/x-python",
   "name": "python",
   "nbconvert_exporter": "python",
   "pygments_lexer": "ipython3",
   "version": "3.8.16"
  }
 },
 "nbformat": 4,
 "nbformat_minor": 5
}
