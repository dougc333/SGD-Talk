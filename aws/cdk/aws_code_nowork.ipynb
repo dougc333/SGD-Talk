{
 "cells": [
  {
   "cell_type": "code",
   "execution_count": 7,
   "id": "61ceaae9",
   "metadata": {},
   "outputs": [
    {
     "ename": "ImportError",
     "evalue": "cannot import name 'Construct' from 'aws_cdk' (/Users/dougchang/miniconda3/envs/aws/lib/python3.9/site-packages/aws_cdk/__init__.py)",
     "output_type": "error",
     "traceback": [
      "\u001b[0;31m---------------------------------------------------------------------------\u001b[0m",
      "\u001b[0;31mImportError\u001b[0m                               Traceback (most recent call last)",
      "\u001b[0;32m/var/folders/xg/24wnv8p16mn4lssp8jqmvq6m0000gn/T/ipykernel_18482/1741294669.py\u001b[0m in \u001b[0;36m<module>\u001b[0;34m\u001b[0m\n\u001b[1;32m      1\u001b[0m \u001b[0;32mimport\u001b[0m \u001b[0maws_cdk\u001b[0m \u001b[0;32mas\u001b[0m \u001b[0mcdk\u001b[0m\u001b[0;34m\u001b[0m\u001b[0;34m\u001b[0m\u001b[0m\n\u001b[0;32m----> 2\u001b[0;31m \u001b[0;32mfrom\u001b[0m \u001b[0maws_cdk\u001b[0m \u001b[0;32mimport\u001b[0m \u001b[0mConstruct\u001b[0m\u001b[0;34m,\u001b[0m\u001b[0mStack\u001b[0m\u001b[0;34m,\u001b[0m \u001b[0mApp\u001b[0m\u001b[0;34m,\u001b[0m \u001b[0maws_s3\u001b[0m \u001b[0;32mas\u001b[0m \u001b[0ms3\u001b[0m\u001b[0;34m\u001b[0m\u001b[0;34m\u001b[0m\u001b[0m\n\u001b[0m\u001b[1;32m      3\u001b[0m \u001b[0;34m\u001b[0m\u001b[0m\n\u001b[1;32m      4\u001b[0m \u001b[0;32mclass\u001b[0m \u001b[0mMyEcsConstructStack\u001b[0m\u001b[0;34m(\u001b[0m\u001b[0mStack\u001b[0m\u001b[0;34m)\u001b[0m\u001b[0;34m:\u001b[0m\u001b[0;34m\u001b[0m\u001b[0;34m\u001b[0m\u001b[0m\n\u001b[1;32m      5\u001b[0m \u001b[0;34m\u001b[0m\u001b[0m\n",
      "\u001b[0;31mImportError\u001b[0m: cannot import name 'Construct' from 'aws_cdk' (/Users/dougchang/miniconda3/envs/aws/lib/python3.9/site-packages/aws_cdk/__init__.py)"
     ]
    }
   ],
   "source": [
    "import aws_cdk as cdk\n",
    "from aws_cdk import Construct,Stack, App, aws_s3 as s3\n",
    "\n",
    "class MyEcsConstructStack(Stack):\n",
    "\n",
    "    def __init__(self, scope: Construct, id: str, **kwargs) -> None:\n",
    "        super().__init__(scope, id, **kwargs)\n",
    "\n",
    "        vpc = ec2.Vpc(self, \"MyVpc\", max_azs=1)     # default is all AZs in region\n",
    "\n",
    "        cluster = ecs.Cluster(self, \"MyCluster\", vpc=vpc)\n",
    "\n",
    "        ecs_patterns.ApplicationLoadBalancedFargateService(self, \"MyFargateService\",\n",
    "            cluster=cluster,            # Required\n",
    "            cpu=256,                    # Default is 256\n",
    "            desired_count=1,            # Default is 1\n",
    "            task_image_options=ecs_patterns.ApplicationLoadBalancedTaskImageOptions(\n",
    "                image=ecs.ContainerImage.from_registry(\"amazon/amazon-ecs-sample\")),\n",
    "            memory_limit_mib=512,      # Default is 512\n",
    "            public_load_balancer=False)  # Default is False\n",
    "MyEcsConstructStack(Stack)"
   ]
  },
  {
   "cell_type": "code",
   "execution_count": null,
   "id": "83ffda6d",
   "metadata": {},
   "outputs": [],
   "source": []
  }
 ],
 "metadata": {
  "kernelspec": {
   "display_name": "Python 3 (ipykernel)",
   "language": "python",
   "name": "python3"
  },
  "language_info": {
   "codemirror_mode": {
    "name": "ipython",
    "version": 3
   },
   "file_extension": ".py",
   "mimetype": "text/x-python",
   "name": "python",
   "nbconvert_exporter": "python",
   "pygments_lexer": "ipython3",
   "version": "3.9.7"
  }
 },
 "nbformat": 4,
 "nbformat_minor": 5
}
