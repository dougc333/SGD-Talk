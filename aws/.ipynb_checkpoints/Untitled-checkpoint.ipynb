{
 "cells": [
  {
   "cell_type": "code",
   "execution_count": null,
   "id": "46d2086b",
   "metadata": {},
   "outputs": [],
   "source": [
    "import boto3\n",
    "\n",
    "ec2 = boto3.resource('ec2')\n",
    "\n",
    "# create VPC\n",
    "vpc = ec2.create_vpc(CidrBlock='10.0.0.0/25')\n",
    "vpc.create_tags(Tags=[{\"Key\": \"Name\", \"Value\": \"lambda_vpc\"}])\n",
    "\n",
    "vpc.wait_until_available()\n",
    "\n",
    "#create 2 public subnets\n",
    "\n",
    "subnet1 = ec2.create_subnet(CidrBlock='10.0.0.0/28', VpcId=vpc.id)\n",
    "subnet2 = ec2.create_subnet(CidrBlock='10.0.0.16/28', VpcId=vpc.id)\n",
    "subnet1.create_tags(Tags=[{\"Key\": \"Name\", \"Value\": \"public_one\"}])\n",
    "subnet1.wait_until_available()\n",
    "subnet1.create_tags(Tags=[{\"Key\": \"Name\", \"Value\": \"public_two\"}])\n",
    "subnet1.wait_until_available()\n"
   ]
  }
 ],
 "metadata": {
  "kernelspec": {
   "display_name": "Python 3 (ipykernel)",
   "language": "python",
   "name": "python3"
  },
  "language_info": {
   "codemirror_mode": {
    "name": "ipython",
    "version": 3
   },
   "file_extension": ".py",
   "mimetype": "text/x-python",
   "name": "python",
   "nbconvert_exporter": "python",
   "pygments_lexer": "ipython3",
   "version": "3.9.7"
  }
 },
 "nbformat": 4,
 "nbformat_minor": 5
}
