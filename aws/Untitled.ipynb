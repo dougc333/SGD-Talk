{
 "cells": [
  {
   "cell_type": "code",
   "execution_count": 1,
   "id": "db0382a3",
   "metadata": {},
   "outputs": [
    {
     "ename": "ModuleNotFoundError",
     "evalue": "No module named 'boto3'",
     "output_type": "error",
     "traceback": [
      "\u001b[0;31m---------------------------------------------------------------------------\u001b[0m",
      "\u001b[0;31mModuleNotFoundError\u001b[0m                       Traceback (most recent call last)",
      "\u001b[0;32m/var/folders/xg/24wnv8p16mn4lssp8jqmvq6m0000gn/T/ipykernel_44182/3718731952.py\u001b[0m in \u001b[0;36m<module>\u001b[0;34m\u001b[0m\n\u001b[0;32m----> 1\u001b[0;31m \u001b[0;32mimport\u001b[0m \u001b[0mboto3\u001b[0m\u001b[0;34m\u001b[0m\u001b[0;34m\u001b[0m\u001b[0m\n\u001b[0m\u001b[1;32m      2\u001b[0m \u001b[0;34m\u001b[0m\u001b[0m\n\u001b[1;32m      3\u001b[0m \u001b[0mec2\u001b[0m \u001b[0;34m=\u001b[0m \u001b[0mboto3\u001b[0m\u001b[0;34m.\u001b[0m\u001b[0mresource\u001b[0m\u001b[0;34m(\u001b[0m\u001b[0;34m'ec2'\u001b[0m\u001b[0;34m)\u001b[0m\u001b[0;34m\u001b[0m\u001b[0;34m\u001b[0m\u001b[0m\n\u001b[1;32m      4\u001b[0m \u001b[0;34m\u001b[0m\u001b[0m\n\u001b[1;32m      5\u001b[0m \u001b[0;31m# create VPC\u001b[0m\u001b[0;34m\u001b[0m\u001b[0;34m\u001b[0m\u001b[0m\n",
      "\u001b[0;31mModuleNotFoundError\u001b[0m: No module named 'boto3'"
     ]
    }
   ],
   "source": [
    "import boto3\n",
    "\n",
    "ec2 = boto3.resource('ec2')\n",
    "\n",
    "# create VPC\n",
    "vpc = ec2.create_vpc(CidrBlock='10.0.0.0/25')\n",
    "vpc.create_tags(Tags=[{\"Key\": \"Name\", \"Value\": \"lambda_vpc\"}])\n",
    "\n",
    "vpc.wait_until_available()\n",
    "\n",
    "#create 2 public subnets\n",
    "\n",
    "subnet1 = ec2.create_subnet(CidrBlock='10.0.0.0/28', VpcId=vpc.id)\n",
    "subnet2 = ec2.create_subnet(CidrBlock='10.0.0.16/28', VpcId=vpc.id)\n",
    "subnet1.create_tags(Tags=[{\"Key\": \"Name\", \"Value\": \"public_one\"}])\n",
    "subnet1.wait_until_available()\n",
    "subnet1.create_tags(Tags=[{\"Key\": \"Name\", \"Value\": \"public_two\"}])\n",
    "subnet1.wait_until_available()\n"
   ]
  },
  {
   "cell_type": "code",
   "execution_count": null,
   "id": "6d11e801",
   "metadata": {},
   "outputs": [],
   "source": []
  },
  {
   "cell_type": "code",
   "execution_count": null,
   "id": "a8970042",
   "metadata": {},
   "outputs": [],
   "source": []
  }
 ],
 "metadata": {
  "kernelspec": {
   "display_name": "Python 3 (ipykernel)",
   "language": "python",
   "name": "python3"
  },
  "language_info": {
   "codemirror_mode": {
    "name": "ipython",
    "version": 3
   },
   "file_extension": ".py",
   "mimetype": "text/x-python",
   "name": "python",
   "nbconvert_exporter": "python",
   "pygments_lexer": "ipython3",
   "version": "3.9.7"
  }
 },
 "nbformat": 4,
 "nbformat_minor": 5
}
