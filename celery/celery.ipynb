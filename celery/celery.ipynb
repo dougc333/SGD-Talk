{
 "cells": [
  {
   "cell_type": "code",
   "execution_count": null,
   "id": "a6ebd14d",
   "metadata": {},
   "outputs": [],
   "source": [
    "from celery import Celery\n",
    "\n",
    "app = Celery('hello', broker='amqp://guest@localhost//')\n",
    "\n",
    "@app.task\n",
    "def hello():\n",
    "    return 'hello world'\n",
    "hello()"
   ]
  },
  {
   "cell_type": "code",
   "execution_count": 8,
   "id": "43bae091",
   "metadata": {},
   "outputs": [],
   "source": [
    "#rabbitmq tutorial \n",
    "#tutorial hello_world\n",
    "\n",
    "import pika\n",
    "\n",
    "connection = pika.BlockingConnection(pika.ConnectionParameters('localhost'))\n",
    "channel = connection.channel()\n",
    "channel.queue_declare(queue='hello')\n",
    "#have to send messages through exchange\n",
    "\n",
    "channel.basic_publish(exchange='',\n",
    "                      routing_key='hello',\n",
    "                      body='first message')\n",
    "channel.basic_publish(exchange='',\n",
    "                      routing_key='hello',\n",
    "                      body='second message')\n",
    "\n",
    "channel.basic_publish(exchange='',\n",
    "                      routing_key='hello',\n",
    "                      body='third message')\n",
    "\n",
    "#print(\" [x] Sent 'Hello World!'\")\n",
    "connection.close()\n",
    "\n",
    "#command line to see queue created and message sent\n",
    "#sudo rabbitmqctl list_queues\n"
   ]
  },
  {
   "cell_type": "code",
   "execution_count": 7,
   "id": "3c55f35f",
   "metadata": {},
   "outputs": [
    {
     "name": "stdout",
     "output_type": "stream",
     "text": [
      " [x] callback here Received b'first message'\n",
      " [x] callback here Received b'second message'\n",
      " [x] callback here Received b'third message'\n"
     ]
    }
   ],
   "source": [
    "#tutorial hello_world\n",
    "\n",
    "#is this called adding a listener? \n",
    "#this always blocks and runs if we have a nonblocking connection or async \n",
    "#will this not block? \n",
    "\n",
    "import pika\n",
    "import sys\n",
    "\n",
    "connection = pika.BlockingConnection(pika.ConnectionParameters('localhost'))\n",
    "chan = connection.channel()\n",
    "\n",
    "chan.queue_declare(\"hello\")\n",
    "\n",
    "\n",
    "def callback(ch, method, properties, body):\n",
    "    print(\" [x] callback here Received %r\" % body)\n",
    "    #ch.basic_ack(delivery_tag=method.delivery_tag) this is better for ack than auto_ack in basic_consume\n",
    "chan.basic_consume(queue='hello',\n",
    "                      on_message_callback=callback)\n",
    "try:\n",
    "    chan.start_consuming()\n",
    "except(KeyboardInterrupt):\n",
    "    chan.stop_consuming()\n",
    "    \n",
    "connection.close()\n",
    "#cant get keyboardinterrupt to work in jupyer notebook...\n",
    "#needs standalone program\n"
   ]
  },
  {
   "cell_type": "code",
   "execution_count": 10,
   "id": "0d29f4d9",
   "metadata": {},
   "outputs": [
    {
     "name": "stdout",
     "output_type": "stream",
     "text": [
      "method_frame: <Basic.Deliver(['consumer_tag=ctag1.e082724181994d1d89cacc28dce9a87a', 'delivery_tag=1', 'exchange=', 'redelivered=False', 'routing_key=hello'])>\n",
      "properties: <BasicProperties>\n",
      "body: b'first message'\n",
      "method_frame: <Basic.Deliver(['consumer_tag=ctag1.e082724181994d1d89cacc28dce9a87a', 'delivery_tag=2', 'exchange=', 'redelivered=False', 'routing_key=hello'])>\n",
      "properties: <BasicProperties>\n",
      "body: b'second message'\n",
      "method_frame: <Basic.Deliver(['consumer_tag=ctag1.e082724181994d1d89cacc28dce9a87a', 'delivery_tag=3', 'exchange=', 'redelivered=False', 'routing_key=hello'])>\n",
      "properties: <BasicProperties>\n",
      "body: b'third message'\n",
      "req: 0\n"
     ]
    }
   ],
   "source": [
    "#tutorial hello_world\n",
    "\n",
    "#channel.consume is a generator.. is this really true? \n",
    "#this would mean this is async and not blocking\n",
    "# different than channel.start_consuming()\n",
    "\n",
    "import pika\n",
    "\n",
    "connection = pika.BlockingConnection()\n",
    "channel = connection.channel()\n",
    "\n",
    "for method_frame, properties, body in channel.consume(\"hello\"):\n",
    "    print(\"method_frame:\",method_frame)\n",
    "    print(\"properties:\",properties)\n",
    "    print(\"body:\",body)\n",
    "\n",
    "    channel.basic_ack(method_frame.delivery_tag)\n",
    "    if method_frame.delivery_tag==3:\n",
    "        break\n",
    "req_messages = channel.cancel()\n",
    "print(\"req:\",req_messages)\n",
    "\n",
    "#how do I know what delivery_tag is? I need queue status, empty or full\n",
    "#or almost empty. FIFO management. \n",
    "#how to change to LIFO? Is this flexibility important? \n",
    "#\n",
    "channel.close()\n",
    "connection.close()\n"
   ]
  },
  {
   "cell_type": "code",
   "execution_count": null,
   "id": "4a1c30a0",
   "metadata": {},
   "outputs": [],
   "source": [
    "#tutorial #2 work_queues\n",
    "\n",
    "\n",
    "\n"
   ]
  },
  {
   "cell_type": "code",
   "execution_count": null,
   "id": "95f07852",
   "metadata": {},
   "outputs": [],
   "source": [
    "#select connection vs blocking connection\n",
    "#what is select connection? Similar to selecxtors? Where are selectors from? Are they async? \n"
   ]
  },
  {
   "cell_type": "code",
   "execution_count": null,
   "id": "c9c921f7",
   "metadata": {},
   "outputs": [],
   "source": [
    "#flink and rabbitmq\n",
    "#https://www.youtube.com/watch?v=4-faogPH-4A\n",
    "#this is for the backend for building dashboards for ML\n",
    "\n",
    "#must be a different executor like celery and kubernetes\n",
    "#flink looks like it is better than kubernetes to manage\n",
    "#flink for twitter processing to memory structure for duplicate detection\n",
    "#flink same as kinesis\n",
    "#\n",
    "\n",
    "\n"
   ]
  },
  {
   "cell_type": "code",
   "execution_count": null,
   "id": "6dc25a03",
   "metadata": {},
   "outputs": [],
   "source": [
    "#not clear type of servcies sqs + sagemaker = lambda can build\n",
    "#"
   ]
  }
 ],
 "metadata": {
  "kernelspec": {
   "display_name": "Python 3.9.7 ('cosmic')",
   "language": "python",
   "name": "python397jvsc74a57bd053d4678d88891fb05e04416eb1a742497c0b0baabdd52f6ad28cb1ed11944cce"
  },
  "language_info": {
   "codemirror_mode": {
    "name": "ipython",
    "version": 3
   },
   "file_extension": ".py",
   "mimetype": "text/x-python",
   "name": "python",
   "nbconvert_exporter": "python",
   "pygments_lexer": "ipython3",
   "version": "3.9.10"
  }
 },
 "nbformat": 4,
 "nbformat_minor": 5
}
