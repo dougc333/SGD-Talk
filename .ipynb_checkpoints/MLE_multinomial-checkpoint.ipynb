{
 "cells": [
  {
   "cell_type": "code",
   "execution_count": null,
   "id": "599db763",
   "metadata": {},
   "outputs": [],
   "source": [
    "$PMF=\\frac{n!}{x_1!...x_k!}p_1^{x_1}...p_k^{x_k}$ \n",
    "<p>with the constraint: </p>\n",
    "$\\sum_{i=1}^{k}p_i=1$\n",
    "<p>this is equivalent to throwing a k sided die n times</p>"
   ]
  },
  {
   "cell_type": "code",
   "execution_count": 12,
   "id": "d489d2b4",
   "metadata": {},
   "outputs": [
    {
     "name": "stdout",
     "output_type": "stream",
     "text": [
      "10\n",
      "[[5 3 1 1 4 6]]\n",
      "[[5 3 2 1 3 6]]\n",
      "[[7 2 0 5 3 3]]\n",
      "[[1 6 2 5 4 2]]\n",
      "[[5 2 1 3 3 6]]\n",
      "[[2 5 5 3 5 0]]\n",
      "[[4 2 3 4 3 4]]\n",
      "[[2 6 2 1 6 3]]\n",
      "[[4 1 4 1 5 5]]\n",
      "[[4 4 2 4 2 4]]\n"
     ]
    }
   ],
   "source": [
    "from numpy.random import default_rng, SeedSequence\n",
    "import multiprocessing\n",
    "import concurrent.futures\n",
    "import numpy as np\n",
    "\n",
    "print(multiprocessing.cpu_count())\n",
    "rng = np.random.default_rng()\n",
    "for x in range(10):\n",
    "    print(rng.multinomial(20, [1/6.]*6, size=1))"
   ]
  },
  {
   "cell_type": "code",
   "execution_count": 9,
   "id": "f0467f6b",
   "metadata": {},
   "outputs": [
    {
     "name": "stdout",
     "output_type": "stream",
     "text": [
      "k: 6\n",
      "[1, 5, 5, 3, 2, 2, 4, 1, 2, 5]\n",
      "k: 6\n",
      "[3, 5, 1, 1, 1, 1, 4, 3, 2, 6]\n",
      "k: 6\n",
      "[4, 3, 3, 1, 6, 1, 4, 3, 5, 2]\n",
      "k: 6\n",
      "[1, 5, 6, 2, 6, 6, 5, 4, 5, 4]\n",
      "k: 6\n",
      "[5, 5, 4, 4, 4, 2, 3, 2, 3, 3]\n",
      "k: 6\n",
      "[6, 3, 3, 6, 5, 3, 1, 1, 6, 6]\n",
      "k: 6\n",
      "[2, 1, 5, 3, 5, 2, 6, 1, 4, 6]\n",
      "k: 6\n",
      "[5, 6, 4, 5, 6, 5, 1, 1, 6, 4]\n",
      "k: 6\n",
      "[2, 4, 2, 1, 4, 6, 4, 4, 1, 3]\n",
      "k: 6\n",
      "[6, 3, 2, 5, 1, 3, 1, 3, 3, 1]\n"
     ]
    }
   ],
   "source": [
    "import numpy as np\n",
    "def multinomial(n,k):\n",
    "    #k sided die n times\n",
    "    print(\"k:\",k)\n",
    "    draws=[]\n",
    "    for it in range(n):\n",
    "        draws.append(np.random.randint(1,k+1))\n",
    "    return draws\n",
    "#what is difference? Each time is a new random seed? \n",
    "for x in range(10):\n",
    "    print(multinomial(10,6))"
   ]
  },
  {
   "cell_type": "code",
   "execution_count": null,
   "id": "82cb5e4f",
   "metadata": {},
   "outputs": [],
   "source": []
  },
  {
   "cell_type": "code",
   "execution_count": null,
   "id": "c000ba0a",
   "metadata": {},
   "outputs": [],
   "source": []
  },
  {
   "cell_type": "code",
   "execution_count": null,
   "id": "a68a0020",
   "metadata": {},
   "outputs": [],
   "source": []
  }
 ],
 "metadata": {
  "kernelspec": {
   "display_name": "Python 3 (ipykernel)",
   "language": "python",
   "name": "python3"
  },
  "language_info": {
   "codemirror_mode": {
    "name": "ipython",
    "version": 3
   },
   "file_extension": ".py",
   "mimetype": "text/x-python",
   "name": "python",
   "nbconvert_exporter": "python",
   "pygments_lexer": "ipython3",
   "version": "3.9.10"
  }
 },
 "nbformat": 4,
 "nbformat_minor": 5
}
