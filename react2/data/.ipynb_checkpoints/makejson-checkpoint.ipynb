{
 "cells": [
  {
   "cell_type": "code",
   "execution_count": 15,
   "id": "d56f56f0-cad8-4916-860a-2dbd70180092",
   "metadata": {},
   "outputs": [
    {
     "name": "stdout",
     "output_type": "stream",
     "text": [
      "/Users/dc/test_stuff/react2/data\n",
      "x: {'\\ufeffID': '7', 'SEX_WITN': '2', 'AGE_WITN': '49', 'SEX_PART': '1', 'ACCURATE': '3', 'HONEST': '6', 'MEMORY': '3', 'COGNITIV': '4', 'SENIOR_S': '3', 'SENIOR_H': '2', 'ACC_Cen': '-1.22', 'AGEW_Cen': '0', 'COG_Cen': '-.83', 'HON_Cen': '.0899999999999999', 'MEM_Cen': '-1.45', 'SENH_Cen': '-3.52', 'SENS_Cen': '-.79'}\n"
     ]
    },
    {
     "ename": "KeyError",
     "evalue": "'ID'",
     "output_type": "error",
     "traceback": [
      "\u001b[0;31m---------------------------------------------------------------------------\u001b[0m",
      "\u001b[0;31mKeyError\u001b[0m                                  Traceback (most recent call last)",
      "Cell \u001b[0;32mIn[15], line 32\u001b[0m\n\u001b[1;32m     30\u001b[0m     \u001b[38;5;28;01mfor\u001b[39;00m x \u001b[38;5;129;01min\u001b[39;00m csvRead:\n\u001b[1;32m     31\u001b[0m         \u001b[38;5;28mprint\u001b[39m(\u001b[38;5;124m\"\u001b[39m\u001b[38;5;124mx:\u001b[39m\u001b[38;5;124m\"\u001b[39m,x)\n\u001b[0;32m---> 32\u001b[0m         key \u001b[38;5;241m=\u001b[39m \u001b[43mx\u001b[49m\u001b[43m[\u001b[49m\u001b[38;5;124;43m'\u001b[39;49m\u001b[38;5;124;43mID\u001b[39;49m\u001b[38;5;124;43m'\u001b[39;49m\u001b[43m]\u001b[49m\n\u001b[1;32m     33\u001b[0m         data[key] \u001b[38;5;241m=\u001b[39m x\n\u001b[1;32m     34\u001b[0m \u001b[38;5;28;01mwith\u001b[39;00m \u001b[38;5;28mopen\u001b[39m(\u001b[38;5;124m\"\u001b[39m\u001b[38;5;124mwitness.json\u001b[39m\u001b[38;5;124m\"\u001b[39m, \u001b[38;5;124m\"\u001b[39m\u001b[38;5;124mw\u001b[39m\u001b[38;5;124m\"\u001b[39m, encoding\u001b[38;5;241m=\u001b[39m\u001b[38;5;124m'\u001b[39m\u001b[38;5;124mutf-8\u001b[39m\u001b[38;5;124m'\u001b[39m) \u001b[38;5;28;01mas\u001b[39;00m writeFile:\n",
      "\u001b[0;31mKeyError\u001b[0m: 'ID'"
     ]
    }
   ],
   "source": [
    "import csv\n",
    "import json\n",
    "import os\n",
    "import glob\n",
    "\n",
    "print(os.getcwd())\n",
    "datafiles = glob.glob('*.csv')\n",
    "data={}\n",
    "\n",
    "with open(\"NLSY.csv\") as f:\n",
    "    csvRead = csv.DictReader(f)\n",
    "    for x in csvRead:\n",
    "        key = x['R0000100']\n",
    "        data[key] = x\n",
    "with open(\"nlsy.json\", \"w\", encoding='utf-8') as writeFile:\n",
    "    writeFile.write(json.dumps(data,indent=2))\n",
    "\n",
    "\n",
    "# with open(\"BIRTH.csv\") as f:\n",
    "#     csvRead = csv.DictReader(f)\n",
    "#     for x in csvRead:\n",
    "#         key = x['R0000100']\n",
    "#         data[key] = x\n",
    "# with open(\"nlsy.json\", \"w\", encoding='utf-8') as writeFile:\n",
    "#     writeFile.write(json.dumps(data,indent=2))\n",
    "\n",
    "\n",
    "with open(\"WITNESS.csv\") as f:\n",
    "    csvRead = csv.DictReader(f)\n",
    "    for x in csvRead:\n",
    "        # print(\"x:\",x)\n",
    "        key = x['\\ufeffID']\n",
    "        data[key] = x\n",
    "with open(\"witness.json\", \"w\", encoding='utf-8') as writeFile:\n",
    "    writeFile.write(json.dumps(data,indent=2))\n",
    "\n"
   ]
  },
  {
   "cell_type": "code",
   "execution_count": null,
   "id": "4677034f-c646-425e-a18a-07e5829124ed",
   "metadata": {},
   "outputs": [],
   "source": []
  }
 ],
 "metadata": {
  "kernelspec": {
   "display_name": "Python 3 (ipykernel)",
   "language": "python",
   "name": "python3"
  },
  "language_info": {
   "codemirror_mode": {
    "name": "ipython",
    "version": 3
   },
   "file_extension": ".py",
   "mimetype": "text/x-python",
   "name": "python",
   "nbconvert_exporter": "python",
   "pygments_lexer": "ipython3",
   "version": "3.11.3"
  }
 },
 "nbformat": 4,
 "nbformat_minor": 5
}
