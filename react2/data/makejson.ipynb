{
 "cells": [
  {
   "cell_type": "code",
   "execution_count": 16,
   "id": "d56f56f0-cad8-4916-860a-2dbd70180092",
   "metadata": {},
   "outputs": [
    {
     "name": "stdout",
     "output_type": "stream",
     "text": [
      "/Users/dc/test_stuff/react2/data\n"
     ]
    }
   ],
   "source": [
    "import csv\n",
    "import json\n",
    "import os\n",
    "import glob\n",
    "\n",
    "print(os.getcwd())\n",
    "datafiles = glob.glob('*.csv')\n",
    "data={}\n",
    "\n",
    "with open(\"NLSY.csv\") as f:\n",
    "    csvRead = csv.DictReader(f)\n",
    "    for x in csvRead:\n",
    "        key = x['R0000100']\n",
    "        data[key] = x\n",
    "with open(\"nlsy.json\", \"w\", encoding='utf-8') as writeFile:\n",
    "    writeFile.write(json.dumps(data,indent=2))\n",
    "\n",
    "\n",
    "# with open(\"BIRTH.csv\") as f:\n",
    "#     csvRead = csv.DictReader(f)\n",
    "#     for x in csvRead:\n",
    "#         key = x['R0000100']\n",
    "#         data[key] = x\n",
    "# with open(\"nlsy.json\", \"w\", encoding='utf-8') as writeFile:\n",
    "#     writeFile.write(json.dumps(data,indent=2))\n",
    "\n",
    "\n",
    "with open(\"WITNESS.csv\") as f:\n",
    "    csvRead = csv.DictReader(f)\n",
    "    for x in csvRead:\n",
    "        # print(\"x:\",x)\n",
    "        key = x['\\ufeffID']\n",
    "        data[key] = x\n",
    "with open(\"witness.json\", \"w\", encoding='utf-8') as writeFile:\n",
    "    writeFile.write(json.dumps(data,indent=2))\n",
    "\n"
   ]
  },
  {
   "cell_type": "code",
   "execution_count": null,
   "id": "4677034f-c646-425e-a18a-07e5829124ed",
   "metadata": {},
   "outputs": [],
   "source": []
  }
 ],
 "metadata": {
  "kernelspec": {
   "display_name": "Python 3 (ipykernel)",
   "language": "python",
   "name": "python3"
  },
  "language_info": {
   "codemirror_mode": {
    "name": "ipython",
    "version": 3
   },
   "file_extension": ".py",
   "mimetype": "text/x-python",
   "name": "python",
   "nbconvert_exporter": "python",
   "pygments_lexer": "ipython3",
   "version": "3.11.3"
  }
 },
 "nbformat": 4,
 "nbformat_minor": 5
}
